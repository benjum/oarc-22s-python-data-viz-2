{
 "cells": [
  {
   "cell_type": "markdown",
   "id": "b9cf5417-cf51-477f-9167-564ed5c75be7",
   "metadata": {},
   "source": [
    "# Alternatives to drawing networks"
   ]
  },
  {
   "cell_type": "markdown",
   "id": "3064f4f8-beac-4cd1-b652-83fcf3d115f2",
   "metadata": {},
   "source": [
    "As Networkx mentions on its [website](https://networkx.org/documentation/stable/reference/drawing.html):\n",
    "\n",
    "\"NetworkX provides basic functionality for visualizing graphs, but its main goal is to enable graph analysis rather than perform graph visualization. In the future, graph visualization functionality may be removed from NetworkX or only available as an add-on package.\n",
    "\n",
    "Proper graph visualization is hard, and we highly recommend that people visualize their graphs with tools dedicated to that task. Notable examples of dedicated and fully-featured graph visualization tools are [Cytoscape](http://www.cytoscape.org/), [Gephi](https://gephi.org/), [Graphviz](http://www.graphviz.org/) and, for [LaTeX](http://www.latex-project.org/) typesetting, [PGF/TikZ](https://sourceforge.net/projects/pgf/). To use these and other such tools, you should export your NetworkX graph into a format that can be read by those tools. For example, Cytoscape can read the GraphML format, and so, `networkx.write_graphml(G, path)` might be an appropriate choice.\""
   ]
  },
  {
   "cell_type": "markdown",
   "id": "5f4c5209-3fce-4ef5-99ea-ab0334985fa3",
   "metadata": {},
   "source": [
    "## Two examples: Bokeh (this notebook) and Dash Cytoscape (next notebook)\n",
    "\n",
    "Bokeh: https://docs.bokeh.org/en/latest/\n",
    "\n",
    "\"Bokeh is a Python library for creating interactive visualizations for modern web browsers. It helps you build beautiful graphics, ranging from simple plots to complex dashboards with streaming datasets. With Bokeh, you can create JavaScript-powered visualizations without writing any JavaScript yourself.\"\n",
    "\n",
    "* Originally funded by DARPA\n",
    "* Produces JSON files which work as input for Javascript, which in turn are used to present data to a web browser\n",
    "* Aims to help anyone who would like to quickly and easily connect powerful PyData tools to interactive plots, dashboards, and data applications.\n",
    "* High-performance interactivity over very large or streaming datasets"
   ]
  },
  {
   "cell_type": "code",
   "execution_count": null,
   "id": "1893b9fb-cb93-4eef-ad92-70e955c5a0df",
   "metadata": {},
   "outputs": [],
   "source": [
    "import networkx as nx\n",
    "import pandas as pd\n",
    "from bokeh.io import output_notebook, show, save\n",
    "from bokeh.models import Range1d, Circle, ColumnDataSource, MultiLine, LabelSet\n",
    "from bokeh.plotting import figure\n",
    "from bokeh.plotting import from_networkx\n",
    "output_notebook()"
   ]
  },
  {
   "cell_type": "code",
   "execution_count": null,
   "id": "1e3b6fae-ae66-43ff-9cb6-1a4d7ed7b9e4",
   "metadata": {},
   "outputs": [],
   "source": [
    "df = pd.DataFrame({'source':[1,1,1,1,1,2],\n",
    "                   'target':[2,3,4,5,6,3],\n",
    "                   'weight':[1,1,2,2,1,2]})"
   ]
  },
  {
   "cell_type": "code",
   "execution_count": null,
   "id": "ad676396-23e1-44cb-814b-5cba552f5a57",
   "metadata": {},
   "outputs": [],
   "source": [
    "df"
   ]
  },
  {
   "cell_type": "code",
   "execution_count": null,
   "id": "053710b2-0251-44a4-ab0b-8dde8669337a",
   "metadata": {},
   "outputs": [],
   "source": [
    "G = nx.from_pandas_edgelist(df,\n",
    "                            'source',\n",
    "                            'target',\n",
    "                            'weight')"
   ]
  },
  {
   "cell_type": "code",
   "execution_count": null,
   "id": "9d5516b9-905e-486e-af4b-a99489213a7c",
   "metadata": {},
   "outputs": [],
   "source": [
    "plot = figure()\n",
    "\n",
    "# layouts: https://networkx.org/documentation/stable/reference/drawing.html#module-networkx.drawing.layout\n",
    "network_graph = from_networkx(G, nx.spring_layout)\n",
    "\n",
    "plot.renderers.append(network_graph)\n",
    "\n",
    "show(plot)"
   ]
  },
  {
   "cell_type": "code",
   "execution_count": null,
   "id": "7c22c5e7-2056-442e-9ad2-940dbee2a63c",
   "metadata": {},
   "outputs": [],
   "source": [
    "plot = figure(x_range=Range1d(-10.1, 10.1), y_range=Range1d(-10.1, 10.1))\n",
    "\n",
    "network_graph = from_networkx(G, nx.spring_layout, scale=10, center=(0, 0))\n",
    "\n",
    "plot.renderers.append(network_graph)\n",
    "\n",
    "show(plot)"
   ]
  },
  {
   "cell_type": "code",
   "execution_count": null,
   "id": "a013b199-f61e-41b1-8414-6f032a44ceb0",
   "metadata": {},
   "outputs": [],
   "source": [
    "plot = figure(x_range=Range1d(-10.1, 10.1), y_range=Range1d(-10.1, 10.1))\n",
    "\n",
    "network_graph = from_networkx(G, nx.spring_layout, scale=10, center=(0, 0))\n",
    "\n",
    "#Set node size and color\n",
    "network_graph.node_renderer.glyph = Circle(size=15, fill_color='skyblue')\n",
    "\n",
    "#Set edge opacity and width\n",
    "network_graph.edge_renderer.glyph = MultiLine(line_alpha=0.5, line_width=1)\n",
    "\n",
    "plot.renderers.append(network_graph)\n",
    "\n",
    "show(plot)"
   ]
  },
  {
   "cell_type": "code",
   "execution_count": null,
   "id": "f660cc7f-59b9-4de1-89e9-e1caa15d197c",
   "metadata": {},
   "outputs": [],
   "source": [
    "plot = figure(x_range=Range1d(-11, 11), y_range=Range1d(-11, 11))\n",
    "\n",
    "network_graph = from_networkx(G, nx.spring_layout, scale=10, center=(0, 0))\n",
    "\n",
    "network_graph.node_renderer.glyph = Circle(size=15, fill_color='skyblue')\n",
    "\n",
    "network_graph.edge_renderer.glyph = MultiLine(line_alpha=0.5, line_width=1)\n",
    "\n",
    "plot.renderers.append(network_graph)\n",
    "\n",
    "#Add Labels\n",
    "x, y = zip(*network_graph.layout_provider.graph_layout.values())\n",
    "node_labels = list(G.nodes())\n",
    "source = ColumnDataSource({'x': x, 'y': y, 'name': [str(node_labels[i]) for i in range(len(x))]})\n",
    "labels = LabelSet(x='x', y='y', text='name', source=source, background_fill_color='white', text_font_size='10px', background_fill_alpha=.7, x_offset=-2.0, y_offset=-2.0)\n",
    "plot.renderers.append(labels)\n",
    "\n",
    "show(plot)"
   ]
  },
  {
   "cell_type": "code",
   "execution_count": null,
   "id": "bf62fc8a-21d4-4686-8080-96582ab159c9",
   "metadata": {},
   "outputs": [],
   "source": [
    "for i in G.edges(data=True):\n",
    "    print(i)"
   ]
  },
  {
   "cell_type": "code",
   "execution_count": null,
   "id": "bdb5ccaf-56f5-43e6-aab3-d34c29162072",
   "metadata": {},
   "outputs": [],
   "source": [
    "for i in G.edges(data=True):\n",
    "    print(i[2]['weight'])"
   ]
  },
  {
   "cell_type": "code",
   "execution_count": null,
   "id": "ed2f038f-6bbb-42c4-b2ed-dae9aff22aaf",
   "metadata": {},
   "outputs": [],
   "source": [
    "df['weight']"
   ]
  },
  {
   "cell_type": "code",
   "execution_count": null,
   "id": "f515b0d7-cbc0-416a-9fe5-b2087b80b6e5",
   "metadata": {},
   "outputs": [],
   "source": [
    "plot = figure(x_range=Range1d(-11, 11), y_range=Range1d(-11, 11))\n",
    "\n",
    "network_graph = from_networkx(G, nx.spring_layout, scale=10, center=(0, 0))\n",
    "\n",
    "network_graph.node_renderer.glyph = Circle(size=15,\n",
    "                                           fill_color='skyblue')\n",
    "\n",
    "#Set edge opacity and width with 'weight' attribute\n",
    "network_graph.edge_renderer.glyph = MultiLine(line_alpha=0.5,\n",
    "                                              line_width='weight')\n",
    "\n",
    "plot.renderers.append(network_graph)\n",
    "\n",
    "x, y = zip(*network_graph.layout_provider.graph_layout.values())\n",
    "node_labels = list(G.nodes())\n",
    "source = ColumnDataSource({'x': x, 'y': y, 'name': [str(node_labels[i]) for i in range(len(x))]})\n",
    "labels = LabelSet(x='x', y='y', text='name', source=source, background_fill_color='white', text_font_size='10px', background_fill_alpha=.7, x_offset=-2.0, y_offset=-2.0)\n",
    "plot.renderers.append(labels)\n",
    "\n",
    "# Add title and save\n",
    "show(plot)\n",
    "title = 'MyBokehNetwork'\n",
    "save(plot, filename=f\"{title}.html\")"
   ]
  },
  {
   "cell_type": "code",
   "execution_count": null,
   "id": "0bbb5a49-59fb-44ca-993c-da60d047edd8",
   "metadata": {},
   "outputs": [],
   "source": [
    "dict(nx.degree(G))"
   ]
  },
  {
   "cell_type": "code",
   "execution_count": null,
   "id": "3a07ff75-646b-41a1-a6fb-af60ea5a1787",
   "metadata": {},
   "outputs": [],
   "source": [
    "nx.set_node_attributes(G, name='degree', values=dict(nx.degree(G)))"
   ]
  },
  {
   "cell_type": "code",
   "execution_count": null,
   "id": "538a2dc6-466a-4437-8edc-0c0a347ba00b",
   "metadata": {},
   "outputs": [],
   "source": [
    "G.nodes(data=True)"
   ]
  },
  {
   "cell_type": "code",
   "execution_count": null,
   "id": "fc11010e-9ab3-4d70-a6fe-e66f23fff575",
   "metadata": {},
   "outputs": [],
   "source": [
    "# Add tooltips to display info on mouse-hover\n",
    "HOVER_TOOLTIPS = [\n",
    "        (\"Name\", \"@index\"),\n",
    "        (\"Degree\", \"@degree\"),\n",
    "]\n",
    "\n",
    "plot = figure(tooltips = HOVER_TOOLTIPS,\n",
    "              x_range=Range1d(-11, 11),\n",
    "              y_range=Range1d(-11, 11))\n",
    "\n",
    "network_graph = from_networkx(G, nx.spring_layout, scale=10, center=(0, 0))\n",
    "\n",
    "network_graph.node_renderer.glyph = Circle(size=15,\n",
    "                                           fill_color='skyblue')\n",
    "\n",
    "network_graph.edge_renderer.glyph = MultiLine(line_alpha=0.5,\n",
    "                                              line_width='weight')\n",
    "\n",
    "plot.renderers.append(network_graph)\n",
    "\n",
    "x, y = zip(*network_graph.layout_provider.graph_layout.values())\n",
    "node_labels = list(G.nodes())\n",
    "source = ColumnDataSource({'x': x, 'y': y, 'name': [str(node_labels[i]) for i in range(len(x))]})\n",
    "labels = LabelSet(x='x', y='y', text='name', source=source, background_fill_color='white', text_font_size='10px', background_fill_alpha=.7, x_offset=-2.0, y_offset=-2.0)\n",
    "plot.renderers.append(labels)\n",
    "\n",
    "show(plot)\n",
    "title = 'MyBokehNetwork'\n",
    "save(plot, filename=f\"{title}.html\")"
   ]
  },
  {
   "cell_type": "markdown",
   "id": "33c216d6-8293-4597-af96-aa095ee0ab4e",
   "metadata": {},
   "source": [
    "## Cool Bokeh example\n",
    "courtesy of [Melanie Walsh's Introduction to Cultural Analytics & Python](https://melaniewalsh.github.io/Intro-Cultural-Analytics/06-Network-Analysis/02-Making-Network-Viz-with-Bokeh.html)"
   ]
  },
  {
   "cell_type": "code",
   "execution_count": null,
   "id": "c0eed3f3-2dad-477a-bc66-41d447191294",
   "metadata": {},
   "outputs": [],
   "source": [
    "from bokeh.io import output_notebook, show, save\n",
    "from bokeh.models import Range1d, Circle, ColumnDataSource, MultiLine, EdgesAndLinkedNodes, NodesAndLinkedEdges, LabelSet\n",
    "from bokeh.plotting import figure\n",
    "from bokeh.plotting import from_networkx\n",
    "from bokeh.palettes import Blues8, Reds8, Purples8, Oranges8, Viridis8, Spectral8\n",
    "from bokeh.transform import linear_cmap\n",
    "from networkx.algorithms import community"
   ]
  },
  {
   "cell_type": "code",
   "execution_count": null,
   "id": "2a74a4dc-93e1-477d-9d7a-e96156c95111",
   "metadata": {},
   "outputs": [],
   "source": [
    "# We read in a CSV file of Game of Thrones network data \n",
    "# from Andrew Beveridge and Jie Shan’s paper, “Network of Thrones.”\n",
    "# https://www.maa.org/sites/default/files/pdf/Mathhorizons/NetworkofThrones%20%281%29.pdf\n",
    "\n",
    "got_df = pd.read_csv('data/got-edges.csv')\n",
    "G = nx.from_pandas_edgelist(got_df, 'Source', 'Target', 'Weight')"
   ]
  },
  {
   "cell_type": "code",
   "execution_count": null,
   "id": "7658dc1b-ee0b-459f-835f-add6ddc0d978",
   "metadata": {},
   "outputs": [],
   "source": [
    "got_df.head()"
   ]
  },
  {
   "cell_type": "code",
   "execution_count": null,
   "id": "20e4c2a8-406e-4eb7-bca8-4b6fe7b7249c",
   "metadata": {},
   "outputs": [],
   "source": [
    "# Calculate degree for each node and add as node attribute\n",
    "degrees = dict(nx.degree(G))\n",
    "nx.set_node_attributes(G, name='degree', values=degrees)\n",
    "\n",
    "# Slightly adjust degree so that the nodes with very small degrees are still visible\n",
    "number_to_adjust_by = 5\n",
    "adjusted_node_size = dict([(node, degree+number_to_adjust_by) for node, degree in nx.degree(G)])\n",
    "nx.set_node_attributes(G, name='adjusted_node_size', values=adjusted_node_size)\n",
    "\n",
    "# Calculate communities\n",
    "communities = community.greedy_modularity_communities(G)\n",
    "\n",
    "# Add modularity class and color as attributes to network graph\n",
    "# Create empty dictionaries\n",
    "modularity_class = {}\n",
    "modularity_color = {}\n",
    "#Loop through each community in the network\n",
    "for community_number, community in enumerate(communities):\n",
    "    #For each member of the community, add their community number and a distinct color\n",
    "    for name in community: \n",
    "        modularity_class[name] = community_number\n",
    "        modularity_color[name] = Spectral8[community_number]\n",
    "        \n",
    "# Add modularity class and color as attributes from the network above\n",
    "nx.set_node_attributes(G, modularity_class, 'modularity_class')\n",
    "nx.set_node_attributes(G, modularity_color, 'modularity_color')"
   ]
  },
  {
   "cell_type": "code",
   "execution_count": null,
   "id": "af119655-6fee-4847-80c4-34d7c988dcb1",
   "metadata": {},
   "outputs": [],
   "source": [
    "#Choose colors for node and edge highlighting\n",
    "node_highlight_color = 'white'\n",
    "edge_highlight_color = 'black'\n",
    "\n",
    "#Choose attributes from G network to size and color by — setting manual size (e.g. 10) or color (e.g. 'skyblue') also allowed\n",
    "size_by_this_attribute = 'adjusted_node_size'\n",
    "color_by_this_attribute = 'modularity_color'\n",
    "\n",
    "#Pick a color palette — Blues8, Reds8, Purples8, Oranges8, Viridis8\n",
    "color_palette = Blues8\n",
    "\n",
    "#Choose a title!\n",
    "title = 'Game of Thrones Network'\n",
    "\n",
    "#Establish which categories will appear when hovering over each node\n",
    "HOVER_TOOLTIPS = [\n",
    "    (\"Character\", \"@index\"),\n",
    "    (\"Degree\", \"@degree\"),\n",
    "    (\"Modularity Class\", \"@modularity_class\"),\n",
    "    (\"Modularity Color\", \"$color[swatch]:modularity_color\"),\n",
    "]\n",
    "\n",
    "#Create a plot — set dimensions, toolbar, and title\n",
    "plot = figure(tooltips = HOVER_TOOLTIPS,\n",
    "              tools=\"pan,wheel_zoom,save,reset\", active_scroll='wheel_zoom',\n",
    "              x_range=Range1d(-10.1, 10.1), y_range=Range1d(-10.1, 10.1), title=title)\n",
    "\n",
    "#Create a network graph object\n",
    "# https://networkx.github.io/documentation/networkx-1.9/reference/generated/networkx.drawing.layout.spring_layout.html\n",
    "network_graph = from_networkx(G, nx.spring_layout, scale=10, center=(0, 0))\n",
    "\n",
    "#Set node sizes and colors according to node degree (color as category from attribute)\n",
    "network_graph.node_renderer.glyph = Circle(size=size_by_this_attribute, fill_color=color_by_this_attribute)\n",
    "#Set node highlight colors\n",
    "network_graph.node_renderer.hover_glyph = Circle(size=size_by_this_attribute, fill_color=node_highlight_color, line_width=2)\n",
    "network_graph.node_renderer.selection_glyph = Circle(size=size_by_this_attribute, fill_color=node_highlight_color, line_width=2)\n",
    "\n",
    "#Set edge opacity and width\n",
    "network_graph.edge_renderer.glyph = MultiLine(line_alpha=0.3, line_width=1)\n",
    "#Set edge highlight colors\n",
    "network_graph.edge_renderer.selection_glyph = MultiLine(line_color=edge_highlight_color, line_width=2)\n",
    "network_graph.edge_renderer.hover_glyph = MultiLine(line_color=edge_highlight_color, line_width=2)\n",
    "\n",
    "#Highlight nodes and edges\n",
    "network_graph.selection_policy = NodesAndLinkedEdges()\n",
    "network_graph.inspection_policy = NodesAndLinkedEdges()\n",
    "\n",
    "plot.renderers.append(network_graph)\n",
    "\n",
    "#Add Labels\n",
    "x, y = zip(*network_graph.layout_provider.graph_layout.values())\n",
    "node_labels = list(G.nodes())\n",
    "source = ColumnDataSource({'x': x, 'y': y, 'name': [node_labels[i] for i in range(len(x))]})\n",
    "labels = LabelSet(x='x', y='y', text='name', source=source, background_fill_color='white', text_font_size='10px', background_fill_alpha=.7)\n",
    "plot.renderers.append(labels)\n",
    "\n",
    "show(plot)\n",
    "save(plot, filename=f\"{title}.html\")"
   ]
  }
 ],
 "metadata": {
  "kernelspec": {
   "display_name": "Python 3 (ipykernel)",
   "language": "python",
   "name": "python3"
  },
  "language_info": {
   "codemirror_mode": {
    "name": "ipython",
    "version": 3
   },
   "file_extension": ".py",
   "mimetype": "text/x-python",
   "name": "python",
   "nbconvert_exporter": "python",
   "pygments_lexer": "ipython3",
   "version": "3.9.6"
  }
 },
 "nbformat": 4,
 "nbformat_minor": 5
}
