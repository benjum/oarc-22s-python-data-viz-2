{
 "cells": [
  {
   "cell_type": "markdown",
   "id": "5f4c5209-3fce-4ef5-99ea-ab0334985fa3",
   "metadata": {},
   "source": [
    "## Bokeh\n",
    "\n",
    "Bokeh: https://docs.bokeh.org/en/latest/\n",
    "\n",
    "\"Bokeh is a Python library for creating interactive visualizations for modern web browsers. It helps you build beautiful graphics, ranging from simple plots to complex dashboards with streaming datasets. With Bokeh, you can create JavaScript-powered visualizations without writing any JavaScript yourself.\"\n",
    "\n",
    "* Originally funded by DARPA\n",
    "* Produces JSON files which work as input for Javascript, which in turn are used to present data to a web browser\n",
    "* Aims to help anyone who would like to quickly and easily connect powerful PyData tools to interactive plots, dashboards, and data applications.\n",
    "* High-performance interactivity over very large or streaming datasets"
   ]
  },
  {
   "cell_type": "code",
   "execution_count": null,
   "id": "1893b9fb-cb93-4eef-ad92-70e955c5a0df",
   "metadata": {},
   "outputs": [],
   "source": [
    "import numpy as np\n",
    "import pandas as pd\n",
    "from bokeh.io import output_notebook, show, save\n",
    "from bokeh.models import ColumnDataSource\n",
    "from bokeh.plotting import figure\n",
    "from bokeh.models.widgets import Slider\n",
    "from bokeh.layouts import row\n",
    "from bokeh.application.handlers import FunctionHandler\n",
    "from bokeh.application import Application\n",
    "\n",
    "output_notebook()"
   ]
  },
  {
   "cell_type": "code",
   "execution_count": null,
   "id": "f7172015-e804-4242-9f90-e27f6750a8b7",
   "metadata": {},
   "outputs": [],
   "source": [
    "mu = 0\n",
    "sigma = 1\n",
    "x = np.linspace(-10,10,200)\n",
    "y = 1/sigma/np.sqrt(2*np.pi) * np.exp(-0.5*((x-mu)**2/sigma**2))"
   ]
  },
  {
   "cell_type": "code",
   "execution_count": null,
   "id": "8011b535-28d1-4255-bb03-460948d1249b",
   "metadata": {},
   "outputs": [],
   "source": [
    "# create a new plot with default tools, using figure\n",
    "p = figure(plot_width=400, plot_height=400)\n",
    "\n",
    "# add a circle renderer with x and y coordinates, size, color, and alpha\n",
    "p.circle(x,y, size=15, line_color=\"navy\", fill_color=\"orange\", fill_alpha=0.5)\n",
    "\n",
    "show(p) # show the results"
   ]
  },
  {
   "cell_type": "code",
   "execution_count": null,
   "id": "6746a1f1-8ff7-495d-bcaa-ee6636818803",
   "metadata": {},
   "outputs": [],
   "source": [
    "# create a new plot with default tools, using figure\n",
    "p = figure(plot_width=400, plot_height=400)\n",
    "\n",
    "# add a line renderer with x and y coordinates and linewidth\n",
    "p.line(x,y, line_width=2)\n",
    "\n",
    "show(p) # show the results"
   ]
  },
  {
   "cell_type": "code",
   "execution_count": null,
   "id": "cfe91cd1-12f6-4569-b85f-f90f03f2190a",
   "metadata": {},
   "outputs": [],
   "source": [
    "# A bit of house-keeping\n",
    "# In order to get a Bokeh server app running through the JupyterHub\n",
    "# We'll need to configure things with the proxy again\n",
    "\n",
    "import urllib\n",
    "import os\n",
    "\n",
    "def remote_jupyter_proxy_url(port):\n",
    "    \"\"\"\n",
    "    Callable to configure Bokeh's show method when a proxy must be\n",
    "    configured.\n",
    "\n",
    "    If port is None we're asking about the URL\n",
    "    for the origin header.\n",
    "    \"\"\"\n",
    "#     base_url = os.environ['EXTERNAL_URL']\n",
    "    base_url = 'https://jupyter.idre.ucla.edu'\n",
    "    host = urllib.parse.urlparse(base_url).netloc\n",
    "\n",
    "    # If port is None we're asking for the URL origin\n",
    "    # so return the public hostname.\n",
    "    if port is None:\n",
    "        return host\n",
    "\n",
    "    service_url_path = os.environ['JUPYTERHUB_SERVICE_PREFIX']\n",
    "    proxy_url_path = 'proxy/%d' % port\n",
    "\n",
    "    user_url = urllib.parse.urljoin(base_url, service_url_path)\n",
    "    full_url = urllib.parse.urljoin(user_url, proxy_url_path)\n",
    "    return full_url"
   ]
  },
  {
   "cell_type": "code",
   "execution_count": null,
   "id": "8f8fa161-74e5-4600-8148-1ea42b4cdd61",
   "metadata": {},
   "outputs": [],
   "source": [
    "# from bokeh.io import show, output_notebook, push_notebook\n",
    "# from bokeh.plotting import figure\n",
    "\n",
    "# from bokeh.models import CategoricalColorMapper, HoverTool, ColumnDataSource, Panel, Column\n",
    "# from bokeh.models.widgets import CheckboxGroup, Slider, RangeSlider, Tabs\n",
    "\n",
    "# from bokeh.layouts import column, row, WidgetBox\n",
    "# from bokeh.palettes import Category20_16\n",
    "\n",
    "# from bokeh.application.handlers import FunctionHandler\n",
    "# from bokeh.application import Application\n",
    "\n",
    "# output_notebook()"
   ]
  },
  {
   "cell_type": "code",
   "execution_count": null,
   "id": "fdf05712-b0ac-4c1a-9db2-d4b2de7077f8",
   "metadata": {},
   "outputs": [],
   "source": [
    "mu = 0\n",
    "sigma = 1\n",
    "\n",
    "x = np.linspace(-10,10,200)\n",
    "y = 1/sigma/np.sqrt(2*np.pi) * np.exp(-0.5*((x-mu)**2/sigma**2))\n",
    "\n",
    "# create a new plot with default tools, using figure\n",
    "p = figure(plot_width=400, plot_height=400)\n",
    "\n",
    "# add a line renderer with x and y coordinates\n",
    "p.line(source={'x':x,'y':y})\n",
    "\n",
    "show(p)"
   ]
  },
  {
   "cell_type": "code",
   "execution_count": null,
   "id": "d05685a2-cd67-464e-8a1b-2dc6940a64f3",
   "metadata": {},
   "outputs": [],
   "source": [
    "mu = 0\n",
    "sigma = 1\n",
    "\n",
    "x = np.linspace(-10,10,200)\n",
    "y = 1/sigma/np.sqrt(2*np.pi) * np.exp(-0.5*((x-mu)**2/sigma**2))\n",
    "\n",
    "# create a new plot with default tools, using figure\n",
    "p = figure(plot_width=400, plot_height=400)\n",
    "\n",
    "# add a line renderer with x and y coordinates\n",
    "p.line(source={'x':x,'y':y})\n",
    "\n",
    "# create selector element\n",
    "mu_select = Slider(start = -5, end = 5, step = 1, value = 0, title = 'mean')\n",
    "\n",
    "# Create a row layout\n",
    "layout = row(mu_select, p)\n",
    "\n",
    "show(layout)"
   ]
  },
  {
   "cell_type": "code",
   "execution_count": null,
   "id": "1be62963-e934-4ff5-b329-c9c1d94ccd47",
   "metadata": {},
   "outputs": [],
   "source": [
    "def revise_output(newout):\n",
    "    mu = 0\n",
    "    sigma = 1\n",
    "\n",
    "    x = np.linspace(-10,10,200)\n",
    "    y = 1/sigma/np.sqrt(2*np.pi) * np.exp(-0.5*((x-mu)**2/sigma**2))\n",
    "\n",
    "    # create a new plot with default tools, using figure\n",
    "    p = figure(plot_width=400, plot_height=400)\n",
    "\n",
    "    # add a line renderer with x and y coordinates\n",
    "    #p.line(source={'x':x,'y':y})\n",
    "    # need an updateable data structure\n",
    "    sourcedata = {'x': x, 'y': y}\n",
    "    source = ColumnDataSource(data=sourcedata)\n",
    "    p.line(source=source)\n",
    "\n",
    "    # and function to handle the update when mu_select changes\n",
    "    # the (attr, old, new) is a required function signature\n",
    "    def update(attr, old, new):\n",
    "        y = 1/sigma/np.sqrt(2*np.pi) * np.exp(-0.5*((x-mu_select.value)**2/sigma**2))\n",
    "        newsourcedata = {'x': x, 'y': y}\n",
    "        source.data.update(newsourcedata)\n",
    "\n",
    "    # create selector element\n",
    "    mu_select = Slider(start = -5, end = 5, step = 1, value = 0, title = 'mean')\n",
    "    # and listener on the selection object\n",
    "    mu_select.on_change('value', update)\n",
    "\n",
    "    # Create a row layout\n",
    "    layout = row(mu_select, p)\n",
    "\n",
    "    #show(layout)\n",
    "    newout.add_root(layout)\n",
    "\n",
    "handler = FunctionHandler(revise_output)\n",
    "app = Application(handler)\n",
    "show(app, notebook_url=remote_jupyter_proxy_url)"
   ]
  },
  {
   "cell_type": "markdown",
   "id": "c1ca9976-dd92-448b-8b2c-b39e2fea94c0",
   "metadata": {},
   "source": [
    "Demo of scatter + histograms with selection:\n",
    "https://demo.bokeh.org/selection_histogram"
   ]
  }
 ],
 "metadata": {
  "kernelspec": {
   "display_name": "Python 3 (ipykernel)",
   "language": "python",
   "name": "python3"
  },
  "language_info": {
   "codemirror_mode": {
    "name": "ipython",
    "version": 3
   },
   "file_extension": ".py",
   "mimetype": "text/x-python",
   "name": "python",
   "nbconvert_exporter": "python",
   "pygments_lexer": "ipython3",
   "version": "3.9.6"
  }
 },
 "nbformat": 4,
 "nbformat_minor": 5
}
