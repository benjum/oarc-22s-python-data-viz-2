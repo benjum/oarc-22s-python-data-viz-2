{
 "cells": [
  {
   "cell_type": "markdown",
   "id": "1911a723-351e-42bc-ad8f-2c71cc77d96e",
   "metadata": {},
   "source": [
    "## Dash Cytoscape"
   ]
  },
  {
   "cell_type": "markdown",
   "id": "895c5e81-7fed-4e17-b149-79d207bdd8b2",
   "metadata": {},
   "source": [
    "\"Dash Cytoscape is a graph visualization component for creating easily customizable, high-performance, interactive, and web-based networks. It extends and renders Cytoscape.js, and offers deep integration with Dash layouts and callbacks, enabling the creation of powerful networks in conjunction with the rich collection of Dash components , as well as established computational biology and network science libraries such as Biopython and networkX.\"\n",
    "\n",
    "-- xhlulu and the Dash Team\n",
    "\n",
    "https://dash.plotly.com/cytoscape\n",
    "\n",
    "* An open-source product of Plotly, Inc., that is built on top of Javascript (plotly.js).\n",
    "* Enables Python users to create beautiful interactive web-based visualizations that can be displayed in Jupyter notebooks, saved to standalone HTML files, or served as part of pure Python-built web applications using Dash.\n",
    "* Also has a version for R, as well as other web visualization products\n",
    "* Dash Cytoscape extends and renders [Cytoscape.js](https://js.cytoscape.org/): a graph theory (network) library for visualisation and analysis\n",
    "\n",
    "Includes:\n",
    "* basic elements\n",
    "* variety of fundamental layouts and ability to modify properties\n",
    "* styling (with CSS-like syntax)\n",
    "* callbacks\n",
    "  * interactively change layouts, styling, add/remove elements\n",
    "* event and user interaction"
   ]
  },
  {
   "cell_type": "code",
   "execution_count": null,
   "id": "5f7bd083-0425-406e-897a-d5d8045945ea",
   "metadata": {},
   "outputs": [],
   "source": [
    "import dash\n",
    "import dash_cytoscape as cyto\n",
    "from dash import html, dcc\n",
    "from dash.dependencies import Input, Output\n",
    "from jupyter_dash import JupyterDash\n",
    "from jupyter_dash.comms import _send_jupyter_config_comm_request"
   ]
  },
  {
   "cell_type": "markdown",
   "id": "6ce40717-a6e0-4567-95c0-6b04ee9457ee",
   "metadata": {},
   "source": [
    "The following 2 cells are very particular to getting JupyterDash to run for you through the JupyterHub proxy."
   ]
  },
  {
   "cell_type": "code",
   "execution_count": null,
   "id": "98575e21-84bb-4563-a4fc-63cdd5b01a6a",
   "metadata": {},
   "outputs": [],
   "source": [
    "_send_jupyter_config_comm_request()"
   ]
  },
  {
   "cell_type": "code",
   "execution_count": null,
   "id": "3af0ddf5-62c8-43e7-bf39-c4c295ab88c0",
   "metadata": {},
   "outputs": [],
   "source": [
    "JupyterDash.infer_jupyter_proxy_config()"
   ]
  },
  {
   "cell_type": "markdown",
   "id": "4ac59640-79d4-4757-a3bd-e8f581bb1795",
   "metadata": {},
   "source": [
    "And now we resume as normal."
   ]
  },
  {
   "cell_type": "code",
   "execution_count": null,
   "id": "057a65b6-5339-43ce-a7e7-26054079bd65",
   "metadata": {},
   "outputs": [],
   "source": [
    "nodelist = [1,2,3,4,5,6]\n",
    "edgelist = [(1,2),(1,3),(1,4),(1,5),(1,6),(2,3)]\n",
    "\n",
    "graphitems = []\n",
    "\n",
    "for i in nodelist:\n",
    "#     this won't work -> must be strings\n",
    "#     dashnode = {'data': {'id':i, 'label':i}}\n",
    "    dashnode = {'data': {'id': str(i), 'label': str(i)}}\n",
    "    graphitems.append(dashnode)\n",
    "\n",
    "for i in edgelist:\n",
    "    dashedge = {'data': {'source': str(i[0]), 'target': str(i[1])}}\n",
    "    graphitems.append(dashedge)"
   ]
  },
  {
   "cell_type": "code",
   "execution_count": null,
   "id": "ff1b5e38-23c7-44cf-8275-548d161e7d9a",
   "metadata": {},
   "outputs": [],
   "source": [
    "graphitems"
   ]
  },
  {
   "cell_type": "code",
   "execution_count": null,
   "id": "f3681451-3e80-4961-b0b2-7cadf7cdb7d2",
   "metadata": {},
   "outputs": [],
   "source": [
    "app = JupyterDash(__name__)"
   ]
  },
  {
   "cell_type": "code",
   "execution_count": null,
   "id": "6d4379a2-e1c8-4733-a13b-31e8870eb726",
   "metadata": {},
   "outputs": [],
   "source": [
    "app.layout = html.Div([\n",
    "    cyto.Cytoscape(\n",
    "        layout={'name': 'cose'},\n",
    "        elements=graphitems\n",
    "    )\n",
    "])"
   ]
  },
  {
   "cell_type": "code",
   "execution_count": null,
   "id": "6bd38922-01c7-449f-921a-fed0e0be28c1",
   "metadata": {},
   "outputs": [],
   "source": [
    "app.run_server(debug=True)"
   ]
  },
  {
   "cell_type": "code",
   "execution_count": null,
   "id": "ab16a565-3f3f-4daf-af7a-2ab0919da057",
   "metadata": {},
   "outputs": [],
   "source": [
    "app = JupyterDash(__name__)\n",
    "\n",
    "app.layout = html.Div([\n",
    "\n",
    "    # add dropdown element for selecting different graph layouts\n",
    "    dcc.Dropdown(\n",
    "        id='dropdown-update-layout',\n",
    "        value='cose',\n",
    "        options=[\n",
    "            {'label': 'Grid', 'value': 'grid'},\n",
    "            {'label': 'Random', 'value': 'random'},\n",
    "            {'label': 'Circle', 'value': 'circle'},\n",
    "            {'label': 'Cose', 'value': 'cose'},\n",
    "            {'label': 'Concentric', 'value': 'concentric'}\n",
    "        ]\n",
    "    ),\n",
    "    cyto.Cytoscape(\n",
    "        id='cytoscape-compound',\n",
    "        layout={'name': 'cose'},\n",
    "        elements=graphitems\n",
    "    )\n",
    "])\n",
    "\n",
    "# this is a function decorator\n",
    "# it adds functionality that allows information to be passed\n",
    "# in from the \"value\" variable of the element with id=\"dropdown-update-layout\"\n",
    "# and sends output to the \"layout\" variable of the element with id=\"cytoscape-compound\"\n",
    "@app.callback(Output('cytoscape-compound', 'layout'),\n",
    "              Input('dropdown-update-layout', 'value'))\n",
    "def update_layout(layout):\n",
    "    return {'name': layout}\n",
    "\n",
    "app.run_server(debug=True)"
   ]
  },
  {
   "cell_type": "code",
   "execution_count": null,
   "id": "f6206958-ae3b-44be-902f-c5f9abc4d23f",
   "metadata": {},
   "outputs": [],
   "source": [
    "app = JupyterDash(__name__)\n",
    "\n",
    "app.layout = html.Div([\n",
    "    dcc.Dropdown(\n",
    "        id='dropdown-update-layout',\n",
    "        value='cose',\n",
    "        options=[\n",
    "            {'label': 'Grid', 'value': 'grid'},\n",
    "            {'label': 'Random', 'value': 'random'},\n",
    "            {'label': 'Circle', 'value': 'circle'},\n",
    "            {'label': 'Cose', 'value': 'cose'},\n",
    "            {'label': 'Concentric', 'value': 'concentric'}\n",
    "        ]\n",
    "    ),\n",
    "    cyto.Cytoscape(\n",
    "        id='cytoscape-compound',\n",
    "        layout={'name': 'cose'},\n",
    "        elements=graphitems,\n",
    "        \n",
    "        # adding in some styling with css-like stylesheet\n",
    "        stylesheet=[\n",
    "            {\n",
    "                'selector': 'node',\n",
    "                'style': {\n",
    "                    'background-color': 'red',\n",
    "                    'content': 'data(label)',\n",
    "                }\n",
    "            },\n",
    "        ]\n",
    "    )\n",
    "])\n",
    "\n",
    "@app.callback(Output('cytoscape-compound', 'layout'),\n",
    "              Input('dropdown-update-layout', 'value'))\n",
    "def update_layout(layout):\n",
    "    return {'name': layout}\n",
    "\n",
    "app.run_server(debug=True)"
   ]
  },
  {
   "cell_type": "markdown",
   "id": "1f6af487-6ec8-48f1-bb96-1c5abffb5402",
   "metadata": {},
   "source": [
    "## Macbeth"
   ]
  },
  {
   "cell_type": "code",
   "execution_count": null,
   "id": "417dd5cd-1671-499d-9090-0c3456c93f5e",
   "metadata": {},
   "outputs": [],
   "source": [
    "with open('data/Macbeth.txt') as f:\n",
    "    x = f.read()"
   ]
  },
  {
   "cell_type": "code",
   "execution_count": null,
   "id": "7df9bc16-79fa-4cdf-8352-41be5a6980d4",
   "metadata": {},
   "outputs": [],
   "source": [
    "acts = x.split('ACT')[6:]"
   ]
  },
  {
   "cell_type": "code",
   "execution_count": null,
   "id": "b1a48744-8407-47d0-8725-1bef51ae31b6",
   "metadata": {},
   "outputs": [],
   "source": [
    "characters = [\n",
    "    'DUNCAN',\n",
    "    'MALCOLM',\n",
    "    'DONALBAIN',\n",
    "    'MACBETH',\n",
    "    'BANQUO',\n",
    "    'MACDUFF',\n",
    "    'LENNOX',\n",
    "    'ROSS',\n",
    "    'MENTEITH',\n",
    "    'ANGUS',\n",
    "    'CAITHNESS',\n",
    "    'FLEANCE',\n",
    "    'SIWARD',\n",
    "    'YOUNG SIWARD',\n",
    "    'SEYTON',\n",
    "    'SON',\n",
    "    'DOCTOR',\n",
    "    'SOLDIER',\n",
    "    'PORTER',\n",
    "    'OLD MAN',\n",
    "    'LADY MACBETH',\n",
    "    'LADY MACDUFF',\n",
    "    'GENTLEWOMAN',\n",
    "    'HECATE',\n",
    "    'FIRST WITCH',\n",
    "    'SECOND WITCH',\n",
    "    'THIRD WITCH'\n",
    "]"
   ]
  },
  {
   "cell_type": "code",
   "execution_count": null,
   "id": "f9846370-69f6-42df-a432-380643f9f038",
   "metadata": {},
   "outputs": [],
   "source": [
    "charnum = {}\n",
    "\n",
    "connections = {}\n",
    "for i in range(len(characters)-1):\n",
    "    for j in range(i+1,len(characters)):\n",
    "        connections[(characters[i],characters[j])] = 0\n",
    "\n",
    "for k in characters:\n",
    "    charnum[k] = 0\n",
    "\n",
    "for i in acts:\n",
    "    for j in i.split('SCENE')[1:]:\n",
    "        scenechars = []\n",
    "        for k in characters:\n",
    "            if j.find(k) != -1:\n",
    "                scenechars.append(k)\n",
    "                charnum[k] += 1\n",
    "        for a in range(len(scenechars)-1):\n",
    "            for b in range(a+1,len(scenechars)):\n",
    "                connections[(scenechars[a],scenechars[b])] += 1"
   ]
  },
  {
   "cell_type": "code",
   "execution_count": null,
   "id": "c6de9bb3-f552-468e-b191-7af74a30c260",
   "metadata": {
    "tags": []
   },
   "outputs": [],
   "source": [
    "graphitems = []\n",
    "\n",
    "for k,v in charnum.items():\n",
    "    dashnode = {'data': {'id': k,\n",
    "                         'label': k.title(),\n",
    "                         'size': str(v)}}\n",
    "    graphitems.append(dashnode)\n",
    "\n",
    "for k,v in connections.items():\n",
    "    if v != 0:\n",
    "        dashedge = {'data': {'source': k[0],\n",
    "                             'target': k[1],\n",
    "                             'weight': v}}\n",
    "        graphitems.append(dashedge)\n",
    "    \n",
    "graphitems"
   ]
  },
  {
   "cell_type": "code",
   "execution_count": null,
   "id": "1d129d35-3a93-441e-bf83-739ca1d2c9cb",
   "metadata": {},
   "outputs": [],
   "source": [
    "app = JupyterDash(__name__)\n",
    "\n",
    "app.layout = html.Div([\n",
    "    cyto.Cytoscape(\n",
    "        layout={'name': 'cose'},\n",
    "        elements=graphitems\n",
    "    )\n",
    "])\n",
    "\n",
    "app.run_server(debug=True)"
   ]
  },
  {
   "cell_type": "code",
   "execution_count": null,
   "id": "6779f104-ada4-4185-ac25-fc1675c9ba11",
   "metadata": {},
   "outputs": [],
   "source": [
    "app = JupyterDash(__name__)\n",
    "\n",
    "app.layout = html.Div([\n",
    "    cyto.Cytoscape(\n",
    "        layout={'name': 'cose'},\n",
    "        elements=graphitems,\n",
    "        style={'width': '100%', 'height': '750px'},\n",
    "    )\n",
    "])\n",
    "\n",
    "app.run_server(debug=True)"
   ]
  },
  {
   "cell_type": "code",
   "execution_count": null,
   "id": "d20ca4f8-3602-4deb-a380-203cf5f600bc",
   "metadata": {},
   "outputs": [],
   "source": [
    "app = JupyterDash(__name__)\n",
    "\n",
    "app.layout = html.Div([\n",
    "    cyto.Cytoscape(\n",
    "        layout={'name': 'cose'},\n",
    "        elements=graphitems,\n",
    "        style={'width': '100%', 'height': '750px'},\n",
    "        stylesheet=[\n",
    "            {\n",
    "                'selector': 'node',\n",
    "                'style': {\n",
    "                    'content':'data(label)',\n",
    "                    'text-halign':'center',\n",
    "                    'text-valign':'center',\n",
    "                    'width': 'data(size)',\n",
    "                    'height': 'data(size)',\n",
    "                    'font-size':4,\n",
    "                    'color': 'blue',\n",
    "                    'text-outline-color': 'white',\n",
    "                    'text-outline-width': 0.2,\n",
    "                    'shape':'circle'\n",
    "                }\n",
    "            },\n",
    "            {\n",
    "                'selector':'edge',\n",
    "                'style': {\n",
    "                    'width':'data(str(int(weight)/10))',\n",
    "                    'line-color': 'blue',\n",
    "                  }\n",
    "            },\n",
    "        ]\n",
    "    )\n",
    "])\n",
    "\n",
    "app.run_server(debug=True)"
   ]
  },
  {
   "cell_type": "code",
   "execution_count": null,
   "id": "506bf563-3731-4001-b9fb-eef3cad997a2",
   "metadata": {},
   "outputs": [],
   "source": [
    "graphitems = []\n",
    "\n",
    "for k,v in charnum.items():\n",
    "    dashnode = {'data': {'id': k,\n",
    "                         'label': k.title(),\n",
    "                         'size': str(v)}}\n",
    "    graphitems.append(dashnode)\n",
    "\n",
    "correction_factor = max(connections.values())\n",
    "print(correction_factor)\n",
    "for k,v in connections.items():\n",
    "    if v != 0:\n",
    "        dashedge = {'data': {'source': k[0],\n",
    "                             'target': k[1],\n",
    "                             'weight': v/correction_factor}}\n",
    "        graphitems.append(dashedge)\n",
    "    \n",
    "#graphitems"
   ]
  },
  {
   "cell_type": "code",
   "execution_count": null,
   "id": "644918ee-ee71-46e9-a470-cd3764da3044",
   "metadata": {},
   "outputs": [],
   "source": [
    "app = JupyterDash(__name__)\n",
    "\n",
    "app.layout = html.Div([\n",
    "    cyto.Cytoscape(\n",
    "        layout={'name': 'cose'},\n",
    "        elements=graphitems,\n",
    "        style={'width': '100%', 'height': '750px'},\n",
    "        stylesheet=[\n",
    "            {\n",
    "                'selector': 'node',\n",
    "                'style': {\n",
    "                    'content':'data(label)',\n",
    "                    'text-halign':'center',\n",
    "                    'text-valign':'center',\n",
    "                    'width': 'data(size)',\n",
    "                    'height': 'data(size)',\n",
    "                    'font-size':4,\n",
    "                    'color': 'black',\n",
    "                    'background-color': 'red',\n",
    "                    'text-outline-color': 'white',\n",
    "                    'text-outline-width': 0.2,\n",
    "                    'shape':'circle'\n",
    "                }\n",
    "            },\n",
    "            {\n",
    "                'selector':'edge',\n",
    "                'style': {\n",
    "                    'width':'data(weight)',\n",
    "                    'line-color': 'blue',\n",
    "                  }\n",
    "            },\n",
    "        ]\n",
    "    )\n",
    "])\n",
    "\n",
    "app.run_server(debug=True)"
   ]
  },
  {
   "cell_type": "code",
   "execution_count": null,
   "id": "1c4b6f7a-c154-447a-b7a4-5b0fe0de84bb",
   "metadata": {},
   "outputs": [],
   "source": [
    "import networkx as nx\n",
    "import matplotlib.pyplot as plt"
   ]
  },
  {
   "cell_type": "code",
   "execution_count": null,
   "id": "41bd03fc-bf25-458f-b89c-f9643fb13790",
   "metadata": {
    "tags": []
   },
   "outputs": [],
   "source": [
    "nxgraphitems = []\n",
    "\n",
    "# for k,v in charnum.items():\n",
    "#     dashnode = k\n",
    "#     graphitems.append(dashnode)\n",
    "\n",
    "for k,v in connections.items():\n",
    "    if v != 0:\n",
    "        dashedge = (k[0],k[1])\n",
    "        nxgraphitems.append(dashedge)\n",
    "    \n",
    "nxgraphitems"
   ]
  },
  {
   "cell_type": "code",
   "execution_count": null,
   "id": "d8ac0f78-863b-4a98-804e-577333ec717a",
   "metadata": {},
   "outputs": [],
   "source": [
    "G = nx.Graph()"
   ]
  },
  {
   "cell_type": "code",
   "execution_count": null,
   "id": "e030f47c-43ec-4883-ac5c-a45e2788d650",
   "metadata": {},
   "outputs": [],
   "source": [
    "G.add_edges_from(nxgraphitems)"
   ]
  },
  {
   "cell_type": "code",
   "execution_count": null,
   "id": "25506ec4-51b8-4620-8ddb-7d81f15f3496",
   "metadata": {},
   "outputs": [],
   "source": [
    "G.nodes"
   ]
  },
  {
   "cell_type": "code",
   "execution_count": null,
   "id": "4a7e3ff6-457d-4006-a482-aee26b483e74",
   "metadata": {},
   "outputs": [],
   "source": [
    "nx.degree_centrality(G)"
   ]
  },
  {
   "cell_type": "code",
   "execution_count": null,
   "id": "81a97071-cfdd-4701-bf49-8b3fefe04619",
   "metadata": {},
   "outputs": [],
   "source": [
    "dc = nx.degree_centrality(G)\n",
    "for i in sorted(dc, key=dc.get, reverse=True):\n",
    "    print('{:15s}: {:.3f}'.format(i.title(), dc[i]))"
   ]
  },
  {
   "cell_type": "code",
   "execution_count": null,
   "id": "ab81440f-9139-4e64-a5e2-473a3e10eb90",
   "metadata": {},
   "outputs": [],
   "source": [
    "list(G.neighbors('MACBETH'))"
   ]
  },
  {
   "cell_type": "code",
   "execution_count": null,
   "id": "89c20c0e-e501-4c37-8a2d-2c293320c994",
   "metadata": {},
   "outputs": [],
   "source": [
    "list(G.neighbors('OLD MAN'))"
   ]
  },
  {
   "cell_type": "code",
   "execution_count": null,
   "id": "81a85623-5a3d-47d1-a469-ea950f51b362",
   "metadata": {},
   "outputs": [],
   "source": [
    "nx.shortest_path(G,'OLD MAN','YOUNG SIWARD')"
   ]
  },
  {
   "cell_type": "code",
   "execution_count": null,
   "id": "699027ed-6633-4dc4-b649-c9a0fb971613",
   "metadata": {},
   "outputs": [],
   "source": [
    "nx.betweenness_centrality(G)"
   ]
  },
  {
   "cell_type": "code",
   "execution_count": null,
   "id": "5bf353f4-00ce-4db2-ba33-abac392c3465",
   "metadata": {},
   "outputs": [],
   "source": [
    "dc = nx.betweenness_centrality(G)\n",
    "for i in sorted(dc, key=dc.get, reverse=True):\n",
    "    print('{:15s}: {:.3f}'.format(i.title(), dc[i]))"
   ]
  },
  {
   "cell_type": "code",
   "execution_count": null,
   "id": "c98bdfc4-16a2-41cc-ac52-7b6814c8642f",
   "metadata": {},
   "outputs": [],
   "source": [
    "from networkx.algorithms.community.centrality import girvan_newman"
   ]
  },
  {
   "cell_type": "code",
   "execution_count": null,
   "id": "b10ec5f7-f3bd-4931-a8d3-9c5183317f7c",
   "metadata": {},
   "outputs": [],
   "source": [
    "communities = girvan_newman(G)"
   ]
  },
  {
   "cell_type": "code",
   "execution_count": null,
   "id": "4ecd7671-b6cb-4fc9-9c52-f357628b7fd3",
   "metadata": {},
   "outputs": [],
   "source": [
    "node_groups = []\n",
    "for com in next(communities):\n",
    "    node_groups.append(list(com))\n",
    " \n",
    "print(node_groups)\n",
    " \n",
    "color_map = []\n",
    "for node in G:\n",
    "    if node in node_groups[0]:\n",
    "        color_map.append('blue')\n",
    "    else:\n",
    "        color_map.append('green')\n",
    "nx.draw(G, node_color=color_map, with_labels=True)\n",
    "plt.show()"
   ]
  },
  {
   "cell_type": "code",
   "execution_count": null,
   "id": "0a55e9ef-306c-41c9-ae62-4c6ccd46cc2d",
   "metadata": {},
   "outputs": [],
   "source": [
    "nx.density(G)"
   ]
  },
  {
   "cell_type": "code",
   "execution_count": null,
   "id": "4547e129-5ec2-485c-a37d-c7a690b69697",
   "metadata": {},
   "outputs": [],
   "source": [
    "from networkx.algorithms.community import greedy_modularity_communities"
   ]
  },
  {
   "cell_type": "code",
   "execution_count": null,
   "id": "92e5624a-de36-47c1-bbc0-0605930c1450",
   "metadata": {},
   "outputs": [],
   "source": [
    "greedy_modularity_communities(G)"
   ]
  },
  {
   "cell_type": "code",
   "execution_count": null,
   "id": "93fd0c6c-644a-4e91-a6d6-415c7288f614",
   "metadata": {},
   "outputs": [],
   "source": [
    "communities = greedy_modularity_communities(G)\n",
    "# Create empty dictionary\n",
    "modularity_class = {}\n",
    "#Loop through each community in the network\n",
    "for community_number, community in enumerate(communities):\n",
    "    #For each member of the community, add their community number\n",
    "    for name in community:\n",
    "        modularity_class[name] = community_number"
   ]
  },
  {
   "cell_type": "code",
   "execution_count": null,
   "id": "e79ba189-12f1-499b-a196-86fb882ee3c8",
   "metadata": {},
   "outputs": [],
   "source": [
    "modularity_class"
   ]
  },
  {
   "cell_type": "code",
   "execution_count": null,
   "id": "5774211b-cce0-4f98-8131-a8eb9931cdd3",
   "metadata": {},
   "outputs": [],
   "source": [
    "communities = greedy_modularity_communities(G)\n",
    "\n",
    "node_groups = []\n",
    "for com in communities:\n",
    "    node_groups.append(list(com))\n",
    " \n",
    "print(node_groups)\n",
    " \n",
    "color_map = []\n",
    "for node in G:\n",
    "    if node in node_groups[0]:\n",
    "        color_map.append('blue')\n",
    "    elif node in node_groups[1]:\n",
    "        color_map.append('yellow')\n",
    "    else:\n",
    "        color_map.append('green')\n",
    "nx.draw(G, node_color=color_map, with_labels=True)\n",
    "plt.show()"
   ]
  },
  {
   "cell_type": "code",
   "execution_count": null,
   "id": "361e30eb-d660-4f32-88b1-8e4bb6f3baf0",
   "metadata": {
    "tags": []
   },
   "outputs": [],
   "source": [
    "graphitems = []\n",
    "\n",
    "for k,v in charnum.items():\n",
    "    if k in node_groups[0]:\n",
    "        modularity = 'blue'\n",
    "    elif k in node_groups[1]:\n",
    "        modularity = 'green'\n",
    "    else:\n",
    "        modularity = 'red'\n",
    "    dashnode = {'data': {'id': k,\n",
    "                         'label': k.title(),\n",
    "                         'size': str(v),'modularity': modularity}}\n",
    "    graphitems.append(dashnode)\n",
    "\n",
    "correction_factor = max(connections.values())\n",
    "print(correction_factor)\n",
    "for k,v in connections.items():\n",
    "    if v != 0:\n",
    "        dashedge = {'data': {'source': k[0],\n",
    "                             'target': k[1],\n",
    "                             'weight': v/correction_factor}}\n",
    "        graphitems.append(dashedge)\n",
    "    \n",
    "graphitems"
   ]
  },
  {
   "cell_type": "code",
   "execution_count": null,
   "id": "491003dd-0367-4830-a021-b0ff88a86d17",
   "metadata": {},
   "outputs": [],
   "source": [
    "app = JupyterDash(__name__)\n",
    "\n",
    "app.layout = html.Div([\n",
    "    cyto.Cytoscape(\n",
    "        layout={'name': 'cose'},\n",
    "        elements=graphitems,\n",
    "        style={'width': '100%', 'height': '750px'},\n",
    "        stylesheet=[\n",
    "            {\n",
    "                'selector': 'node',\n",
    "                'style': {\n",
    "                    'content':'data(label)',\n",
    "                    'text-halign':'center',\n",
    "                    'text-valign':'center',\n",
    "                    'width': 'data(size)',\n",
    "                    'height': 'data(size)',\n",
    "                    'font-size': 4,\n",
    "                    'color': 'black',\n",
    "                    'background-color': 'data(modularity)',\n",
    "                    'text-outline-color': 'white',\n",
    "                    'text-outline-width': 0.2,\n",
    "                    'shape':'circle'\n",
    "                }\n",
    "            },\n",
    "            {\n",
    "                'selector':'edge',\n",
    "                'style': {\n",
    "                    'width':'data(weight)',\n",
    "                    'line-color': 'blue',\n",
    "                  }\n",
    "            },\n",
    "        ]\n",
    "    )\n",
    "])\n",
    "\n",
    "app.run_server(debug=True)"
   ]
  }
 ],
 "metadata": {
  "kernelspec": {
   "display_name": "Python 3 (ipykernel)",
   "language": "python",
   "name": "python3"
  },
  "language_info": {
   "codemirror_mode": {
    "name": "ipython",
    "version": 3
   },
   "file_extension": ".py",
   "mimetype": "text/x-python",
   "name": "python",
   "nbconvert_exporter": "python",
   "pygments_lexer": "ipython3",
   "version": "3.9.6"
  }
 },
 "nbformat": 4,
 "nbformat_minor": 5
}
