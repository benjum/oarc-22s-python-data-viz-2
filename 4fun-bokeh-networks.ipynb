{
 "cells": [
  {
   "cell_type": "markdown",
   "id": "0ce892bc-a4fa-43fc-8668-1c68aaf0ebd8",
   "metadata": {},
   "source": [
    "# Alternatives to drawing networks: Bokeh (here) and Dash Cytoscape (another \"4fun\" notebook)"
   ]
  },
  {
   "cell_type": "markdown",
   "id": "05044f5c-a0b9-4aa9-b61e-de2ef3318cc8",
   "metadata": {},
   "source": [
    "As Networkx mentions on its [website](https://networkx.org/documentation/stable/reference/drawing.html):\n",
    "\n",
    "\"NetworkX provides basic functionality for visualizing graphs, but its main goal is to enable graph analysis rather than perform graph visualization. In the future, graph visualization functionality may be removed from NetworkX or only available as an add-on package.\n",
    "\n",
    "Proper graph visualization is hard, and we highly recommend that people visualize their graphs with tools dedicated to that task. Notable examples of dedicated and fully-featured graph visualization tools are [Cytoscape](http://www.cytoscape.org/), [Gephi](https://gephi.org/), [Graphviz](http://www.graphviz.org/) and, for [LaTeX](http://www.latex-project.org/) typesetting, [PGF/TikZ](https://sourceforge.net/projects/pgf/). To use these and other such tools, you should export your NetworkX graph into a format that can be read by those tools. For example, Cytoscape can read the GraphML format, and so, `networkx.write_graphml(G, path)` might be an appropriate choice.\""
   ]
  },
  {
   "cell_type": "code",
   "execution_count": 37,
   "id": "bf191c99-f086-47d0-b8b1-6c576b4c4cef",
   "metadata": {},
   "outputs": [
    {
     "data": {
      "text/html": [
       "\n",
       "    <div class=\"bk-root\">\n",
       "        <a href=\"https://bokeh.org\" target=\"_blank\" class=\"bk-logo bk-logo-small bk-logo-notebook\"></a>\n",
       "        <span id=\"2519\">Loading BokehJS ...</span>\n",
       "    </div>"
      ]
     },
     "metadata": {},
     "output_type": "display_data"
    },
    {
     "data": {
      "application/javascript": [
       "\n",
       "(function(root) {\n",
       "  function now() {\n",
       "    return new Date();\n",
       "  }\n",
       "\n",
       "  const force = true;\n",
       "\n",
       "  if (typeof root._bokeh_onload_callbacks === \"undefined\" || force === true) {\n",
       "    root._bokeh_onload_callbacks = [];\n",
       "    root._bokeh_is_loading = undefined;\n",
       "  }\n",
       "\n",
       "  const JS_MIME_TYPE = 'application/javascript';\n",
       "  const HTML_MIME_TYPE = 'text/html';\n",
       "  const EXEC_MIME_TYPE = 'application/vnd.bokehjs_exec.v0+json';\n",
       "  const CLASS_NAME = 'output_bokeh rendered_html';\n",
       "\n",
       "  /**\n",
       "   * Render data to the DOM node\n",
       "   */\n",
       "  function render(props, node) {\n",
       "    const script = document.createElement(\"script\");\n",
       "    node.appendChild(script);\n",
       "  }\n",
       "\n",
       "  /**\n",
       "   * Handle when an output is cleared or removed\n",
       "   */\n",
       "  function handleClearOutput(event, handle) {\n",
       "    const cell = handle.cell;\n",
       "\n",
       "    const id = cell.output_area._bokeh_element_id;\n",
       "    const server_id = cell.output_area._bokeh_server_id;\n",
       "    // Clean up Bokeh references\n",
       "    if (id != null && id in Bokeh.index) {\n",
       "      Bokeh.index[id].model.document.clear();\n",
       "      delete Bokeh.index[id];\n",
       "    }\n",
       "\n",
       "    if (server_id !== undefined) {\n",
       "      // Clean up Bokeh references\n",
       "      const cmd_clean = \"from bokeh.io.state import curstate; print(curstate().uuid_to_server['\" + server_id + \"'].get_sessions()[0].document.roots[0]._id)\";\n",
       "      cell.notebook.kernel.execute(cmd_clean, {\n",
       "        iopub: {\n",
       "          output: function(msg) {\n",
       "            const id = msg.content.text.trim();\n",
       "            if (id in Bokeh.index) {\n",
       "              Bokeh.index[id].model.document.clear();\n",
       "              delete Bokeh.index[id];\n",
       "            }\n",
       "          }\n",
       "        }\n",
       "      });\n",
       "      // Destroy server and session\n",
       "      const cmd_destroy = \"import bokeh.io.notebook as ion; ion.destroy_server('\" + server_id + \"')\";\n",
       "      cell.notebook.kernel.execute(cmd_destroy);\n",
       "    }\n",
       "  }\n",
       "\n",
       "  /**\n",
       "   * Handle when a new output is added\n",
       "   */\n",
       "  function handleAddOutput(event, handle) {\n",
       "    const output_area = handle.output_area;\n",
       "    const output = handle.output;\n",
       "\n",
       "    // limit handleAddOutput to display_data with EXEC_MIME_TYPE content only\n",
       "    if ((output.output_type != \"display_data\") || (!Object.prototype.hasOwnProperty.call(output.data, EXEC_MIME_TYPE))) {\n",
       "      return\n",
       "    }\n",
       "\n",
       "    const toinsert = output_area.element.find(\".\" + CLASS_NAME.split(' ')[0]);\n",
       "\n",
       "    if (output.metadata[EXEC_MIME_TYPE][\"id\"] !== undefined) {\n",
       "      toinsert[toinsert.length - 1].firstChild.textContent = output.data[JS_MIME_TYPE];\n",
       "      // store reference to embed id on output_area\n",
       "      output_area._bokeh_element_id = output.metadata[EXEC_MIME_TYPE][\"id\"];\n",
       "    }\n",
       "    if (output.metadata[EXEC_MIME_TYPE][\"server_id\"] !== undefined) {\n",
       "      const bk_div = document.createElement(\"div\");\n",
       "      bk_div.innerHTML = output.data[HTML_MIME_TYPE];\n",
       "      const script_attrs = bk_div.children[0].attributes;\n",
       "      for (let i = 0; i < script_attrs.length; i++) {\n",
       "        toinsert[toinsert.length - 1].firstChild.setAttribute(script_attrs[i].name, script_attrs[i].value);\n",
       "        toinsert[toinsert.length - 1].firstChild.textContent = bk_div.children[0].textContent\n",
       "      }\n",
       "      // store reference to server id on output_area\n",
       "      output_area._bokeh_server_id = output.metadata[EXEC_MIME_TYPE][\"server_id\"];\n",
       "    }\n",
       "  }\n",
       "\n",
       "  function register_renderer(events, OutputArea) {\n",
       "\n",
       "    function append_mime(data, metadata, element) {\n",
       "      // create a DOM node to render to\n",
       "      const toinsert = this.create_output_subarea(\n",
       "        metadata,\n",
       "        CLASS_NAME,\n",
       "        EXEC_MIME_TYPE\n",
       "      );\n",
       "      this.keyboard_manager.register_events(toinsert);\n",
       "      // Render to node\n",
       "      const props = {data: data, metadata: metadata[EXEC_MIME_TYPE]};\n",
       "      render(props, toinsert[toinsert.length - 1]);\n",
       "      element.append(toinsert);\n",
       "      return toinsert\n",
       "    }\n",
       "\n",
       "    /* Handle when an output is cleared or removed */\n",
       "    events.on('clear_output.CodeCell', handleClearOutput);\n",
       "    events.on('delete.Cell', handleClearOutput);\n",
       "\n",
       "    /* Handle when a new output is added */\n",
       "    events.on('output_added.OutputArea', handleAddOutput);\n",
       "\n",
       "    /**\n",
       "     * Register the mime type and append_mime function with output_area\n",
       "     */\n",
       "    OutputArea.prototype.register_mime_type(EXEC_MIME_TYPE, append_mime, {\n",
       "      /* Is output safe? */\n",
       "      safe: true,\n",
       "      /* Index of renderer in `output_area.display_order` */\n",
       "      index: 0\n",
       "    });\n",
       "  }\n",
       "\n",
       "  // register the mime type if in Jupyter Notebook environment and previously unregistered\n",
       "  if (root.Jupyter !== undefined) {\n",
       "    const events = require('base/js/events');\n",
       "    const OutputArea = require('notebook/js/outputarea').OutputArea;\n",
       "\n",
       "    if (OutputArea.prototype.mime_types().indexOf(EXEC_MIME_TYPE) == -1) {\n",
       "      register_renderer(events, OutputArea);\n",
       "    }\n",
       "  }\n",
       "\n",
       "  \n",
       "  if (typeof (root._bokeh_timeout) === \"undefined\" || force === true) {\n",
       "    root._bokeh_timeout = Date.now() + 5000;\n",
       "    root._bokeh_failed_load = false;\n",
       "  }\n",
       "\n",
       "  const NB_LOAD_WARNING = {'data': {'text/html':\n",
       "     \"<div style='background-color: #fdd'>\\n\"+\n",
       "     \"<p>\\n\"+\n",
       "     \"BokehJS does not appear to have successfully loaded. If loading BokehJS from CDN, this \\n\"+\n",
       "     \"may be due to a slow or bad network connection. Possible fixes:\\n\"+\n",
       "     \"</p>\\n\"+\n",
       "     \"<ul>\\n\"+\n",
       "     \"<li>re-rerun `output_notebook()` to attempt to load from CDN again, or</li>\\n\"+\n",
       "     \"<li>use INLINE resources instead, as so:</li>\\n\"+\n",
       "     \"</ul>\\n\"+\n",
       "     \"<code>\\n\"+\n",
       "     \"from bokeh.resources import INLINE\\n\"+\n",
       "     \"output_notebook(resources=INLINE)\\n\"+\n",
       "     \"</code>\\n\"+\n",
       "     \"</div>\"}};\n",
       "\n",
       "  function display_loaded() {\n",
       "    const el = document.getElementById(\"2519\");\n",
       "    if (el != null) {\n",
       "      el.textContent = \"BokehJS is loading...\";\n",
       "    }\n",
       "    if (root.Bokeh !== undefined) {\n",
       "      if (el != null) {\n",
       "        el.textContent = \"BokehJS \" + root.Bokeh.version + \" successfully loaded.\";\n",
       "      }\n",
       "    } else if (Date.now() < root._bokeh_timeout) {\n",
       "      setTimeout(display_loaded, 100)\n",
       "    }\n",
       "  }\n",
       "\n",
       "\n",
       "  function run_callbacks() {\n",
       "    try {\n",
       "      root._bokeh_onload_callbacks.forEach(function(callback) {\n",
       "        if (callback != null)\n",
       "          callback();\n",
       "      });\n",
       "    } finally {\n",
       "      delete root._bokeh_onload_callbacks\n",
       "    }\n",
       "    console.debug(\"Bokeh: all callbacks have finished\");\n",
       "  }\n",
       "\n",
       "  function load_libs(css_urls, js_urls, callback) {\n",
       "    if (css_urls == null) css_urls = [];\n",
       "    if (js_urls == null) js_urls = [];\n",
       "\n",
       "    root._bokeh_onload_callbacks.push(callback);\n",
       "    if (root._bokeh_is_loading > 0) {\n",
       "      console.debug(\"Bokeh: BokehJS is being loaded, scheduling callback at\", now());\n",
       "      return null;\n",
       "    }\n",
       "    if (js_urls == null || js_urls.length === 0) {\n",
       "      run_callbacks();\n",
       "      return null;\n",
       "    }\n",
       "    console.debug(\"Bokeh: BokehJS not loaded, scheduling load and callback at\", now());\n",
       "    root._bokeh_is_loading = css_urls.length + js_urls.length;\n",
       "\n",
       "    function on_load() {\n",
       "      root._bokeh_is_loading--;\n",
       "      if (root._bokeh_is_loading === 0) {\n",
       "        console.debug(\"Bokeh: all BokehJS libraries/stylesheets loaded\");\n",
       "        run_callbacks()\n",
       "      }\n",
       "    }\n",
       "\n",
       "    function on_error(url) {\n",
       "      console.error(\"failed to load \" + url);\n",
       "    }\n",
       "\n",
       "    for (let i = 0; i < css_urls.length; i++) {\n",
       "      const url = css_urls[i];\n",
       "      const element = document.createElement(\"link\");\n",
       "      element.onload = on_load;\n",
       "      element.onerror = on_error.bind(null, url);\n",
       "      element.rel = \"stylesheet\";\n",
       "      element.type = \"text/css\";\n",
       "      element.href = url;\n",
       "      console.debug(\"Bokeh: injecting link tag for BokehJS stylesheet: \", url);\n",
       "      document.body.appendChild(element);\n",
       "    }\n",
       "\n",
       "    for (let i = 0; i < js_urls.length; i++) {\n",
       "      const url = js_urls[i];\n",
       "      const element = document.createElement('script');\n",
       "      element.onload = on_load;\n",
       "      element.onerror = on_error.bind(null, url);\n",
       "      element.async = false;\n",
       "      element.src = url;\n",
       "      console.debug(\"Bokeh: injecting script tag for BokehJS library: \", url);\n",
       "      document.head.appendChild(element);\n",
       "    }\n",
       "  };\n",
       "\n",
       "  function inject_raw_css(css) {\n",
       "    const element = document.createElement(\"style\");\n",
       "    element.appendChild(document.createTextNode(css));\n",
       "    document.body.appendChild(element);\n",
       "  }\n",
       "\n",
       "  \n",
       "  const js_urls = [\"https://cdn.bokeh.org/bokeh/release/bokeh-2.4.0.min.js\", \"https://cdn.bokeh.org/bokeh/release/bokeh-gl-2.4.0.min.js\", \"https://cdn.bokeh.org/bokeh/release/bokeh-widgets-2.4.0.min.js\", \"https://cdn.bokeh.org/bokeh/release/bokeh-tables-2.4.0.min.js\", \"https://cdn.bokeh.org/bokeh/release/bokeh-mathjax-2.4.0.min.js\"];\n",
       "  const css_urls = [];\n",
       "  \n",
       "\n",
       "  const inline_js = [\n",
       "    function(Bokeh) {\n",
       "      Bokeh.set_log_level(\"info\");\n",
       "    },\n",
       "    function(Bokeh) {\n",
       "    \n",
       "    \n",
       "    }\n",
       "  ];\n",
       "\n",
       "  function run_inline_js() {\n",
       "    \n",
       "    if (root.Bokeh !== undefined || force === true) {\n",
       "      \n",
       "    for (let i = 0; i < inline_js.length; i++) {\n",
       "      inline_js[i].call(root, root.Bokeh);\n",
       "    }\n",
       "    if (force === true) {\n",
       "        display_loaded();\n",
       "      }} else if (Date.now() < root._bokeh_timeout) {\n",
       "      setTimeout(run_inline_js, 100);\n",
       "    } else if (!root._bokeh_failed_load) {\n",
       "      console.log(\"Bokeh: BokehJS failed to load within specified timeout.\");\n",
       "      root._bokeh_failed_load = true;\n",
       "    } else if (force !== true) {\n",
       "      const cell = $(document.getElementById(\"2519\")).parents('.cell').data().cell;\n",
       "      cell.output_area.append_execute_result(NB_LOAD_WARNING)\n",
       "    }\n",
       "\n",
       "  }\n",
       "\n",
       "  if (root._bokeh_is_loading === 0) {\n",
       "    console.debug(\"Bokeh: BokehJS loaded, going straight to plotting\");\n",
       "    run_inline_js();\n",
       "  } else {\n",
       "    load_libs(css_urls, js_urls, function() {\n",
       "      console.debug(\"Bokeh: BokehJS plotting callback run at\", now());\n",
       "      run_inline_js();\n",
       "    });\n",
       "  }\n",
       "}(window));"
      ],
      "application/vnd.bokehjs_load.v0+json": "\n(function(root) {\n  function now() {\n    return new Date();\n  }\n\n  const force = true;\n\n  if (typeof root._bokeh_onload_callbacks === \"undefined\" || force === true) {\n    root._bokeh_onload_callbacks = [];\n    root._bokeh_is_loading = undefined;\n  }\n\n  \n\n  \n  if (typeof (root._bokeh_timeout) === \"undefined\" || force === true) {\n    root._bokeh_timeout = Date.now() + 5000;\n    root._bokeh_failed_load = false;\n  }\n\n  const NB_LOAD_WARNING = {'data': {'text/html':\n     \"<div style='background-color: #fdd'>\\n\"+\n     \"<p>\\n\"+\n     \"BokehJS does not appear to have successfully loaded. If loading BokehJS from CDN, this \\n\"+\n     \"may be due to a slow or bad network connection. Possible fixes:\\n\"+\n     \"</p>\\n\"+\n     \"<ul>\\n\"+\n     \"<li>re-rerun `output_notebook()` to attempt to load from CDN again, or</li>\\n\"+\n     \"<li>use INLINE resources instead, as so:</li>\\n\"+\n     \"</ul>\\n\"+\n     \"<code>\\n\"+\n     \"from bokeh.resources import INLINE\\n\"+\n     \"output_notebook(resources=INLINE)\\n\"+\n     \"</code>\\n\"+\n     \"</div>\"}};\n\n  function display_loaded() {\n    const el = document.getElementById(\"2519\");\n    if (el != null) {\n      el.textContent = \"BokehJS is loading...\";\n    }\n    if (root.Bokeh !== undefined) {\n      if (el != null) {\n        el.textContent = \"BokehJS \" + root.Bokeh.version + \" successfully loaded.\";\n      }\n    } else if (Date.now() < root._bokeh_timeout) {\n      setTimeout(display_loaded, 100)\n    }\n  }\n\n\n  function run_callbacks() {\n    try {\n      root._bokeh_onload_callbacks.forEach(function(callback) {\n        if (callback != null)\n          callback();\n      });\n    } finally {\n      delete root._bokeh_onload_callbacks\n    }\n    console.debug(\"Bokeh: all callbacks have finished\");\n  }\n\n  function load_libs(css_urls, js_urls, callback) {\n    if (css_urls == null) css_urls = [];\n    if (js_urls == null) js_urls = [];\n\n    root._bokeh_onload_callbacks.push(callback);\n    if (root._bokeh_is_loading > 0) {\n      console.debug(\"Bokeh: BokehJS is being loaded, scheduling callback at\", now());\n      return null;\n    }\n    if (js_urls == null || js_urls.length === 0) {\n      run_callbacks();\n      return null;\n    }\n    console.debug(\"Bokeh: BokehJS not loaded, scheduling load and callback at\", now());\n    root._bokeh_is_loading = css_urls.length + js_urls.length;\n\n    function on_load() {\n      root._bokeh_is_loading--;\n      if (root._bokeh_is_loading === 0) {\n        console.debug(\"Bokeh: all BokehJS libraries/stylesheets loaded\");\n        run_callbacks()\n      }\n    }\n\n    function on_error(url) {\n      console.error(\"failed to load \" + url);\n    }\n\n    for (let i = 0; i < css_urls.length; i++) {\n      const url = css_urls[i];\n      const element = document.createElement(\"link\");\n      element.onload = on_load;\n      element.onerror = on_error.bind(null, url);\n      element.rel = \"stylesheet\";\n      element.type = \"text/css\";\n      element.href = url;\n      console.debug(\"Bokeh: injecting link tag for BokehJS stylesheet: \", url);\n      document.body.appendChild(element);\n    }\n\n    for (let i = 0; i < js_urls.length; i++) {\n      const url = js_urls[i];\n      const element = document.createElement('script');\n      element.onload = on_load;\n      element.onerror = on_error.bind(null, url);\n      element.async = false;\n      element.src = url;\n      console.debug(\"Bokeh: injecting script tag for BokehJS library: \", url);\n      document.head.appendChild(element);\n    }\n  };\n\n  function inject_raw_css(css) {\n    const element = document.createElement(\"style\");\n    element.appendChild(document.createTextNode(css));\n    document.body.appendChild(element);\n  }\n\n  \n  const js_urls = [\"https://cdn.bokeh.org/bokeh/release/bokeh-2.4.0.min.js\", \"https://cdn.bokeh.org/bokeh/release/bokeh-gl-2.4.0.min.js\", \"https://cdn.bokeh.org/bokeh/release/bokeh-widgets-2.4.0.min.js\", \"https://cdn.bokeh.org/bokeh/release/bokeh-tables-2.4.0.min.js\", \"https://cdn.bokeh.org/bokeh/release/bokeh-mathjax-2.4.0.min.js\"];\n  const css_urls = [];\n  \n\n  const inline_js = [\n    function(Bokeh) {\n      Bokeh.set_log_level(\"info\");\n    },\n    function(Bokeh) {\n    \n    \n    }\n  ];\n\n  function run_inline_js() {\n    \n    if (root.Bokeh !== undefined || force === true) {\n      \n    for (let i = 0; i < inline_js.length; i++) {\n      inline_js[i].call(root, root.Bokeh);\n    }\n    if (force === true) {\n        display_loaded();\n      }} else if (Date.now() < root._bokeh_timeout) {\n      setTimeout(run_inline_js, 100);\n    } else if (!root._bokeh_failed_load) {\n      console.log(\"Bokeh: BokehJS failed to load within specified timeout.\");\n      root._bokeh_failed_load = true;\n    } else if (force !== true) {\n      const cell = $(document.getElementById(\"2519\")).parents('.cell').data().cell;\n      cell.output_area.append_execute_result(NB_LOAD_WARNING)\n    }\n\n  }\n\n  if (root._bokeh_is_loading === 0) {\n    console.debug(\"Bokeh: BokehJS loaded, going straight to plotting\");\n    run_inline_js();\n  } else {\n    load_libs(css_urls, js_urls, function() {\n      console.debug(\"Bokeh: BokehJS plotting callback run at\", now());\n      run_inline_js();\n    });\n  }\n}(window));"
     },
     "metadata": {},
     "output_type": "display_data"
    }
   ],
   "source": [
    "import networkx as nx\n",
    "import pandas as pd\n",
    "from bokeh.plotting import figure\n",
    "from bokeh.io import output_notebook, show, save\n",
    "from bokeh.models import Range1d, Circle, ColumnDataSource, MultiLine, LabelSet\n",
    "from bokeh.plotting import from_networkx\n",
    "output_notebook()"
   ]
  },
  {
   "cell_type": "code",
   "execution_count": 16,
   "id": "1e3b6fae-ae66-43ff-9cb6-1a4d7ed7b9e4",
   "metadata": {},
   "outputs": [],
   "source": [
    "df = pd.DataFrame({'source':[1,1,1,1,1,2],\n",
    "                   'target':[2,3,4,5,6,3],\n",
    "                   'weight':[1,1,2,2,1,2]})"
   ]
  },
  {
   "cell_type": "code",
   "execution_count": 17,
   "id": "ad676396-23e1-44cb-814b-5cba552f5a57",
   "metadata": {},
   "outputs": [
    {
     "data": {
      "text/html": [
       "<div>\n",
       "<style scoped>\n",
       "    .dataframe tbody tr th:only-of-type {\n",
       "        vertical-align: middle;\n",
       "    }\n",
       "\n",
       "    .dataframe tbody tr th {\n",
       "        vertical-align: top;\n",
       "    }\n",
       "\n",
       "    .dataframe thead th {\n",
       "        text-align: right;\n",
       "    }\n",
       "</style>\n",
       "<table border=\"1\" class=\"dataframe\">\n",
       "  <thead>\n",
       "    <tr style=\"text-align: right;\">\n",
       "      <th></th>\n",
       "      <th>source</th>\n",
       "      <th>target</th>\n",
       "      <th>weight</th>\n",
       "    </tr>\n",
       "  </thead>\n",
       "  <tbody>\n",
       "    <tr>\n",
       "      <th>0</th>\n",
       "      <td>1</td>\n",
       "      <td>2</td>\n",
       "      <td>1</td>\n",
       "    </tr>\n",
       "    <tr>\n",
       "      <th>1</th>\n",
       "      <td>1</td>\n",
       "      <td>3</td>\n",
       "      <td>1</td>\n",
       "    </tr>\n",
       "    <tr>\n",
       "      <th>2</th>\n",
       "      <td>1</td>\n",
       "      <td>4</td>\n",
       "      <td>2</td>\n",
       "    </tr>\n",
       "    <tr>\n",
       "      <th>3</th>\n",
       "      <td>1</td>\n",
       "      <td>5</td>\n",
       "      <td>2</td>\n",
       "    </tr>\n",
       "    <tr>\n",
       "      <th>4</th>\n",
       "      <td>1</td>\n",
       "      <td>6</td>\n",
       "      <td>1</td>\n",
       "    </tr>\n",
       "    <tr>\n",
       "      <th>5</th>\n",
       "      <td>2</td>\n",
       "      <td>3</td>\n",
       "      <td>2</td>\n",
       "    </tr>\n",
       "  </tbody>\n",
       "</table>\n",
       "</div>"
      ],
      "text/plain": [
       "   source  target  weight\n",
       "0       1       2       1\n",
       "1       1       3       1\n",
       "2       1       4       2\n",
       "3       1       5       2\n",
       "4       1       6       1\n",
       "5       2       3       2"
      ]
     },
     "execution_count": 17,
     "metadata": {},
     "output_type": "execute_result"
    }
   ],
   "source": [
    "df"
   ]
  },
  {
   "cell_type": "code",
   "execution_count": 18,
   "id": "053710b2-0251-44a4-ab0b-8dde8669337a",
   "metadata": {},
   "outputs": [],
   "source": [
    "G = nx.from_pandas_edgelist(df,\n",
    "                            'source',\n",
    "                            'target',\n",
    "                            'weight')"
   ]
  },
  {
   "cell_type": "code",
   "execution_count": 19,
   "id": "9d5516b9-905e-486e-af4b-a99489213a7c",
   "metadata": {},
   "outputs": [
    {
     "data": {
      "text/html": [
       "\n",
       "\n",
       "\n",
       "\n",
       "\n",
       "\n",
       "  <div class=\"bk-root\" id=\"c484051e-37da-432d-b012-9bdc7fce200a\" data-root-id=\"1077\"></div>\n"
      ]
     },
     "metadata": {},
     "output_type": "display_data"
    },
    {
     "data": {
      "application/javascript": [
       "(function(root) {\n",
       "  function embed_document(root) {\n",
       "    \n",
       "  const docs_json = {\"29e4aed4-e55c-47dc-8f4b-df85ff5b3ea4\":{\"defs\":[],\"roots\":{\"references\":[{\"attributes\":{\"below\":[{\"id\":\"1086\"}],\"center\":[{\"id\":\"1089\"},{\"id\":\"1093\"}],\"left\":[{\"id\":\"1090\"}],\"renderers\":[{\"id\":\"1108\"}],\"title\":{\"id\":\"1118\"},\"toolbar\":{\"id\":\"1101\"},\"x_range\":{\"id\":\"1078\"},\"x_scale\":{\"id\":\"1082\"},\"y_range\":{\"id\":\"1080\"},\"y_scale\":{\"id\":\"1084\"}},\"id\":\"1077\",\"subtype\":\"Figure\",\"type\":\"Plot\"},{\"attributes\":{},\"id\":\"1128\",\"type\":\"NodesOnly\"},{\"attributes\":{},\"id\":\"1091\",\"type\":\"BasicTicker\"},{\"attributes\":{},\"id\":\"1109\",\"type\":\"Circle\"},{\"attributes\":{\"axis\":{\"id\":\"1090\"},\"coordinates\":null,\"dimension\":1,\"group\":null,\"ticker\":null},\"id\":\"1093\",\"type\":\"Grid\"},{\"attributes\":{},\"id\":\"1113\",\"type\":\"MultiLine\"},{\"attributes\":{\"source\":{\"id\":\"1110\"}},\"id\":\"1112\",\"type\":\"CDSView\"},{\"attributes\":{\"coordinates\":null,\"formatter\":{\"id\":\"1134\"},\"group\":null,\"major_label_policy\":{\"id\":\"1135\"},\"ticker\":{\"id\":\"1087\"}},\"id\":\"1086\",\"type\":\"LinearAxis\"},{\"attributes\":{},\"id\":\"1082\",\"type\":\"LinearScale\"},{\"attributes\":{\"data\":{\"end\":[2,3,4,5,6,3],\"start\":[1,1,1,1,1,2],\"weight\":[1,1,2,2,1,2]},\"selected\":{\"id\":\"1140\"},\"selection_policy\":{\"id\":\"1139\"}},\"id\":\"1114\",\"type\":\"ColumnDataSource\"},{\"attributes\":{},\"id\":\"1080\",\"type\":\"DataRange1d\"},{\"attributes\":{},\"id\":\"1084\",\"type\":\"LinearScale\"},{\"attributes\":{\"axis\":{\"id\":\"1086\"},\"coordinates\":null,\"group\":null,\"ticker\":null},\"id\":\"1089\",\"type\":\"Grid\"},{\"attributes\":{},\"id\":\"1139\",\"type\":\"UnionRenderers\"},{\"attributes\":{\"overlay\":{\"id\":\"1100\"}},\"id\":\"1096\",\"type\":\"BoxZoomTool\"},{\"attributes\":{},\"id\":\"1140\",\"type\":\"Selection\"},{\"attributes\":{\"bottom_units\":\"screen\",\"coordinates\":null,\"fill_alpha\":0.5,\"fill_color\":\"lightgrey\",\"group\":null,\"left_units\":\"screen\",\"level\":\"overlay\",\"line_alpha\":1.0,\"line_color\":\"black\",\"line_dash\":[4,4],\"line_width\":2,\"right_units\":\"screen\",\"syncable\":false,\"top_units\":\"screen\"},\"id\":\"1100\",\"type\":\"BoxAnnotation\"},{\"attributes\":{},\"id\":\"1138\",\"type\":\"Selection\"},{\"attributes\":{\"tools\":[{\"id\":\"1094\"},{\"id\":\"1095\"},{\"id\":\"1096\"},{\"id\":\"1097\"},{\"id\":\"1098\"},{\"id\":\"1099\"}]},\"id\":\"1101\",\"type\":\"Toolbar\"},{\"attributes\":{},\"id\":\"1135\",\"type\":\"AllLabels\"},{\"attributes\":{\"coordinates\":null,\"formatter\":{\"id\":\"1131\"},\"group\":null,\"major_label_policy\":{\"id\":\"1132\"},\"ticker\":{\"id\":\"1091\"}},\"id\":\"1090\",\"type\":\"LinearAxis\"},{\"attributes\":{},\"id\":\"1132\",\"type\":\"AllLabels\"},{\"attributes\":{\"coordinates\":null,\"data_source\":{\"id\":\"1110\"},\"glyph\":{\"id\":\"1109\"},\"group\":null,\"hover_glyph\":null,\"view\":{\"id\":\"1112\"}},\"id\":\"1111\",\"type\":\"GlyphRenderer\"},{\"attributes\":{},\"id\":\"1131\",\"type\":\"BasicTickFormatter\"},{\"attributes\":{},\"id\":\"1134\",\"type\":\"BasicTickFormatter\"},{\"attributes\":{},\"id\":\"1097\",\"type\":\"SaveTool\"},{\"attributes\":{},\"id\":\"1078\",\"type\":\"DataRange1d\"},{\"attributes\":{},\"id\":\"1129\",\"type\":\"NodesOnly\"},{\"attributes\":{},\"id\":\"1098\",\"type\":\"ResetTool\"},{\"attributes\":{\"coordinates\":null,\"edge_renderer\":{\"id\":\"1115\"},\"group\":null,\"inspection_policy\":{\"id\":\"1129\"},\"layout_provider\":{\"id\":\"1117\"},\"node_renderer\":{\"id\":\"1111\"},\"selection_policy\":{\"id\":\"1128\"}},\"id\":\"1108\",\"type\":\"GraphRenderer\"},{\"attributes\":{\"data\":{\"index\":[1,2,3,4,5,6]},\"selected\":{\"id\":\"1138\"},\"selection_policy\":{\"id\":\"1137\"}},\"id\":\"1110\",\"type\":\"ColumnDataSource\"},{\"attributes\":{\"source\":{\"id\":\"1114\"}},\"id\":\"1116\",\"type\":\"CDSView\"},{\"attributes\":{\"coordinates\":null,\"data_source\":{\"id\":\"1114\"},\"glyph\":{\"id\":\"1113\"},\"group\":null,\"hover_glyph\":null,\"view\":{\"id\":\"1116\"}},\"id\":\"1115\",\"type\":\"GlyphRenderer\"},{\"attributes\":{},\"id\":\"1087\",\"type\":\"BasicTicker\"},{\"attributes\":{},\"id\":\"1099\",\"type\":\"HelpTool\"},{\"attributes\":{\"coordinates\":null,\"group\":null},\"id\":\"1118\",\"type\":\"Title\"},{\"attributes\":{\"graph_layout\":{\"1\":[-0.0717876329192853,-0.10841586702249062],\"2\":[0.6538302421747055,0.7437145838707312],\"3\":[1.0,0.24537978605750632],\"4\":[-0.8095197509491409,-0.5912983956439202],\"5\":[0.2230822703336286,-0.9509557052742501],\"6\":[-0.9956051286399078,0.6615755980124225]}},\"id\":\"1117\",\"type\":\"StaticLayoutProvider\"},{\"attributes\":{},\"id\":\"1137\",\"type\":\"UnionRenderers\"},{\"attributes\":{},\"id\":\"1094\",\"type\":\"PanTool\"},{\"attributes\":{},\"id\":\"1095\",\"type\":\"WheelZoomTool\"}],\"root_ids\":[\"1077\"]},\"title\":\"Bokeh Application\",\"version\":\"2.4.0\"}};\n",
       "  const render_items = [{\"docid\":\"29e4aed4-e55c-47dc-8f4b-df85ff5b3ea4\",\"root_ids\":[\"1077\"],\"roots\":{\"1077\":\"c484051e-37da-432d-b012-9bdc7fce200a\"}}];\n",
       "  root.Bokeh.embed.embed_items_notebook(docs_json, render_items);\n",
       "\n",
       "  }\n",
       "  if (root.Bokeh !== undefined) {\n",
       "    embed_document(root);\n",
       "  } else {\n",
       "    let attempts = 0;\n",
       "    const timer = setInterval(function(root) {\n",
       "      if (root.Bokeh !== undefined) {\n",
       "        clearInterval(timer);\n",
       "        embed_document(root);\n",
       "      } else {\n",
       "        attempts++;\n",
       "        if (attempts > 100) {\n",
       "          clearInterval(timer);\n",
       "          console.log(\"Bokeh: ERROR: Unable to run BokehJS code because BokehJS library is missing\");\n",
       "        }\n",
       "      }\n",
       "    }, 10, root)\n",
       "  }\n",
       "})(window);"
      ],
      "application/vnd.bokehjs_exec.v0+json": ""
     },
     "metadata": {
      "application/vnd.bokehjs_exec.v0+json": {
       "id": "1077"
      }
     },
     "output_type": "display_data"
    }
   ],
   "source": [
    "plot = figure()\n",
    "\n",
    "# layouts: https://networkx.org/documentation/stable/reference/drawing.html#module-networkx.drawing.layout\n",
    "network_graph = from_networkx(G, nx.spring_layout)\n",
    "\n",
    "plot.renderers.append(network_graph)\n",
    "\n",
    "show(plot)"
   ]
  },
  {
   "cell_type": "code",
   "execution_count": 22,
   "id": "7c22c5e7-2056-442e-9ad2-940dbee2a63c",
   "metadata": {},
   "outputs": [
    {
     "data": {
      "text/html": [
       "\n",
       "\n",
       "\n",
       "\n",
       "\n",
       "\n",
       "  <div class=\"bk-root\" id=\"7c35dfe3-4234-4895-91e8-d7b22988321e\" data-root-id=\"1271\"></div>\n"
      ]
     },
     "metadata": {},
     "output_type": "display_data"
    },
    {
     "data": {
      "application/javascript": [
       "(function(root) {\n",
       "  function embed_document(root) {\n",
       "    \n",
       "  const docs_json = {\"a4605243-cc73-414b-94c0-06e824cf3628\":{\"defs\":[],\"roots\":{\"references\":[{\"attributes\":{\"below\":[{\"id\":\"1278\"}],\"center\":[{\"id\":\"1281\"},{\"id\":\"1285\"}],\"left\":[{\"id\":\"1282\"}],\"renderers\":[{\"id\":\"1300\"}],\"title\":{\"id\":\"1333\"},\"toolbar\":{\"id\":\"1293\"},\"x_range\":{\"id\":\"1269\"},\"x_scale\":{\"id\":\"1274\"},\"y_range\":{\"id\":\"1270\"},\"y_scale\":{\"id\":\"1276\"}},\"id\":\"1271\",\"subtype\":\"Figure\",\"type\":\"Plot\"},{\"attributes\":{},\"id\":\"1353\",\"type\":\"Selection\"},{\"attributes\":{},\"id\":\"1289\",\"type\":\"SaveTool\"},{\"attributes\":{\"coordinates\":null,\"formatter\":{\"id\":\"1349\"},\"group\":null,\"major_label_policy\":{\"id\":\"1350\"},\"ticker\":{\"id\":\"1279\"}},\"id\":\"1278\",\"type\":\"LinearAxis\"},{\"attributes\":{},\"id\":\"1287\",\"type\":\"WheelZoomTool\"},{\"attributes\":{\"overlay\":{\"id\":\"1292\"}},\"id\":\"1288\",\"type\":\"BoxZoomTool\"},{\"attributes\":{},\"id\":\"1349\",\"type\":\"BasicTickFormatter\"},{\"attributes\":{},\"id\":\"1347\",\"type\":\"AllLabels\"},{\"attributes\":{},\"id\":\"1286\",\"type\":\"PanTool\"},{\"attributes\":{\"coordinates\":null,\"formatter\":{\"id\":\"1346\"},\"group\":null,\"major_label_policy\":{\"id\":\"1347\"},\"ticker\":{\"id\":\"1283\"}},\"id\":\"1282\",\"type\":\"LinearAxis\"},{\"attributes\":{},\"id\":\"1350\",\"type\":\"AllLabels\"},{\"attributes\":{},\"id\":\"1354\",\"type\":\"UnionRenderers\"},{\"attributes\":{},\"id\":\"1346\",\"type\":\"BasicTickFormatter\"},{\"attributes\":{\"coordinates\":null,\"data_source\":{\"id\":\"1302\"},\"glyph\":{\"id\":\"1301\"},\"group\":null,\"hover_glyph\":null,\"view\":{\"id\":\"1304\"}},\"id\":\"1303\",\"type\":\"GlyphRenderer\"},{\"attributes\":{},\"id\":\"1344\",\"type\":\"NodesOnly\"},{\"attributes\":{},\"id\":\"1355\",\"type\":\"Selection\"},{\"attributes\":{\"data\":{\"end\":[2,3,4,5,6,3],\"start\":[1,1,1,1,1,2],\"weight\":[1,1,2,2,1,2]},\"selected\":{\"id\":\"1355\"},\"selection_policy\":{\"id\":\"1354\"}},\"id\":\"1306\",\"type\":\"ColumnDataSource\"},{\"attributes\":{},\"id\":\"1301\",\"type\":\"Circle\"},{\"attributes\":{\"end\":10.1,\"start\":-10.1},\"id\":\"1269\",\"type\":\"Range1d\"},{\"attributes\":{},\"id\":\"1279\",\"type\":\"BasicTicker\"},{\"attributes\":{\"data\":{\"index\":[1,2,3,4,5,6]},\"selected\":{\"id\":\"1353\"},\"selection_policy\":{\"id\":\"1352\"}},\"id\":\"1302\",\"type\":\"ColumnDataSource\"},{\"attributes\":{},\"id\":\"1283\",\"type\":\"BasicTicker\"},{\"attributes\":{\"coordinates\":null,\"edge_renderer\":{\"id\":\"1307\"},\"group\":null,\"inspection_policy\":{\"id\":\"1344\"},\"layout_provider\":{\"id\":\"1309\"},\"node_renderer\":{\"id\":\"1303\"},\"selection_policy\":{\"id\":\"1343\"}},\"id\":\"1300\",\"type\":\"GraphRenderer\"},{\"attributes\":{},\"id\":\"1343\",\"type\":\"NodesOnly\"},{\"attributes\":{\"graph_layout\":{\"1\":[-0.3132736543465428,0.6314511326422019],\"2\":[2.1485395376442056,-9.115290270302186],\"3\":[6.773244259076746,-6.4532233181429115],\"4\":[-7.929591487125722,-1.2977179541896355],\"5\":[5.106161486070014,6.234780409992541],\"6\":[-5.785080141318695,10.0]}},\"id\":\"1309\",\"type\":\"StaticLayoutProvider\"},{\"attributes\":{\"coordinates\":null,\"data_source\":{\"id\":\"1306\"},\"glyph\":{\"id\":\"1305\"},\"group\":null,\"hover_glyph\":null,\"view\":{\"id\":\"1308\"}},\"id\":\"1307\",\"type\":\"GlyphRenderer\"},{\"attributes\":{},\"id\":\"1291\",\"type\":\"HelpTool\"},{\"attributes\":{\"end\":10.1,\"start\":-10.1},\"id\":\"1270\",\"type\":\"Range1d\"},{\"attributes\":{\"axis\":{\"id\":\"1278\"},\"coordinates\":null,\"group\":null,\"ticker\":null},\"id\":\"1281\",\"type\":\"Grid\"},{\"attributes\":{},\"id\":\"1305\",\"type\":\"MultiLine\"},{\"attributes\":{\"coordinates\":null,\"group\":null},\"id\":\"1333\",\"type\":\"Title\"},{\"attributes\":{\"source\":{\"id\":\"1302\"}},\"id\":\"1304\",\"type\":\"CDSView\"},{\"attributes\":{\"axis\":{\"id\":\"1282\"},\"coordinates\":null,\"dimension\":1,\"group\":null,\"ticker\":null},\"id\":\"1285\",\"type\":\"Grid\"},{\"attributes\":{\"source\":{\"id\":\"1306\"}},\"id\":\"1308\",\"type\":\"CDSView\"},{\"attributes\":{\"bottom_units\":\"screen\",\"coordinates\":null,\"fill_alpha\":0.5,\"fill_color\":\"lightgrey\",\"group\":null,\"left_units\":\"screen\",\"level\":\"overlay\",\"line_alpha\":1.0,\"line_color\":\"black\",\"line_dash\":[4,4],\"line_width\":2,\"right_units\":\"screen\",\"syncable\":false,\"top_units\":\"screen\"},\"id\":\"1292\",\"type\":\"BoxAnnotation\"},{\"attributes\":{},\"id\":\"1276\",\"type\":\"LinearScale\"},{\"attributes\":{},\"id\":\"1274\",\"type\":\"LinearScale\"},{\"attributes\":{},\"id\":\"1352\",\"type\":\"UnionRenderers\"},{\"attributes\":{},\"id\":\"1290\",\"type\":\"ResetTool\"},{\"attributes\":{\"tools\":[{\"id\":\"1286\"},{\"id\":\"1287\"},{\"id\":\"1288\"},{\"id\":\"1289\"},{\"id\":\"1290\"},{\"id\":\"1291\"}]},\"id\":\"1293\",\"type\":\"Toolbar\"}],\"root_ids\":[\"1271\"]},\"title\":\"Bokeh Application\",\"version\":\"2.4.0\"}};\n",
       "  const render_items = [{\"docid\":\"a4605243-cc73-414b-94c0-06e824cf3628\",\"root_ids\":[\"1271\"],\"roots\":{\"1271\":\"7c35dfe3-4234-4895-91e8-d7b22988321e\"}}];\n",
       "  root.Bokeh.embed.embed_items_notebook(docs_json, render_items);\n",
       "\n",
       "  }\n",
       "  if (root.Bokeh !== undefined) {\n",
       "    embed_document(root);\n",
       "  } else {\n",
       "    let attempts = 0;\n",
       "    const timer = setInterval(function(root) {\n",
       "      if (root.Bokeh !== undefined) {\n",
       "        clearInterval(timer);\n",
       "        embed_document(root);\n",
       "      } else {\n",
       "        attempts++;\n",
       "        if (attempts > 100) {\n",
       "          clearInterval(timer);\n",
       "          console.log(\"Bokeh: ERROR: Unable to run BokehJS code because BokehJS library is missing\");\n",
       "        }\n",
       "      }\n",
       "    }, 10, root)\n",
       "  }\n",
       "})(window);"
      ],
      "application/vnd.bokehjs_exec.v0+json": ""
     },
     "metadata": {
      "application/vnd.bokehjs_exec.v0+json": {
       "id": "1271"
      }
     },
     "output_type": "display_data"
    }
   ],
   "source": [
    "plot = figure(x_range=Range1d(-10.1, 10.1), y_range=Range1d(-10.1, 10.1))\n",
    "\n",
    "network_graph = from_networkx(G, nx.spring_layout, scale=10, center=(0, 0))\n",
    "\n",
    "plot.renderers.append(network_graph)\n",
    "\n",
    "show(plot)"
   ]
  },
  {
   "cell_type": "code",
   "execution_count": 27,
   "id": "a013b199-f61e-41b1-8414-6f032a44ceb0",
   "metadata": {},
   "outputs": [
    {
     "data": {
      "text/html": [
       "\n",
       "\n",
       "\n",
       "\n",
       "\n",
       "\n",
       "  <div class=\"bk-root\" id=\"d4e5d12b-3675-4170-805a-5ebd433fc6ea\" data-root-id=\"1574\"></div>\n"
      ]
     },
     "metadata": {},
     "output_type": "display_data"
    },
    {
     "data": {
      "application/javascript": [
       "(function(root) {\n",
       "  function embed_document(root) {\n",
       "    \n",
       "  const docs_json = {\"4689f165-94ab-48e9-b752-92528b98e65d\":{\"defs\":[],\"roots\":{\"references\":[{\"attributes\":{\"below\":[{\"id\":\"1581\"}],\"center\":[{\"id\":\"1584\"},{\"id\":\"1588\"}],\"left\":[{\"id\":\"1585\"}],\"renderers\":[{\"id\":\"1603\"}],\"title\":{\"id\":\"1669\"},\"toolbar\":{\"id\":\"1596\"},\"x_range\":{\"id\":\"1572\"},\"x_scale\":{\"id\":\"1577\"},\"y_range\":{\"id\":\"1573\"},\"y_scale\":{\"id\":\"1579\"}},\"id\":\"1574\",\"subtype\":\"Figure\",\"type\":\"Plot\"},{\"attributes\":{},\"id\":\"1577\",\"type\":\"LinearScale\"},{\"attributes\":{},\"id\":\"1680\",\"type\":\"NodesOnly\"},{\"attributes\":{\"bottom_units\":\"screen\",\"coordinates\":null,\"fill_alpha\":0.5,\"fill_color\":\"lightgrey\",\"group\":null,\"left_units\":\"screen\",\"level\":\"overlay\",\"line_alpha\":1.0,\"line_color\":\"black\",\"line_dash\":[4,4],\"line_width\":2,\"right_units\":\"screen\",\"syncable\":false,\"top_units\":\"screen\"},\"id\":\"1595\",\"type\":\"BoxAnnotation\"},{\"attributes\":{},\"id\":\"1592\",\"type\":\"SaveTool\"},{\"attributes\":{},\"id\":\"1691\",\"type\":\"Selection\"},{\"attributes\":{\"data\":{\"index\":[1,2,3,4,5,6]},\"selected\":{\"id\":\"1689\"},\"selection_policy\":{\"id\":\"1688\"}},\"id\":\"1605\",\"type\":\"ColumnDataSource\"},{\"attributes\":{},\"id\":\"1679\",\"type\":\"NodesOnly\"},{\"attributes\":{},\"id\":\"1688\",\"type\":\"UnionRenderers\"},{\"attributes\":{\"data\":{\"end\":[2,3,4,5,6,3],\"start\":[1,1,1,1,1,2],\"weight\":[1,1,2,2,1,2]},\"selected\":{\"id\":\"1691\"},\"selection_policy\":{\"id\":\"1690\"}},\"id\":\"1609\",\"type\":\"ColumnDataSource\"},{\"attributes\":{\"line_alpha\":{\"value\":0.5}},\"id\":\"1618\",\"type\":\"MultiLine\"},{\"attributes\":{},\"id\":\"1689\",\"type\":\"Selection\"},{\"attributes\":{},\"id\":\"1682\",\"type\":\"BasicTickFormatter\"},{\"attributes\":{\"coordinates\":null,\"data_source\":{\"id\":\"1605\"},\"glyph\":{\"id\":\"1613\"},\"group\":null,\"hover_glyph\":null,\"view\":{\"id\":\"1607\"}},\"id\":\"1606\",\"type\":\"GlyphRenderer\"},{\"attributes\":{},\"id\":\"1579\",\"type\":\"LinearScale\"},{\"attributes\":{},\"id\":\"1593\",\"type\":\"ResetTool\"},{\"attributes\":{},\"id\":\"1594\",\"type\":\"HelpTool\"},{\"attributes\":{\"tools\":[{\"id\":\"1589\"},{\"id\":\"1590\"},{\"id\":\"1591\"},{\"id\":\"1592\"},{\"id\":\"1593\"},{\"id\":\"1594\"}]},\"id\":\"1596\",\"type\":\"Toolbar\"},{\"attributes\":{},\"id\":\"1686\",\"type\":\"AllLabels\"},{\"attributes\":{\"axis\":{\"id\":\"1585\"},\"coordinates\":null,\"dimension\":1,\"group\":null,\"ticker\":null},\"id\":\"1588\",\"type\":\"Grid\"},{\"attributes\":{},\"id\":\"1582\",\"type\":\"BasicTicker\"},{\"attributes\":{},\"id\":\"1589\",\"type\":\"PanTool\"},{\"attributes\":{},\"id\":\"1590\",\"type\":\"WheelZoomTool\"},{\"attributes\":{\"source\":{\"id\":\"1605\"}},\"id\":\"1607\",\"type\":\"CDSView\"},{\"attributes\":{\"source\":{\"id\":\"1609\"}},\"id\":\"1611\",\"type\":\"CDSView\"},{\"attributes\":{\"coordinates\":null,\"formatter\":{\"id\":\"1682\"},\"group\":null,\"major_label_policy\":{\"id\":\"1683\"},\"ticker\":{\"id\":\"1586\"}},\"id\":\"1585\",\"type\":\"LinearAxis\"},{\"attributes\":{\"coordinates\":null,\"data_source\":{\"id\":\"1609\"},\"glyph\":{\"id\":\"1618\"},\"group\":null,\"hover_glyph\":null,\"view\":{\"id\":\"1611\"}},\"id\":\"1610\",\"type\":\"GlyphRenderer\"},{\"attributes\":{\"end\":10.1,\"start\":-10.1},\"id\":\"1573\",\"type\":\"Range1d\"},{\"attributes\":{\"end\":10.1,\"start\":-10.1},\"id\":\"1572\",\"type\":\"Range1d\"},{\"attributes\":{},\"id\":\"1586\",\"type\":\"BasicTicker\"},{\"attributes\":{},\"id\":\"1683\",\"type\":\"AllLabels\"},{\"attributes\":{\"coordinates\":null,\"edge_renderer\":{\"id\":\"1610\"},\"group\":null,\"inspection_policy\":{\"id\":\"1680\"},\"layout_provider\":{\"id\":\"1612\"},\"node_renderer\":{\"id\":\"1606\"},\"selection_policy\":{\"id\":\"1679\"}},\"id\":\"1603\",\"type\":\"GraphRenderer\"},{\"attributes\":{\"overlay\":{\"id\":\"1595\"}},\"id\":\"1591\",\"type\":\"BoxZoomTool\"},{\"attributes\":{\"graph_layout\":{\"1\":[0.9659091472198363,-0.8460116757135457],\"2\":[-10.0,-0.5152242773092692],\"3\":[-8.218116916499188,5.018607694774427],\"4\":[0.7080918902194493,-9.520096174917333],\"5\":[9.209126050248248,-3.1491253009660847],\"6\":[7.3349898288116515,9.011849734131815]}},\"id\":\"1612\",\"type\":\"StaticLayoutProvider\"},{\"attributes\":{\"coordinates\":null,\"formatter\":{\"id\":\"1685\"},\"group\":null,\"major_label_policy\":{\"id\":\"1686\"},\"ticker\":{\"id\":\"1582\"}},\"id\":\"1581\",\"type\":\"LinearAxis\"},{\"attributes\":{\"axis\":{\"id\":\"1581\"},\"coordinates\":null,\"group\":null,\"ticker\":null},\"id\":\"1584\",\"type\":\"Grid\"},{\"attributes\":{\"fill_color\":{\"value\":\"skyblue\"},\"size\":{\"value\":15}},\"id\":\"1613\",\"type\":\"Circle\"},{\"attributes\":{\"coordinates\":null,\"group\":null},\"id\":\"1669\",\"type\":\"Title\"},{\"attributes\":{},\"id\":\"1690\",\"type\":\"UnionRenderers\"},{\"attributes\":{},\"id\":\"1685\",\"type\":\"BasicTickFormatter\"}],\"root_ids\":[\"1574\"]},\"title\":\"Bokeh Application\",\"version\":\"2.4.0\"}};\n",
       "  const render_items = [{\"docid\":\"4689f165-94ab-48e9-b752-92528b98e65d\",\"root_ids\":[\"1574\"],\"roots\":{\"1574\":\"d4e5d12b-3675-4170-805a-5ebd433fc6ea\"}}];\n",
       "  root.Bokeh.embed.embed_items_notebook(docs_json, render_items);\n",
       "\n",
       "  }\n",
       "  if (root.Bokeh !== undefined) {\n",
       "    embed_document(root);\n",
       "  } else {\n",
       "    let attempts = 0;\n",
       "    const timer = setInterval(function(root) {\n",
       "      if (root.Bokeh !== undefined) {\n",
       "        clearInterval(timer);\n",
       "        embed_document(root);\n",
       "      } else {\n",
       "        attempts++;\n",
       "        if (attempts > 100) {\n",
       "          clearInterval(timer);\n",
       "          console.log(\"Bokeh: ERROR: Unable to run BokehJS code because BokehJS library is missing\");\n",
       "        }\n",
       "      }\n",
       "    }, 10, root)\n",
       "  }\n",
       "})(window);"
      ],
      "application/vnd.bokehjs_exec.v0+json": ""
     },
     "metadata": {
      "application/vnd.bokehjs_exec.v0+json": {
       "id": "1574"
      }
     },
     "output_type": "display_data"
    }
   ],
   "source": [
    "plot = figure(x_range=Range1d(-10.1, 10.1), y_range=Range1d(-10.1, 10.1))\n",
    "\n",
    "network_graph = from_networkx(G, nx.spring_layout, scale=10, center=(0, 0))\n",
    "\n",
    "#Set node size and color\n",
    "network_graph.node_renderer.glyph = Circle(size=15, fill_color='skyblue')\n",
    "\n",
    "#Set edge opacity and width\n",
    "network_graph.edge_renderer.glyph = MultiLine(line_alpha=0.5, line_width=1)\n",
    "\n",
    "plot.renderers.append(network_graph)\n",
    "\n",
    "show(plot)"
   ]
  },
  {
   "cell_type": "code",
   "execution_count": 32,
   "id": "f660cc7f-59b9-4de1-89e9-e1caa15d197c",
   "metadata": {},
   "outputs": [
    {
     "data": {
      "text/html": [
       "\n",
       "\n",
       "\n",
       "\n",
       "\n",
       "\n",
       "  <div class=\"bk-root\" id=\"c5103b03-6bfe-42ae-85ed-c23f182f9c08\" data-root-id=\"1926\"></div>\n"
      ]
     },
     "metadata": {},
     "output_type": "display_data"
    },
    {
     "data": {
      "application/javascript": [
       "(function(root) {\n",
       "  function embed_document(root) {\n",
       "    \n",
       "  const docs_json = {\"1cb88a63-6c3f-4e9d-ac00-4d5c93ee025b\":{\"defs\":[],\"roots\":{\"references\":[{\"attributes\":{\"below\":[{\"id\":\"1933\"}],\"center\":[{\"id\":\"1936\"},{\"id\":\"1940\"}],\"left\":[{\"id\":\"1937\"}],\"renderers\":[{\"id\":\"1955\"},{\"id\":\"1976\"}],\"title\":{\"id\":\"2047\"},\"toolbar\":{\"id\":\"1948\"},\"x_range\":{\"id\":\"1924\"},\"x_scale\":{\"id\":\"1929\"},\"y_range\":{\"id\":\"1925\"},\"y_scale\":{\"id\":\"1931\"}},\"id\":\"1926\",\"subtype\":\"Figure\",\"type\":\"Plot\"},{\"attributes\":{\"line_alpha\":{\"value\":0.5}},\"id\":\"1970\",\"type\":\"MultiLine\"},{\"attributes\":{\"coordinates\":null,\"formatter\":{\"id\":\"2063\"},\"group\":null,\"major_label_policy\":{\"id\":\"2064\"},\"ticker\":{\"id\":\"1934\"}},\"id\":\"1933\",\"type\":\"LinearAxis\"},{\"attributes\":{\"end\":11,\"start\":-11},\"id\":\"1924\",\"type\":\"Range1d\"},{\"attributes\":{},\"id\":\"2065\",\"type\":\"UnionRenderers\"},{\"attributes\":{},\"id\":\"2058\",\"type\":\"NodesOnly\"},{\"attributes\":{\"tools\":[{\"id\":\"1941\"},{\"id\":\"1942\"},{\"id\":\"1943\"},{\"id\":\"1944\"},{\"id\":\"1945\"},{\"id\":\"1946\"}]},\"id\":\"1948\",\"type\":\"Toolbar\"},{\"attributes\":{\"coordinates\":null,\"formatter\":{\"id\":\"2060\"},\"group\":null,\"major_label_policy\":{\"id\":\"2061\"},\"ticker\":{\"id\":\"1938\"}},\"id\":\"1937\",\"type\":\"LinearAxis\"},{\"attributes\":{},\"id\":\"1941\",\"type\":\"PanTool\"},{\"attributes\":{},\"id\":\"2066\",\"type\":\"Selection\"},{\"attributes\":{},\"id\":\"1929\",\"type\":\"LinearScale\"},{\"attributes\":{},\"id\":\"2057\",\"type\":\"NodesOnly\"},{\"attributes\":{},\"id\":\"1944\",\"type\":\"SaveTool\"},{\"attributes\":{},\"id\":\"2060\",\"type\":\"BasicTickFormatter\"},{\"attributes\":{\"overlay\":{\"id\":\"1947\"}},\"id\":\"1943\",\"type\":\"BoxZoomTool\"},{\"attributes\":{},\"id\":\"2061\",\"type\":\"AllLabels\"},{\"attributes\":{\"data\":{\"name\":[\"1\",\"2\",\"3\",\"4\",\"5\",\"6\"],\"x\":[-0.707981448121538,3.973919361390805,-1.9096537764084511,-1.9055288792546503,-9.45075525760615,10.0],\"y\":[-1.0877579897501275,8.926863460374602,9.941890665968188,-9.658507471988761,-1.9914101003579727,-6.1310785642459305]},\"selected\":{\"id\":\"2066\"},\"selection_policy\":{\"id\":\"2065\"}},\"id\":\"1975\",\"type\":\"ColumnDataSource\"},{\"attributes\":{\"end\":11,\"start\":-11},\"id\":\"1925\",\"type\":\"Range1d\"},{\"attributes\":{\"background_fill_alpha\":{\"value\":0.7},\"background_fill_color\":{\"value\":\"white\"},\"coordinates\":null,\"group\":null,\"source\":{\"id\":\"1975\"},\"text\":{\"field\":\"name\"},\"text_font_size\":{\"value\":\"10px\"},\"x\":{\"field\":\"x\"},\"x_offset\":{\"value\":-2.0},\"y\":{\"field\":\"y\"},\"y_offset\":{\"value\":-2.0}},\"id\":\"1976\",\"type\":\"LabelSet\"},{\"attributes\":{},\"id\":\"2063\",\"type\":\"BasicTickFormatter\"},{\"attributes\":{\"data\":{\"end\":[2,3,4,5,6,3],\"start\":[1,1,1,1,1,2],\"weight\":[1,1,2,2,1,2]},\"selected\":{\"id\":\"2071\"},\"selection_policy\":{\"id\":\"2070\"}},\"id\":\"1961\",\"type\":\"ColumnDataSource\"},{\"attributes\":{},\"id\":\"2064\",\"type\":\"AllLabels\"},{\"attributes\":{\"axis\":{\"id\":\"1933\"},\"coordinates\":null,\"group\":null,\"ticker\":null},\"id\":\"1936\",\"type\":\"Grid\"},{\"attributes\":{},\"id\":\"1931\",\"type\":\"LinearScale\"},{\"attributes\":{\"coordinates\":null,\"edge_renderer\":{\"id\":\"1962\"},\"group\":null,\"inspection_policy\":{\"id\":\"2058\"},\"layout_provider\":{\"id\":\"1964\"},\"node_renderer\":{\"id\":\"1958\"},\"selection_policy\":{\"id\":\"2057\"}},\"id\":\"1955\",\"type\":\"GraphRenderer\"},{\"attributes\":{\"bottom_units\":\"screen\",\"coordinates\":null,\"fill_alpha\":0.5,\"fill_color\":\"lightgrey\",\"group\":null,\"left_units\":\"screen\",\"level\":\"overlay\",\"line_alpha\":1.0,\"line_color\":\"black\",\"line_dash\":[4,4],\"line_width\":2,\"right_units\":\"screen\",\"syncable\":false,\"top_units\":\"screen\"},\"id\":\"1947\",\"type\":\"BoxAnnotation\"},{\"attributes\":{\"fill_color\":{\"value\":\"skyblue\"},\"size\":{\"value\":15}},\"id\":\"1965\",\"type\":\"Circle\"},{\"attributes\":{},\"id\":\"1938\",\"type\":\"BasicTicker\"},{\"attributes\":{\"axis\":{\"id\":\"1937\"},\"coordinates\":null,\"dimension\":1,\"group\":null,\"ticker\":null},\"id\":\"1940\",\"type\":\"Grid\"},{\"attributes\":{},\"id\":\"2068\",\"type\":\"UnionRenderers\"},{\"attributes\":{\"data\":{\"index\":[1,2,3,4,5,6]},\"selected\":{\"id\":\"2069\"},\"selection_policy\":{\"id\":\"2068\"}},\"id\":\"1957\",\"type\":\"ColumnDataSource\"},{\"attributes\":{},\"id\":\"2069\",\"type\":\"Selection\"},{\"attributes\":{},\"id\":\"1946\",\"type\":\"HelpTool\"},{\"attributes\":{},\"id\":\"1942\",\"type\":\"WheelZoomTool\"},{\"attributes\":{\"graph_layout\":{\"1\":[-0.707981448121538,-1.0877579897501275],\"2\":[3.973919361390805,8.926863460374602],\"3\":[-1.9096537764084511,9.941890665968188],\"4\":[-1.9055288792546503,-9.658507471988761],\"5\":[-9.45075525760615,-1.9914101003579727],\"6\":[10.0,-6.1310785642459305]}},\"id\":\"1964\",\"type\":\"StaticLayoutProvider\"},{\"attributes\":{\"coordinates\":null,\"data_source\":{\"id\":\"1957\"},\"glyph\":{\"id\":\"1965\"},\"group\":null,\"hover_glyph\":null,\"view\":{\"id\":\"1959\"}},\"id\":\"1958\",\"type\":\"GlyphRenderer\"},{\"attributes\":{},\"id\":\"1934\",\"type\":\"BasicTicker\"},{\"attributes\":{},\"id\":\"1945\",\"type\":\"ResetTool\"},{\"attributes\":{\"source\":{\"id\":\"1957\"}},\"id\":\"1959\",\"type\":\"CDSView\"},{\"attributes\":{\"source\":{\"id\":\"1961\"}},\"id\":\"1963\",\"type\":\"CDSView\"},{\"attributes\":{\"coordinates\":null,\"data_source\":{\"id\":\"1961\"},\"glyph\":{\"id\":\"1970\"},\"group\":null,\"hover_glyph\":null,\"view\":{\"id\":\"1963\"}},\"id\":\"1962\",\"type\":\"GlyphRenderer\"},{\"attributes\":{},\"id\":\"2070\",\"type\":\"UnionRenderers\"},{\"attributes\":{\"coordinates\":null,\"group\":null},\"id\":\"2047\",\"type\":\"Title\"},{\"attributes\":{},\"id\":\"2071\",\"type\":\"Selection\"}],\"root_ids\":[\"1926\"]},\"title\":\"Bokeh Application\",\"version\":\"2.4.0\"}};\n",
       "  const render_items = [{\"docid\":\"1cb88a63-6c3f-4e9d-ac00-4d5c93ee025b\",\"root_ids\":[\"1926\"],\"roots\":{\"1926\":\"c5103b03-6bfe-42ae-85ed-c23f182f9c08\"}}];\n",
       "  root.Bokeh.embed.embed_items_notebook(docs_json, render_items);\n",
       "\n",
       "  }\n",
       "  if (root.Bokeh !== undefined) {\n",
       "    embed_document(root);\n",
       "  } else {\n",
       "    let attempts = 0;\n",
       "    const timer = setInterval(function(root) {\n",
       "      if (root.Bokeh !== undefined) {\n",
       "        clearInterval(timer);\n",
       "        embed_document(root);\n",
       "      } else {\n",
       "        attempts++;\n",
       "        if (attempts > 100) {\n",
       "          clearInterval(timer);\n",
       "          console.log(\"Bokeh: ERROR: Unable to run BokehJS code because BokehJS library is missing\");\n",
       "        }\n",
       "      }\n",
       "    }, 10, root)\n",
       "  }\n",
       "})(window);"
      ],
      "application/vnd.bokehjs_exec.v0+json": ""
     },
     "metadata": {
      "application/vnd.bokehjs_exec.v0+json": {
       "id": "1926"
      }
     },
     "output_type": "display_data"
    }
   ],
   "source": [
    "plot = figure(x_range=Range1d(-11, 11), y_range=Range1d(-11, 11))\n",
    "\n",
    "network_graph = from_networkx(G, nx.spring_layout, scale=10, center=(0, 0))\n",
    "\n",
    "network_graph.node_renderer.glyph = Circle(size=15, fill_color='skyblue')\n",
    "\n",
    "network_graph.edge_renderer.glyph = MultiLine(line_alpha=0.5, line_width=1)\n",
    "\n",
    "plot.renderers.append(network_graph)\n",
    "\n",
    "#Add Labels\n",
    "x, y = zip(*network_graph.layout_provider.graph_layout.values())\n",
    "node_labels = list(G.nodes())\n",
    "source = ColumnDataSource({'x': x, 'y': y, 'name': [str(node_labels[i]) for i in range(len(x))]})\n",
    "labels = LabelSet(x='x', y='y', text='name', source=source, background_fill_color='white', text_font_size='10px', background_fill_alpha=.7, x_offset=-2.0, y_offset=-2.0)\n",
    "plot.renderers.append(labels)\n",
    "\n",
    "show(plot)"
   ]
  },
  {
   "cell_type": "code",
   "execution_count": 33,
   "id": "bf62fc8a-21d4-4686-8080-96582ab159c9",
   "metadata": {},
   "outputs": [
    {
     "name": "stdout",
     "output_type": "stream",
     "text": [
      "(1, 2, {'weight': 1})\n",
      "(1, 3, {'weight': 1})\n",
      "(1, 4, {'weight': 2})\n",
      "(1, 5, {'weight': 2})\n",
      "(1, 6, {'weight': 1})\n",
      "(2, 3, {'weight': 2})\n"
     ]
    }
   ],
   "source": [
    "for i in G.edges(data=True):\n",
    "    print(i)"
   ]
  },
  {
   "cell_type": "code",
   "execution_count": 34,
   "id": "bdb5ccaf-56f5-43e6-aab3-d34c29162072",
   "metadata": {},
   "outputs": [
    {
     "name": "stdout",
     "output_type": "stream",
     "text": [
      "1\n",
      "1\n",
      "2\n",
      "2\n",
      "1\n",
      "2\n"
     ]
    }
   ],
   "source": [
    "for i in G.edges(data=True):\n",
    "    print(i[2]['weight'])"
   ]
  },
  {
   "cell_type": "code",
   "execution_count": 35,
   "id": "ed2f038f-6bbb-42c4-b2ed-dae9aff22aaf",
   "metadata": {},
   "outputs": [
    {
     "data": {
      "text/plain": [
       "0    1\n",
       "1    1\n",
       "2    2\n",
       "3    2\n",
       "4    1\n",
       "5    2\n",
       "Name: weight, dtype: int64"
      ]
     },
     "execution_count": 35,
     "metadata": {},
     "output_type": "execute_result"
    }
   ],
   "source": [
    "df['weight']"
   ]
  },
  {
   "cell_type": "code",
   "execution_count": 39,
   "id": "f515b0d7-cbc0-416a-9fe5-b2087b80b6e5",
   "metadata": {},
   "outputs": [
    {
     "data": {
      "text/html": [
       "\n",
       "\n",
       "\n",
       "\n",
       "\n",
       "\n",
       "  <div class=\"bk-root\" id=\"4e6c5b26-4a55-43a1-97fa-ba0f521e7107\" data-root-id=\"3220\"></div>\n"
      ]
     },
     "metadata": {},
     "output_type": "display_data"
    },
    {
     "data": {
      "application/javascript": [
       "(function(root) {\n",
       "  function embed_document(root) {\n",
       "    \n",
       "  const docs_json = {\"dc606c83-5693-4bb5-98d2-e67bfbae2b1a\":{\"defs\":[],\"roots\":{\"references\":[{\"attributes\":{\"below\":[{\"id\":\"3227\"}],\"center\":[{\"id\":\"3230\"},{\"id\":\"3234\"}],\"left\":[{\"id\":\"3231\"}],\"renderers\":[{\"id\":\"3249\"},{\"id\":\"3270\"}],\"title\":{\"id\":\"3416\"},\"toolbar\":{\"id\":\"3242\"},\"x_range\":{\"id\":\"3218\"},\"x_scale\":{\"id\":\"3223\"},\"y_range\":{\"id\":\"3219\"},\"y_scale\":{\"id\":\"3225\"}},\"id\":\"3220\",\"subtype\":\"Figure\",\"type\":\"Plot\"},{\"attributes\":{\"background_fill_alpha\":{\"value\":0.7},\"background_fill_color\":{\"value\":\"white\"},\"coordinates\":null,\"group\":null,\"source\":{\"id\":\"3269\"},\"text\":{\"field\":\"name\"},\"text_font_size\":{\"value\":\"10px\"},\"x\":{\"field\":\"x\"},\"x_offset\":{\"value\":-2.0},\"y\":{\"field\":\"y\"},\"y_offset\":{\"value\":-2.0}},\"id\":\"3270\",\"type\":\"LabelSet\"},{\"attributes\":{\"coordinates\":null,\"data_source\":{\"id\":\"3255\"},\"glyph\":{\"id\":\"3264\"},\"group\":null,\"hover_glyph\":null,\"view\":{\"id\":\"3257\"}},\"id\":\"3256\",\"type\":\"GlyphRenderer\"},{\"attributes\":{},\"id\":\"3429\",\"type\":\"BasicTickFormatter\"},{\"attributes\":{\"tools\":[{\"id\":\"3235\"},{\"id\":\"3236\"},{\"id\":\"3237\"},{\"id\":\"3238\"},{\"id\":\"3239\"},{\"id\":\"3240\"}]},\"id\":\"3242\",\"type\":\"Toolbar\"},{\"attributes\":{},\"id\":\"3426\",\"type\":\"NodesOnly\"},{\"attributes\":{\"source\":{\"id\":\"3255\"}},\"id\":\"3257\",\"type\":\"CDSView\"},{\"attributes\":{},\"id\":\"3430\",\"type\":\"AllLabels\"},{\"attributes\":{},\"id\":\"3432\",\"type\":\"BasicTickFormatter\"},{\"attributes\":{},\"id\":\"3228\",\"type\":\"BasicTicker\"},{\"attributes\":{\"coordinates\":null,\"group\":null},\"id\":\"3416\",\"type\":\"Title\"},{\"attributes\":{\"data\":{\"index\":[1,2,3,4,5,6]},\"selected\":{\"id\":\"3438\"},\"selection_policy\":{\"id\":\"3437\"}},\"id\":\"3251\",\"type\":\"ColumnDataSource\"},{\"attributes\":{},\"id\":\"3433\",\"type\":\"AllLabels\"},{\"attributes\":{\"source\":{\"id\":\"3251\"}},\"id\":\"3253\",\"type\":\"CDSView\"},{\"attributes\":{\"fill_color\":{\"value\":\"skyblue\"},\"size\":{\"value\":15}},\"id\":\"3259\",\"type\":\"Circle\"},{\"attributes\":{},\"id\":\"3225\",\"type\":\"LinearScale\"},{\"attributes\":{\"end\":11,\"start\":-11},\"id\":\"3219\",\"type\":\"Range1d\"},{\"attributes\":{},\"id\":\"3437\",\"type\":\"UnionRenderers\"},{\"attributes\":{\"coordinates\":null,\"formatter\":{\"id\":\"3429\"},\"group\":null,\"major_label_policy\":{\"id\":\"3430\"},\"ticker\":{\"id\":\"3232\"}},\"id\":\"3231\",\"type\":\"LinearAxis\"},{\"attributes\":{},\"id\":\"3435\",\"type\":\"Selection\"},{\"attributes\":{},\"id\":\"3438\",\"type\":\"Selection\"},{\"attributes\":{\"line_alpha\":{\"value\":0.5},\"line_width\":{\"field\":\"weight\"}},\"id\":\"3264\",\"type\":\"MultiLine\"},{\"attributes\":{\"overlay\":{\"id\":\"3241\"}},\"id\":\"3237\",\"type\":\"BoxZoomTool\"},{\"attributes\":{},\"id\":\"3238\",\"type\":\"SaveTool\"},{\"attributes\":{\"end\":11,\"start\":-11},\"id\":\"3218\",\"type\":\"Range1d\"},{\"attributes\":{},\"id\":\"3239\",\"type\":\"ResetTool\"},{\"attributes\":{\"graph_layout\":{\"1\":[1.2053473894373823,-1.7362191462354508],\"2\":[0.6921033766293452,7.535681317627088],\"3\":[-3.415396835132565,3.0952151392277334],\"4\":[9.458377205503401,-2.040715672049762],\"5\":[2.05956886356243,-9.718586727917522],\"6\":[-10.0,2.8646250893479204]}},\"id\":\"3258\",\"type\":\"StaticLayoutProvider\"},{\"attributes\":{},\"id\":\"3235\",\"type\":\"PanTool\"},{\"attributes\":{\"axis\":{\"id\":\"3231\"},\"coordinates\":null,\"dimension\":1,\"group\":null,\"ticker\":null},\"id\":\"3234\",\"type\":\"Grid\"},{\"attributes\":{\"axis\":{\"id\":\"3227\"},\"coordinates\":null,\"group\":null,\"ticker\":null},\"id\":\"3230\",\"type\":\"Grid\"},{\"attributes\":{\"coordinates\":null,\"data_source\":{\"id\":\"3251\"},\"glyph\":{\"id\":\"3259\"},\"group\":null,\"hover_glyph\":null,\"view\":{\"id\":\"3253\"}},\"id\":\"3252\",\"type\":\"GlyphRenderer\"},{\"attributes\":{\"data\":{\"name\":[\"1\",\"2\",\"3\",\"4\",\"5\",\"6\"],\"x\":[1.2053473894373823,0.6921033766293452,-3.415396835132565,9.458377205503401,2.05956886356243,-10.0],\"y\":[-1.7362191462354508,7.535681317627088,3.0952151392277334,-2.040715672049762,-9.718586727917522,2.8646250893479204]},\"selected\":{\"id\":\"3435\"},\"selection_policy\":{\"id\":\"3434\"}},\"id\":\"3269\",\"type\":\"ColumnDataSource\"},{\"attributes\":{\"bottom_units\":\"screen\",\"coordinates\":null,\"fill_alpha\":0.5,\"fill_color\":\"lightgrey\",\"group\":null,\"left_units\":\"screen\",\"level\":\"overlay\",\"line_alpha\":1.0,\"line_color\":\"black\",\"line_dash\":[4,4],\"line_width\":2,\"right_units\":\"screen\",\"syncable\":false,\"top_units\":\"screen\"},\"id\":\"3241\",\"type\":\"BoxAnnotation\"},{\"attributes\":{},\"id\":\"3439\",\"type\":\"UnionRenderers\"},{\"attributes\":{},\"id\":\"3440\",\"type\":\"Selection\"},{\"attributes\":{\"coordinates\":null,\"edge_renderer\":{\"id\":\"3256\"},\"group\":null,\"inspection_policy\":{\"id\":\"3427\"},\"layout_provider\":{\"id\":\"3258\"},\"node_renderer\":{\"id\":\"3252\"},\"selection_policy\":{\"id\":\"3426\"}},\"id\":\"3249\",\"type\":\"GraphRenderer\"},{\"attributes\":{},\"id\":\"3240\",\"type\":\"HelpTool\"},{\"attributes\":{},\"id\":\"3232\",\"type\":\"BasicTicker\"},{\"attributes\":{},\"id\":\"3434\",\"type\":\"UnionRenderers\"},{\"attributes\":{\"coordinates\":null,\"formatter\":{\"id\":\"3432\"},\"group\":null,\"major_label_policy\":{\"id\":\"3433\"},\"ticker\":{\"id\":\"3228\"}},\"id\":\"3227\",\"type\":\"LinearAxis\"},{\"attributes\":{\"data\":{\"end\":[2,3,4,5,6,3],\"start\":[1,1,1,1,1,2],\"weight\":[1,1,2,2,1,2]},\"selected\":{\"id\":\"3440\"},\"selection_policy\":{\"id\":\"3439\"}},\"id\":\"3255\",\"type\":\"ColumnDataSource\"},{\"attributes\":{},\"id\":\"3427\",\"type\":\"NodesOnly\"},{\"attributes\":{},\"id\":\"3223\",\"type\":\"LinearScale\"},{\"attributes\":{},\"id\":\"3236\",\"type\":\"WheelZoomTool\"}],\"root_ids\":[\"3220\"]},\"title\":\"Bokeh Application\",\"version\":\"2.4.0\"}};\n",
       "  const render_items = [{\"docid\":\"dc606c83-5693-4bb5-98d2-e67bfbae2b1a\",\"root_ids\":[\"3220\"],\"roots\":{\"3220\":\"4e6c5b26-4a55-43a1-97fa-ba0f521e7107\"}}];\n",
       "  root.Bokeh.embed.embed_items_notebook(docs_json, render_items);\n",
       "\n",
       "  }\n",
       "  if (root.Bokeh !== undefined) {\n",
       "    embed_document(root);\n",
       "  } else {\n",
       "    let attempts = 0;\n",
       "    const timer = setInterval(function(root) {\n",
       "      if (root.Bokeh !== undefined) {\n",
       "        clearInterval(timer);\n",
       "        embed_document(root);\n",
       "      } else {\n",
       "        attempts++;\n",
       "        if (attempts > 100) {\n",
       "          clearInterval(timer);\n",
       "          console.log(\"Bokeh: ERROR: Unable to run BokehJS code because BokehJS library is missing\");\n",
       "        }\n",
       "      }\n",
       "    }, 10, root)\n",
       "  }\n",
       "})(window);"
      ],
      "application/vnd.bokehjs_exec.v0+json": ""
     },
     "metadata": {
      "application/vnd.bokehjs_exec.v0+json": {
       "id": "3220"
      }
     },
     "output_type": "display_data"
    },
    {
     "data": {
      "text/plain": [
       "'/home/jovyan/non-data-viz/oarc-22s-python-data-viz-2/MyBokehNetwork.html'"
      ]
     },
     "execution_count": 39,
     "metadata": {},
     "output_type": "execute_result"
    }
   ],
   "source": [
    "plot = figure(x_range=Range1d(-11, 11), y_range=Range1d(-11, 11))\n",
    "\n",
    "network_graph = from_networkx(G, nx.spring_layout, scale=10, center=(0, 0))\n",
    "\n",
    "network_graph.node_renderer.glyph = Circle(size=15,\n",
    "                                           fill_color='skyblue')\n",
    "\n",
    "#Set edge opacity and width with 'weight' attribute\n",
    "network_graph.edge_renderer.glyph = MultiLine(line_alpha=0.5,\n",
    "                                              line_width='weight')\n",
    "\n",
    "plot.renderers.append(network_graph)\n",
    "\n",
    "x, y = zip(*network_graph.layout_provider.graph_layout.values())\n",
    "node_labels = list(G.nodes())\n",
    "source = ColumnDataSource({'x': x, 'y': y, 'name': [str(node_labels[i]) for i in range(len(x))]})\n",
    "labels = LabelSet(x='x', y='y', text='name', source=source, background_fill_color='white', text_font_size='10px', background_fill_alpha=.7, x_offset=-2.0, y_offset=-2.0)\n",
    "plot.renderers.append(labels)\n",
    "\n",
    "# Add title and save\n",
    "show(plot)\n",
    "title = 'MyBokehNetwork'\n",
    "save(plot, filename=f\"{title}.html\")"
   ]
  },
  {
   "cell_type": "code",
   "execution_count": 40,
   "id": "0bbb5a49-59fb-44ca-993c-da60d047edd8",
   "metadata": {},
   "outputs": [
    {
     "data": {
      "text/plain": [
       "{1: 5, 2: 2, 3: 2, 4: 1, 5: 1, 6: 1}"
      ]
     },
     "execution_count": 40,
     "metadata": {},
     "output_type": "execute_result"
    }
   ],
   "source": [
    "dict(nx.degree(G))"
   ]
  },
  {
   "cell_type": "code",
   "execution_count": 41,
   "id": "3a07ff75-646b-41a1-a6fb-af60ea5a1787",
   "metadata": {},
   "outputs": [],
   "source": [
    "nx.set_node_attributes(G, name='degree', values=dict(nx.degree(G)))"
   ]
  },
  {
   "cell_type": "code",
   "execution_count": 42,
   "id": "538a2dc6-466a-4437-8edc-0c0a347ba00b",
   "metadata": {},
   "outputs": [
    {
     "data": {
      "text/plain": [
       "NodeDataView({1: {'degree': 5}, 2: {'degree': 2}, 3: {'degree': 2}, 4: {'degree': 1}, 5: {'degree': 1}, 6: {'degree': 1}})"
      ]
     },
     "execution_count": 42,
     "metadata": {},
     "output_type": "execute_result"
    }
   ],
   "source": [
    "G.nodes(data=True)"
   ]
  },
  {
   "cell_type": "code",
   "execution_count": 43,
   "id": "fc11010e-9ab3-4d70-a6fe-e66f23fff575",
   "metadata": {},
   "outputs": [
    {
     "data": {
      "text/html": [
       "\n",
       "\n",
       "\n",
       "\n",
       "\n",
       "\n",
       "  <div class=\"bk-root\" id=\"17baae1e-15e3-485d-afe2-4712708ee002\" data-root-id=\"3943\"></div>\n"
      ]
     },
     "metadata": {},
     "output_type": "display_data"
    },
    {
     "data": {
      "application/javascript": [
       "(function(root) {\n",
       "  function embed_document(root) {\n",
       "    \n",
       "  const docs_json = {\"c5834a79-04ec-48c5-954f-2aa448f77a33\":{\"defs\":[],\"roots\":{\"references\":[{\"attributes\":{\"below\":[{\"id\":\"3950\"}],\"center\":[{\"id\":\"3953\"},{\"id\":\"3957\"}],\"left\":[{\"id\":\"3954\"}],\"renderers\":[{\"id\":\"3974\"},{\"id\":\"3995\"}],\"title\":{\"id\":\"4166\"},\"toolbar\":{\"id\":\"3966\"},\"x_range\":{\"id\":\"3941\"},\"x_scale\":{\"id\":\"3946\"},\"y_range\":{\"id\":\"3942\"},\"y_scale\":{\"id\":\"3948\"}},\"id\":\"3943\",\"subtype\":\"Figure\",\"type\":\"Plot\"},{\"attributes\":{},\"id\":\"3951\",\"type\":\"BasicTicker\"},{\"attributes\":{},\"id\":\"4185\",\"type\":\"Selection\"},{\"attributes\":{\"coordinates\":null,\"formatter\":{\"id\":\"4182\"},\"group\":null,\"major_label_policy\":{\"id\":\"4183\"},\"ticker\":{\"id\":\"3951\"}},\"id\":\"3950\",\"type\":\"LinearAxis\"},{\"attributes\":{\"background_fill_alpha\":{\"value\":0.7},\"background_fill_color\":{\"value\":\"white\"},\"coordinates\":null,\"group\":null,\"source\":{\"id\":\"3994\"},\"text\":{\"field\":\"name\"},\"text_font_size\":{\"value\":\"10px\"},\"x\":{\"field\":\"x\"},\"x_offset\":{\"value\":-2.0},\"y\":{\"field\":\"y\"},\"y_offset\":{\"value\":-2.0}},\"id\":\"3995\",\"type\":\"LabelSet\"},{\"attributes\":{\"bottom_units\":\"screen\",\"coordinates\":null,\"fill_alpha\":0.5,\"fill_color\":\"lightgrey\",\"group\":null,\"left_units\":\"screen\",\"level\":\"overlay\",\"line_alpha\":1.0,\"line_color\":\"black\",\"line_dash\":[4,4],\"line_width\":2,\"right_units\":\"screen\",\"syncable\":false,\"top_units\":\"screen\"},\"id\":\"3964\",\"type\":\"BoxAnnotation\"},{\"attributes\":{},\"id\":\"4176\",\"type\":\"NodesOnly\"},{\"attributes\":{\"source\":{\"id\":\"3980\"}},\"id\":\"3982\",\"type\":\"CDSView\"},{\"attributes\":{\"end\":11,\"start\":-11},\"id\":\"3942\",\"type\":\"Range1d\"},{\"attributes\":{},\"id\":\"4179\",\"type\":\"BasicTickFormatter\"},{\"attributes\":{\"coordinates\":null,\"group\":null},\"id\":\"4166\",\"type\":\"Title\"},{\"attributes\":{},\"id\":\"4180\",\"type\":\"AllLabels\"},{\"attributes\":{\"coordinates\":null,\"edge_renderer\":{\"id\":\"3981\"},\"group\":null,\"inspection_policy\":{\"id\":\"4177\"},\"layout_provider\":{\"id\":\"3983\"},\"node_renderer\":{\"id\":\"3977\"},\"selection_policy\":{\"id\":\"4176\"}},\"id\":\"3974\",\"type\":\"GraphRenderer\"},{\"attributes\":{\"data\":{\"degree\":[5,2,2,1,1,1],\"index\":[1,2,3,4,5,6]},\"selected\":{\"id\":\"4188\"},\"selection_policy\":{\"id\":\"4187\"}},\"id\":\"3976\",\"type\":\"ColumnDataSource\"},{\"attributes\":{},\"id\":\"4182\",\"type\":\"BasicTickFormatter\"},{\"attributes\":{},\"id\":\"3955\",\"type\":\"BasicTicker\"},{\"attributes\":{},\"id\":\"4183\",\"type\":\"AllLabels\"},{\"attributes\":{\"data\":{\"end\":[2,3,4,5,6,3],\"start\":[1,1,1,1,1,2],\"weight\":[1,1,2,2,1,2]},\"selected\":{\"id\":\"4190\"},\"selection_policy\":{\"id\":\"4189\"}},\"id\":\"3980\",\"type\":\"ColumnDataSource\"},{\"attributes\":{\"coordinates\":null,\"formatter\":{\"id\":\"4179\"},\"group\":null,\"major_label_policy\":{\"id\":\"4180\"},\"ticker\":{\"id\":\"3955\"}},\"id\":\"3954\",\"type\":\"LinearAxis\"},{\"attributes\":{\"tools\":[{\"id\":\"3958\"},{\"id\":\"3959\"},{\"id\":\"3960\"},{\"id\":\"3961\"},{\"id\":\"3962\"},{\"id\":\"3963\"},{\"id\":\"3965\"}]},\"id\":\"3966\",\"type\":\"Toolbar\"},{\"attributes\":{\"callback\":null,\"tooltips\":[[\"Name\",\"@index\"],[\"Degree\",\"@degree\"]]},\"id\":\"3965\",\"type\":\"HoverTool\"},{\"attributes\":{},\"id\":\"4187\",\"type\":\"UnionRenderers\"},{\"attributes\":{},\"id\":\"3963\",\"type\":\"HelpTool\"},{\"attributes\":{},\"id\":\"4188\",\"type\":\"Selection\"},{\"attributes\":{\"axis\":{\"id\":\"3954\"},\"coordinates\":null,\"dimension\":1,\"group\":null,\"ticker\":null},\"id\":\"3957\",\"type\":\"Grid\"},{\"attributes\":{},\"id\":\"4177\",\"type\":\"NodesOnly\"},{\"attributes\":{},\"id\":\"3946\",\"type\":\"LinearScale\"},{\"attributes\":{},\"id\":\"4190\",\"type\":\"Selection\"},{\"attributes\":{\"coordinates\":null,\"data_source\":{\"id\":\"3980\"},\"glyph\":{\"id\":\"3989\"},\"group\":null,\"hover_glyph\":null,\"view\":{\"id\":\"3982\"}},\"id\":\"3981\",\"type\":\"GlyphRenderer\"},{\"attributes\":{},\"id\":\"3959\",\"type\":\"WheelZoomTool\"},{\"attributes\":{\"source\":{\"id\":\"3976\"}},\"id\":\"3978\",\"type\":\"CDSView\"},{\"attributes\":{\"graph_layout\":{\"1\":[0.23500166884895649,1.0549224648008781],\"2\":[-7.35950557205246,-4.920522749999856],\"3\":[-3.127704851920589,-7.902034173082398],\"4\":[-4.591924226568376,7.084499073278027],\"5\":[4.844132981692465,7.156488730559907],\"6\":[10.0,-2.4733533455565646]}},\"id\":\"3983\",\"type\":\"StaticLayoutProvider\"},{\"attributes\":{\"data\":{\"name\":[\"1\",\"2\",\"3\",\"4\",\"5\",\"6\"],\"x\":[0.23500166884895649,-7.35950557205246,-3.127704851920589,-4.591924226568376,4.844132981692465,10.0],\"y\":[1.0549224648008781,-4.920522749999856,-7.902034173082398,7.084499073278027,7.156488730559907,-2.4733533455565646]},\"selected\":{\"id\":\"4185\"},\"selection_policy\":{\"id\":\"4184\"}},\"id\":\"3994\",\"type\":\"ColumnDataSource\"},{\"attributes\":{},\"id\":\"3948\",\"type\":\"LinearScale\"},{\"attributes\":{},\"id\":\"3958\",\"type\":\"PanTool\"},{\"attributes\":{\"line_alpha\":{\"value\":0.5},\"line_width\":{\"field\":\"weight\"}},\"id\":\"3989\",\"type\":\"MultiLine\"},{\"attributes\":{},\"id\":\"3962\",\"type\":\"ResetTool\"},{\"attributes\":{},\"id\":\"3961\",\"type\":\"SaveTool\"},{\"attributes\":{\"overlay\":{\"id\":\"3964\"}},\"id\":\"3960\",\"type\":\"BoxZoomTool\"},{\"attributes\":{},\"id\":\"4189\",\"type\":\"UnionRenderers\"},{\"attributes\":{\"fill_color\":{\"value\":\"skyblue\"},\"size\":{\"value\":15}},\"id\":\"3984\",\"type\":\"Circle\"},{\"attributes\":{\"coordinates\":null,\"data_source\":{\"id\":\"3976\"},\"glyph\":{\"id\":\"3984\"},\"group\":null,\"hover_glyph\":null,\"view\":{\"id\":\"3978\"}},\"id\":\"3977\",\"type\":\"GlyphRenderer\"},{\"attributes\":{\"axis\":{\"id\":\"3950\"},\"coordinates\":null,\"group\":null,\"ticker\":null},\"id\":\"3953\",\"type\":\"Grid\"},{\"attributes\":{},\"id\":\"4184\",\"type\":\"UnionRenderers\"},{\"attributes\":{\"end\":11,\"start\":-11},\"id\":\"3941\",\"type\":\"Range1d\"}],\"root_ids\":[\"3943\"]},\"title\":\"Bokeh Application\",\"version\":\"2.4.0\"}};\n",
       "  const render_items = [{\"docid\":\"c5834a79-04ec-48c5-954f-2aa448f77a33\",\"root_ids\":[\"3943\"],\"roots\":{\"3943\":\"17baae1e-15e3-485d-afe2-4712708ee002\"}}];\n",
       "  root.Bokeh.embed.embed_items_notebook(docs_json, render_items);\n",
       "\n",
       "  }\n",
       "  if (root.Bokeh !== undefined) {\n",
       "    embed_document(root);\n",
       "  } else {\n",
       "    let attempts = 0;\n",
       "    const timer = setInterval(function(root) {\n",
       "      if (root.Bokeh !== undefined) {\n",
       "        clearInterval(timer);\n",
       "        embed_document(root);\n",
       "      } else {\n",
       "        attempts++;\n",
       "        if (attempts > 100) {\n",
       "          clearInterval(timer);\n",
       "          console.log(\"Bokeh: ERROR: Unable to run BokehJS code because BokehJS library is missing\");\n",
       "        }\n",
       "      }\n",
       "    }, 10, root)\n",
       "  }\n",
       "})(window);"
      ],
      "application/vnd.bokehjs_exec.v0+json": ""
     },
     "metadata": {
      "application/vnd.bokehjs_exec.v0+json": {
       "id": "3943"
      }
     },
     "output_type": "display_data"
    },
    {
     "data": {
      "text/plain": [
       "'/home/jovyan/non-data-viz/oarc-22s-python-data-viz-2/MyBokehNetwork.html'"
      ]
     },
     "execution_count": 43,
     "metadata": {},
     "output_type": "execute_result"
    }
   ],
   "source": [
    "# Add tooltips to display info on mouse-hover\n",
    "HOVER_TOOLTIPS = [\n",
    "        (\"Name\", \"@index\"),\n",
    "        (\"Degree\", \"@degree\"),\n",
    "]\n",
    "\n",
    "plot = figure(tooltips = HOVER_TOOLTIPS,\n",
    "              x_range=Range1d(-11, 11),\n",
    "              y_range=Range1d(-11, 11))\n",
    "\n",
    "network_graph = from_networkx(G, nx.spring_layout, scale=10, center=(0, 0))\n",
    "\n",
    "network_graph.node_renderer.glyph = Circle(size=15,\n",
    "                                           fill_color='skyblue')\n",
    "\n",
    "network_graph.edge_renderer.glyph = MultiLine(line_alpha=0.5,\n",
    "                                              line_width='weight')\n",
    "\n",
    "plot.renderers.append(network_graph)\n",
    "\n",
    "x, y = zip(*network_graph.layout_provider.graph_layout.values())\n",
    "node_labels = list(G.nodes())\n",
    "source = ColumnDataSource({'x': x, 'y': y, 'name': [str(node_labels[i]) for i in range(len(x))]})\n",
    "labels = LabelSet(x='x', y='y', text='name', source=source, background_fill_color='white', text_font_size='10px', background_fill_alpha=.7, x_offset=-2.0, y_offset=-2.0)\n",
    "plot.renderers.append(labels)\n",
    "\n",
    "show(plot)\n",
    "title = 'MyBokehNetwork'\n",
    "save(plot, filename=f\"{title}.html\")"
   ]
  },
  {
   "cell_type": "markdown",
   "id": "33c216d6-8293-4597-af96-aa095ee0ab4e",
   "metadata": {},
   "source": [
    "## Cool Bokeh example\n",
    "courtesy of [Melanie Walsh's Introduction to Cultural Analytics & Python](https://melaniewalsh.github.io/Intro-Cultural-Analytics/06-Network-Analysis/02-Making-Network-Viz-with-Bokeh.html)"
   ]
  },
  {
   "cell_type": "code",
   "execution_count": 44,
   "id": "c0eed3f3-2dad-477a-bc66-41d447191294",
   "metadata": {},
   "outputs": [],
   "source": [
    "from bokeh.io import output_notebook, show, save\n",
    "from bokeh.models import Range1d, Circle, ColumnDataSource, MultiLine, EdgesAndLinkedNodes, NodesAndLinkedEdges, LabelSet\n",
    "from bokeh.plotting import figure\n",
    "from bokeh.plotting import from_networkx\n",
    "from bokeh.palettes import Blues8, Reds8, Purples8, Oranges8, Viridis8, Spectral8\n",
    "from bokeh.transform import linear_cmap\n",
    "from networkx.algorithms import community"
   ]
  },
  {
   "cell_type": "code",
   "execution_count": 45,
   "id": "2a74a4dc-93e1-477d-9d7a-e96156c95111",
   "metadata": {},
   "outputs": [],
   "source": [
    "# We read in a CSV file of Game of Thrones network data \n",
    "# from Andrew Beveridge and Jie Shan’s paper, “Network of Thrones.”\n",
    "# https://www.maa.org/sites/default/files/pdf/Mathhorizons/NetworkofThrones%20%281%29.pdf\n",
    "\n",
    "got_df = pd.read_csv('data/got-edges.csv')\n",
    "G = nx.from_pandas_edgelist(got_df, 'Source', 'Target', 'Weight')"
   ]
  },
  {
   "cell_type": "code",
   "execution_count": 46,
   "id": "7658dc1b-ee0b-459f-835f-add6ddc0d978",
   "metadata": {},
   "outputs": [
    {
     "data": {
      "text/html": [
       "<div>\n",
       "<style scoped>\n",
       "    .dataframe tbody tr th:only-of-type {\n",
       "        vertical-align: middle;\n",
       "    }\n",
       "\n",
       "    .dataframe tbody tr th {\n",
       "        vertical-align: top;\n",
       "    }\n",
       "\n",
       "    .dataframe thead th {\n",
       "        text-align: right;\n",
       "    }\n",
       "</style>\n",
       "<table border=\"1\" class=\"dataframe\">\n",
       "  <thead>\n",
       "    <tr style=\"text-align: right;\">\n",
       "      <th></th>\n",
       "      <th>Source</th>\n",
       "      <th>Target</th>\n",
       "      <th>Weight</th>\n",
       "    </tr>\n",
       "  </thead>\n",
       "  <tbody>\n",
       "    <tr>\n",
       "      <th>0</th>\n",
       "      <td>Aemon</td>\n",
       "      <td>Grenn</td>\n",
       "      <td>5</td>\n",
       "    </tr>\n",
       "    <tr>\n",
       "      <th>1</th>\n",
       "      <td>Aemon</td>\n",
       "      <td>Samwell</td>\n",
       "      <td>31</td>\n",
       "    </tr>\n",
       "    <tr>\n",
       "      <th>2</th>\n",
       "      <td>Aerys</td>\n",
       "      <td>Jaime</td>\n",
       "      <td>18</td>\n",
       "    </tr>\n",
       "    <tr>\n",
       "      <th>3</th>\n",
       "      <td>Aerys</td>\n",
       "      <td>Robert</td>\n",
       "      <td>6</td>\n",
       "    </tr>\n",
       "    <tr>\n",
       "      <th>4</th>\n",
       "      <td>Aerys</td>\n",
       "      <td>Tyrion</td>\n",
       "      <td>5</td>\n",
       "    </tr>\n",
       "  </tbody>\n",
       "</table>\n",
       "</div>"
      ],
      "text/plain": [
       "  Source   Target  Weight\n",
       "0  Aemon    Grenn       5\n",
       "1  Aemon  Samwell      31\n",
       "2  Aerys    Jaime      18\n",
       "3  Aerys   Robert       6\n",
       "4  Aerys   Tyrion       5"
      ]
     },
     "execution_count": 46,
     "metadata": {},
     "output_type": "execute_result"
    }
   ],
   "source": [
    "got_df.head()"
   ]
  },
  {
   "cell_type": "code",
   "execution_count": 47,
   "id": "20e4c2a8-406e-4eb7-bca8-4b6fe7b7249c",
   "metadata": {},
   "outputs": [],
   "source": [
    "# Calculate degree for each node and add as node attribute\n",
    "degrees = dict(nx.degree(G))\n",
    "nx.set_node_attributes(G, name='degree', values=degrees)\n",
    "\n",
    "# Slightly adjust degree so that the nodes with very small degrees are still visible\n",
    "number_to_adjust_by = 5\n",
    "adjusted_node_size = dict([(node, degree+number_to_adjust_by) for node, degree in nx.degree(G)])\n",
    "nx.set_node_attributes(G, name='adjusted_node_size', values=adjusted_node_size)\n",
    "\n",
    "# Calculate communities\n",
    "communities = community.greedy_modularity_communities(G)\n",
    "\n",
    "# Add modularity class and color as attributes to network graph\n",
    "# Create empty dictionaries\n",
    "modularity_class = {}\n",
    "modularity_color = {}\n",
    "#Loop through each community in the network\n",
    "for community_number, community in enumerate(communities):\n",
    "    #For each member of the community, add their community number and a distinct color\n",
    "    for name in community: \n",
    "        modularity_class[name] = community_number\n",
    "        modularity_color[name] = Spectral8[community_number]\n",
    "        \n",
    "# Add modularity class and color as attributes from the network above\n",
    "nx.set_node_attributes(G, modularity_class, 'modularity_class')\n",
    "nx.set_node_attributes(G, modularity_color, 'modularity_color')"
   ]
  },
  {
   "cell_type": "code",
   "execution_count": 48,
   "id": "af119655-6fee-4847-80c4-34d7c988dcb1",
   "metadata": {},
   "outputs": [
    {
     "data": {
      "text/html": [
       "\n",
       "\n",
       "\n",
       "\n",
       "\n",
       "\n",
       "  <div class=\"bk-root\" id=\"7174fd67-2561-4c5b-8630-a0a462b09780\" data-root-id=\"4693\"></div>\n"
      ]
     },
     "metadata": {},
     "output_type": "display_data"
    },
    {
     "data": {
      "application/javascript": [
       "(function(root) {\n",
       "  function embed_document(root) {\n",
       "    \n",
       "  const docs_json = {\"51b0b651-1515-47f0-91f5-d3fa7d0a75c8\":{\"defs\":[],\"roots\":{\"references\":[{\"attributes\":{\"below\":[{\"id\":\"4702\"}],\"center\":[{\"id\":\"4705\"},{\"id\":\"4709\"}],\"left\":[{\"id\":\"4706\"}],\"renderers\":[{\"id\":\"4721\"},{\"id\":\"4766\"}],\"title\":{\"id\":\"4694\"},\"toolbar\":{\"id\":\"4715\"},\"x_range\":{\"id\":\"4691\"},\"x_scale\":{\"id\":\"4698\"},\"y_range\":{\"id\":\"4692\"},\"y_scale\":{\"id\":\"4700\"}},\"id\":\"4693\",\"subtype\":\"Figure\",\"type\":\"Plot\"},{\"attributes\":{},\"id\":\"4973\",\"type\":\"AllLabels\"},{\"attributes\":{\"axis\":{\"id\":\"4702\"},\"coordinates\":null,\"group\":null,\"ticker\":null},\"id\":\"4705\",\"type\":\"Grid\"},{\"attributes\":{\"line_width\":{\"value\":2}},\"id\":\"4756\",\"type\":\"MultiLine\"},{\"attributes\":{\"coordinates\":null,\"group\":null,\"text\":\"Game of Thrones Network\"},\"id\":\"4694\",\"type\":\"Title\"},{\"attributes\":{},\"id\":\"4975\",\"type\":\"BasicTickFormatter\"},{\"attributes\":{},\"id\":\"4703\",\"type\":\"BasicTicker\"},{\"attributes\":{\"coordinates\":null,\"formatter\":{\"id\":\"4972\"},\"group\":null,\"major_label_policy\":{\"id\":\"4973\"},\"ticker\":{\"id\":\"4707\"}},\"id\":\"4706\",\"type\":\"LinearAxis\"},{\"attributes\":{},\"id\":\"4976\",\"type\":\"AllLabels\"},{\"attributes\":{\"axis\":{\"id\":\"4706\"},\"coordinates\":null,\"dimension\":1,\"group\":null,\"ticker\":null},\"id\":\"4709\",\"type\":\"Grid\"},{\"attributes\":{},\"id\":\"4707\",\"type\":\"BasicTicker\"},{\"attributes\":{\"callback\":null,\"tooltips\":[[\"Character\",\"@index\"],[\"Degree\",\"@degree\"],[\"Modularity Class\",\"@modularity_class\"],[\"Modularity Color\",\"$color[swatch]:modularity_color\"]]},\"id\":\"4714\",\"type\":\"HoverTool\"},{\"attributes\":{\"fill_color\":{\"field\":\"modularity_color\"},\"size\":{\"field\":\"adjusted_node_size\"}},\"id\":\"4731\",\"type\":\"Circle\"},{\"attributes\":{\"data\":{\"name\":[\"Aemon\",\"Grenn\",\"Samwell\",\"Aerys\",\"Jaime\",\"Robert\",\"Tyrion\",\"Tywin\",\"Alliser\",\"Mance\",\"Amory\",\"Oberyn\",\"Arya\",\"Anguy\",\"Beric\",\"Bran\",\"Brynden\",\"Cersei\",\"Gendry\",\"Gregor\",\"Joffrey\",\"Jon\",\"Rickon\",\"Roose\",\"Sandor\",\"Thoros\",\"Balon\",\"Loras\",\"Belwas\",\"Barristan\",\"Illyrio\",\"Hodor\",\"Jojen\",\"Luwin\",\"Meera\",\"Nan\",\"Theon\",\"Brienne\",\"Bronn\",\"Podrick\",\"Lothar\",\"Walder\",\"Catelyn\",\"Edmure\",\"Hoster\",\"Jeyne\",\"Lysa\",\"Petyr\",\"Robb\",\"Roslin\",\"Sansa\",\"Stannis\",\"Elia\",\"Ilyn\",\"Meryn\",\"Pycelle\",\"Shae\",\"Varys\",\"Craster\",\"Karl\",\"Daario\",\"Drogo\",\"Irri\",\"Daenerys\",\"Aegon\",\"Jorah\",\"Kraznys\",\"Missandei\",\"Rakharo\",\"Rhaegar\",\"Viserys\",\"Worm\",\"Davos\",\"Cressen\",\"Salladhor\",\"Eddard\",\"Eddison\",\"Gilly\",\"Qyburn\",\"Renly\",\"Tommen\",\"Janos\",\"Bowen\",\"Kevan\",\"Margaery\",\"Myrcella\",\"Dalla\",\"Melisandre\",\"Orell\",\"Qhorin\",\"Rattleshirt\",\"Styr\",\"Val\",\"Ygritte\",\"Jon Arryn\",\"Lancel\",\"Olenna\",\"Marillion\",\"Robert Arryn\",\"Ellaria\",\"Mace\",\"Rickard\",\"Ramsay\",\"Chataya\",\"Shireen\",\"Doran\",\"Walton\"],\"x\":[3.4247727717883154,4.903186799815962,3.2477546642621453,0.7861810772458487,-0.5644140958868444,0.6451692579078757,-0.7710598955369633,-0.9938628901425607,3.6839730092141845,4.717701699573826,2.0696865784738803,1.147782814909423,-1.3523756521783878,-3.5564094639085146,-2.057291929187165,-0.7730553073855576,-4.359431357674974,-1.2719521577867414,-1.5871358148185546,0.0012481128377180369,-0.6007539037681927,2.5746201596816625,-1.8612082744404446,-4.334606991815293,-0.47327818824018225,-0.360244720784494,-1.1847022436359056,-1.9219892803093535,4.0055856428129974,1.544970606002171,7.785178697411416,-1.2911563708717062,0.657257509268593,-1.8724355634174494,1.0749376031552522,-2.681685287504352,-0.32290369202408664,-3.2510598043287477,-1.871306126054124,-2.419297701529465,-6.170932918911367,-4.7570353616783,-2.993106645940262,-4.710250209036945,-5.37574424289548,-5.7485000938095645,-2.518241915061802,-3.338397668387873,-2.4927160174021,-6.610771123211155,-1.6171625508814405,1.2853168415051013,1.1708248771528256,0.6601487730166975,0.5710125739072482,-2.9889940590706328,-3.2416074311156287,-2.3462253234835253,6.4625843573456,9.684784366489184,1.1615667073836207,1.6446858388311105,0.33743150267513233,-0.27127912439323326,-2.4093333302989404,2.2165553273521303,-4.3923450165185995,-0.730713860266292,-4.198850227858573,1.9343621425396613,1.7072048305426764,-3.6722505599927504,4.698029798322976,6.622206256281946,4.781668717727737,-0.7029768077723653,4.459868767841968,5.668561450421597,2.961509253754304,-0.23429943425040167,-0.3946345197358144,2.343924143474101,3.2231143391881933,-3.1090153644588816,-1.2305599035488775,-1.1465928718927623,5.688047178650267,4.2679771105995465,4.008197532451457,5.143080095403925,5.564605037502081,4.8535414944995825,3.266122502250732,5.979540594816463,0.004491142997552701,-6.223299853655441,-3.7452453580514433,-2.5128768942609225,-3.2185069479391153,2.849063029214113,1.8237722409843196,-6.407161839370251,-6.293903542768619,-3.893944925197981,5.71879706518217,-3.8985534154518597,0.29704317713201345],\"y\":[1.6684150540155005,3.7125147495815902,4.079267877362166,-2.09115456268209,-1.3394094128265355,-0.9167943122410748,-0.0021885723805523502,-0.28406971060907477,6.178764325732503,4.894316907915984,5.315662270695346,1.6198998722400964,1.9074047654497739,5.133008379970298,3.7908225874775656,4.102589708649562,1.0949807266644318,0.012654023966775146,4.261226533683134,0.40878736472001287,-0.5738488771124299,3.560418927906119,2.9885356843512874,1.8712370528058364,1.4362994370341187,2.781185111091172,-1.0163368591244342,-2.083868171979112,-6.659114961826472,-4.819960767429463,-7.324770030258108,5.669923263978446,6.5520167065343555,8.111575290879083,5.79361248504692,7.808697989610722,4.432986386310865,-0.18728620267108032,1.232999859962536,-0.29313080333230007,0.6861195169834333,0.20049219311727387,0.33491026463638945,-0.511771659638162,-2.295572130077892,1.8605581646946172,-2.19171201177784,-0.6428975224588079,1.620793093111918,-0.48524332439130513,-0.36494992571647294,-0.06975270742414659,-1.7172327938365761,0.7602135628326392,-0.12541723124966156,-1.4228109252987995,0.8002456011922456,-1.2459819016334073,5.231168527944825,7.06580954399994,-9.154846895412264,-8.604854606388558,-9.724766716506604,-6.132587482978762,-8.614921403395819,-7.1461107009383475,-3.8900890792437024,-10.0,-5.667946289804721,-4.488829196346358,-3.444502926865014,-2.818894404139365,-5.092478453360783,-8.429745028468389,-9.274984290150902,1.7601745962871778,5.464178731927459,4.548149494713335,-3.7065007340970486,-1.8956262649657498,-3.0002971602826785,4.3721053531124925,7.109666538664287,-2.442694543239032,-2.105100084333365,-2.7888666898394456,3.4087705168328597,0.02156884228814292,7.702017399669242,5.624870127179955,6.374019325892509,6.821061891353495,2.4669776048527052,5.781451487142981,-4.075329913701636,-5.518028205761898,-3.6043883280387856,-4.258506252440166,-4.116747207146018,0.2729225942624327,0.4713394822664851,2.4258531513515686,3.9096550241118755,2.3597165111509475,-9.001168046958375,3.2519056387632914,-5.462431841193179]},\"selected\":{\"id\":\"4978\"},\"selection_policy\":{\"id\":\"4977\"}},\"id\":\"4765\",\"type\":\"ColumnDataSource\"},{\"attributes\":{},\"id\":\"4711\",\"type\":\"WheelZoomTool\"},{\"attributes\":{},\"id\":\"4761\",\"type\":\"NodesAndLinkedEdges\"},{\"attributes\":{},\"id\":\"4710\",\"type\":\"PanTool\"},{\"attributes\":{\"line_alpha\":{\"value\":0.3}},\"id\":\"4746\",\"type\":\"MultiLine\"},{\"attributes\":{\"coordinates\":null,\"edge_renderer\":{\"id\":\"4728\"},\"group\":null,\"inspection_policy\":{\"id\":\"4763\"},\"layout_provider\":{\"id\":\"4730\"},\"node_renderer\":{\"id\":\"4724\"},\"selection_policy\":{\"id\":\"4761\"}},\"id\":\"4721\",\"type\":\"GraphRenderer\"},{\"attributes\":{\"coordinates\":null,\"data_source\":{\"id\":\"4727\"},\"glyph\":{\"id\":\"4746\"},\"group\":null,\"hover_glyph\":{\"id\":\"4756\"},\"selection_glyph\":{\"id\":\"4751\"},\"view\":{\"id\":\"4729\"}},\"id\":\"4728\",\"type\":\"GlyphRenderer\"},{\"attributes\":{},\"id\":\"4712\",\"type\":\"SaveTool\"},{\"attributes\":{},\"id\":\"4713\",\"type\":\"ResetTool\"},{\"attributes\":{\"end\":10.1,\"start\":-10.1},\"id\":\"4692\",\"type\":\"Range1d\"},{\"attributes\":{\"line_width\":{\"value\":2}},\"id\":\"4751\",\"type\":\"MultiLine\"},{\"attributes\":{\"graph_layout\":{\"Aegon\":[-2.4093333302989404,-8.614921403395819],\"Aemon\":[3.4247727717883154,1.6684150540155005],\"Aerys\":[0.7861810772458487,-2.09115456268209],\"Alliser\":[3.6839730092141845,6.178764325732503],\"Amory\":[2.0696865784738803,5.315662270695346],\"Anguy\":[-3.5564094639085146,5.133008379970298],\"Arya\":[-1.3523756521783878,1.9074047654497739],\"Balon\":[-1.1847022436359056,-1.0163368591244342],\"Barristan\":[1.544970606002171,-4.819960767429463],\"Belwas\":[4.0055856428129974,-6.659114961826472],\"Beric\":[-2.057291929187165,3.7908225874775656],\"Bowen\":[3.2231143391881933,7.109666538664287],\"Bran\":[-0.7730553073855576,4.102589708649562],\"Brienne\":[-3.2510598043287477,-0.18728620267108032],\"Bronn\":[-1.871306126054124,1.232999859962536],\"Brynden\":[-4.359431357674974,1.0949807266644318],\"Catelyn\":[-2.993106645940262,0.33491026463638945],\"Cersei\":[-1.2719521577867414,0.012654023966775146],\"Chataya\":[-3.893944925197981,2.3597165111509475],\"Craster\":[6.4625843573456,5.231168527944825],\"Cressen\":[6.622206256281946,-8.429745028468389],\"Daario\":[1.1615667073836207,-9.154846895412264],\"Daenerys\":[-0.27127912439323326,-6.132587482978762],\"Dalla\":[5.688047178650267,3.4087705168328597],\"Davos\":[4.698029798322976,-5.092478453360783],\"Doran\":[-3.8985534154518597,3.2519056387632914],\"Drogo\":[1.6446858388311105,-8.604854606388558],\"Eddard\":[-0.7029768077723653,1.7601745962871778],\"Eddison\":[4.459868767841968,5.464178731927459],\"Edmure\":[-4.710250209036945,-0.511771659638162],\"Elia\":[1.1708248771528256,-1.7172327938365761],\"Ellaria\":[2.849063029214113,0.2729225942624327],\"Gendry\":[-1.5871358148185546,4.261226533683134],\"Gilly\":[5.668561450421597,4.548149494713335],\"Gregor\":[0.0012481128377180369,0.40878736472001287],\"Grenn\":[4.903186799815962,3.7125147495815902],\"Hodor\":[-1.2911563708717062,5.669923263978446],\"Hoster\":[-5.37574424289548,-2.295572130077892],\"Illyrio\":[7.785178697411416,-7.324770030258108],\"Ilyn\":[0.6601487730166975,0.7602135628326392],\"Irri\":[0.33743150267513233,-9.724766716506604],\"Jaime\":[-0.5644140958868444,-1.3394094128265355],\"Janos\":[2.343924143474101,4.3721053531124925],\"Jeyne\":[-5.7485000938095645,1.8605581646946172],\"Joffrey\":[-0.6007539037681927,-0.5738488771124299],\"Jojen\":[0.657257509268593,6.5520167065343555],\"Jon\":[2.5746201596816625,3.560418927906119],\"Jon Arryn\":[0.004491142997552701,-4.075329913701636],\"Jorah\":[2.2165553273521303,-7.1461107009383475],\"Karl\":[9.684784366489184,7.06580954399994],\"Kevan\":[-3.1090153644588816,-2.442694543239032],\"Kraznys\":[-4.3923450165185995,-3.8900890792437024],\"Lancel\":[-6.223299853655441,-5.518028205761898],\"Loras\":[-1.9219892803093535,-2.083868171979112],\"Lothar\":[-6.170932918911367,0.6861195169834333],\"Luwin\":[-1.8724355634174494,8.111575290879083],\"Lysa\":[-2.518241915061802,-2.19171201177784],\"Mace\":[1.8237722409843196,0.4713394822664851],\"Mance\":[4.717701699573826,4.894316907915984],\"Margaery\":[-1.2305599035488775,-2.105100084333365],\"Marillion\":[-2.5128768942609225,-4.258506252440166],\"Meera\":[1.0749376031552522,5.79361248504692],\"Melisandre\":[4.2679771105995465,0.02156884228814292],\"Meryn\":[0.5710125739072482,-0.12541723124966156],\"Missandei\":[-0.730713860266292,-10.0],\"Myrcella\":[-1.1465928718927623,-2.7888666898394456],\"Nan\":[-2.681685287504352,7.808697989610722],\"Oberyn\":[1.147782814909423,1.6198998722400964],\"Olenna\":[-3.7452453580514433,-3.6043883280387856],\"Orell\":[4.008197532451457,7.702017399669242],\"Petyr\":[-3.338397668387873,-0.6428975224588079],\"Podrick\":[-2.419297701529465,-0.29313080333230007],\"Pycelle\":[-2.9889940590706328,-1.4228109252987995],\"Qhorin\":[5.143080095403925,5.624870127179955],\"Qyburn\":[2.961509253754304,-3.7065007340970486],\"Rakharo\":[-4.198850227858573,-5.667946289804721],\"Ramsay\":[-6.293903542768619,3.9096550241118755],\"Rattleshirt\":[5.564605037502081,6.374019325892509],\"Renly\":[-0.23429943425040167,-1.8956262649657498],\"Rhaegar\":[1.9343621425396613,-4.488829196346358],\"Rickard\":[-6.407161839370251,2.4258531513515686],\"Rickon\":[-1.8612082744404446,2.9885356843512874],\"Robb\":[-2.4927160174021,1.620793093111918],\"Robert\":[0.6451692579078757,-0.9167943122410748],\"Robert Arryn\":[-3.2185069479391153,-4.116747207146018],\"Roose\":[-4.334606991815293,1.8712370528058364],\"Roslin\":[-6.610771123211155,-0.48524332439130513],\"Salladhor\":[4.781668717727737,-9.274984290150902],\"Samwell\":[3.2477546642621453,4.079267877362166],\"Sandor\":[-0.47327818824018225,1.4362994370341187],\"Sansa\":[-1.6171625508814405,-0.36494992571647294],\"Shae\":[-3.2416074311156287,0.8002456011922456],\"Shireen\":[5.71879706518217,-9.001168046958375],\"Stannis\":[1.2853168415051013,-0.06975270742414659],\"Styr\":[4.8535414944995825,6.821061891353495],\"Theon\":[-0.32290369202408664,4.432986386310865],\"Thoros\":[-0.360244720784494,2.781185111091172],\"Tommen\":[-0.3946345197358144,-3.0002971602826785],\"Tyrion\":[-0.7710598955369633,-0.0021885723805523502],\"Tywin\":[-0.9938628901425607,-0.28406971060907477],\"Val\":[3.266122502250732,2.4669776048527052],\"Varys\":[-2.3462253234835253,-1.2459819016334073],\"Viserys\":[1.7072048305426764,-3.444502926865014],\"Walder\":[-4.7570353616783,0.20049219311727387],\"Walton\":[0.29704317713201345,-5.462431841193179],\"Worm\":[-3.6722505599927504,-2.818894404139365],\"Ygritte\":[5.979540594816463,5.781451487142981]}},\"id\":\"4730\",\"type\":\"StaticLayoutProvider\"},{\"attributes\":{},\"id\":\"4979\",\"type\":\"UnionRenderers\"},{\"attributes\":{\"coordinates\":null,\"data_source\":{\"id\":\"4723\"},\"glyph\":{\"id\":\"4731\"},\"group\":null,\"hover_glyph\":{\"id\":\"4736\"},\"selection_glyph\":{\"id\":\"4741\"},\"view\":{\"id\":\"4725\"}},\"id\":\"4724\",\"type\":\"GlyphRenderer\"},{\"attributes\":{},\"id\":\"4698\",\"type\":\"LinearScale\"},{\"attributes\":{},\"id\":\"4980\",\"type\":\"Selection\"},{\"attributes\":{\"data\":{\"adjusted_node_size\":[10,9,20,9,29,23,41,27,8,17,6,12,24,7,11,19,13,25,9,17,23,31,11,9,18,10,11,14,9,11,6,9,9,7,10,7,9,12,9,10,10,13,23,13,8,7,15,12,30,9,31,19,10,11,12,9,10,12,10,6,9,9,9,19,6,11,6,7,6,11,8,6,10,6,6,17,8,9,6,13,10,11,7,11,12,9,8,9,6,10,9,7,9,9,7,6,7,8,8,7,8,7,6,7,6,6,6],\"degree\":[5,4,15,4,24,18,36,22,3,12,1,7,19,2,6,14,8,20,4,12,18,26,6,4,13,5,6,9,4,6,1,4,4,2,5,2,4,7,4,5,5,8,18,8,3,2,10,7,25,4,26,14,5,6,7,4,5,7,5,1,4,4,4,14,1,6,1,2,1,6,3,1,5,1,1,12,3,4,1,8,5,6,2,6,7,4,3,4,1,5,4,2,4,4,2,1,2,3,3,2,3,2,1,2,1,1,1],\"index\":[\"Aemon\",\"Grenn\",\"Samwell\",\"Aerys\",\"Jaime\",\"Robert\",\"Tyrion\",\"Tywin\",\"Alliser\",\"Mance\",\"Amory\",\"Oberyn\",\"Arya\",\"Anguy\",\"Beric\",\"Bran\",\"Brynden\",\"Cersei\",\"Gendry\",\"Gregor\",\"Joffrey\",\"Jon\",\"Rickon\",\"Roose\",\"Sandor\",\"Thoros\",\"Balon\",\"Loras\",\"Belwas\",\"Barristan\",\"Illyrio\",\"Hodor\",\"Jojen\",\"Luwin\",\"Meera\",\"Nan\",\"Theon\",\"Brienne\",\"Bronn\",\"Podrick\",\"Lothar\",\"Walder\",\"Catelyn\",\"Edmure\",\"Hoster\",\"Jeyne\",\"Lysa\",\"Petyr\",\"Robb\",\"Roslin\",\"Sansa\",\"Stannis\",\"Elia\",\"Ilyn\",\"Meryn\",\"Pycelle\",\"Shae\",\"Varys\",\"Craster\",\"Karl\",\"Daario\",\"Drogo\",\"Irri\",\"Daenerys\",\"Aegon\",\"Jorah\",\"Kraznys\",\"Missandei\",\"Rakharo\",\"Rhaegar\",\"Viserys\",\"Worm\",\"Davos\",\"Cressen\",\"Salladhor\",\"Eddard\",\"Eddison\",\"Gilly\",\"Qyburn\",\"Renly\",\"Tommen\",\"Janos\",\"Bowen\",\"Kevan\",\"Margaery\",\"Myrcella\",\"Dalla\",\"Melisandre\",\"Orell\",\"Qhorin\",\"Rattleshirt\",\"Styr\",\"Val\",\"Ygritte\",\"Jon Arryn\",\"Lancel\",\"Olenna\",\"Marillion\",\"Robert Arryn\",\"Ellaria\",\"Mace\",\"Rickard\",\"Ramsay\",\"Chataya\",\"Shireen\",\"Doran\",\"Walton\"],\"modularity_class\":[1,1,1,0,0,3,0,0,1,1,0,0,2,4,4,2,2,2,4,0,0,1,2,2,0,4,0,0,3,3,3,1,1,2,1,2,2,2,0,0,2,2,2,2,2,2,2,2,2,2,2,1,0,0,0,0,0,0,1,1,3,3,3,3,3,3,3,3,3,3,3,3,1,1,1,2,1,1,0,0,0,1,1,0,0,0,1,1,1,1,1,1,1,1,3,0,0,2,2,0,0,2,2,0,1,0,0],\"modularity_color\":[\"#66c2a5\",\"#66c2a5\",\"#66c2a5\",\"#3288bd\",\"#3288bd\",\"#e6f598\",\"#3288bd\",\"#3288bd\",\"#66c2a5\",\"#66c2a5\",\"#3288bd\",\"#3288bd\",\"#abdda4\",\"#fee08b\",\"#fee08b\",\"#abdda4\",\"#abdda4\",\"#abdda4\",\"#fee08b\",\"#3288bd\",\"#3288bd\",\"#66c2a5\",\"#abdda4\",\"#abdda4\",\"#3288bd\",\"#fee08b\",\"#3288bd\",\"#3288bd\",\"#e6f598\",\"#e6f598\",\"#e6f598\",\"#66c2a5\",\"#66c2a5\",\"#abdda4\",\"#66c2a5\",\"#abdda4\",\"#abdda4\",\"#abdda4\",\"#3288bd\",\"#3288bd\",\"#abdda4\",\"#abdda4\",\"#abdda4\",\"#abdda4\",\"#abdda4\",\"#abdda4\",\"#abdda4\",\"#abdda4\",\"#abdda4\",\"#abdda4\",\"#abdda4\",\"#66c2a5\",\"#3288bd\",\"#3288bd\",\"#3288bd\",\"#3288bd\",\"#3288bd\",\"#3288bd\",\"#66c2a5\",\"#66c2a5\",\"#e6f598\",\"#e6f598\",\"#e6f598\",\"#e6f598\",\"#e6f598\",\"#e6f598\",\"#e6f598\",\"#e6f598\",\"#e6f598\",\"#e6f598\",\"#e6f598\",\"#e6f598\",\"#66c2a5\",\"#66c2a5\",\"#66c2a5\",\"#abdda4\",\"#66c2a5\",\"#66c2a5\",\"#3288bd\",\"#3288bd\",\"#3288bd\",\"#66c2a5\",\"#66c2a5\",\"#3288bd\",\"#3288bd\",\"#3288bd\",\"#66c2a5\",\"#66c2a5\",\"#66c2a5\",\"#66c2a5\",\"#66c2a5\",\"#66c2a5\",\"#66c2a5\",\"#66c2a5\",\"#e6f598\",\"#3288bd\",\"#3288bd\",\"#abdda4\",\"#abdda4\",\"#3288bd\",\"#3288bd\",\"#abdda4\",\"#abdda4\",\"#3288bd\",\"#66c2a5\",\"#3288bd\",\"#3288bd\"]},\"selected\":{\"id\":\"4980\"},\"selection_policy\":{\"id\":\"4979\"}},\"id\":\"4723\",\"type\":\"ColumnDataSource\"},{\"attributes\":{},\"id\":\"4978\",\"type\":\"Selection\"},{\"attributes\":{\"background_fill_alpha\":{\"value\":0.7},\"background_fill_color\":{\"value\":\"white\"},\"coordinates\":null,\"group\":null,\"source\":{\"id\":\"4765\"},\"text\":{\"field\":\"name\"},\"text_font_size\":{\"value\":\"10px\"},\"x\":{\"field\":\"x\"},\"y\":{\"field\":\"y\"}},\"id\":\"4766\",\"type\":\"LabelSet\"},{\"attributes\":{},\"id\":\"4700\",\"type\":\"LinearScale\"},{\"attributes\":{\"coordinates\":null,\"formatter\":{\"id\":\"4975\"},\"group\":null,\"major_label_policy\":{\"id\":\"4976\"},\"ticker\":{\"id\":\"4703\"}},\"id\":\"4702\",\"type\":\"LinearAxis\"},{\"attributes\":{},\"id\":\"4981\",\"type\":\"UnionRenderers\"},{\"attributes\":{},\"id\":\"4763\",\"type\":\"NodesAndLinkedEdges\"},{\"attributes\":{},\"id\":\"4977\",\"type\":\"UnionRenderers\"},{\"attributes\":{\"end\":10.1,\"start\":-10.1},\"id\":\"4691\",\"type\":\"Range1d\"},{\"attributes\":{\"fill_color\":{\"value\":\"white\"},\"line_width\":{\"value\":2},\"size\":{\"field\":\"adjusted_node_size\"}},\"id\":\"4736\",\"type\":\"Circle\"},{\"attributes\":{\"source\":{\"id\":\"4723\"}},\"id\":\"4725\",\"type\":\"CDSView\"},{\"attributes\":{},\"id\":\"4982\",\"type\":\"Selection\"},{\"attributes\":{},\"id\":\"4972\",\"type\":\"BasicTickFormatter\"},{\"attributes\":{\"fill_color\":{\"value\":\"white\"},\"line_width\":{\"value\":2},\"size\":{\"field\":\"adjusted_node_size\"}},\"id\":\"4741\",\"type\":\"Circle\"},{\"attributes\":{\"data\":{\"Weight\":[5,31,30,4,4,8,25,43,11,11,52,7,5,6,34,12,36,6,10,5,13,18,6,5,8,11,19,36,6,6,4,88,5,4,6,15,16,11,11,7,17,5,8,31,15,10,13,10,4,16,5,10,5,6,6,5,4,5,4,6,5,9,11,5,5,46,54,5,4,12,77,4,31,5,5,5,4,22,5,5,11,6,9,7,5,25,12,28,11,6,4,21,6,18,39,4,4,12,5,4,16,7,13,14,5,6,4,5,5,15,4,4,6,4,5,9,15,4,69,11,8,7,10,9,7,8,12,5,24,4,6,6,11,23,9,6,5,43,7,6,7,8,5,46,18,18,15,22,4,4,21,8,15,96,46,12,4,54,14,35,11,4,15,23,10,4,5,8,7,4,17,4,5,4,4,6,7,23,10,4,6,4,4,6,4,16,7,5,5,9,7,7,12,5,4,8,7,28,5,5,14,10,9,10,35,8,7,6,4,9,8,4,7,6,31,20,9,16,8,12,54,14,4,8,8,15,7,4,4,4,5,4,4,10,6,4,6,4,7,9,5,8,14,18,10,26,13,20,11,5,35,41,5,33,4,11,7,6,5,19,4,8,4,4,10,12,19,9,26,6,6,16,9,10,8,5,43,6,8,4,5,16,9,32,6,18,5,10,29,9,28,5,28,13,4,7,15,4,6,5,36,9,4,7,4,6,8,32,20,15,7,5,4,4,8,5,4,6,17,4,5,14,7,18,7,6,17,4,8,47,10,26,7,12,8,14,5,7,4,16,30,5,7,5,5,5,7,7,6,7,9,4],\"end\":[\"Grenn\",\"Samwell\",\"Jon\",\"Robert\",\"Stannis\",\"Eddison\",\"Jon\",\"Samwell\",\"Bran\",\"Jojen\",\"Jon\",\"Meera\",\"Melisandre\",\"Bowen\",\"Craster\",\"Eddison\",\"Gilly\",\"Janos\",\"Mance\",\"Qhorin\",\"Stannis\",\"Jaime\",\"Robert\",\"Tyrion\",\"Tywin\",\"Arya\",\"Catelyn\",\"Cersei\",\"Eddard\",\"Balon\",\"Barristan\",\"Brienne\",\"Edmure\",\"Elia\",\"Gregor\",\"Joffrey\",\"Loras\",\"Meryn\",\"Qyburn\",\"Renly\",\"Robert\",\"Stannis\",\"Tommen\",\"Tyrion\",\"Robb\",\"Sansa\",\"Tywin\",\"Walton\",\"Arya\",\"Cersei\",\"Daenerys\",\"Eddard\",\"Jon\",\"Jon Arryn\",\"Rhaegar\",\"Barristan\",\"Renly\",\"Stannis\",\"Thoros\",\"Sandor\",\"Sansa\",\"Tyrion\",\"Tywin\",\"Arya\",\"Catelyn\",\"Cersei\",\"Joffrey\",\"Lysa\",\"Myrcella\",\"Robb\",\"Sansa\",\"Balon\",\"Bronn\",\"Chataya\",\"Doran\",\"Elia\",\"Ellaria\",\"Gregor\",\"Ilyn\",\"Janos\",\"Kevan\",\"Loras\",\"Mace\",\"Margaery\",\"Meryn\",\"Oberyn\",\"Petyr\",\"Podrick\",\"Pycelle\",\"Renly\",\"Sandor\",\"Shae\",\"Stannis\",\"Varys\",\"Tywin\",\"Viserys\",\"Lysa\",\"Robb\",\"Balon\",\"Brynden\",\"Cersei\",\"Gregor\",\"Joffrey\",\"Kevan\",\"Mace\",\"Oberyn\",\"Petyr\",\"Podrick\",\"Pycelle\",\"Stannis\",\"Tommen\",\"Val\",\"Varys\",\"Walder\",\"Mance\",\"Janos\",\"Jon\",\"Janos\",\"Jon\",\"Craster\",\"Dalla\",\"Gilly\",\"Qhorin\",\"Rattleshirt\",\"Styr\",\"Val\",\"Ygritte\",\"Oberyn\",\"Gregor\",\"Joffrey\",\"Ellaria\",\"Mace\",\"Anguy\",\"Beric\",\"Bran\",\"Brynden\",\"Cersei\",\"Gendry\",\"Gregor\",\"Joffrey\",\"Jon\",\"Rickon\",\"Roose\",\"Sandor\",\"Thoros\",\"Eddard\",\"Robb\",\"Sansa\",\"Beric\",\"Gendry\",\"Thoros\",\"Eddard\",\"Sandor\",\"Hodor\",\"Jojen\",\"Jon\",\"Luwin\",\"Meera\",\"Nan\",\"Rickon\",\"Theon\",\"Catelyn\",\"Eddard\",\"Robb\",\"Sansa\",\"Lothar\",\"Walder\",\"Catelyn\",\"Edmure\",\"Rickard\",\"Robb\",\"Catelyn\",\"Brienne\",\"Bronn\",\"Elia\",\"Gregor\",\"Ilyn\",\"Joffrey\",\"Meryn\",\"Pycelle\",\"Sandor\",\"Shae\",\"Varys\",\"Eddard\",\"Lysa\",\"Sansa\",\"Thoros\",\"Sandor\",\"Bronn\",\"Elia\",\"Ilyn\",\"Meryn\",\"Sandor\",\"Joffrey\",\"Ilyn\",\"Kevan\",\"Loras\",\"Margaery\",\"Meryn\",\"Myrcella\",\"Sandor\",\"Stannis\",\"Tommen\",\"Robb\",\"Sansa\",\"Eddard\",\"Craster\",\"Dalla\",\"Eddison\",\"Gilly\",\"Janos\",\"Meera\",\"Melisandre\",\"Orell\",\"Qhorin\",\"Rattleshirt\",\"Stannis\",\"Styr\",\"Theon\",\"Val\",\"Ygritte\",\"Robb\",\"Sansa\",\"Eddard\",\"Theon\",\"Robb\",\"Sansa\",\"Catelyn\",\"Robb\",\"Brienne\",\"Eddard\",\"Ilyn\",\"Meryn\",\"Thoros\",\"Sansa\",\"Loras\",\"Robb\",\"Stannis\",\"Brienne\",\"Margaery\",\"Olenna\",\"Renly\",\"Sansa\",\"Barristan\",\"Illyrio\",\"Daenerys\",\"Jorah\",\"Daenerys\",\"Jorah\",\"Rhaegar\",\"Jojen\",\"Meera\",\"Robb\",\"Meera\",\"Nan\",\"Robb\",\"Catelyn\",\"Robb\",\"Sansa\",\"Podrick\",\"Margaery\",\"Sansa\",\"Edmure\",\"Roslin\",\"Robb\",\"Walder\",\"Catelyn\",\"Edmure\",\"Robb\",\"Petyr\",\"Roslin\",\"Edmure\",\"Hoster\",\"Jeyne\",\"Lysa\",\"Petyr\",\"Robb\",\"Roslin\",\"Sansa\",\"Stannis\",\"Eddard\",\"Roslin\",\"Hoster\",\"Robb\",\"Lysa\",\"Robb\",\"Jon Arryn\",\"Marillion\",\"Petyr\",\"Robert Arryn\",\"Sansa\",\"Robb\",\"Sansa\",\"Eddard\",\"Ramsay\",\"Rickard\",\"Sansa\",\"Stannis\",\"Eddard\",\"Kevan\",\"Margaery\",\"Marillion\",\"Myrcella\",\"Olenna\",\"Renly\",\"Robert Arryn\",\"Shae\",\"Davos\",\"Melisandre\",\"Renly\",\"Rhaegar\",\"Meryn\",\"Varys\",\"Chataya\",\"Varys\",\"Kevan\",\"Renly\",\"Karl\",\"Gilly\",\"Drogo\",\"Irri\",\"Daenerys\",\"Jorah\",\"Daenerys\",\"Irri\",\"Jorah\",\"Daenerys\",\"Missandei\",\"Aegon\",\"Jorah\",\"Kraznys\",\"Missandei\",\"Rakharo\",\"Rhaegar\",\"Viserys\",\"Worm\",\"Rhaegar\",\"Viserys\",\"Cressen\",\"Salladhor\",\"Melisandre\",\"Shireen\",\"Margaery\",\"Myrcella\",\"Margaery\",\"Bowen\",\"Lancel\",\"Val\",\"Rattleshirt\",\"Ygritte\",\"Ygritte\",\"Robert Arryn\"],\"start\":[\"Aemon\",\"Aemon\",\"Aemon\",\"Aemon\",\"Aemon\",\"Grenn\",\"Grenn\",\"Grenn\",\"Samwell\",\"Samwell\",\"Samwell\",\"Samwell\",\"Samwell\",\"Samwell\",\"Samwell\",\"Samwell\",\"Samwell\",\"Samwell\",\"Samwell\",\"Samwell\",\"Samwell\",\"Aerys\",\"Aerys\",\"Aerys\",\"Aerys\",\"Jaime\",\"Jaime\",\"Jaime\",\"Jaime\",\"Jaime\",\"Jaime\",\"Jaime\",\"Jaime\",\"Jaime\",\"Jaime\",\"Jaime\",\"Jaime\",\"Jaime\",\"Jaime\",\"Jaime\",\"Jaime\",\"Jaime\",\"Jaime\",\"Jaime\",\"Jaime\",\"Jaime\",\"Jaime\",\"Jaime\",\"Robert\",\"Robert\",\"Robert\",\"Robert\",\"Robert\",\"Robert\",\"Robert\",\"Robert\",\"Robert\",\"Robert\",\"Robert\",\"Robert\",\"Robert\",\"Robert\",\"Robert\",\"Tyrion\",\"Tyrion\",\"Tyrion\",\"Tyrion\",\"Tyrion\",\"Tyrion\",\"Tyrion\",\"Tyrion\",\"Tyrion\",\"Tyrion\",\"Tyrion\",\"Tyrion\",\"Tyrion\",\"Tyrion\",\"Tyrion\",\"Tyrion\",\"Tyrion\",\"Tyrion\",\"Tyrion\",\"Tyrion\",\"Tyrion\",\"Tyrion\",\"Tyrion\",\"Tyrion\",\"Tyrion\",\"Tyrion\",\"Tyrion\",\"Tyrion\",\"Tyrion\",\"Tyrion\",\"Tyrion\",\"Tyrion\",\"Tyrion\",\"Tywin\",\"Tywin\",\"Tywin\",\"Tywin\",\"Tywin\",\"Tywin\",\"Tywin\",\"Tywin\",\"Tywin\",\"Tywin\",\"Tywin\",\"Tywin\",\"Tywin\",\"Tywin\",\"Tywin\",\"Tywin\",\"Tywin\",\"Tywin\",\"Alliser\",\"Alliser\",\"Alliser\",\"Mance\",\"Mance\",\"Mance\",\"Mance\",\"Mance\",\"Mance\",\"Mance\",\"Mance\",\"Mance\",\"Mance\",\"Amory\",\"Oberyn\",\"Oberyn\",\"Oberyn\",\"Oberyn\",\"Arya\",\"Arya\",\"Arya\",\"Arya\",\"Arya\",\"Arya\",\"Arya\",\"Arya\",\"Arya\",\"Arya\",\"Arya\",\"Arya\",\"Arya\",\"Arya\",\"Arya\",\"Arya\",\"Anguy\",\"Beric\",\"Beric\",\"Beric\",\"Beric\",\"Bran\",\"Bran\",\"Bran\",\"Bran\",\"Bran\",\"Bran\",\"Bran\",\"Bran\",\"Bran\",\"Bran\",\"Bran\",\"Bran\",\"Brynden\",\"Brynden\",\"Brynden\",\"Brynden\",\"Brynden\",\"Brynden\",\"Cersei\",\"Cersei\",\"Cersei\",\"Cersei\",\"Cersei\",\"Cersei\",\"Cersei\",\"Cersei\",\"Cersei\",\"Cersei\",\"Cersei\",\"Cersei\",\"Cersei\",\"Cersei\",\"Cersei\",\"Gendry\",\"Gendry\",\"Gregor\",\"Gregor\",\"Gregor\",\"Gregor\",\"Gregor\",\"Gregor\",\"Joffrey\",\"Joffrey\",\"Joffrey\",\"Joffrey\",\"Joffrey\",\"Joffrey\",\"Joffrey\",\"Joffrey\",\"Joffrey\",\"Joffrey\",\"Joffrey\",\"Jon\",\"Jon\",\"Jon\",\"Jon\",\"Jon\",\"Jon\",\"Jon\",\"Jon\",\"Jon\",\"Jon\",\"Jon\",\"Jon\",\"Jon\",\"Jon\",\"Jon\",\"Jon\",\"Jon\",\"Jon\",\"Rickon\",\"Rickon\",\"Rickon\",\"Rickon\",\"Roose\",\"Roose\",\"Roose\",\"Sandor\",\"Sandor\",\"Sandor\",\"Sandor\",\"Sandor\",\"Balon\",\"Balon\",\"Balon\",\"Loras\",\"Loras\",\"Loras\",\"Loras\",\"Loras\",\"Belwas\",\"Belwas\",\"Belwas\",\"Belwas\",\"Barristan\",\"Barristan\",\"Barristan\",\"Hodor\",\"Hodor\",\"Hodor\",\"Jojen\",\"Luwin\",\"Theon\",\"Brienne\",\"Brienne\",\"Brienne\",\"Bronn\",\"Podrick\",\"Podrick\",\"Lothar\",\"Lothar\",\"Lothar\",\"Lothar\",\"Walder\",\"Walder\",\"Walder\",\"Walder\",\"Walder\",\"Catelyn\",\"Catelyn\",\"Catelyn\",\"Catelyn\",\"Catelyn\",\"Catelyn\",\"Catelyn\",\"Catelyn\",\"Catelyn\",\"Catelyn\",\"Edmure\",\"Edmure\",\"Edmure\",\"Hoster\",\"Jeyne\",\"Lysa\",\"Lysa\",\"Lysa\",\"Lysa\",\"Lysa\",\"Petyr\",\"Petyr\",\"Robb\",\"Robb\",\"Robb\",\"Robb\",\"Robb\",\"Sansa\",\"Sansa\",\"Sansa\",\"Sansa\",\"Sansa\",\"Sansa\",\"Sansa\",\"Sansa\",\"Sansa\",\"Stannis\",\"Stannis\",\"Stannis\",\"Elia\",\"Ilyn\",\"Pycelle\",\"Shae\",\"Shae\",\"Varys\",\"Varys\",\"Craster\",\"Craster\",\"Daario\",\"Daario\",\"Daario\",\"Daario\",\"Drogo\",\"Drogo\",\"Drogo\",\"Irri\",\"Irri\",\"Daenerys\",\"Daenerys\",\"Daenerys\",\"Daenerys\",\"Daenerys\",\"Daenerys\",\"Daenerys\",\"Daenerys\",\"Jorah\",\"Rhaegar\",\"Davos\",\"Davos\",\"Davos\",\"Davos\",\"Renly\",\"Tommen\",\"Tommen\",\"Janos\",\"Kevan\",\"Dalla\",\"Qhorin\",\"Qhorin\",\"Rattleshirt\",\"Marillion\"]},\"selected\":{\"id\":\"4982\"},\"selection_policy\":{\"id\":\"4981\"}},\"id\":\"4727\",\"type\":\"ColumnDataSource\"},{\"attributes\":{\"source\":{\"id\":\"4727\"}},\"id\":\"4729\",\"type\":\"CDSView\"},{\"attributes\":{\"active_scroll\":{\"id\":\"4711\"},\"tools\":[{\"id\":\"4710\"},{\"id\":\"4711\"},{\"id\":\"4712\"},{\"id\":\"4713\"},{\"id\":\"4714\"}]},\"id\":\"4715\",\"type\":\"Toolbar\"}],\"root_ids\":[\"4693\"]},\"title\":\"Bokeh Application\",\"version\":\"2.4.0\"}};\n",
       "  const render_items = [{\"docid\":\"51b0b651-1515-47f0-91f5-d3fa7d0a75c8\",\"root_ids\":[\"4693\"],\"roots\":{\"4693\":\"7174fd67-2561-4c5b-8630-a0a462b09780\"}}];\n",
       "  root.Bokeh.embed.embed_items_notebook(docs_json, render_items);\n",
       "\n",
       "  }\n",
       "  if (root.Bokeh !== undefined) {\n",
       "    embed_document(root);\n",
       "  } else {\n",
       "    let attempts = 0;\n",
       "    const timer = setInterval(function(root) {\n",
       "      if (root.Bokeh !== undefined) {\n",
       "        clearInterval(timer);\n",
       "        embed_document(root);\n",
       "      } else {\n",
       "        attempts++;\n",
       "        if (attempts > 100) {\n",
       "          clearInterval(timer);\n",
       "          console.log(\"Bokeh: ERROR: Unable to run BokehJS code because BokehJS library is missing\");\n",
       "        }\n",
       "      }\n",
       "    }, 10, root)\n",
       "  }\n",
       "})(window);"
      ],
      "application/vnd.bokehjs_exec.v0+json": ""
     },
     "metadata": {
      "application/vnd.bokehjs_exec.v0+json": {
       "id": "4693"
      }
     },
     "output_type": "display_data"
    },
    {
     "name": "stderr",
     "output_type": "stream",
     "text": [
      "/opt/conda/lib/python3.9/site-packages/bokeh/io/saving.py:142: UserWarning: save() called but no resources were supplied and output_file(...) was never called, defaulting to resources.CDN\n",
      "  warn(\"save() called but no resources were supplied and output_file(...) was never called, defaulting to resources.CDN\")\n",
      "/opt/conda/lib/python3.9/site-packages/bokeh/io/saving.py:154: UserWarning: save() called but no title was supplied and output_file(...) was never called, using default title 'Bokeh Plot'\n",
      "  warn(\"save() called but no title was supplied and output_file(...) was never called, using default title 'Bokeh Plot'\")\n"
     ]
    },
    {
     "data": {
      "text/plain": [
       "'/home/jovyan/non-data-viz/oarc-22s-python-data-viz-2/Game of Thrones Network.html'"
      ]
     },
     "execution_count": 48,
     "metadata": {},
     "output_type": "execute_result"
    }
   ],
   "source": [
    "#Choose colors for node and edge highlighting\n",
    "node_highlight_color = 'white'\n",
    "edge_highlight_color = 'black'\n",
    "\n",
    "#Choose attributes from G network to size and color by — setting manual size (e.g. 10) or color (e.g. 'skyblue') also allowed\n",
    "size_by_this_attribute = 'adjusted_node_size'\n",
    "color_by_this_attribute = 'modularity_color'\n",
    "\n",
    "#Pick a color palette — Blues8, Reds8, Purples8, Oranges8, Viridis8\n",
    "color_palette = Blues8\n",
    "\n",
    "#Choose a title!\n",
    "title = 'Game of Thrones Network'\n",
    "\n",
    "#Establish which categories will appear when hovering over each node\n",
    "HOVER_TOOLTIPS = [\n",
    "    (\"Character\", \"@index\"),\n",
    "    (\"Degree\", \"@degree\"),\n",
    "    (\"Modularity Class\", \"@modularity_class\"),\n",
    "    (\"Modularity Color\", \"$color[swatch]:modularity_color\"),\n",
    "]\n",
    "\n",
    "#Create a plot — set dimensions, toolbar, and title\n",
    "plot = figure(tooltips = HOVER_TOOLTIPS,\n",
    "              tools=\"pan,wheel_zoom,save,reset\", active_scroll='wheel_zoom',\n",
    "              x_range=Range1d(-10.1, 10.1), y_range=Range1d(-10.1, 10.1), title=title)\n",
    "\n",
    "#Create a network graph object\n",
    "# https://networkx.github.io/documentation/networkx-1.9/reference/generated/networkx.drawing.layout.spring_layout.html\n",
    "network_graph = from_networkx(G, nx.spring_layout, scale=10, center=(0, 0))\n",
    "\n",
    "#Set node sizes and colors according to node degree (color as category from attribute)\n",
    "network_graph.node_renderer.glyph = Circle(size=size_by_this_attribute, fill_color=color_by_this_attribute)\n",
    "#Set node highlight colors\n",
    "network_graph.node_renderer.hover_glyph = Circle(size=size_by_this_attribute, fill_color=node_highlight_color, line_width=2)\n",
    "network_graph.node_renderer.selection_glyph = Circle(size=size_by_this_attribute, fill_color=node_highlight_color, line_width=2)\n",
    "\n",
    "#Set edge opacity and width\n",
    "network_graph.edge_renderer.glyph = MultiLine(line_alpha=0.3, line_width=1)\n",
    "#Set edge highlight colors\n",
    "network_graph.edge_renderer.selection_glyph = MultiLine(line_color=edge_highlight_color, line_width=2)\n",
    "network_graph.edge_renderer.hover_glyph = MultiLine(line_color=edge_highlight_color, line_width=2)\n",
    "\n",
    "#Highlight nodes and edges\n",
    "network_graph.selection_policy = NodesAndLinkedEdges()\n",
    "network_graph.inspection_policy = NodesAndLinkedEdges()\n",
    "\n",
    "plot.renderers.append(network_graph)\n",
    "\n",
    "#Add Labels\n",
    "x, y = zip(*network_graph.layout_provider.graph_layout.values())\n",
    "node_labels = list(G.nodes())\n",
    "source = ColumnDataSource({'x': x, 'y': y, 'name': [node_labels[i] for i in range(len(x))]})\n",
    "labels = LabelSet(x='x', y='y', text='name', source=source, background_fill_color='white', text_font_size='10px', background_fill_alpha=.7)\n",
    "plot.renderers.append(labels)\n",
    "\n",
    "show(plot)\n",
    "save(plot, filename=f\"{title}.html\")"
   ]
  }
 ],
 "metadata": {
  "kernelspec": {
   "display_name": "Python 3 (ipykernel)",
   "language": "python",
   "name": "python3"
  },
  "language_info": {
   "codemirror_mode": {
    "name": "ipython",
    "version": 3
   },
   "file_extension": ".py",
   "mimetype": "text/x-python",
   "name": "python",
   "nbconvert_exporter": "python",
   "pygments_lexer": "ipython3",
   "version": "3.9.6"
  }
 },
 "nbformat": 4,
 "nbformat_minor": 5
}
