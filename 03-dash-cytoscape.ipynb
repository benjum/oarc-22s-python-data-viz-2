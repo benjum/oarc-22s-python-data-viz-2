{
 "cells": [
  {
   "cell_type": "markdown",
   "id": "1911a723-351e-42bc-ad8f-2c71cc77d96e",
   "metadata": {},
   "source": [
    "## Dash Cytoscape"
   ]
  },
  {
   "cell_type": "markdown",
   "id": "895c5e81-7fed-4e17-b149-79d207bdd8b2",
   "metadata": {},
   "source": [
    "\"Dash Cytoscape is a graph visualization component for creating easily customizable, high-performance, interactive, and web-based networks. It extends and renders Cytoscape.js, and offers deep integration with Dash layouts and callbacks, enabling the creation of powerful networks in conjunction with the rich collection of Dash components , as well as established computational biology and network science libraries such as Biopython and networkX.\"\n",
    "\n",
    "-- xhlulu and the Dash Team\n",
    "\n",
    "https://dash.plotly.com/cytoscape\n",
    "\n",
    "* An open-source product of Plotly, Inc., that is built on top of Javascript (plotly.js).\n",
    "* Enables Python users to create beautiful interactive web-based visualizations that can be displayed in Jupyter notebooks, saved to standalone HTML files, or served as part of pure Python-built web applications using Dash.\n",
    "* Also has a version for R, as well as other web visualization products\n",
    "* Dash Cytoscape extends and renders [Cytoscape.js](https://js.cytoscape.org/): a graph theory (network) library for visualisation and analysis\n",
    "\n",
    "Includes:\n",
    "* basic elements\n",
    "* variety of fundamental layouts and ability to modify properties\n",
    "* styling (with CSS-like syntax)\n",
    "* callbacks\n",
    "  * interactively change layouts, styling, add/remove elements\n",
    "* event and user interaction"
   ]
  },
  {
   "cell_type": "code",
   "execution_count": 1,
   "id": "5f7bd083-0425-406e-897a-d5d8045945ea",
   "metadata": {},
   "outputs": [],
   "source": [
    "import dash\n",
    "import dash_cytoscape as cyto\n",
    "from dash import html, dcc\n",
    "from dash.dependencies import Input, Output\n",
    "from jupyter_dash import JupyterDash\n",
    "from jupyter_dash.comms import _send_jupyter_config_comm_request"
   ]
  },
  {
   "cell_type": "markdown",
   "id": "6ce40717-a6e0-4567-95c0-6b04ee9457ee",
   "metadata": {},
   "source": [
    "The following 2 cells are very particular to getting JupyterDash to run for you through the JupyterHub proxy."
   ]
  },
  {
   "cell_type": "code",
   "execution_count": 2,
   "id": "98575e21-84bb-4563-a4fc-63cdd5b01a6a",
   "metadata": {},
   "outputs": [],
   "source": [
    "_send_jupyter_config_comm_request()"
   ]
  },
  {
   "cell_type": "code",
   "execution_count": 4,
   "id": "3af0ddf5-62c8-43e7-bf39-c4c295ab88c0",
   "metadata": {},
   "outputs": [],
   "source": [
    "JupyterDash.infer_jupyter_proxy_config()"
   ]
  },
  {
   "cell_type": "markdown",
   "id": "4ac59640-79d4-4757-a3bd-e8f581bb1795",
   "metadata": {},
   "source": [
    "And now we resume as normal."
   ]
  },
  {
   "cell_type": "code",
   "execution_count": 5,
   "id": "057a65b6-5339-43ce-a7e7-26054079bd65",
   "metadata": {},
   "outputs": [],
   "source": [
    "nodelist = [1,2,3,4,5,6]\n",
    "edgelist = [(1,2),(1,3),(1,4),(1,5),(1,6),(2,3)]\n",
    "\n",
    "graphitems = []\n",
    "\n",
    "for i in nodelist:\n",
    "#     this won't work -> must be strings\n",
    "#     dashnode = {'data': {'id':i, 'label':i}}\n",
    "    dashnode = {'data': {'id': str(i), 'label': str(i)}}\n",
    "    graphitems.append(dashnode)\n",
    "\n",
    "for i in edgelist:\n",
    "    dashedge = {'data': {'source': str(i[0]), 'target': str(i[1])}}\n",
    "    graphitems.append(dashedge)"
   ]
  },
  {
   "cell_type": "code",
   "execution_count": 6,
   "id": "ff1b5e38-23c7-44cf-8275-548d161e7d9a",
   "metadata": {},
   "outputs": [
    {
     "data": {
      "text/plain": [
       "[{'data': {'id': '1', 'label': '1'}},\n",
       " {'data': {'id': '2', 'label': '2'}},\n",
       " {'data': {'id': '3', 'label': '3'}},\n",
       " {'data': {'id': '4', 'label': '4'}},\n",
       " {'data': {'id': '5', 'label': '5'}},\n",
       " {'data': {'id': '6', 'label': '6'}},\n",
       " {'data': {'source': '1', 'target': '2'}},\n",
       " {'data': {'source': '1', 'target': '3'}},\n",
       " {'data': {'source': '1', 'target': '4'}},\n",
       " {'data': {'source': '1', 'target': '5'}},\n",
       " {'data': {'source': '1', 'target': '6'}},\n",
       " {'data': {'source': '2', 'target': '3'}}]"
      ]
     },
     "execution_count": 6,
     "metadata": {},
     "output_type": "execute_result"
    }
   ],
   "source": [
    "graphitems"
   ]
  },
  {
   "cell_type": "code",
   "execution_count": 7,
   "id": "f3681451-3e80-4961-b0b2-7cadf7cdb7d2",
   "metadata": {},
   "outputs": [],
   "source": [
    "app = JupyterDash(__name__)"
   ]
  },
  {
   "cell_type": "code",
   "execution_count": 8,
   "id": "6d4379a2-e1c8-4733-a13b-31e8870eb726",
   "metadata": {},
   "outputs": [],
   "source": [
    "app.layout = html.Div([\n",
    "    cyto.Cytoscape(\n",
    "        layout={'name': 'cose'},\n",
    "        elements=graphitems\n",
    "    )\n",
    "])"
   ]
  },
  {
   "cell_type": "code",
   "execution_count": 9,
   "id": "6bd38922-01c7-449f-921a-fed0e0be28c1",
   "metadata": {},
   "outputs": [
    {
     "name": "stdout",
     "output_type": "stream",
     "text": [
      "Dash app running on https://jupyter.idre.ucla.edu/user/bwinjum@g.ucla.edu/proxy/8050/\n"
     ]
    }
   ],
   "source": [
    "app.run_server(debug=True)"
   ]
  },
  {
   "cell_type": "code",
   "execution_count": 10,
   "id": "ab16a565-3f3f-4daf-af7a-2ab0919da057",
   "metadata": {},
   "outputs": [
    {
     "name": "stderr",
     "output_type": "stream",
     "text": [
      "/opt/conda/lib/python3.9/site-packages/jupyter_dash/jupyter_app.py:139: UserWarning:\n",
      "\n",
      "The 'environ['werkzeug.server.shutdown']' function is deprecated and will be removed in Werkzeug 2.1.\n",
      "\n"
     ]
    },
    {
     "name": "stdout",
     "output_type": "stream",
     "text": [
      "Dash app running on https://jupyter.idre.ucla.edu/user/bwinjum@g.ucla.edu/proxy/8050/\n"
     ]
    }
   ],
   "source": [
    "app = JupyterDash(__name__)\n",
    "\n",
    "app.layout = html.Div([\n",
    "\n",
    "    # add dropdown element for selecting different graph layouts\n",
    "    dcc.Dropdown(\n",
    "        id='dropdown-update-layout',\n",
    "        value='cose',\n",
    "        options=[\n",
    "            {'label': 'Grid', 'value': 'grid'},\n",
    "            {'label': 'Random', 'value': 'random'},\n",
    "            {'label': 'Circle', 'value': 'circle'},\n",
    "            {'label': 'Cose', 'value': 'cose'},\n",
    "            {'label': 'Concentric', 'value': 'concentric'}\n",
    "        ]\n",
    "    ),\n",
    "    cyto.Cytoscape(\n",
    "        id='cytoscape-compound',\n",
    "        layout={'name': 'cose'},\n",
    "        elements=graphitems\n",
    "    )\n",
    "])\n",
    "\n",
    "# this is a function decorator\n",
    "# it adds functionality that allows information to be passed\n",
    "# in from the \"value\" variable of the element with id=\"dropdown-update-layout\"\n",
    "# and sends output to the \"layout\" variable of the element with id=\"cytoscape-compound\"\n",
    "@app.callback(Output('cytoscape-compound', 'layout'),\n",
    "              Input('dropdown-update-layout', 'value'))\n",
    "def update_layout(layout):\n",
    "    return {'name': layout}\n",
    "\n",
    "app.run_server(debug=True)"
   ]
  },
  {
   "cell_type": "code",
   "execution_count": 11,
   "id": "f6206958-ae3b-44be-902f-c5f9abc4d23f",
   "metadata": {},
   "outputs": [
    {
     "name": "stdout",
     "output_type": "stream",
     "text": [
      "Dash app running on https://jupyter.idre.ucla.edu/user/bwinjum@g.ucla.edu/proxy/8050/\n"
     ]
    }
   ],
   "source": [
    "app = JupyterDash(__name__)\n",
    "\n",
    "app.layout = html.Div([\n",
    "    dcc.Dropdown(\n",
    "        id='dropdown-update-layout',\n",
    "        value='cose',\n",
    "        options=[\n",
    "            {'label': 'Grid', 'value': 'grid'},\n",
    "            {'label': 'Random', 'value': 'random'},\n",
    "            {'label': 'Circle', 'value': 'circle'},\n",
    "            {'label': 'Cose', 'value': 'cose'},\n",
    "            {'label': 'Concentric', 'value': 'concentric'}\n",
    "        ]\n",
    "    ),\n",
    "    cyto.Cytoscape(\n",
    "        id='cytoscape-compound',\n",
    "        layout={'name': 'cose'},\n",
    "        elements=graphitems,\n",
    "        \n",
    "        # adding in some styling with css-like stylesheet\n",
    "        stylesheet=[\n",
    "            {\n",
    "                'selector': 'node',\n",
    "                'style': {\n",
    "                    'background-color': 'red',\n",
    "                    'content': 'data(label)',\n",
    "                }\n",
    "            },\n",
    "        ]\n",
    "    )\n",
    "])\n",
    "\n",
    "@app.callback(Output('cytoscape-compound', 'layout'),\n",
    "              Input('dropdown-update-layout', 'value'))\n",
    "def update_layout(layout):\n",
    "    return {'name': layout}\n",
    "\n",
    "app.run_server(debug=True)"
   ]
  },
  {
   "cell_type": "markdown",
   "id": "1f6af487-6ec8-48f1-bb96-1c5abffb5402",
   "metadata": {},
   "source": [
    "## Macbeth"
   ]
  },
  {
   "cell_type": "code",
   "execution_count": 12,
   "id": "417dd5cd-1671-499d-9090-0c3456c93f5e",
   "metadata": {},
   "outputs": [],
   "source": [
    "with open('data/Macbeth.txt') as f:\n",
    "    x = f.read()"
   ]
  },
  {
   "cell_type": "code",
   "execution_count": 13,
   "id": "a9b52cbe-b9b2-4ac5-8824-5d34fbd55a8a",
   "metadata": {
    "tags": []
   },
   "outputs": [
    {
     "data": {
      "text/plain": [
       "'MACBETH\\n\\nby William Shakespeare\\n\\nContents\\n\\nACT I\\nScene I. An open Place.\\nScene II. A Camp near Forres.\\nScene III. A heath.\\nScene IV. Forres. A Room in the Palace.\\nScene V. Inverness. A Room in Macbeth’s Castle.\\nScene VI. The same. Before the Castle.\\nScene VII. The same. A Lobby in the Castle.\\n\\n\\nACT II\\nScene I. Inverness. Court within the Castle.\\nScene II. The same.\\nScene III. The same.\\nScene IV. The same. Without the Castle.\\n\\n\\nACT III\\nScene I. Forres. A Room in the Palace.\\nScene II. The same. Another Room in the Palace.\\nScene III. The same. A Park or Lawn, with a gate leading to the Palace.\\nScene IV. The same. A Room of state in the Palace.\\nScene V. The heath.\\nScene VI. Forres. A Room in the Palace.\\n\\n\\nACT IV\\nScene I. A dark Cave. In the middle, a Cauldron Boiling.\\nScene II. Fife. A Room in Macduff’s Castle.\\nScene III. England. Before the King’s Palace.\\n\\n\\nACT V\\nScene I. Dunsinane. A Room in the Castle.\\nScene II. The Country near Dunsinane.\\nScene III. Dunsinane. A Room in the Castle.\\nScene IV. Country near Dunsinane: a Wood in view.\\nScene V. Dunsinane. Within the castle.\\nScene VI. The same. A Plain before the Castle.\\nScene VII. The same. Another part of the Plain.\\nScene VIII. The same. Another part of the field.\\n\\n\\n\\nDramatis Personæ\\n\\nDUNCAN, King of Scotland.\\nMALCOLM, his Son.\\nDONALBAIN, his Son.\\nMACBETH, General in the King’s Army.\\nBANQUO, General in the King’s Army.\\nMACDUFF, Nobleman of Scotland.\\nLENNOX, Nobleman of Scotland.\\nROSS, Nobleman of Scotland.\\nMENTEITH, Nobleman of Scotland.\\nANGUS, Nobleman of Scotland.\\nCAITHNESS, Nobleman of Scotland.\\nFLEANCE, Son to Banquo.\\nSIWARD, Earl of Northumberland, General of the English Forces.\\nYOUNG SIWARD, his Son.\\nSEYTON, an Officer attending on Macbeth.\\nBOY, Son to Macduff.\\nAn English Doctor.\\nA Scottish Doctor.\\nA Soldier.\\nA Porter.\\nAn Old Man.\\n\\nLADY MACBETH.\\nLADY MACDUFF.\\nGentlewoman attending on Lady Macbeth.\\nHECATE, and three Witches.\\n\\nLords, Gentlemen, Officers, Soldiers, Murderers, Attendants and\\nMessengers.\\n\\nThe Ghost of Banquo and several other Apparitions.\\n\\nSCENE: In the end of the Fourth Act, in England; through the rest of\\nthe Play, in Scotland; and chiefly at Macbeth’s Castle.\\n\\n\\nACT I\\n\\nSCENE I. An open Place.\\n\\n Thunder and Lightning. Enter three Witches.\\n\\nFIRST WITCH.\\nWhen shall we three meet again?\\nIn thunder, lightning, or in rain?\\n\\nSECOND WITCH.\\nWhen the hurlyburly’s done,\\nWhen the battle’s lost and won.\\n\\nTHIRD WITCH.\\nThat will be ere the set of sun.\\n\\nFIRST WITCH.\\nWhere the place?\\n\\nSECOND WITCH.\\nUpon the heath.\\n\\nTHIRD WITCH.\\nThere to meet with Macbeth.\\n\\nFIRST WITCH.\\nI come, Graymalkin!\\n\\nSECOND WITCH.\\nPaddock calls.\\n\\nTHIRD WITCH.\\nAnon.\\n\\nALL.\\nFair is foul, and foul is fair:\\nHover through the fog and filthy air.\\n\\n [_Exeunt._]\\n\\nSCENE II. A Camp near Forres.\\n\\n Alarum within. Enter King Duncan, Malcolm, Donalbain, Lennox, with\\n Attendants, meeting a bleeding Captain.\\n\\nDUNCAN.\\nWhat bloody man is that? He can report,\\nAs seemeth by his plight, of the revolt\\nThe newest state.\\n\\nMALCOLM.\\nThis is the sergeant\\nWho, like a good and hardy soldier, fought\\n’Gainst my captivity.—Hail, brave friend!\\nSay to the King the knowledge of the broil\\nAs thou didst leave it.\\n\\nSOLDIER.\\nDoubtful it stood;\\nAs two spent swimmers that do cling together\\nAnd choke their art. The merciless Macdonwald\\n(Worthy to be a rebel, for to that\\nThe multiplying villainies of nature\\nDo swarm upon him) from the Western Isles\\nOf kerns and gallowglasses is supplied;\\nAnd Fortune, on his damned quarrel smiling,\\nShow’d like a rebel’s whore. But all’s too weak;\\nFor brave Macbeth (well he deserves that name),\\nDisdaining Fortune, with his brandish’d steel,\\nWhich smok’d with bloody execution,\\nLike Valour’s minion, carv’d out his passage,\\nTill he fac’d the slave;\\nWhich ne’er shook hands, nor bade farewell to him,\\nTill he unseam’d him from the nave to the chops,\\nAnd fix’d his head upon our battlements.\\n\\nDUNCAN.\\nO valiant cousin! worthy gentleman!\\n\\nSOLDIER.\\nAs whence the sun ’gins his reflection\\nShipwracking storms and direful thunders break,\\nSo from that spring, whence comfort seem’d to come\\nDiscomfort swells. Mark, King of Scotland, mark:\\nNo sooner justice had, with valour arm’d,\\nCompell’d these skipping kerns to trust their heels,\\nBut the Norweyan lord, surveying vantage,\\nWith furbish’d arms and new supplies of men,\\nBegan a fresh assault.\\n\\nDUNCAN.\\nDismay’d not this\\nOur captains, Macbeth and Banquo?\\n\\nSOLDIER.\\nYes;\\nAs sparrows eagles, or the hare the lion.\\nIf I say sooth, I must report they were\\nAs cannons overcharg’d with double cracks;\\nSo they\\nDoubly redoubled strokes upon the foe:\\nExcept they meant to bathe in reeking wounds,\\nOr memorize another Golgotha,\\nI cannot tell—\\nBut I am faint, my gashes cry for help.\\n\\nDUNCAN.\\nSo well thy words become thee as thy wounds:\\nThey smack of honour both.—Go, get him surgeons.\\n\\n [_Exit Captain, attended._]\\n\\n Enter Ross and Angus.\\n\\nWho comes here?\\n\\nMALCOLM.\\nThe worthy Thane of Ross.\\n\\nLENNOX.\\nWhat a haste looks through his eyes! So should he look\\nThat seems to speak things strange.\\n\\nROSS.\\nGod save the King!\\n\\nDUNCAN.\\nWhence cam’st thou, worthy thane?\\n\\nROSS.\\nFrom Fife, great King,\\nWhere the Norweyan banners flout the sky\\nAnd fan our people cold.\\nNorway himself, with terrible numbers,\\nAssisted by that most disloyal traitor,\\nThe Thane of Cawdor, began a dismal conflict;\\nTill that Bellona’s bridegroom, lapp’d in proof,\\nConfronted him with self-comparisons,\\nPoint against point, rebellious arm ’gainst arm,\\nCurbing his lavish spirit: and, to conclude,\\nThe victory fell on us.\\n\\nDUNCAN.\\nGreat happiness!\\n\\nROSS.\\nThat now\\nSweno, the Norways’ king, craves composition;\\nNor would we deign him burial of his men\\nTill he disbursed at Saint Colme’s Inch\\nTen thousand dollars to our general use.\\n\\nDUNCAN.\\nNo more that Thane of Cawdor shall deceive\\nOur bosom interest. Go pronounce his present death,\\nAnd with his former title greet Macbeth.\\n\\nROSS.\\nI’ll see it done.\\n\\nDUNCAN.\\nWhat he hath lost, noble Macbeth hath won.\\n\\n [_Exeunt._]\\n\\nSCENE III. A heath.\\n\\n Thunder. Enter the three Witches.\\n\\nFIRST WITCH.\\nWhere hast thou been, sister?\\n\\nSECOND WITCH.\\nKilling swine.\\n\\nTHIRD WITCH.\\nSister, where thou?\\n\\nFIRST WITCH.\\nA sailor’s wife had chestnuts in her lap,\\nAnd mounch’d, and mounch’d, and mounch’d. “Give me,” quoth I.\\n“Aroint thee, witch!” the rump-fed ronyon cries.\\nHer husband’s to Aleppo gone, master o’ th’ _Tiger:_\\nBut in a sieve I’ll thither sail,\\nAnd, like a rat without a tail,\\nI’ll do, I’ll do, and I’ll do.\\n\\nSECOND WITCH.\\nI’ll give thee a wind.\\n\\nFIRST WITCH.\\nTh’art kind.\\n\\nTHIRD WITCH.\\nAnd I another.\\n\\nFIRST WITCH.\\nI myself have all the other,\\nAnd the very ports they blow,\\nAll the quarters that they know\\nI’ the shipman’s card.\\nI will drain him dry as hay:\\nSleep shall neither night nor day\\nHang upon his pent-house lid;\\nHe shall live a man forbid.\\nWeary sev’n-nights nine times nine,\\nShall he dwindle, peak, and pine:\\nThough his bark cannot be lost,\\nYet it shall be tempest-tost.\\nLook what I have.\\n\\nSECOND WITCH.\\nShow me, show me.\\n\\nFIRST WITCH.\\nHere I have a pilot’s thumb,\\nWrack’d as homeward he did come.\\n\\n [_Drum within._]\\n\\nTHIRD WITCH.\\nA drum, a drum!\\nMacbeth doth come.\\n\\nALL.\\nThe Weird Sisters, hand in hand,\\nPosters of the sea and land,\\nThus do go about, about:\\nThrice to thine, and thrice to mine,\\nAnd thrice again, to make up nine.\\nPeace!—the charm’s wound up.\\n\\n Enter Macbeth and Banquo.\\n\\nMACBETH.\\nSo foul and fair a day I have not seen.\\n\\nBANQUO.\\nHow far is’t call’d to Forres?—What are these,\\nSo wither’d, and so wild in their attire,\\nThat look not like the inhabitants o’ th’ earth,\\nAnd yet are on’t?—Live you? or are you aught\\nThat man may question? You seem to understand me,\\nBy each at once her choppy finger laying\\nUpon her skinny lips. You should be women,\\nAnd yet your beards forbid me to interpret\\nThat you are so.\\n\\nMACBETH.\\nSpeak, if you can;—what are you?\\n\\nFIRST WITCH.\\nAll hail, Macbeth! hail to thee, Thane of Glamis!\\n\\nSECOND WITCH.\\nAll hail, Macbeth! hail to thee, Thane of Cawdor!\\n\\nTHIRD WITCH.\\nAll hail, Macbeth! that shalt be king hereafter!\\n\\nBANQUO.\\nGood sir, why do you start and seem to fear\\nThings that do sound so fair?—I’ th’ name of truth,\\nAre ye fantastical, or that indeed\\nWhich outwardly ye show? My noble partner\\nYou greet with present grace and great prediction\\nOf noble having and of royal hope,\\nThat he seems rapt withal. To me you speak not.\\nIf you can look into the seeds of time,\\nAnd say which grain will grow, and which will not,\\nSpeak then to me, who neither beg nor fear\\nYour favours nor your hate.\\n\\nFIRST WITCH.\\nHail!\\n\\nSECOND WITCH.\\nHail!\\n\\nTHIRD WITCH.\\nHail!\\n\\nFIRST WITCH.\\nLesser than Macbeth, and greater.\\n\\nSECOND WITCH.\\nNot so happy, yet much happier.\\n\\nTHIRD WITCH.\\nThou shalt get kings, though thou be none:\\nSo all hail, Macbeth and Banquo!\\n\\nFIRST WITCH.\\nBanquo and Macbeth, all hail!\\n\\nMACBETH.\\nStay, you imperfect speakers, tell me more.\\nBy Sinel’s death I know I am Thane of Glamis;\\nBut how of Cawdor? The Thane of Cawdor lives,\\nA prosperous gentleman; and to be king\\nStands not within the prospect of belief,\\nNo more than to be Cawdor. Say from whence\\nYou owe this strange intelligence? or why\\nUpon this blasted heath you stop our way\\nWith such prophetic greeting?—Speak, I charge you.\\n\\n [_Witches vanish._]\\n\\nBANQUO.\\nThe earth hath bubbles, as the water has,\\nAnd these are of them. Whither are they vanish’d?\\n\\nMACBETH.\\nInto the air; and what seem’d corporal,\\nMelted as breath into the wind.\\nWould they had stay’d!\\n\\nBANQUO.\\nWere such things here as we do speak about?\\nOr have we eaten on the insane root\\nThat takes the reason prisoner?\\n\\nMACBETH.\\nYour children shall be kings.\\n\\nBANQUO.\\nYou shall be king.\\n\\nMACBETH.\\nAnd Thane of Cawdor too; went it not so?\\n\\nBANQUO.\\nTo the selfsame tune and words. Who’s here?\\n\\n Enter Ross and Angus.\\n\\nROSS.\\nThe King hath happily receiv’d, Macbeth,\\nThe news of thy success, and when he reads\\nThy personal venture in the rebels’ fight,\\nHis wonders and his praises do contend\\nWhich should be thine or his: silenc’d with that,\\nIn viewing o’er the rest o’ th’ selfsame day,\\nHe finds thee in the stout Norweyan ranks,\\nNothing afeard of what thyself didst make,\\nStrange images of death. As thick as tale\\nCame post with post; and everyone did bear\\nThy praises in his kingdom’s great defence,\\nAnd pour’d them down before him.\\n\\nANGUS.\\nWe are sent\\nTo give thee from our royal master thanks;\\nOnly to herald thee into his sight,\\nNot pay thee.\\n\\nROSS.\\nAnd, for an earnest of a greater honour,\\nHe bade me, from him, call thee Thane of Cawdor:\\nIn which addition, hail, most worthy thane,\\nFor it is thine.\\n\\nBANQUO.\\nWhat, can the devil speak true?\\n\\nMACBETH.\\nThe Thane of Cawdor lives: why do you dress me\\nIn borrow’d robes?\\n\\nANGUS.\\nWho was the Thane lives yet,\\nBut under heavy judgement bears that life\\nWhich he deserves to lose. Whether he was combin’d\\nWith those of Norway, or did line the rebel\\nWith hidden help and vantage, or that with both\\nHe labour’d in his country’s wrack, I know not;\\nBut treasons capital, confess’d and prov’d,\\nHave overthrown him.\\n\\nMACBETH.\\n[_Aside._] Glamis, and Thane of Cawdor:\\nThe greatest is behind. [_To Ross and Angus._] Thanks for your pains.\\n[_To Banquo._] Do you not hope your children shall be kings,\\nWhen those that gave the Thane of Cawdor to me\\nPromis’d no less to them?\\n\\nBANQUO.\\nThat, trusted home,\\nMight yet enkindle you unto the crown,\\nBesides the Thane of Cawdor. But ’tis strange:\\nAnd oftentimes to win us to our harm,\\nThe instruments of darkness tell us truths;\\nWin us with honest trifles, to betray’s\\nIn deepest consequence.—\\nCousins, a word, I pray you.\\n\\nMACBETH.\\n[_Aside._] Two truths are told,\\nAs happy prologues to the swelling act\\nOf the imperial theme.—I thank you, gentlemen.—\\n[_Aside._] This supernatural soliciting\\nCannot be ill; cannot be good. If ill,\\nWhy hath it given me earnest of success,\\nCommencing in a truth? I am Thane of Cawdor:\\nIf good, why do I yield to that suggestion\\nWhose horrid image doth unfix my hair,\\nAnd make my seated heart knock at my ribs,\\nAgainst the use of nature? Present fears\\nAre less than horrible imaginings.\\nMy thought, whose murder yet is but fantastical,\\nShakes so my single state of man\\nThat function is smother’d in surmise,\\nAnd nothing is but what is not.\\n\\nBANQUO.\\nLook, how our partner’s rapt.\\n\\nMACBETH.\\n[_Aside._] If chance will have me king, why, chance may crown me\\nWithout my stir.\\n\\nBANQUO.\\nNew honours come upon him,\\nLike our strange garments, cleave not to their mould\\nBut with the aid of use.\\n\\nMACBETH.\\n[_Aside._] Come what come may,\\nTime and the hour runs through the roughest day.\\n\\nBANQUO.\\nWorthy Macbeth, we stay upon your leisure.\\n\\nMACBETH.\\nGive me your favour. My dull brain was wrought\\nWith things forgotten. Kind gentlemen, your pains\\nAre register’d where every day I turn\\nThe leaf to read them.—Let us toward the King.—\\nThink upon what hath chanc’d; and at more time,\\nThe interim having weigh’d it, let us speak\\nOur free hearts each to other.\\n\\nBANQUO.\\nVery gladly.\\n\\nMACBETH.\\nTill then, enough.—Come, friends.\\n\\n [_Exeunt._]\\n\\nSCENE IV. Forres. A Room in the Palace.\\n\\n Flourish. Enter Duncan, Malcolm, Donalbain, Lennox and Attendants.\\n\\nDUNCAN.\\nIs execution done on Cawdor? Are not\\nThose in commission yet return’d?\\n\\nMALCOLM.\\nMy liege,\\nThey are not yet come back. But I have spoke\\nWith one that saw him die, who did report,\\nThat very frankly he confess’d his treasons,\\nImplor’d your Highness’ pardon, and set forth\\nA deep repentance. Nothing in his life\\nBecame him like the leaving it; he died\\nAs one that had been studied in his death,\\nTo throw away the dearest thing he ow’d\\nAs ’twere a careless trifle.\\n\\nDUNCAN.\\nThere’s no art\\nTo find the mind’s construction in the face:\\nHe was a gentleman on whom I built\\nAn absolute trust.\\n\\n Enter Macbeth, Banquo, Ross and Angus.\\n\\nO worthiest cousin!\\nThe sin of my ingratitude even now\\nWas heavy on me. Thou art so far before,\\nThat swiftest wing of recompense is slow\\nTo overtake thee. Would thou hadst less deserv’d;\\nThat the proportion both of thanks and payment\\nMight have been mine! only I have left to say,\\nMore is thy due than more than all can pay.\\n\\nMACBETH.\\nThe service and the loyalty I owe,\\nIn doing it, pays itself. Your Highness’ part\\nIs to receive our duties: and our duties\\nAre to your throne and state, children and servants;\\nWhich do but what they should, by doing everything\\nSafe toward your love and honour.\\n\\nDUNCAN.\\nWelcome hither:\\nI have begun to plant thee, and will labour\\nTo make thee full of growing.—Noble Banquo,\\nThat hast no less deserv’d, nor must be known\\nNo less to have done so, let me infold thee\\nAnd hold thee to my heart.\\n\\nBANQUO.\\nThere if I grow,\\nThe harvest is your own.\\n\\nDUNCAN.\\nMy plenteous joys,\\nWanton in fulness, seek to hide themselves\\nIn drops of sorrow.—Sons, kinsmen, thanes,\\nAnd you whose places are the nearest, know,\\nWe will establish our estate upon\\nOur eldest, Malcolm; whom we name hereafter\\nThe Prince of Cumberland: which honour must\\nNot unaccompanied invest him only,\\nBut signs of nobleness, like stars, shall shine\\nOn all deservers.—From hence to Inverness,\\nAnd bind us further to you.\\n\\nMACBETH.\\nThe rest is labour, which is not us’d for you:\\nI’ll be myself the harbinger, and make joyful\\nThe hearing of my wife with your approach;\\nSo, humbly take my leave.\\n\\nDUNCAN.\\nMy worthy Cawdor!\\n\\nMACBETH.\\n[_Aside._] The Prince of Cumberland!—That is a step\\nOn which I must fall down, or else o’erleap,\\nFor in my way it lies. Stars, hide your fires!\\nLet not light see my black and deep desires.\\nThe eye wink at the hand, yet let that be,\\nWhich the eye fears, when it is done, to see.\\n\\n [_Exit._]\\n\\nDUNCAN.\\nTrue, worthy Banquo! He is full so valiant;\\nAnd in his commendations I am fed.\\nIt is a banquet to me. Let’s after him,\\nWhose care is gone before to bid us welcome:\\nIt is a peerless kinsman.\\n\\n [_Flourish. Exeunt._]\\n\\nSCENE V. Inverness. A Room in Macbeth’s Castle.\\n\\n Enter Lady Macbeth, reading a letter.\\n\\nLADY MACBETH.\\n“They met me in the day of success; and I have learned by the\\nperfect’st report they have more in them than mortal knowledge. When I\\nburned in desire to question them further, they made themselves air,\\ninto which they vanished. Whiles I stood rapt in the wonder of it, came\\nmissives from the King, who all-hailed me, ‘Thane of Cawdor’; by which\\ntitle, before, these Weird Sisters saluted me, and referred me to the\\ncoming on of time, with ‘Hail, king that shalt be!’ This have I thought\\ngood to deliver thee (my dearest partner of greatness) that thou\\nmight’st not lose the dues of rejoicing, by being ignorant of what\\ngreatness is promis’d thee. Lay it to thy heart, and farewell.”\\n\\nGlamis thou art, and Cawdor; and shalt be\\nWhat thou art promis’d. Yet do I fear thy nature;\\nIt is too full o’ th’ milk of human kindness\\nTo catch the nearest way. Thou wouldst be great;\\nArt not without ambition, but without\\nThe illness should attend it. What thou wouldst highly,\\nThat wouldst thou holily; wouldst not play false,\\nAnd yet wouldst wrongly win. Thou’dst have, great Glamis,\\nThat which cries, “Thus thou must do,” if thou have it;\\nAnd that which rather thou dost fear to do,\\nThan wishest should be undone. Hie thee hither,\\nThat I may pour my spirits in thine ear,\\nAnd chastise with the valour of my tongue\\nAll that impedes thee from the golden round,\\nWhich fate and metaphysical aid doth seem\\nTo have thee crown’d withal.\\n\\n Enter a Messenger.\\n\\nWhat is your tidings?\\n\\nMESSENGER.\\nThe King comes here tonight.\\n\\nLADY MACBETH.\\nThou’rt mad to say it.\\nIs not thy master with him? who, were’t so,\\nWould have inform’d for preparation.\\n\\nMESSENGER.\\nSo please you, it is true. Our thane is coming.\\nOne of my fellows had the speed of him,\\nWho, almost dead for breath, had scarcely more\\nThan would make up his message.\\n\\nLADY MACBETH.\\nGive him tending.\\nHe brings great news.\\n\\n [_Exit Messenger._]\\n\\nThe raven himself is hoarse\\nThat croaks the fatal entrance of Duncan\\nUnder my battlements. Come, you spirits\\nThat tend on mortal thoughts, unsex me here,\\nAnd fill me, from the crown to the toe, top-full\\nOf direst cruelty! make thick my blood,\\nStop up th’ access and passage to remorse,\\nThat no compunctious visitings of nature\\nShake my fell purpose, nor keep peace between\\nTh’ effect and it! Come to my woman’s breasts,\\nAnd take my milk for gall, your murd’ring ministers,\\nWherever in your sightless substances\\nYou wait on nature’s mischief! Come, thick night,\\nAnd pall thee in the dunnest smoke of hell\\nThat my keen knife see not the wound it makes,\\nNor heaven peep through the blanket of the dark\\nTo cry, “Hold, hold!”\\n\\n Enter Macbeth.\\n\\nGreat Glamis, worthy Cawdor!\\nGreater than both, by the all-hail hereafter!\\nThy letters have transported me beyond\\nThis ignorant present, and I feel now\\nThe future in the instant.\\n\\nMACBETH.\\nMy dearest love,\\nDuncan comes here tonight.\\n\\nLADY MACBETH.\\nAnd when goes hence?\\n\\nMACBETH.\\nTomorrow, as he purposes.\\n\\nLADY MACBETH.\\nO, never\\nShall sun that morrow see!\\nYour face, my thane, is as a book where men\\nMay read strange matters. To beguile the time,\\nLook like the time; bear welcome in your eye,\\nYour hand, your tongue: look like the innocent flower,\\nBut be the serpent under’t. He that’s coming\\nMust be provided for; and you shall put\\nThis night’s great business into my dispatch;\\nWhich shall to all our nights and days to come\\nGive solely sovereign sway and masterdom.\\n\\nMACBETH.\\nWe will speak further.\\n\\nLADY MACBETH.\\nOnly look up clear;\\nTo alter favour ever is to fear.\\nLeave all the rest to me.\\n\\n [_Exeunt._]\\n\\nSCENE VI. The same. Before the Castle.\\n\\n Hautboys. Servants of Macbeth attending.\\n\\n Enter Duncan, Malcolm, Donalbain, Banquo, Lennox, Macduff, Ross, Angus\\n and Attendants.\\n\\nDUNCAN.\\nThis castle hath a pleasant seat. The air\\nNimbly and sweetly recommends itself\\nUnto our gentle senses.\\n\\nBANQUO.\\nThis guest of summer,\\nThe temple-haunting martlet, does approve,\\nBy his loved mansionry, that the heaven’s breath\\nSmells wooingly here: no jutty, frieze,\\nButtress, nor coign of vantage, but this bird\\nhath made his pendant bed and procreant cradle.\\nWhere they most breed and haunt, I have observ’d\\nThe air is delicate.\\n\\n Enter Lady Macbeth.\\n\\nDUNCAN.\\nSee, see, our honour’d hostess!—\\nThe love that follows us sometime is our trouble,\\nWhich still we thank as love. Herein I teach you\\nHow you shall bid God ’ild us for your pains,\\nAnd thank us for your trouble.\\n\\nLADY MACBETH.\\nAll our service,\\nIn every point twice done, and then done double,\\nWere poor and single business to contend\\nAgainst those honours deep and broad wherewith\\nYour Majesty loads our house: for those of old,\\nAnd the late dignities heap’d up to them,\\nWe rest your hermits.\\n\\nDUNCAN.\\nWhere’s the Thane of Cawdor?\\nWe cours’d him at the heels, and had a purpose\\nTo be his purveyor: but he rides well;\\nAnd his great love, sharp as his spur, hath holp him\\nTo his home before us. Fair and noble hostess,\\nWe are your guest tonight.\\n\\nLADY MACBETH.\\nYour servants ever\\nHave theirs, themselves, and what is theirs, in compt,\\nTo make their audit at your Highness’ pleasure,\\nStill to return your own.\\n\\nDUNCAN.\\nGive me your hand;\\nConduct me to mine host: we love him highly,\\nAnd shall continue our graces towards him.\\nBy your leave, hostess.\\n\\n [_Exeunt._]\\n\\nSCENE VII. The same. A Lobby in the Castle.\\n\\n Hautboys and torches. Enter, and pass over, a Sewer and divers\\n Servants with dishes and service. Then enter Macbeth.\\n\\nMACBETH.\\nIf it were done when ’tis done, then ’twere well\\nIt were done quickly. If th’ assassination\\nCould trammel up the consequence, and catch\\nWith his surcease success; that but this blow\\nMight be the be-all and the end-all—here,\\nBut here, upon this bank and shoal of time,\\nWe’d jump the life to come. But in these cases\\nWe still have judgement here; that we but teach\\nBloody instructions, which being taught, return\\nTo plague th’ inventor. This even-handed justice\\nCommends th’ ingredience of our poison’d chalice\\nTo our own lips. He’s here in double trust:\\nFirst, as I am his kinsman and his subject,\\nStrong both against the deed; then, as his host,\\nWho should against his murderer shut the door,\\nNot bear the knife myself. Besides, this Duncan\\nHath borne his faculties so meek, hath been\\nSo clear in his great office, that his virtues\\nWill plead like angels, trumpet-tongued, against\\nThe deep damnation of his taking-off;\\nAnd pity, like a naked new-born babe,\\nStriding the blast, or heaven’s cherubin, hors’d\\nUpon the sightless couriers of the air,\\nShall blow the horrid deed in every eye,\\nThat tears shall drown the wind.—I have no spur\\nTo prick the sides of my intent, but only\\nVaulting ambition, which o’erleaps itself\\nAnd falls on th’ other—\\n\\n Enter Lady Macbeth.\\n\\nHow now! what news?\\n\\nLADY MACBETH.\\nHe has almost supp’d. Why have you left the chamber?\\n\\nMACBETH.\\nHath he ask’d for me?\\n\\nLADY MACBETH.\\nKnow you not he has?\\n\\nMACBETH.\\nWe will proceed no further in this business:\\nHe hath honour’d me of late; and I have bought\\nGolden opinions from all sorts of people,\\nWhich would be worn now in their newest gloss,\\nNot cast aside so soon.\\n\\nLADY MACBETH.\\nWas the hope drunk\\nWherein you dress’d yourself? Hath it slept since?\\nAnd wakes it now, to look so green and pale\\nAt what it did so freely? From this time\\nSuch I account thy love. Art thou afeard\\nTo be the same in thine own act and valour\\nAs thou art in desire? Wouldst thou have that\\nWhich thou esteem’st the ornament of life,\\nAnd live a coward in thine own esteem,\\nLetting “I dare not” wait upon “I would,”\\nLike the poor cat i’ th’ adage?\\n\\nMACBETH.\\nPr’ythee, peace!\\nI dare do all that may become a man;\\nWho dares do more is none.\\n\\nLADY MACBETH.\\nWhat beast was’t, then,\\nThat made you break this enterprise to me?\\nWhen you durst do it, then you were a man;\\nAnd, to be more than what you were, you would\\nBe so much more the man. Nor time nor place\\nDid then adhere, and yet you would make both:\\nThey have made themselves, and that their fitness now\\nDoes unmake you. I have given suck, and know\\nHow tender ’tis to love the babe that milks me:\\nI would, while it was smiling in my face,\\nHave pluck’d my nipple from his boneless gums\\nAnd dash’d the brains out, had I so sworn as you\\nHave done to this.\\n\\nMACBETH.\\nIf we should fail?\\n\\nLADY MACBETH.\\nWe fail?\\nBut screw your courage to the sticking-place,\\nAnd we’ll not fail. When Duncan is asleep\\n(Whereto the rather shall his day’s hard journey\\nSoundly invite him), his two chamberlains\\nWill I with wine and wassail so convince\\nThat memory, the warder of the brain,\\nShall be a fume, and the receipt of reason\\nA limbeck only: when in swinish sleep\\nTheir drenched natures lie as in a death,\\nWhat cannot you and I perform upon\\nTh’ unguarded Duncan? what not put upon\\nHis spongy officers; who shall bear the guilt\\nOf our great quell?\\n\\nMACBETH.\\nBring forth men-children only;\\nFor thy undaunted mettle should compose\\nNothing but males. Will it not be receiv’d,\\nWhen we have mark’d with blood those sleepy two\\nOf his own chamber, and us’d their very daggers,\\nThat they have done’t?\\n\\nLADY MACBETH.\\nWho dares receive it other,\\nAs we shall make our griefs and clamour roar\\nUpon his death?\\n\\nMACBETH.\\nI am settled, and bend up\\nEach corporal agent to this terrible feat.\\nAway, and mock the time with fairest show:\\nFalse face must hide what the false heart doth know.\\n\\n [_Exeunt._]\\n\\n\\nACT II\\n\\nSCENE I. Inverness. Court within the Castle.\\n\\n Enter Banquo and Fleance with a torch before him.\\n\\nBANQUO.\\nHow goes the night, boy?\\n\\nFLEANCE.\\nThe moon is down; I have not heard the clock.\\n\\nBANQUO.\\nAnd she goes down at twelve.\\n\\nFLEANCE.\\nI take’t, ’tis later, sir.\\n\\nBANQUO.\\nHold, take my sword.—There’s husbandry in heaven;\\nTheir candles are all out. Take thee that too.\\nA heavy summons lies like lead upon me,\\nAnd yet I would not sleep. Merciful powers,\\nRestrain in me the cursed thoughts that nature\\nGives way to in repose!\\n\\n Enter Macbeth and a Servant with a torch.\\n\\nGive me my sword.—Who’s there?\\n\\nMACBETH.\\nA friend.\\n\\nBANQUO.\\nWhat, sir, not yet at rest? The King’s abed:\\nHe hath been in unusual pleasure and\\nSent forth great largess to your offices.\\nThis diamond he greets your wife withal,\\nBy the name of most kind hostess, and shut up\\nIn measureless content.\\n\\nMACBETH.\\nBeing unprepar’d,\\nOur will became the servant to defect,\\nWhich else should free have wrought.\\n\\nBANQUO.\\nAll’s well.\\nI dreamt last night of the three Weird Sisters:\\nTo you they have show’d some truth.\\n\\nMACBETH.\\nI think not of them:\\nYet, when we can entreat an hour to serve,\\nWe would spend it in some words upon that business,\\nIf you would grant the time.\\n\\nBANQUO.\\nAt your kind’st leisure.\\n\\nMACBETH.\\nIf you shall cleave to my consent, when ’tis,\\nIt shall make honour for you.\\n\\nBANQUO.\\nSo I lose none\\nIn seeking to augment it, but still keep\\nMy bosom franchis’d, and allegiance clear,\\nI shall be counsell’d.\\n\\nMACBETH.\\nGood repose the while!\\n\\nBANQUO.\\nThanks, sir: the like to you.\\n\\n [_Exeunt Banquo and Fleance._]\\n\\nMACBETH.\\nGo bid thy mistress, when my drink is ready,\\nShe strike upon the bell. Get thee to bed.\\n\\n [_Exit Servant._]\\n\\nIs this a dagger which I see before me,\\nThe handle toward my hand? Come, let me clutch thee:—\\nI have thee not, and yet I see thee still.\\nArt thou not, fatal vision, sensible\\nTo feeling as to sight? or art thou but\\nA dagger of the mind, a false creation,\\nProceeding from the heat-oppressed brain?\\nI see thee yet, in form as palpable\\nAs this which now I draw.\\nThou marshall’st me the way that I was going;\\nAnd such an instrument I was to use.\\nMine eyes are made the fools o’ the other senses,\\nOr else worth all the rest: I see thee still;\\nAnd on thy blade and dudgeon, gouts of blood,\\nWhich was not so before.—There’s no such thing.\\nIt is the bloody business which informs\\nThus to mine eyes.—Now o’er the one half-world\\nNature seems dead, and wicked dreams abuse\\nThe curtain’d sleep. Witchcraft celebrates\\nPale Hecate’s off’rings; and wither’d murder,\\nAlarum’d by his sentinel, the wolf,\\nWhose howl’s his watch, thus with his stealthy pace,\\nWith Tarquin’s ravishing strides, towards his design\\nMoves like a ghost.—Thou sure and firm-set earth,\\nHear not my steps, which way they walk, for fear\\nThy very stones prate of my whereabout,\\nAnd take the present horror from the time,\\nWhich now suits with it.—Whiles I threat, he lives.\\nWords to the heat of deeds too cold breath gives.\\n\\n [_A bell rings._]\\n\\nI go, and it is done. The bell invites me.\\nHear it not, Duncan, for it is a knell\\nThat summons thee to heaven or to hell.\\n\\n [_Exit._]\\n\\nSCENE II. The same.\\n\\n Enter Lady Macbeth.\\n\\nLADY MACBETH.\\nThat which hath made them drunk hath made me bold:\\nWhat hath quench’d them hath given me fire.—Hark!—Peace!\\nIt was the owl that shriek’d, the fatal bellman,\\nWhich gives the stern’st good night. He is about it.\\nThe doors are open; and the surfeited grooms\\nDo mock their charge with snores: I have drugg’d their possets,\\nThat death and nature do contend about them,\\nWhether they live or die.\\n\\nMACBETH.\\n[_Within._] Who’s there?—what, ho!\\n\\nLADY MACBETH.\\nAlack! I am afraid they have awak’d,\\nAnd ’tis not done. Th’ attempt and not the deed\\nConfounds us.—Hark!—I laid their daggers ready;\\nHe could not miss ’em.—Had he not resembled\\nMy father as he slept, I had done’t.—My husband!\\n\\n Enter Macbeth.\\n\\nMACBETH.\\nI have done the deed.—Didst thou not hear a noise?\\n\\nLADY MACBETH.\\nI heard the owl scream and the crickets cry.\\nDid not you speak?\\n\\nMACBETH.\\nWhen?\\n\\nLADY MACBETH.\\nNow.\\n\\nMACBETH.\\nAs I descended?\\n\\nLADY MACBETH.\\nAy.\\n\\nMACBETH.\\nHark!—Who lies i’ th’ second chamber?\\n\\nLADY MACBETH.\\nDonalbain.\\n\\nMACBETH.\\nThis is a sorry sight.\\n\\n [_Looking on his hands._]\\n\\nLADY MACBETH.\\nA foolish thought, to say a sorry sight.\\n\\nMACBETH.\\nThere’s one did laugh in’s sleep, and one cried, “Murder!”\\nThat they did wake each other: I stood and heard them.\\nBut they did say their prayers, and address’d them\\nAgain to sleep.\\n\\nLADY MACBETH.\\nThere are two lodg’d together.\\n\\nMACBETH.\\nOne cried, “God bless us!” and, “Amen,” the other,\\nAs they had seen me with these hangman’s hands.\\nList’ning their fear, I could not say “Amen,”\\nWhen they did say, “God bless us.”\\n\\nLADY MACBETH.\\nConsider it not so deeply.\\n\\nMACBETH.\\nBut wherefore could not I pronounce “Amen”?\\nI had most need of blessing, and “Amen”\\nStuck in my throat.\\n\\nLADY MACBETH.\\nThese deeds must not be thought\\nAfter these ways; so, it will make us mad.\\n\\nMACBETH.\\nMethought I heard a voice cry, “Sleep no more!\\nMacbeth does murder sleep,”—the innocent sleep;\\nSleep that knits up the ravell’d sleave of care,\\nThe death of each day’s life, sore labour’s bath,\\nBalm of hurt minds, great nature’s second course,\\nChief nourisher in life’s feast.\\n\\nLADY MACBETH.\\nWhat do you mean?\\n\\nMACBETH.\\nStill it cried, “Sleep no more!” to all the house:\\n“Glamis hath murder’d sleep, and therefore Cawdor\\nShall sleep no more. Macbeth shall sleep no more!”\\n\\nLADY MACBETH.\\nWho was it that thus cried? Why, worthy thane,\\nYou do unbend your noble strength to think\\nSo brainsickly of things. Go get some water,\\nAnd wash this filthy witness from your hand.—\\nWhy did you bring these daggers from the place?\\nThey must lie there: go carry them, and smear\\nThe sleepy grooms with blood.\\n\\nMACBETH.\\nI’ll go no more:\\nI am afraid to think what I have done;\\nLook on’t again I dare not.\\n\\nLADY MACBETH.\\nInfirm of purpose!\\nGive me the daggers. The sleeping and the dead\\nAre but as pictures. ’Tis the eye of childhood\\nThat fears a painted devil. If he do bleed,\\nI’ll gild the faces of the grooms withal,\\nFor it must seem their guilt.\\n\\n [_Exit. Knocking within._]\\n\\nMACBETH.\\nWhence is that knocking?\\nHow is’t with me, when every noise appals me?\\nWhat hands are here? Ha, they pluck out mine eyes!\\nWill all great Neptune’s ocean wash this blood\\nClean from my hand? No, this my hand will rather\\nThe multitudinous seas incarnadine,\\nMaking the green one red.\\n\\n Enter Lady Macbeth.\\n\\nLADY MACBETH.\\nMy hands are of your color, but I shame\\nTo wear a heart so white. [_Knocking within._] I hear knocking\\nAt the south entry:—retire we to our chamber.\\nA little water clears us of this deed:\\nHow easy is it then! Your constancy\\nHath left you unattended.—[_Knocking within._] Hark, more knocking.\\nGet on your nightgown, lest occasion call us\\nAnd show us to be watchers. Be not lost\\nSo poorly in your thoughts.\\n\\nMACBETH.\\nTo know my deed, ’twere best not know myself. [_Knocking within._]\\nWake Duncan with thy knocking! I would thou couldst!\\n\\n [_Exeunt._]\\n\\nSCENE III. The same.\\n\\n Enter a Porter. Knocking within.\\n\\nPORTER.\\nHere’s a knocking indeed! If a man were porter of hell gate, he should\\nhave old turning the key. [_Knocking._] Knock, knock, knock. Who’s\\nthere, i’ th’ name of Belzebub? Here’s a farmer that hanged himself on\\nthe expectation of plenty: come in time; have napkins enow about you;\\nhere you’ll sweat for’t. [_Knocking._] Knock, knock! Who’s there, i’\\nth’ other devil’s name? Faith, here’s an equivocator, that could swear\\nin both the scales against either scale, who committed treason enough\\nfor God’s sake, yet could not equivocate to heaven: O, come in,\\nequivocator. [_Knocking._] Knock, knock, knock! Who’s there? Faith,\\nhere’s an English tailor come hither, for stealing out of a French\\nhose: come in, tailor; here you may roast your goose. [_Knocking._]\\nKnock, knock. Never at quiet! What are you?—But this place is too cold\\nfor hell. I’ll devil-porter it no further: I had thought to have let in\\nsome of all professions, that go the primrose way to th’ everlasting\\nbonfire. [_Knocking._] Anon, anon! I pray you, remember the porter.\\n\\n [_Opens the gate._]\\n\\n Enter Macduff and Lennox.\\n\\nMACDUFF.\\nWas it so late, friend, ere you went to bed,\\nThat you do lie so late?\\n\\nPORTER.\\nFaith, sir, we were carousing till the second cock; and drink, sir, is\\na great provoker of three things.\\n\\nMACDUFF.\\nWhat three things does drink especially provoke?\\n\\nPORTER.\\nMarry, sir, nose-painting, sleep, and urine. Lechery, sir, it provokes\\nand unprovokes; it provokes the desire, but it takes away the\\nperformance. Therefore much drink may be said to be an equivocator with\\nlechery: it makes him, and it mars him; it sets him on, and it takes\\nhim off; it persuades him, and disheartens him; makes him stand to, and\\nnot stand to; in conclusion, equivocates him in a sleep, and giving him\\nthe lie, leaves him.\\n\\nMACDUFF.\\nI believe drink gave thee the lie last night.\\n\\nPORTER.\\nThat it did, sir, i’ the very throat on me; but I requited him for his\\nlie; and (I think) being too strong for him, though he took up my legs\\nsometime, yet I made a shift to cast him.\\n\\nMACDUFF.\\nIs thy master stirring?\\n\\n Enter Macbeth.\\n\\nOur knocking has awak’d him; here he comes.\\n\\nLENNOX.\\nGood morrow, noble sir!\\n\\nMACBETH.\\nGood morrow, both!\\n\\nMACDUFF.\\nIs the King stirring, worthy thane?\\n\\nMACBETH.\\nNot yet.\\n\\nMACDUFF.\\nHe did command me to call timely on him.\\nI have almost slipp’d the hour.\\n\\nMACBETH.\\nI’ll bring you to him.\\n\\nMACDUFF.\\nI know this is a joyful trouble to you;\\nBut yet ’tis one.\\n\\nMACBETH.\\nThe labour we delight in physics pain.\\nThis is the door.\\n\\nMACDUFF.\\nI’ll make so bold to call.\\nFor ’tis my limited service.\\n\\n [_Exit Macduff._]\\n\\nLENNOX.\\nGoes the King hence today?\\n\\nMACBETH.\\nHe does. He did appoint so.\\n\\nLENNOX.\\nThe night has been unruly: where we lay,\\nOur chimneys were blown down and, as they say,\\nLamentings heard i’ th’ air, strange screams of death,\\nAnd prophesying, with accents terrible,\\nOf dire combustion and confus’d events,\\nNew hatch’d to the woeful time. The obscure bird\\nClamour’d the live-long night. Some say the earth\\nWas feverous, and did shake.\\n\\nMACBETH.\\n’Twas a rough night.\\n\\nLENNOX.\\nMy young remembrance cannot parallel\\nA fellow to it.\\n\\n Enter Macduff.\\n\\nMACDUFF.\\nO horror, horror, horror!\\nTongue nor heart cannot conceive nor name thee!\\n\\nMACBETH, LENNOX.\\nWhat’s the matter?\\n\\nMACDUFF.\\nConfusion now hath made his masterpiece!\\nMost sacrilegious murder hath broke ope\\nThe Lord’s anointed temple, and stole thence\\nThe life o’ th’ building.\\n\\nMACBETH.\\nWhat is’t you say? the life?\\n\\nLENNOX.\\nMean you his majesty?\\n\\nMACDUFF.\\nApproach the chamber, and destroy your sight\\nWith a new Gorgon. Do not bid me speak.\\nSee, and then speak yourselves.\\n\\n [_Exeunt Macbeth and Lennox._]\\n\\nAwake, awake!—\\nRing the alarum bell.—Murder and treason!\\nBanquo and Donalbain! Malcolm! awake!\\nShake off this downy sleep, death’s counterfeit,\\nAnd look on death itself! Up, up, and see\\nThe great doom’s image. Malcolm! Banquo!\\nAs from your graves rise up, and walk like sprites\\nTo countenance this horror!\\n\\n [_Alarum-bell rings._]\\n\\n Enter Lady Macbeth.\\n\\nLADY MACBETH.\\nWhat’s the business,\\nThat such a hideous trumpet calls to parley\\nThe sleepers of the house? Speak, speak!\\n\\nMACDUFF.\\nO gentle lady,\\n’Tis not for you to hear what I can speak:\\nThe repetition, in a woman’s ear,\\nWould murder as it fell.\\n\\n Enter Banquo.\\n\\nO Banquo, Banquo!\\nOur royal master’s murder’d!\\n\\nLADY MACBETH.\\nWoe, alas!\\nWhat, in our house?\\n\\nBANQUO.\\nToo cruel anywhere.—\\nDear Duff, I pr’ythee, contradict thyself,\\nAnd say it is not so.\\n\\n Enter Macbeth and Lennox with Ross.\\n\\nMACBETH.\\nHad I but died an hour before this chance,\\nI had liv’d a blessed time; for, from this instant\\nThere’s nothing serious in mortality.\\nAll is but toys: renown and grace is dead;\\nThe wine of life is drawn, and the mere lees\\nIs left this vault to brag of.\\n\\n Enter Malcolm and Donalbain.\\n\\nDONALBAIN.\\nWhat is amiss?\\n\\nMACBETH.\\nYou are, and do not know’t:\\nThe spring, the head, the fountain of your blood\\nIs stopp’d; the very source of it is stopp’d.\\n\\nMACDUFF.\\nYour royal father’s murder’d.\\n\\nMALCOLM.\\nO, by whom?\\n\\nLENNOX.\\nThose of his chamber, as it seem’d, had done’t:\\nTheir hands and faces were all badg’d with blood;\\nSo were their daggers, which, unwip’d, we found\\nUpon their pillows. They star’d, and were distracted;\\nNo man’s life was to be trusted with them.\\n\\nMACBETH.\\nO, yet I do repent me of my fury,\\nThat I did kill them.\\n\\nMACDUFF.\\nWherefore did you so?\\n\\nMACBETH.\\nWho can be wise, amaz’d, temperate, and furious,\\nLoyal and neutral, in a moment? No man:\\nTh’ expedition of my violent love\\nOutrun the pauser, reason. Here lay Duncan,\\nHis silver skin lac’d with his golden blood;\\nAnd his gash’d stabs look’d like a breach in nature\\nFor ruin’s wasteful entrance: there, the murderers,\\nSteep’d in the colours of their trade, their daggers\\nUnmannerly breech’d with gore. Who could refrain,\\nThat had a heart to love, and in that heart\\nCourage to make’s love known?\\n\\nLADY MACBETH.\\nHelp me hence, ho!\\n\\nMACDUFF.\\nLook to the lady.\\n\\nMALCOLM.\\nWhy do we hold our tongues,\\nThat most may claim this argument for ours?\\n\\nDONALBAIN.\\nWhat should be spoken here, where our fate,\\nHid in an auger hole, may rush, and seize us?\\nLet’s away. Our tears are not yet brew’d.\\n\\nMALCOLM.\\nNor our strong sorrow\\nUpon the foot of motion.\\n\\nBANQUO.\\nLook to the lady:—\\n\\n [_Lady Macbeth is carried out._]\\n\\nAnd when we have our naked frailties hid,\\nThat suffer in exposure, let us meet,\\nAnd question this most bloody piece of work\\nTo know it further. Fears and scruples shake us:\\nIn the great hand of God I stand; and thence\\nAgainst the undivulg’d pretence I fight\\nOf treasonous malice.\\n\\nMACDUFF.\\nAnd so do I.\\n\\nALL.\\nSo all.\\n\\nMACBETH.\\nLet’s briefly put on manly readiness,\\nAnd meet i’ th’ hall together.\\n\\nALL.\\nWell contented.\\n\\n [_Exeunt all but Malcolm and Donalbain._]\\n\\nMALCOLM.\\nWhat will you do? Let’s not consort with them:\\nTo show an unfelt sorrow is an office\\nWhich the false man does easy. I’ll to England.\\n\\nDONALBAIN.\\nTo Ireland, I. Our separated fortune\\nShall keep us both the safer. Where we are,\\nThere’s daggers in men’s smiles: the near in blood,\\nThe nearer bloody.\\n\\nMALCOLM.\\nThis murderous shaft that’s shot\\nHath not yet lighted; and our safest way\\nIs to avoid the aim. Therefore to horse;\\nAnd let us not be dainty of leave-taking,\\nBut shift away. There’s warrant in that theft\\nWhich steals itself, when there’s no mercy left.\\n\\n [_Exeunt._]\\n\\nSCENE IV. The same. Without the Castle.\\n\\n Enter Ross and an Old Man.\\n\\nOLD MAN.\\nThreescore and ten I can remember well,\\nWithin the volume of which time I have seen\\nHours dreadful and things strange, but this sore night\\nHath trifled former knowings.\\n\\nROSS.\\nHa, good father,\\nThou seest the heavens, as troubled with man’s act,\\nThreatens his bloody stage: by the clock ’tis day,\\nAnd yet dark night strangles the travelling lamp.\\nIs’t night’s predominance, or the day’s shame,\\nThat darkness does the face of earth entomb,\\nWhen living light should kiss it?\\n\\nOLD MAN.\\n’Tis unnatural,\\nEven like the deed that’s done. On Tuesday last,\\nA falcon, towering in her pride of place,\\nWas by a mousing owl hawk’d at and kill’d.\\n\\nROSS.\\nAnd Duncan’s horses (a thing most strange and certain)\\nBeauteous and swift, the minions of their race,\\nTurn’d wild in nature, broke their stalls, flung out,\\nContending ’gainst obedience, as they would make\\nWar with mankind.\\n\\nOLD MAN.\\n’Tis said they eat each other.\\n\\nROSS.\\nThey did so; to the amazement of mine eyes,\\nThat look’d upon’t.\\nHere comes the good Macduff.\\n\\n Enter Macduff.\\n\\nHow goes the world, sir, now?\\n\\nMACDUFF.\\nWhy, see you not?\\n\\nROSS.\\nIs’t known who did this more than bloody deed?\\n\\nMACDUFF.\\nThose that Macbeth hath slain.\\n\\nROSS.\\nAlas, the day!\\nWhat good could they pretend?\\n\\nMACDUFF.\\nThey were suborn’d.\\nMalcolm and Donalbain, the King’s two sons,\\nAre stol’n away and fled; which puts upon them\\nSuspicion of the deed.\\n\\nROSS.\\n’Gainst nature still:\\nThriftless ambition, that will ravin up\\nThine own life’s means!—Then ’tis most like\\nThe sovereignty will fall upon Macbeth.\\n\\nMACDUFF.\\nHe is already nam’d; and gone to Scone\\nTo be invested.\\n\\nROSS.\\nWhere is Duncan’s body?\\n\\nMACDUFF.\\nCarried to Colmekill,\\nThe sacred storehouse of his predecessors,\\nAnd guardian of their bones.\\n\\nROSS.\\nWill you to Scone?\\n\\nMACDUFF.\\nNo, cousin, I’ll to Fife.\\n\\nROSS.\\nWell, I will thither.\\n\\nMACDUFF.\\nWell, may you see things well done there. Adieu!\\nLest our old robes sit easier than our new!\\n\\nROSS.\\nFarewell, father.\\n\\nOLD MAN.\\nGod’s benison go with you; and with those\\nThat would make good of bad, and friends of foes!\\n\\n [_Exeunt._]\\n\\n\\nACT III\\n\\nSCENE I. Forres. A Room in the Palace.\\n\\n Enter Banquo.\\n\\nBANQUO.\\nThou hast it now, King, Cawdor, Glamis, all,\\nAs the Weird Women promis’d; and, I fear,\\nThou play’dst most foully for’t; yet it was said\\nIt should not stand in thy posterity;\\nBut that myself should be the root and father\\nOf many kings. If there come truth from them\\n(As upon thee, Macbeth, their speeches shine)\\nWhy, by the verities on thee made good,\\nMay they not be my oracles as well,\\nAnd set me up in hope? But hush; no more.\\n\\n Sennet sounded. Enter Macbeth as King, Lady Macbeth as Queen; Lennox,\\n Ross, Lords, and Attendants.\\n\\nMACBETH.\\nHere’s our chief guest.\\n\\nLADY MACBETH.\\nIf he had been forgotten,\\nIt had been as a gap in our great feast,\\nAnd all-thing unbecoming.\\n\\nMACBETH.\\nTonight we hold a solemn supper, sir,\\nAnd I’ll request your presence.\\n\\nBANQUO.\\nLet your Highness\\nCommand upon me, to the which my duties\\nAre with a most indissoluble tie\\nFor ever knit.\\n\\nMACBETH.\\nRide you this afternoon?\\n\\nBANQUO.\\nAy, my good lord.\\n\\nMACBETH.\\nWe should have else desir’d your good advice\\n(Which still hath been both grave and prosperous)\\nIn this day’s council; but we’ll take tomorrow.\\nIs’t far you ride?\\n\\nBANQUO.\\nAs far, my lord, as will fill up the time\\n’Twixt this and supper: go not my horse the better,\\nI must become a borrower of the night,\\nFor a dark hour or twain.\\n\\nMACBETH.\\nFail not our feast.\\n\\nBANQUO.\\nMy lord, I will not.\\n\\nMACBETH.\\nWe hear our bloody cousins are bestow’d\\nIn England and in Ireland; not confessing\\nTheir cruel parricide, filling their hearers\\nWith strange invention. But of that tomorrow,\\nWhen therewithal we shall have cause of state\\nCraving us jointly. Hie you to horse: adieu,\\nTill you return at night. Goes Fleance with you?\\n\\nBANQUO.\\nAy, my good lord: our time does call upon’s.\\n\\nMACBETH.\\nI wish your horses swift and sure of foot;\\nAnd so I do commend you to their backs.\\nFarewell.—\\n\\n [_Exit Banquo._]\\n\\nLet every man be master of his time\\nTill seven at night; to make society\\nThe sweeter welcome, we will keep ourself\\nTill supper time alone: while then, God be with you.\\n\\n [_Exeunt Lady Macbeth, Lords, &c._]\\n\\nSirrah, a word with you. Attend those men\\nOur pleasure?\\n\\nSERVANT.\\nThey are, my lord, without the palace gate.\\n\\nMACBETH.\\nBring them before us.\\n\\n [_Exit Servant._]\\n\\nTo be thus is nothing,\\nBut to be safely thus. Our fears in Banquo\\nStick deep, and in his royalty of nature\\nReigns that which would be fear’d: ’tis much he dares;\\nAnd, to that dauntless temper of his mind,\\nHe hath a wisdom that doth guide his valour\\nTo act in safety. There is none but he\\nWhose being I do fear: and under him\\nMy genius is rebuk’d; as, it is said,\\nMark Antony’s was by Caesar. He chid the sisters\\nWhen first they put the name of king upon me,\\nAnd bade them speak to him; then, prophet-like,\\nThey hail’d him father to a line of kings:\\nUpon my head they plac’d a fruitless crown,\\nAnd put a barren sceptre in my gripe,\\nThence to be wrench’d with an unlineal hand,\\nNo son of mine succeeding. If’t be so,\\nFor Banquo’s issue have I fil’d my mind;\\nFor them the gracious Duncan have I murder’d;\\nPut rancours in the vessel of my peace\\nOnly for them; and mine eternal jewel\\nGiven to the common enemy of man,\\nTo make them kings, the seed of Banquo kings!\\nRather than so, come, fate, into the list,\\nAnd champion me to th’ utterance!—Who’s there?—\\n\\n Enter Servant with two Murderers.\\n\\nNow go to the door, and stay there till we call.\\n\\n [_Exit Servant._]\\n\\nWas it not yesterday we spoke together?\\n\\nFIRST MURDERER.\\nIt was, so please your Highness.\\n\\nMACBETH.\\nWell then, now\\nHave you consider’d of my speeches? Know\\nThat it was he, in the times past, which held you\\nSo under fortune, which you thought had been\\nOur innocent self? This I made good to you\\nIn our last conference, pass’d in probation with you\\nHow you were borne in hand, how cross’d, the instruments,\\nWho wrought with them, and all things else that might\\nTo half a soul and to a notion craz’d\\nSay, “Thus did Banquo.”\\n\\nFIRST MURDERER.\\nYou made it known to us.\\n\\nMACBETH.\\nI did so; and went further, which is now\\nOur point of second meeting. Do you find\\nYour patience so predominant in your nature,\\nThat you can let this go? Are you so gospell’d,\\nTo pray for this good man and for his issue,\\nWhose heavy hand hath bow’d you to the grave,\\nAnd beggar’d yours forever?\\n\\nFIRST MURDERER.\\nWe are men, my liege.\\n\\nMACBETH.\\nAy, in the catalogue ye go for men;\\nAs hounds, and greyhounds, mongrels, spaniels, curs,\\nShoughs, water-rugs, and demi-wolves are clept\\nAll by the name of dogs: the valu’d file\\nDistinguishes the swift, the slow, the subtle,\\nThe housekeeper, the hunter, every one\\nAccording to the gift which bounteous nature\\nHath in him clos’d; whereby he does receive\\nParticular addition, from the bill\\nThat writes them all alike: and so of men.\\nNow, if you have a station in the file,\\nNot i’ th’ worst rank of manhood, say’t;\\nAnd I will put that business in your bosoms,\\nWhose execution takes your enemy off,\\nGrapples you to the heart and love of us,\\nWho wear our health but sickly in his life,\\nWhich in his death were perfect.\\n\\nSECOND MURDERER.\\nI am one, my liege,\\nWhom the vile blows and buffets of the world\\nHath so incens’d that I am reckless what\\nI do to spite the world.\\n\\nFIRST MURDERER.\\nAnd I another,\\nSo weary with disasters, tugg’d with fortune,\\nThat I would set my life on any chance,\\nTo mend it or be rid on’t.\\n\\nMACBETH.\\nBoth of you\\nKnow Banquo was your enemy.\\n\\nBOTH MURDERERS.\\nTrue, my lord.\\n\\nMACBETH.\\nSo is he mine; and in such bloody distance,\\nThat every minute of his being thrusts\\nAgainst my near’st of life; and though I could\\nWith barefac’d power sweep him from my sight,\\nAnd bid my will avouch it, yet I must not,\\nFor certain friends that are both his and mine,\\nWhose loves I may not drop, but wail his fall\\nWho I myself struck down: and thence it is\\nThat I to your assistance do make love,\\nMasking the business from the common eye\\nFor sundry weighty reasons.\\n\\nSECOND MURDERER.\\nWe shall, my lord,\\nPerform what you command us.\\n\\nFIRST MURDERER.\\nThough our lives—\\n\\nMACBETH.\\nYour spirits shine through you. Within this hour at most,\\nI will advise you where to plant yourselves,\\nAcquaint you with the perfect spy o’ th’ time,\\nThe moment on’t; for’t must be done tonight\\nAnd something from the palace; always thought\\nThat I require a clearness. And with him\\n(To leave no rubs nor botches in the work)\\nFleance his son, that keeps him company,\\nWhose absence is no less material to me\\nThan is his father’s, must embrace the fate\\nOf that dark hour. Resolve yourselves apart.\\nI’ll come to you anon.\\n\\nBOTH MURDERERS.\\nWe are resolv’d, my lord.\\n\\nMACBETH.\\nI’ll call upon you straight: abide within.\\n\\n [_Exeunt Murderers._]\\n\\nIt is concluded. Banquo, thy soul’s flight,\\nIf it find heaven, must find it out tonight.\\n\\n [_Exit._]\\n\\nSCENE II. The same. Another Room in the Palace.\\n\\n Enter Lady Macbeth and a Servant.\\n\\nLADY MACBETH.\\nIs Banquo gone from court?\\n\\nSERVANT.\\nAy, madam, but returns again tonight.\\n\\nLADY MACBETH.\\nSay to the King, I would attend his leisure\\nFor a few words.\\n\\nSERVANT.\\nMadam, I will.\\n\\n [_Exit._]\\n\\nLADY MACBETH.\\nNaught’s had, all’s spent,\\nWhere our desire is got without content:\\n’Tis safer to be that which we destroy,\\nThan by destruction dwell in doubtful joy.\\n\\n Enter Macbeth.\\n\\nHow now, my lord, why do you keep alone,\\nOf sorriest fancies your companions making,\\nUsing those thoughts which should indeed have died\\nWith them they think on? Things without all remedy\\nShould be without regard: what’s done is done.\\n\\nMACBETH.\\nWe have scorch’d the snake, not kill’d it.\\nShe’ll close, and be herself; whilst our poor malice\\nRemains in danger of her former tooth.\\nBut let the frame of things disjoint,\\nBoth the worlds suffer,\\nEre we will eat our meal in fear, and sleep\\nIn the affliction of these terrible dreams\\nThat shake us nightly. Better be with the dead,\\nWhom we, to gain our peace, have sent to peace,\\nThan on the torture of the mind to lie\\nIn restless ecstasy. Duncan is in his grave;\\nAfter life’s fitful fever he sleeps well;\\nTreason has done his worst: nor steel, nor poison,\\nMalice domestic, foreign levy, nothing\\nCan touch him further.\\n\\nLADY MACBETH.\\nCome on,\\nGently my lord, sleek o’er your rugged looks;\\nBe bright and jovial among your guests tonight.\\n\\nMACBETH.\\nSo shall I, love; and so, I pray, be you.\\nLet your remembrance apply to Banquo;\\nPresent him eminence, both with eye and tongue:\\nUnsafe the while, that we\\nMust lave our honours in these flattering streams,\\nAnd make our faces vizards to our hearts,\\nDisguising what they are.\\n\\nLADY MACBETH.\\nYou must leave this.\\n\\nMACBETH.\\nO, full of scorpions is my mind, dear wife!\\nThou know’st that Banquo, and his Fleance, lives.\\n\\nLADY MACBETH.\\nBut in them nature’s copy’s not eterne.\\n\\nMACBETH.\\nThere’s comfort yet; they are assailable.\\nThen be thou jocund. Ere the bat hath flown\\nHis cloister’d flight, ere to black Hecate’s summons\\nThe shard-born beetle, with his drowsy hums,\\nHath rung night’s yawning peal, there shall be done\\nA deed of dreadful note.\\n\\nLADY MACBETH.\\nWhat’s to be done?\\n\\nMACBETH.\\nBe innocent of the knowledge, dearest chuck,\\nTill thou applaud the deed. Come, seeling night,\\nScarf up the tender eye of pitiful day,\\nAnd with thy bloody and invisible hand\\nCancel and tear to pieces that great bond\\nWhich keeps me pale!—Light thickens; and the crow\\nMakes wing to th’ rooky wood.\\nGood things of day begin to droop and drowse,\\nWhiles night’s black agents to their preys do rouse.\\nThou marvell’st at my words: but hold thee still;\\nThings bad begun make strong themselves by ill.\\nSo, pr’ythee, go with me.\\n\\n [_Exeunt._]\\n\\nSCENE III. The same. A Park or Lawn, with a gate leading to the Palace.\\n\\n Enter three Murderers.\\n\\nFIRST MURDERER.\\nBut who did bid thee join with us?\\n\\nTHIRD MURDERER.\\nMacbeth.\\n\\nSECOND MURDERER.\\nHe needs not our mistrust; since he delivers\\nOur offices and what we have to do\\nTo the direction just.\\n\\nFIRST MURDERER.\\nThen stand with us.\\nThe west yet glimmers with some streaks of day.\\nNow spurs the lated traveller apace,\\nTo gain the timely inn; and near approaches\\nThe subject of our watch.\\n\\nTHIRD MURDERER.\\nHark! I hear horses.\\n\\nBANQUO.\\n[_Within._] Give us a light there, ho!\\n\\nSECOND MURDERER.\\nThen ’tis he; the rest\\nThat are within the note of expectation\\nAlready are i’ th’ court.\\n\\nFIRST MURDERER.\\nHis horses go about.\\n\\nTHIRD MURDERER.\\nAlmost a mile; but he does usually,\\nSo all men do, from hence to the palace gate\\nMake it their walk.\\n\\n Enter Banquo and Fleance with a torch.\\n\\nSECOND MURDERER.\\nA light, a light!\\n\\nTHIRD MURDERER.\\n’Tis he.\\n\\nFIRST MURDERER.\\nStand to’t.\\n\\nBANQUO.\\nIt will be rain tonight.\\n\\nFIRST MURDERER.\\nLet it come down.\\n\\n [_Assaults Banquo._]\\n\\nBANQUO.\\nO, treachery! Fly, good Fleance, fly, fly, fly!\\nThou mayst revenge—O slave!\\n\\n [_Dies. Fleance escapes._]\\n\\nTHIRD MURDERER.\\nWho did strike out the light?\\n\\nFIRST MURDERER.\\nWas’t not the way?\\n\\nTHIRD MURDERER.\\nThere’s but one down: the son is fled.\\n\\nSECOND MURDERER.\\nWe have lost best half of our affair.\\n\\nFIRST MURDERER.\\nWell, let’s away, and say how much is done.\\n\\n [_Exeunt._]\\n\\nSCENE IV. The same. A Room of state in the Palace.\\n\\n A banquet prepared. Enter Macbeth, Lady Macbeth, Ross, Lennox, Lords\\n and Attendants.\\n\\nMACBETH.\\nYou know your own degrees, sit down. At first\\nAnd last the hearty welcome.\\n\\nLORDS.\\nThanks to your Majesty.\\n\\nMACBETH.\\nOurself will mingle with society,\\nAnd play the humble host.\\nOur hostess keeps her state; but, in best time,\\nWe will require her welcome.\\n\\nLADY MACBETH.\\nPronounce it for me, sir, to all our friends;\\nFor my heart speaks they are welcome.\\n\\n Enter first Murderer to the door.\\n\\nMACBETH.\\nSee, they encounter thee with their hearts’ thanks.\\nBoth sides are even: here I’ll sit i’ th’ midst.\\n\\nBe large in mirth; anon we’ll drink a measure\\nThe table round. There’s blood upon thy face.\\n\\nMURDERER.\\n’Tis Banquo’s then.\\n\\nMACBETH.\\n’Tis better thee without than he within.\\nIs he dispatch’d?\\n\\nMURDERER.\\nMy lord, his throat is cut. That I did for him.\\n\\nMACBETH.\\nThou art the best o’ th’ cut-throats;\\nYet he’s good that did the like for Fleance:\\nIf thou didst it, thou art the nonpareil.\\n\\nMURDERER.\\nMost royal sir,\\nFleance is ’scap’d.\\n\\nMACBETH.\\nThen comes my fit again: I had else been perfect;\\nWhole as the marble, founded as the rock,\\nAs broad and general as the casing air:\\nBut now I am cabin’d, cribb’d, confin’d, bound in\\nTo saucy doubts and fears. But Banquo’s safe?\\n\\nMURDERER.\\nAy, my good lord. Safe in a ditch he bides,\\nWith twenty trenched gashes on his head;\\nThe least a death to nature.\\n\\nMACBETH.\\nThanks for that.\\nThere the grown serpent lies; the worm that’s fled\\nHath nature that in time will venom breed,\\nNo teeth for th’ present.—Get thee gone; tomorrow\\nWe’ll hear, ourselves, again.\\n\\n [_Exit Murderer._]\\n\\nLADY MACBETH.\\nMy royal lord,\\nYou do not give the cheer: the feast is sold\\nThat is not often vouch’d, while ’tis a-making,\\n’Tis given with welcome. To feed were best at home;\\nFrom thence the sauce to meat is ceremony;\\nMeeting were bare without it.\\n\\n The Ghost of Banquo rises, and sits in Macbeth’s place.\\n\\nMACBETH.\\nSweet remembrancer!—\\nNow, good digestion wait on appetite,\\nAnd health on both!\\n\\nLENNOX.\\nMay’t please your Highness sit.\\n\\nMACBETH.\\nHere had we now our country’s honour roof’d,\\nWere the grac’d person of our Banquo present;\\nWho may I rather challenge for unkindness\\nThan pity for mischance!\\n\\nROSS.\\nHis absence, sir,\\nLays blame upon his promise. Please’t your Highness\\nTo grace us with your royal company?\\n\\nMACBETH.\\nThe table’s full.\\n\\nLENNOX.\\nHere is a place reserv’d, sir.\\n\\nMACBETH.\\nWhere?\\n\\nLENNOX.\\nHere, my good lord. What is’t that moves your Highness?\\n\\nMACBETH.\\nWhich of you have done this?\\n\\nLORDS.\\nWhat, my good lord?\\n\\nMACBETH.\\nThou canst not say I did it. Never shake\\nThy gory locks at me.\\n\\nROSS.\\nGentlemen, rise; his Highness is not well.\\n\\nLADY MACBETH.\\nSit, worthy friends. My lord is often thus,\\nAnd hath been from his youth: pray you, keep seat;\\nThe fit is momentary; upon a thought\\nHe will again be well. If much you note him,\\nYou shall offend him, and extend his passion.\\nFeed, and regard him not.—Are you a man?\\n\\nMACBETH.\\nAy, and a bold one, that dare look on that\\nWhich might appal the devil.\\n\\nLADY MACBETH.\\nO proper stuff!\\nThis is the very painting of your fear:\\nThis is the air-drawn dagger which you said,\\nLed you to Duncan. O, these flaws, and starts\\n(Impostors to true fear), would well become\\nA woman’s story at a winter’s fire,\\nAuthoris’d by her grandam. Shame itself!\\nWhy do you make such faces? When all’s done,\\nYou look but on a stool.\\n\\nMACBETH.\\nPr’ythee, see there!\\nBehold! look! lo! how say you?\\nWhy, what care I? If thou canst nod, speak too.—\\nIf charnel houses and our graves must send\\nThose that we bury back, our monuments\\nShall be the maws of kites.\\n\\n [_Ghost disappears._]\\n\\nLADY MACBETH.\\nWhat, quite unmann’d in folly?\\n\\nMACBETH.\\nIf I stand here, I saw him.\\n\\nLADY MACBETH.\\nFie, for shame!\\n\\nMACBETH.\\nBlood hath been shed ere now, i’ th’ olden time,\\nEre humane statute purg’d the gentle weal;\\nAy, and since too, murders have been perform’d\\nToo terrible for the ear: the time has been,\\nThat, when the brains were out, the man would die,\\nAnd there an end; but now they rise again,\\nWith twenty mortal murders on their crowns,\\nAnd push us from our stools. This is more strange\\nThan such a murder is.\\n\\nLADY MACBETH.\\nMy worthy lord,\\nYour noble friends do lack you.\\n\\nMACBETH.\\nI do forget.—\\nDo not muse at me, my most worthy friends.\\nI have a strange infirmity, which is nothing\\nTo those that know me. Come, love and health to all;\\nThen I’ll sit down.—Give me some wine, fill full.—\\nI drink to the general joy o’ th’ whole table,\\nAnd to our dear friend Banquo, whom we miss:\\nWould he were here.\\n\\n Ghost rises again.\\n\\nTo all, and him, we thirst,\\nAnd all to all.\\n\\nLORDS.\\nOur duties, and the pledge.\\n\\nMACBETH.\\nAvaunt! and quit my sight! let the earth hide thee!\\nThy bones are marrowless, thy blood is cold;\\nThou hast no speculation in those eyes\\nWhich thou dost glare with!\\n\\nLADY MACBETH.\\nThink of this, good peers,\\nBut as a thing of custom: ’tis no other,\\nOnly it spoils the pleasure of the time.\\n\\nMACBETH.\\nWhat man dare, I dare:\\nApproach thou like the rugged Russian bear,\\nThe arm’d rhinoceros, or th’ Hyrcan tiger;\\nTake any shape but that, and my firm nerves\\nShall never tremble: or be alive again,\\nAnd dare me to the desert with thy sword;\\nIf trembling I inhabit then, protest me\\nThe baby of a girl. Hence, horrible shadow!\\nUnreal mock’ry, hence!\\n\\n [_Ghost disappears._]\\n\\nWhy, so;—being gone,\\nI am a man again.—Pray you, sit still.\\n\\nLADY MACBETH.\\nYou have displaced the mirth, broke the good meeting\\nWith most admir’d disorder.\\n\\nMACBETH.\\nCan such things be,\\nAnd overcome us like a summer’s cloud,\\nWithout our special wonder? You make me strange\\nEven to the disposition that I owe,\\nWhen now I think you can behold such sights,\\nAnd keep the natural ruby of your cheeks,\\nWhen mine are blanch’d with fear.\\n\\nROSS.\\nWhat sights, my lord?\\n\\nLADY MACBETH.\\nI pray you, speak not; he grows worse and worse;\\nQuestion enrages him. At once, good night:—\\nStand not upon the order of your going,\\nBut go at once.\\n\\nLENNOX.\\nGood night; and better health\\nAttend his Majesty!\\n\\nLADY MACBETH.\\nA kind good night to all!\\n\\n [_Exeunt all Lords and Atendants._]\\n\\nMACBETH.\\nIt will have blood, they say, blood will have blood.\\nStones have been known to move, and trees to speak;\\nAugurs, and understood relations, have\\nBy magot-pies, and choughs, and rooks, brought forth\\nThe secret’st man of blood.—What is the night?\\n\\nLADY MACBETH.\\nAlmost at odds with morning, which is which.\\n\\nMACBETH.\\nHow say’st thou, that Macduff denies his person\\nAt our great bidding?\\n\\nLADY MACBETH.\\nDid you send to him, sir?\\n\\nMACBETH.\\nI hear it by the way; but I will send.\\nThere’s not a one of them but in his house\\nI keep a servant fee’d. I will tomorrow\\n(And betimes I will) to the Weird Sisters:\\nMore shall they speak; for now I am bent to know,\\nBy the worst means, the worst. For mine own good,\\nAll causes shall give way: I am in blood\\nStepp’d in so far that, should I wade no more,\\nReturning were as tedious as go o’er.\\nStrange things I have in head, that will to hand,\\nWhich must be acted ere they may be scann’d.\\n\\nLADY MACBETH.\\nYou lack the season of all natures, sleep.\\n\\nMACBETH.\\nCome, we’ll to sleep. My strange and self-abuse\\nIs the initiate fear that wants hard use.\\nWe are yet but young in deed.\\n\\n [_Exeunt._]\\n\\nSCENE V. The heath.\\n\\n Thunder. Enter the three Witches meeting Hecate.\\n\\nFIRST WITCH.\\nWhy, how now, Hecate? you look angerly.\\n\\nHECATE.\\nHave I not reason, beldams as you are,\\nSaucy and overbold? How did you dare\\nTo trade and traffic with Macbeth\\nIn riddles and affairs of death;\\nAnd I, the mistress of your charms,\\nThe close contriver of all harms,\\nWas never call’d to bear my part,\\nOr show the glory of our art?\\nAnd, which is worse, all you have done\\nHath been but for a wayward son,\\nSpiteful and wrathful; who, as others do,\\nLoves for his own ends, not for you.\\nBut make amends now: get you gone,\\nAnd at the pit of Acheron\\nMeet me i’ th’ morning: thither he\\nWill come to know his destiny.\\nYour vessels and your spells provide,\\nYour charms, and everything beside.\\nI am for th’ air; this night I’ll spend\\nUnto a dismal and a fatal end.\\nGreat business must be wrought ere noon.\\nUpon the corner of the moon\\nThere hangs a vap’rous drop profound;\\nI’ll catch it ere it come to ground:\\nAnd that, distill’d by magic sleights,\\nShall raise such artificial sprites,\\nAs, by the strength of their illusion,\\nShall draw him on to his confusion.\\nHe shall spurn fate, scorn death, and bear\\nHis hopes ’bove wisdom, grace, and fear.\\nAnd you all know, security\\nIs mortals’ chiefest enemy.\\n\\n [_Music and song within, “Come away, come away” &c._]\\n\\nHark! I am call’d; my little spirit, see,\\nSits in a foggy cloud and stays for me.\\n\\n [_Exit._]\\n\\nFIRST WITCH.\\nCome, let’s make haste; she’ll soon be back again.\\n\\n [_Exeunt._]\\n\\nSCENE VI. Forres. A Room in the Palace.\\n\\n Enter Lennox and another Lord.\\n\\nLENNOX.\\nMy former speeches have but hit your thoughts,\\nWhich can interpret farther: only, I say,\\nThing’s have been strangely borne. The gracious Duncan\\nWas pitied of Macbeth:—marry, he was dead:—\\nAnd the right valiant Banquo walk’d too late;\\nWhom, you may say, if’t please you, Fleance kill’d,\\nFor Fleance fled. Men must not walk too late.\\nWho cannot want the thought, how monstrous\\nIt was for Malcolm and for Donalbain\\nTo kill their gracious father? damned fact!\\nHow it did grieve Macbeth! did he not straight,\\nIn pious rage, the two delinquents tear\\nThat were the slaves of drink and thralls of sleep?\\nWas not that nobly done? Ay, and wisely too;\\nFor ’twould have anger’d any heart alive,\\nTo hear the men deny’t. So that, I say,\\nHe has borne all things well: and I do think,\\nThat had he Duncan’s sons under his key\\n(As, and’t please heaven, he shall not) they should find\\nWhat ’twere to kill a father; so should Fleance.\\nBut, peace!—for from broad words, and ’cause he fail’d\\nHis presence at the tyrant’s feast, I hear,\\nMacduff lives in disgrace. Sir, can you tell\\nWhere he bestows himself?\\n\\nLORD.\\nThe son of Duncan,\\nFrom whom this tyrant holds the due of birth,\\nLives in the English court and is receiv’d\\nOf the most pious Edward with such grace\\nThat the malevolence of fortune nothing\\nTakes from his high respect. Thither Macduff\\nIs gone to pray the holy king, upon his aid\\nTo wake Northumberland, and warlike Siward\\nThat, by the help of these (with Him above\\nTo ratify the work), we may again\\nGive to our tables meat, sleep to our nights;\\nFree from our feasts and banquets bloody knives,\\nDo faithful homage, and receive free honours,\\nAll which we pine for now. And this report\\nHath so exasperate the King that he\\nPrepares for some attempt of war.\\n\\nLENNOX.\\nSent he to Macduff?\\n\\nLORD.\\nHe did: and with an absolute “Sir, not I,”\\nThe cloudy messenger turns me his back,\\nAnd hums, as who should say, “You’ll rue the time\\nThat clogs me with this answer.”\\n\\nLENNOX.\\nAnd that well might\\nAdvise him to a caution, t’ hold what distance\\nHis wisdom can provide. Some holy angel\\nFly to the court of England, and unfold\\nHis message ere he come, that a swift blessing\\nMay soon return to this our suffering country\\nUnder a hand accurs’d!\\n\\nLORD.\\nI’ll send my prayers with him.\\n\\n [_Exeunt._]\\n\\n\\nACT IV\\n\\nSCENE I. A dark Cave. In the middle, a Cauldron Boiling.\\n\\n Thunder. Enter the three Witches.\\n\\nFIRST WITCH.\\nThrice the brinded cat hath mew’d.\\n\\nSECOND WITCH.\\nThrice, and once the hedge-pig whin’d.\\n\\nTHIRD WITCH.\\nHarpier cries:—’Tis time, ’tis time.\\n\\nFIRST WITCH.\\nRound about the cauldron go;\\nIn the poison’d entrails throw.—\\nToad, that under cold stone\\nDays and nights has thirty-one\\nSwelter’d venom sleeping got,\\nBoil thou first i’ th’ charmed pot!\\n\\nALL.\\nDouble, double, toil and trouble;\\nFire, burn; and cauldron, bubble.\\n\\nSECOND WITCH.\\nFillet of a fenny snake,\\nIn the cauldron boil and bake;\\nEye of newt, and toe of frog,\\nWool of bat, and tongue of dog,\\nAdder’s fork, and blind-worm’s sting,\\nLizard’s leg, and howlet’s wing,\\nFor a charm of powerful trouble,\\nLike a hell-broth boil and bubble.\\n\\nALL.\\nDouble, double, toil and trouble;\\nFire, burn; and cauldron, bubble.\\n\\nTHIRD WITCH.\\nScale of dragon, tooth of wolf,\\nWitch’s mummy, maw and gulf\\nOf the ravin’d salt-sea shark,\\nRoot of hemlock digg’d i’ th’ dark,\\nLiver of blaspheming Jew,\\nGall of goat, and slips of yew\\nSliver’d in the moon’s eclipse,\\nNose of Turk, and Tartar’s lips,\\nFinger of birth-strangled babe\\nDitch-deliver’d by a drab,\\nMake the gruel thick and slab:\\nAdd thereto a tiger’s chaudron,\\nFor th’ ingredients of our cauldron.\\n\\nALL.\\nDouble, double, toil and trouble;\\nFire, burn; and cauldron, bubble.\\n\\nSECOND WITCH.\\nCool it with a baboon’s blood.\\nThen the charm is firm and good.\\n\\n Enter Hecate.\\n\\nHECATE.\\nO, well done! I commend your pains,\\nAnd everyone shall share i’ th’ gains.\\nAnd now about the cauldron sing,\\nLike elves and fairies in a ring,\\nEnchanting all that you put in.\\n\\n [_Music and a song: “Black Spirits,” &c._]\\n\\n [_Exit Hecate._]\\n\\nSECOND WITCH.\\nBy the pricking of my thumbs,\\nSomething wicked this way comes.\\nOpen, locks,\\nWhoever knocks!\\n\\n Enter Macbeth.\\n\\nMACBETH.\\nHow now, you secret, black, and midnight hags!\\nWhat is’t you do?\\n\\nALL.\\nA deed without a name.\\n\\nMACBETH.\\nI conjure you, by that which you profess,\\n(Howe’er you come to know it) answer me:\\nThough you untie the winds, and let them fight\\nAgainst the churches; though the yesty waves\\nConfound and swallow navigation up;\\nThough bladed corn be lodg’d, and trees blown down;\\nThough castles topple on their warders’ heads;\\nThough palaces and pyramids do slope\\nTheir heads to their foundations; though the treasure\\nOf nature’s germens tumble all together,\\nEven till destruction sicken, answer me\\nTo what I ask you.\\n\\nFIRST WITCH.\\nSpeak.\\n\\nSECOND WITCH.\\nDemand.\\n\\nTHIRD WITCH.\\nWe’ll answer.\\n\\nFIRST WITCH.\\nSay, if thou’dst rather hear it from our mouths,\\nOr from our masters?\\n\\nMACBETH.\\nCall ’em, let me see ’em.\\n\\nFIRST WITCH.\\nPour in sow’s blood, that hath eaten\\nHer nine farrow; grease that’s sweaten\\nFrom the murderer’s gibbet throw\\nInto the flame.\\n\\nALL.\\nCome, high or low;\\nThyself and office deftly show!\\n\\n [_Thunder. An Apparition of an armed Head rises._]\\n\\nMACBETH.\\nTell me, thou unknown power,—\\n\\nFIRST WITCH.\\nHe knows thy thought:\\nHear his speech, but say thou naught.\\n\\nAPPARITION.\\nMacbeth! Macbeth! Macbeth! Beware Macduff;\\nBeware the Thane of Fife.—Dismiss me.—Enough.\\n\\n [_Descends._]\\n\\nMACBETH.\\nWhate’er thou art, for thy good caution, thanks;\\nThou hast harp’d my fear aright.—But one word more.\\n\\nFIRST WITCH.\\nHe will not be commanded. Here’s another,\\nMore potent than the first.\\n\\n [_Thunder. An Apparition of a bloody Child rises._]\\n\\nAPPARITION.\\nMacbeth! Macbeth! Macbeth!\\n\\nMACBETH.\\nHad I three ears, I’d hear thee.\\n\\nAPPARITION.\\nBe bloody, bold, and resolute. Laugh to scorn\\nThe power of man, for none of woman born\\nShall harm Macbeth.\\n\\n [_Descends._]\\n\\nMACBETH.\\nThen live, Macduff: what need I fear of thee?\\nBut yet I’ll make assurance double sure,\\nAnd take a bond of fate. Thou shalt not live;\\nThat I may tell pale-hearted fear it lies,\\nAnd sleep in spite of thunder.\\n\\n [_Thunder. An Apparition of a Child crowned, with a tree in his hand,\\n rises._]\\n\\nWhat is this,\\nThat rises like the issue of a king,\\nAnd wears upon his baby brow the round\\nAnd top of sovereignty?\\n\\nALL.\\nListen, but speak not to’t.\\n\\nAPPARITION.\\nBe lion-mettled, proud, and take no care\\nWho chafes, who frets, or where conspirers are:\\nMacbeth shall never vanquish’d be, until\\nGreat Birnam wood to high Dunsinane hill\\nShall come against him.\\n\\n [_Descends._]\\n\\nMACBETH.\\nThat will never be:\\nWho can impress the forest; bid the tree\\nUnfix his earth-bound root? Sweet bodements, good!\\nRebellious head, rise never till the wood\\nOf Birnam rise, and our high-plac’d Macbeth\\nShall live the lease of nature, pay his breath\\nTo time and mortal custom.—Yet my heart\\nThrobs to know one thing: tell me, if your art\\nCan tell so much, shall Banquo’s issue ever\\nReign in this kingdom?\\n\\nALL.\\nSeek to know no more.\\n\\nMACBETH.\\nI will be satisfied: deny me this,\\nAnd an eternal curse fall on you! Let me know.\\nWhy sinks that cauldron? and what noise is this?\\n\\n [_Hautboys._]\\n\\nFIRST WITCH.\\nShow!\\n\\nSECOND WITCH.\\nShow!\\n\\nTHIRD WITCH.\\nShow!\\n\\nALL.\\nShow his eyes, and grieve his heart;\\nCome like shadows, so depart!\\n\\n [_A show of eight kings appear, and pass over in order, the last with\\n a glass in his hand; Banquo following._]\\n\\nMACBETH.\\nThou are too like the spirit of Banquo. Down!\\nThy crown does sear mine eyeballs:—and thy hair,\\nThou other gold-bound brow, is like the first.\\nA third is like the former.—Filthy hags!\\nWhy do you show me this?—A fourth!—Start, eyes!\\nWhat, will the line stretch out to th’ crack of doom?\\nAnother yet!—A seventh!—I’ll see no more:—\\nAnd yet the eighth appears, who bears a glass\\nWhich shows me many more; and some I see\\nThat twofold balls and treble sceptres carry.\\nHorrible sight!—Now I see ’tis true;\\nFor the blood-bolter’d Banquo smiles upon me,\\nAnd points at them for his.—What! is this so?\\n\\nFIRST WITCH.\\nAy, sir, all this is so:—but why\\nStands Macbeth thus amazedly?—\\nCome, sisters, cheer we up his sprites,\\nAnd show the best of our delights.\\nI’ll charm the air to give a sound,\\nWhile you perform your antic round;\\nThat this great king may kindly say,\\nOur duties did his welcome pay.\\n\\n [_Music. The Witches dance, and vanish._]\\n\\nMACBETH.\\nWhere are they? Gone?—Let this pernicious hour\\nStand aye accursed in the calendar!—\\nCome in, without there!\\n\\n Enter Lennox.\\n\\nLENNOX.\\nWhat’s your Grace’s will?\\n\\nMACBETH.\\nSaw you the Weird Sisters?\\n\\nLENNOX.\\nNo, my lord.\\n\\nMACBETH.\\nCame they not by you?\\n\\nLENNOX.\\nNo, indeed, my lord.\\n\\nMACBETH.\\nInfected be the air whereon they ride;\\nAnd damn’d all those that trust them!—I did hear\\nThe galloping of horse: who was’t came by?\\n\\nLENNOX.\\n’Tis two or three, my lord, that bring you word\\nMacduff is fled to England.\\n\\nMACBETH.\\nFled to England!\\n\\nLENNOX.\\nAy, my good lord.\\n\\nMACBETH.\\nTime, thou anticipat’st my dread exploits:\\nThe flighty purpose never is o’ertook\\nUnless the deed go with it. From this moment\\nThe very firstlings of my heart shall be\\nThe firstlings of my hand. And even now,\\nTo crown my thoughts with acts, be it thought and done:\\nThe castle of Macduff I will surprise;\\nSeize upon Fife; give to th’ edge o’ th’ sword\\nHis wife, his babes, and all unfortunate souls\\nThat trace him in his line. No boasting like a fool;\\nThis deed I’ll do before this purpose cool:\\nBut no more sights!—Where are these gentlemen?\\nCome, bring me where they are.\\n\\n [_Exeunt._]\\n\\nSCENE II. Fife. A Room in Macduff’s Castle.\\n\\n Enter Lady Macduff her Son and Ross.\\n\\nLADY MACDUFF.\\nWhat had he done, to make him fly the land?\\n\\nROSS.\\nYou must have patience, madam.\\n\\nLADY MACDUFF.\\nHe had none:\\nHis flight was madness: when our actions do not,\\nOur fears do make us traitors.\\n\\nROSS.\\nYou know not\\nWhether it was his wisdom or his fear.\\n\\nLADY MACDUFF.\\nWisdom! to leave his wife, to leave his babes,\\nHis mansion, and his titles, in a place\\nFrom whence himself does fly? He loves us not:\\nHe wants the natural touch; for the poor wren,\\nThe most diminutive of birds, will fight,\\nHer young ones in her nest, against the owl.\\nAll is the fear, and nothing is the love;\\nAs little is the wisdom, where the flight\\nSo runs against all reason.\\n\\nROSS.\\nMy dearest coz,\\nI pray you, school yourself: but, for your husband,\\nHe is noble, wise, judicious, and best knows\\nThe fits o’ th’ season. I dare not speak much further:\\nBut cruel are the times, when we are traitors,\\nAnd do not know ourselves; when we hold rumour\\nFrom what we fear, yet know not what we fear,\\nBut float upon a wild and violent sea\\nEach way and move—I take my leave of you:\\nShall not be long but I’ll be here again.\\nThings at the worst will cease, or else climb upward\\nTo what they were before.—My pretty cousin,\\nBlessing upon you!\\n\\nLADY MACDUFF.\\nFather’d he is, and yet he’s fatherless.\\n\\nROSS.\\nI am so much a fool, should I stay longer,\\nIt would be my disgrace and your discomfort:\\nI take my leave at once.\\n\\n [_Exit._]\\n\\nLADY MACDUFF.\\nSirrah, your father’s dead.\\nAnd what will you do now? How will you live?\\n\\nSON.\\nAs birds do, mother.\\n\\nLADY MACDUFF.\\nWhat, with worms and flies?\\n\\nSON.\\nWith what I get, I mean; and so do they.\\n\\nLADY MACDUFF.\\nPoor bird! thou’dst never fear the net nor lime,\\nThe pit-fall nor the gin.\\n\\nSON.\\nWhy should I, mother? Poor birds they are not set for.\\nMy father is not dead, for all your saying.\\n\\nLADY MACDUFF.\\nYes, he is dead: how wilt thou do for a father?\\n\\nSON.\\nNay, how will you do for a husband?\\n\\nLADY MACDUFF.\\nWhy, I can buy me twenty at any market.\\n\\nSON.\\nThen you’ll buy ’em to sell again.\\n\\nLADY MACDUFF.\\nThou speak’st with all thy wit;\\nAnd yet, i’ faith, with wit enough for thee.\\n\\nSON.\\nWas my father a traitor, mother?\\n\\nLADY MACDUFF.\\nAy, that he was.\\n\\nSON.\\nWhat is a traitor?\\n\\nLADY MACDUFF.\\nWhy, one that swears and lies.\\n\\nSON.\\nAnd be all traitors that do so?\\n\\nLADY MACDUFF.\\nEvery one that does so is a traitor, and must be hanged.\\n\\nSON.\\nAnd must they all be hanged that swear and lie?\\n\\nLADY MACDUFF.\\nEvery one.\\n\\nSON.\\nWho must hang them?\\n\\nLADY MACDUFF.\\nWhy, the honest men.\\n\\nSON.\\nThen the liars and swearers are fools: for there are liars and swearers\\nenow to beat the honest men and hang up them.\\n\\nLADY MACDUFF.\\nNow, God help thee, poor monkey! But how wilt thou do for a father?\\n\\nSON.\\nIf he were dead, you’ld weep for him: if you would not, it were a good\\nsign that I should quickly have a new father.\\n\\nLADY MACDUFF.\\nPoor prattler, how thou talk’st!\\n\\n Enter a Messenger.\\n\\nMESSENGER.\\nBless you, fair dame! I am not to you known,\\nThough in your state of honour I am perfect.\\nI doubt some danger does approach you nearly:\\nIf you will take a homely man’s advice,\\nBe not found here; hence, with your little ones.\\nTo fright you thus, methinks, I am too savage;\\nTo do worse to you were fell cruelty,\\nWhich is too nigh your person. Heaven preserve you!\\nI dare abide no longer.\\n\\n [_Exit._]\\n\\nLADY MACDUFF.\\nWhither should I fly?\\nI have done no harm. But I remember now\\nI am in this earthly world, where to do harm\\nIs often laudable; to do good sometime\\nAccounted dangerous folly:  why then, alas,\\nDo I put up that womanly defence,\\nTo say I have done no harm? What are these faces?\\n\\n Enter Murderers.\\n\\nFIRST MURDERER.\\nWhere is your husband?\\n\\nLADY MACDUFF.\\nI hope, in no place so unsanctified\\nWhere such as thou mayst find him.\\n\\nFIRST MURDERER.\\nHe’s a traitor.\\n\\nSON.\\nThou liest, thou shag-ear’d villain!\\n\\nFIRST MURDERER.\\nWhat, you egg!\\n\\n [_Stabbing him._]\\n\\nYoung fry of treachery!\\n\\nSON.\\nHe has kill’d me, mother:\\nRun away, I pray you!\\n\\n [_Dies. Exit Lady Macduff, crying “Murder!” and pursued by the\\n Murderers._]\\n\\nSCENE III. England. Before the King’s Palace.\\n\\n Enter Malcolm and Macduff.\\n\\nMALCOLM.\\nLet us seek out some desolate shade and there\\nWeep our sad bosoms empty.\\n\\nMACDUFF.\\nLet us rather\\nHold fast the mortal sword, and, like good men,\\nBestride our down-fall’n birthdom. Each new morn\\nNew widows howl, new orphans cry; new sorrows\\nStrike heaven on the face, that it resounds\\nAs if it felt with Scotland, and yell’d out\\nLike syllable of dolour.\\n\\nMALCOLM.\\nWhat I believe, I’ll wail;\\nWhat know, believe; and what I can redress,\\nAs I shall find the time to friend, I will.\\nWhat you have spoke, it may be so, perchance.\\nThis tyrant, whose sole name blisters our tongues,\\nWas once thought honest: you have loved him well;\\nHe hath not touch’d you yet. I am young; but something\\nYou may deserve of him through me; and wisdom\\nTo offer up a weak, poor, innocent lamb\\nTo appease an angry god.\\n\\nMACDUFF.\\nI am not treacherous.\\n\\nMALCOLM.\\nBut Macbeth is.\\nA good and virtuous nature may recoil\\nIn an imperial charge. But I shall crave your pardon.\\nThat which you are, my thoughts cannot transpose.\\nAngels are bright still, though the brightest fell:\\nThough all things foul would wear the brows of grace,\\nYet grace must still look so.\\n\\nMACDUFF.\\nI have lost my hopes.\\n\\nMALCOLM.\\nPerchance even there where I did find my doubts.\\nWhy in that rawness left you wife and child,\\nThose precious motives, those strong knots of love,\\nWithout leave-taking?—I pray you,\\nLet not my jealousies be your dishonours,\\nBut mine own safeties. You may be rightly just,\\nWhatever I shall think.\\n\\nMACDUFF.\\nBleed, bleed, poor country!\\nGreat tyranny, lay thou thy basis sure,\\nFor goodness dare not check thee! wear thou thy wrongs;\\nThe title is affeer’d.—Fare thee well, lord:\\nI would not be the villain that thou think’st\\nFor the whole space that’s in the tyrant’s grasp\\nAnd the rich East to boot.\\n\\nMALCOLM.\\nBe not offended:\\nI speak not as in absolute fear of you.\\nI think our country sinks beneath the yoke;\\nIt weeps, it bleeds; and each new day a gash\\nIs added to her wounds. I think, withal,\\nThere would be hands uplifted in my right;\\nAnd here, from gracious England, have I offer\\nOf goodly thousands: but, for all this,\\nWhen I shall tread upon the tyrant’s head,\\nOr wear it on my sword, yet my poor country\\nShall have more vices than it had before,\\nMore suffer, and more sundry ways than ever,\\nBy him that shall succeed.\\n\\nMACDUFF.\\nWhat should he be?\\n\\nMALCOLM.\\nIt is myself I mean; in whom I know\\nAll the particulars of vice so grafted\\nThat, when they shall be open’d, black Macbeth\\nWill seem as pure as snow; and the poor state\\nEsteem him as a lamb, being compar’d\\nWith my confineless harms.\\n\\nMACDUFF.\\nNot in the legions\\nOf horrid hell can come a devil more damn’d\\nIn evils to top Macbeth.\\n\\nMALCOLM.\\nI grant him bloody,\\nLuxurious, avaricious, false, deceitful,\\nSudden, malicious, smacking of every sin\\nThat has a name: but there’s no bottom, none,\\nIn my voluptuousness: your wives, your daughters,\\nYour matrons, and your maids, could not fill up\\nThe cistern of my lust; and my desire\\nAll continent impediments would o’erbear,\\nThat did oppose my will: better Macbeth\\nThan such an one to reign.\\n\\nMACDUFF.\\nBoundless intemperance\\nIn nature is a tyranny; it hath been\\nTh’ untimely emptying of the happy throne,\\nAnd fall of many kings. But fear not yet\\nTo take upon you what is yours: you may\\nConvey your pleasures in a spacious plenty,\\nAnd yet seem cold—the time you may so hoodwink.\\nWe have willing dames enough; there cannot be\\nThat vulture in you, to devour so many\\nAs will to greatness dedicate themselves,\\nFinding it so inclin’d.\\n\\nMALCOLM.\\nWith this there grows\\nIn my most ill-compos’d affection such\\nA staunchless avarice, that, were I king,\\nI should cut off the nobles for their lands;\\nDesire his jewels, and this other’s house:\\nAnd my more-having would be as a sauce\\nTo make me hunger more; that I should forge\\nQuarrels unjust against the good and loyal,\\nDestroying them for wealth.\\n\\nMACDUFF.\\nThis avarice\\nSticks deeper; grows with more pernicious root\\nThan summer-seeming lust; and it hath been\\nThe sword of our slain kings: yet do not fear;\\nScotland hath foisons to fill up your will,\\nOf your mere own. All these are portable,\\nWith other graces weigh’d.\\n\\nMALCOLM.\\nBut I have none: the king-becoming graces,\\nAs justice, verity, temp’rance, stableness,\\nBounty, perseverance, mercy, lowliness,\\nDevotion, patience, courage, fortitude,\\nI have no relish of them; but abound\\nIn the division of each several crime,\\nActing it many ways. Nay, had I power, I should\\nPour the sweet milk of concord into hell,\\nUproar the universal peace, confound\\nAll unity on earth.\\n\\nMACDUFF.\\nO Scotland, Scotland!\\n\\nMALCOLM.\\nIf such a one be fit to govern, speak:\\nI am as I have spoken.\\n\\nMACDUFF.\\nFit to govern?\\nNo, not to live.—O nation miserable,\\nWith an untitled tyrant bloody-scepter’d,\\nWhen shalt thou see thy wholesome days again,\\nSince that the truest issue of thy throne\\nBy his own interdiction stands accus’d,\\nAnd does blaspheme his breed? Thy royal father\\nWas a most sainted king. The queen that bore thee,\\nOft’ner upon her knees than on her feet,\\nDied every day she lived. Fare thee well!\\nThese evils thou repeat’st upon thyself\\nHave banish’d me from Scotland.—O my breast,\\nThy hope ends here!\\n\\nMALCOLM.\\nMacduff, this noble passion,\\nChild of integrity, hath from my soul\\nWiped the black scruples, reconcil’d my thoughts\\nTo thy good truth and honour. Devilish Macbeth\\nBy many of these trains hath sought to win me\\nInto his power, and modest wisdom plucks me\\nFrom over-credulous haste: but God above\\nDeal between thee and me! for even now\\nI put myself to thy direction, and\\nUnspeak mine own detraction; here abjure\\nThe taints and blames I laid upon myself,\\nFor strangers to my nature. I am yet\\nUnknown to woman; never was forsworn;\\nScarcely have coveted what was mine own;\\nAt no time broke my faith; would not betray\\nThe devil to his fellow; and delight\\nNo less in truth than life: my first false speaking\\nWas this upon myself. What I am truly,\\nIs thine and my poor country’s to command:\\nWhither, indeed, before thy here-approach,\\nOld Siward, with ten thousand warlike men,\\nAlready at a point, was setting forth.\\nNow we’ll together, and the chance of goodness\\nBe like our warranted quarrel. Why are you silent?\\n\\nMACDUFF.\\nSuch welcome and unwelcome things at once\\n’Tis hard to reconcile.\\n\\n Enter a Doctor.\\n\\nMALCOLM.\\nWell; more anon.—Comes the King forth, I pray you?\\n\\nDOCTOR.\\nAy, sir. There are a crew of wretched souls\\nThat stay his cure: their malady convinces\\nThe great assay of art; but at his touch,\\nSuch sanctity hath heaven given his hand,\\nThey presently amend.\\n\\nMALCOLM.\\nI thank you, doctor.\\n\\n [_Exit Doctor._]\\n\\nMACDUFF.\\nWhat’s the disease he means?\\n\\nMALCOLM.\\n’Tis call’d the evil:\\nA most miraculous work in this good king;\\nWhich often, since my here-remain in England,\\nI have seen him do. How he solicits heaven,\\nHimself best knows, but strangely-visited people,\\nAll swoln and ulcerous, pitiful to the eye,\\nThe mere despair of surgery, he cures;\\nHanging a golden stamp about their necks,\\nPut on with holy prayers: and ’tis spoken,\\nTo the succeeding royalty he leaves\\nThe healing benediction. With this strange virtue,\\nHe hath a heavenly gift of prophecy;\\nAnd sundry blessings hang about his throne,\\nThat speak him full of grace.\\n\\n Enter Ross.\\n\\nMACDUFF.\\nSee, who comes here?\\n\\nMALCOLM.\\nMy countryman; but yet I know him not.\\n\\nMACDUFF.\\nMy ever-gentle cousin, welcome hither.\\n\\nMALCOLM.\\nI know him now. Good God, betimes remove\\nThe means that makes us strangers!\\n\\nROSS.\\nSir, amen.\\n\\nMACDUFF.\\nStands Scotland where it did?\\n\\nROSS.\\nAlas, poor country,\\nAlmost afraid to know itself! It cannot\\nBe call’d our mother, but our grave, where nothing,\\nBut who knows nothing, is once seen to smile;\\nWhere sighs, and groans, and shrieks, that rent the air,\\nAre made, not mark’d; where violent sorrow seems\\nA modern ecstasy. The dead man’s knell\\nIs there scarce ask’d for who; and good men’s lives\\nExpire before the flowers in their caps,\\nDying or ere they sicken.\\n\\nMACDUFF.\\nO, relation\\nToo nice, and yet too true!\\n\\nMALCOLM.\\nWhat’s the newest grief?\\n\\nROSS.\\nThat of an hour’s age doth hiss the speaker;\\nEach minute teems a new one.\\n\\nMACDUFF.\\nHow does my wife?\\n\\nROSS.\\nWhy, well.\\n\\nMACDUFF.\\nAnd all my children?\\n\\nROSS.\\nWell too.\\n\\nMACDUFF.\\nThe tyrant has not batter’d at their peace?\\n\\nROSS.\\nNo; they were well at peace when I did leave ’em.\\n\\nMACDUFF.\\nBe not a niggard of your speech: how goes’t?\\n\\nROSS.\\nWhen I came hither to transport the tidings,\\nWhich I have heavily borne, there ran a rumour\\nOf many worthy fellows that were out;\\nWhich was to my belief witness’d the rather,\\nFor that I saw the tyrant’s power afoot.\\nNow is the time of help. Your eye in Scotland\\nWould create soldiers, make our women fight,\\nTo doff their dire distresses.\\n\\nMALCOLM.\\nBe’t their comfort\\nWe are coming thither. Gracious England hath\\nLent us good Siward and ten thousand men;\\nAn older and a better soldier none\\nThat Christendom gives out.\\n\\nROSS.\\nWould I could answer\\nThis comfort with the like! But I have words\\nThat would be howl’d out in the desert air,\\nWhere hearing should not latch them.\\n\\nMACDUFF.\\nWhat concern they?\\nThe general cause? or is it a fee-grief\\nDue to some single breast?\\n\\nROSS.\\nNo mind that’s honest\\nBut in it shares some woe, though the main part\\nPertains to you alone.\\n\\nMACDUFF.\\nIf it be mine,\\nKeep it not from me, quickly let me have it.\\n\\nROSS.\\nLet not your ears despise my tongue for ever,\\nWhich shall possess them with the heaviest sound\\nThat ever yet they heard.\\n\\nMACDUFF.\\nHumh! I guess at it.\\n\\nROSS.\\nYour castle is surpris’d; your wife and babes\\nSavagely slaughter’d. To relate the manner\\nWere, on the quarry of these murder’d deer,\\nTo add the death of you.\\n\\nMALCOLM.\\nMerciful heaven!—\\nWhat, man! ne’er pull your hat upon your brows.\\nGive sorrow words. The grief that does not speak\\nWhispers the o’er-fraught heart, and bids it break.\\n\\nMACDUFF.\\nMy children too?\\n\\nROSS.\\nWife, children, servants, all\\nThat could be found.\\n\\nMACDUFF.\\nAnd I must be from thence!\\nMy wife kill’d too?\\n\\nROSS.\\nI have said.\\n\\nMALCOLM.\\nBe comforted:\\nLet’s make us med’cines of our great revenge,\\nTo cure this deadly grief.\\n\\nMACDUFF.\\nHe has no children.—All my pretty ones?\\nDid you say all?—O hell-kite!—All?\\nWhat, all my pretty chickens and their dam\\nAt one fell swoop?\\n\\nMALCOLM.\\nDispute it like a man.\\n\\nMACDUFF.\\nI shall do so;\\nBut I must also feel it as a man:\\nI cannot but remember such things were,\\nThat were most precious to me.—Did heaven look on,\\nAnd would not take their part? Sinful Macduff,\\nThey were all struck for thee! Naught that I am,\\nNot for their own demerits, but for mine,\\nFell slaughter on their souls: heaven rest them now!\\n\\nMALCOLM.\\nBe this the whetstone of your sword. Let grief\\nConvert to anger; blunt not the heart, enrage it.\\n\\nMACDUFF.\\nO, I could play the woman with mine eyes,\\nAnd braggart with my tongue!—But, gentle heavens,\\nCut short all intermission; front to front,\\nBring thou this fiend of Scotland and myself;\\nWithin my sword’s length set him; if he ’scape,\\nHeaven forgive him too!\\n\\nMALCOLM.\\nThis tune goes manly.\\nCome, go we to the King. Our power is ready;\\nOur lack is nothing but our leave. Macbeth\\nIs ripe for shaking, and the powers above\\nPut on their instruments. Receive what cheer you may;\\nThe night is long that never finds the day.\\n\\n [_Exeunt._]\\n\\n\\nACT V\\n\\nSCENE I. Dunsinane. A Room in the Castle.\\n\\n Enter a Doctor of Physic and a Waiting-Gentlewoman.\\n\\nDOCTOR.\\nI have two nights watched with you, but can perceive no truth in your\\nreport. When was it she last walked?\\n\\nGENTLEWOMAN.\\nSince his Majesty went into the field, I have seen her rise from her\\nbed, throw her nightgown upon her, unlock her closet, take forth paper,\\nfold it, write upon’t, read it, afterwards seal it, and again return to\\nbed; yet all this while in a most fast sleep.\\n\\nDOCTOR.\\nA great perturbation in nature, to receive at once the benefit of\\nsleep, and do the effects of watching. In this slumbery agitation,\\nbesides her walking and other actual performances, what, at any time,\\nhave you heard her say?\\n\\nGENTLEWOMAN.\\nThat, sir, which I will not report after her.\\n\\nDOCTOR.\\nYou may to me; and ’tis most meet you should.\\n\\nGENTLEWOMAN.\\nNeither to you nor anyone; having no witness to confirm my speech.\\n\\n Enter Lady Macbeth with a taper.\\n\\nLo you, here she comes! This is her very guise; and, upon my life, fast\\nasleep. Observe her; stand close.\\n\\nDOCTOR.\\nHow came she by that light?\\n\\nGENTLEWOMAN.\\nWhy, it stood by her: she has light by her continually; ’tis her\\ncommand.\\n\\nDOCTOR.\\nYou see, her eyes are open.\\n\\nGENTLEWOMAN.\\nAy, but their sense are shut.\\n\\nDOCTOR.\\nWhat is it she does now? Look how she rubs her hands.\\n\\nGENTLEWOMAN.\\nIt is an accustomed action with her, to seem thus washing her hands. I\\nhave known her continue in this a quarter of an hour.\\n\\nLADY MACBETH.\\nYet here’s a spot.\\n\\nDOCTOR.\\nHark, she speaks. I will set down what comes from her, to satisfy my\\nremembrance the more strongly.\\n\\nLADY MACBETH.\\nOut, damned spot! out, I say! One; two. Why, then ’tis time to do’t.\\nHell is murky! Fie, my lord, fie! a soldier, and afeard? What need we\\nfear who knows it, when none can call our power to account? Yet who\\nwould have thought the old man to have had so much blood in him?\\n\\nDOCTOR.\\nDo you mark that?\\n\\nLADY MACBETH.\\nThe Thane of Fife had a wife. Where is she now?—What, will these hands\\nne’er be clean? No more o’ that, my lord, no more o’ that: you mar all\\nwith this starting.\\n\\nDOCTOR.\\nGo to, go to. You have known what you should not.\\n\\nGENTLEWOMAN.\\nShe has spoke what she should not, I am sure of that: heaven knows what\\nshe has known.\\n\\nLADY MACBETH.\\nHere’s the smell of the blood still: all the perfumes of Arabia will\\nnot sweeten this little hand. Oh, oh, oh!\\n\\nDOCTOR.\\nWhat a sigh is there! The heart is sorely charged.\\n\\nGENTLEWOMAN.\\nI would not have such a heart in my bosom for the dignity of the whole\\nbody.\\n\\nDOCTOR.\\nWell, well, well.\\n\\nGENTLEWOMAN.\\nPray God it be, sir.\\n\\nDOCTOR.\\nThis disease is beyond my practice: yet I have known those which have\\nwalked in their sleep, who have died holily in their beds.\\n\\nLADY MACBETH.\\nWash your hands, put on your nightgown; look not so pale. I tell you\\nyet again, Banquo’s buried; he cannot come out on’s grave.\\n\\nDOCTOR.\\nEven so?\\n\\nLADY MACBETH.\\nTo bed, to bed. There’s knocking at the gate. Come, come, come, come,\\ngive me your hand. What’s done cannot be undone. To bed, to bed, to\\nbed.\\n\\n [_Exit._]\\n\\nDOCTOR.\\nWill she go now to bed?\\n\\nGENTLEWOMAN.\\nDirectly.\\n\\nDOCTOR.\\nFoul whisp’rings are abroad. Unnatural deeds\\nDo breed unnatural troubles: infected minds\\nTo their deaf pillows will discharge their secrets.\\nMore needs she the divine than the physician.—\\nGod, God, forgive us all! Look after her;\\nRemove from her the means of all annoyance,\\nAnd still keep eyes upon her. So, good night:\\nMy mind she has mated, and amaz’d my sight.\\nI think, but dare not speak.\\n\\nGENTLEWOMAN.\\nGood night, good doctor.\\n\\n [_Exeunt._]\\n\\nSCENE II. The Country near Dunsinane.\\n\\n Enter, with drum and colours Menteith, Caithness, Angus, Lennox and\\n Soldiers.\\n\\nMENTEITH.\\nThe English power is near, led on by Malcolm,\\nHis uncle Siward, and the good Macduff.\\nRevenges burn in them; for their dear causes\\nWould to the bleeding and the grim alarm\\nExcite the mortified man.\\n\\nANGUS.\\nNear Birnam wood\\nShall we well meet them. That way are they coming.\\n\\nCAITHNESS.\\nWho knows if Donalbain be with his brother?\\n\\nLENNOX.\\nFor certain, sir, he is not. I have a file\\nOf all the gentry: there is Siward’s son\\nAnd many unrough youths, that even now\\nProtest their first of manhood.\\n\\nMENTEITH.\\nWhat does the tyrant?\\n\\nCAITHNESS.\\nGreat Dunsinane he strongly fortifies.\\nSome say he’s mad; others, that lesser hate him,\\nDo call it valiant fury: but, for certain,\\nHe cannot buckle his distemper’d cause\\nWithin the belt of rule.\\n\\nANGUS.\\nNow does he feel\\nHis secret murders sticking on his hands;\\nNow minutely revolts upbraid his faith-breach;\\nThose he commands move only in command,\\nNothing in love: now does he feel his title\\nHang loose about him, like a giant’s robe\\nUpon a dwarfish thief.\\n\\nMENTEITH.\\nWho, then, shall blame\\nHis pester’d senses to recoil and start,\\nWhen all that is within him does condemn\\nItself for being there?\\n\\nCAITHNESS.\\nWell, march we on,\\nTo give obedience where ’tis truly ow’d:\\nMeet we the med’cine of the sickly weal;\\nAnd with him pour we, in our country’s purge,\\nEach drop of us.\\n\\nLENNOX.\\nOr so much as it needs\\nTo dew the sovereign flower, and drown the weeds.\\nMake we our march towards Birnam.\\n\\n [_Exeunt, marching._]\\n\\nSCENE III. Dunsinane. A Room in the Castle.\\n\\n Enter Macbeth, Doctor and Attendants.\\n\\nMACBETH.\\nBring me no more reports; let them fly all:\\nTill Birnam wood remove to Dunsinane\\nI cannot taint with fear. What’s the boy Malcolm?\\nWas he not born of woman? The spirits that know\\nAll mortal consequences have pronounc’d me thus:\\n“Fear not, Macbeth; no man that’s born of woman\\nShall e’er have power upon thee.”—Then fly, false thanes,\\nAnd mingle with the English epicures:\\nThe mind I sway by, and the heart I bear,\\nShall never sag with doubt nor shake with fear.\\n\\n Enter a Servant.\\n\\nThe devil damn thee black, thou cream-fac’d loon!\\nWhere gott’st thou that goose look?\\n\\nSERVANT.\\nThere is ten thousand—\\n\\nMACBETH.\\nGeese, villain?\\n\\nSERVANT.\\nSoldiers, sir.\\n\\nMACBETH.\\nGo prick thy face and over-red thy fear,\\nThou lily-liver’d boy. What soldiers, patch?\\nDeath of thy soul! those linen cheeks of thine\\nAre counsellors to fear. What soldiers, whey-face?\\n\\nSERVANT.\\nThe English force, so please you.\\n\\nMACBETH.\\nTake thy face hence.\\n\\n [_Exit Servant._]\\n\\nSeyton!—I am sick at heart,\\nWhen I behold—Seyton, I say!—This push\\nWill cheer me ever or disseat me now.\\nI have liv’d long enough: my way of life\\nIs fall’n into the sere, the yellow leaf;\\nAnd that which should accompany old age,\\nAs honour, love, obedience, troops of friends,\\nI must not look to have; but, in their stead,\\nCurses, not loud but deep, mouth-honour, breath,\\nWhich the poor heart would fain deny, and dare not.\\nSeyton!—\\n\\n Enter Seyton.\\n\\nSEYTON.\\nWhat’s your gracious pleasure?\\n\\nMACBETH.\\nWhat news more?\\n\\nSEYTON.\\nAll is confirm’d, my lord, which was reported.\\n\\nMACBETH.\\nI’ll fight till from my bones my flesh be hack’d.\\nGive me my armour.\\n\\nSEYTON.\\n’Tis not needed yet.\\n\\nMACBETH.\\nI’ll put it on.\\nSend out more horses, skirr the country round;\\nHang those that talk of fear. Give me mine armour.—\\nHow does your patient, doctor?\\n\\nDOCTOR.\\nNot so sick, my lord,\\nAs she is troubled with thick-coming fancies,\\nThat keep her from her rest.\\n\\nMACBETH.\\nCure her of that:\\nCanst thou not minister to a mind diseas’d,\\nPluck from the memory a rooted sorrow,\\nRaze out the written troubles of the brain,\\nAnd with some sweet oblivious antidote\\nCleanse the stuff’d bosom of that perilous stuff\\nWhich weighs upon the heart?\\n\\nDOCTOR.\\nTherein the patient\\nMust minister to himself.\\n\\nMACBETH.\\nThrow physic to the dogs, I’ll none of it.\\nCome, put mine armour on; give me my staff:\\nSeyton, send out.—Doctor, the Thanes fly from me.—\\nCome, sir, despatch.—If thou couldst, doctor, cast\\nThe water of my land, find her disease,\\nAnd purge it to a sound and pristine health,\\nI would applaud thee to the very echo,\\nThat should applaud again.—Pull’t off, I say.—\\nWhat rhubarb, senna, or what purgative drug,\\nWould scour these English hence? Hear’st thou of them?\\n\\nDOCTOR.\\nAy, my good lord. Your royal preparation\\nMakes us hear something.\\n\\nMACBETH.\\nBring it after me.—\\nI will not be afraid of death and bane,\\nTill Birnam forest come to Dunsinane.\\n\\n [_Exeunt all except Doctor._]\\n\\nDOCTOR.\\nWere I from Dunsinane away and clear,\\nProfit again should hardly draw me here.\\n\\n [_Exit._]\\n\\nSCENE IV. Country near Dunsinane: a Wood in view.\\n\\n Enter, with drum and colours Malcolm, old Siward and his Son, Macduff,\\n Menteith, Caithness, Angus, Lennox, Ross and Soldiers, marching.\\n\\nMALCOLM.\\nCousins, I hope the days are near at hand\\nThat chambers will be safe.\\n\\nMENTEITH.\\nWe doubt it nothing.\\n\\nSIWARD.\\nWhat wood is this before us?\\n\\nMENTEITH.\\nThe wood of Birnam.\\n\\nMALCOLM.\\nLet every soldier hew him down a bough,\\nAnd bear’t before him. Thereby shall we shadow\\nThe numbers of our host, and make discovery\\nErr in report of us.\\n\\nSOLDIERS.\\nIt shall be done.\\n\\nSIWARD.\\nWe learn no other but the confident tyrant\\nKeeps still in Dunsinane, and will endure\\nOur setting down before’t.\\n\\nMALCOLM.\\n’Tis his main hope;\\nFor where there is advantage to be given,\\nBoth more and less have given him the revolt,\\nAnd none serve with him but constrained things,\\nWhose hearts are absent too.\\n\\nMACDUFF.\\nLet our just censures\\nAttend the true event, and put we on\\nIndustrious soldiership.\\n\\nSIWARD.\\nThe time approaches,\\nThat will with due decision make us know\\nWhat we shall say we have, and what we owe.\\nThoughts speculative their unsure hopes relate,\\nBut certain issue strokes must arbitrate;\\nTowards which advance the war.\\n\\n [_Exeunt, marching._]\\n\\nSCENE V. Dunsinane. Within the castle.\\n\\n Enter with drum and colours, Macbeth, Seyton and Soldiers.\\n\\nMACBETH.\\nHang out our banners on the outward walls;\\nThe cry is still, “They come!” Our castle’s strength\\nWill laugh a siege to scorn: here let them lie\\nTill famine and the ague eat them up.\\nWere they not forc’d with those that should be ours,\\nWe might have met them dareful, beard to beard,\\nAnd beat them backward home.\\n\\n [_A cry of women within._]\\n\\nWhat is that noise?\\n\\nSEYTON.\\nIt is the cry of women, my good lord.\\n\\n [_Exit._]\\n\\nMACBETH.\\nI have almost forgot the taste of fears.\\nThe time has been, my senses would have cool’d\\nTo hear a night-shriek; and my fell of hair\\nWould at a dismal treatise rouse and stir\\nAs life were in’t. I have supp’d full with horrors;\\nDireness, familiar to my slaughterous thoughts,\\nCannot once start me.\\n\\n Enter Seyton.\\n\\nWherefore was that cry?\\n\\nSEYTON.\\nThe Queen, my lord, is dead.\\n\\nMACBETH.\\nShe should have died hereafter.\\nThere would have been a time for such a word.\\nTomorrow, and tomorrow, and tomorrow,\\nCreeps in this petty pace from day to day,\\nTo the last syllable of recorded time;\\nAnd all our yesterdays have lighted fools\\nThe way to dusty death. Out, out, brief candle!\\nLife’s but a walking shadow; a poor player,\\nThat struts and frets his hour upon the stage,\\nAnd then is heard no more: it is a tale\\nTold by an idiot, full of sound and fury,\\nSignifying nothing.\\n\\n Enter a Messenger.\\n\\nThou com’st to use thy tongue; thy story quickly.\\n\\nMESSENGER.\\nGracious my lord,\\nI should report that which I say I saw,\\nBut know not how to do’t.\\n\\nMACBETH.\\nWell, say, sir.\\n\\nMESSENGER.\\nAs I did stand my watch upon the hill,\\nI look’d toward Birnam, and anon, methought,\\nThe wood began to move.\\n\\nMACBETH.\\nLiar, and slave!\\n\\nMESSENGER.\\nLet me endure your wrath, if’t be not so.\\nWithin this three mile may you see it coming;\\nI say, a moving grove.\\n\\nMACBETH.\\nIf thou speak’st false,\\nUpon the next tree shalt thou hang alive,\\nTill famine cling thee: if thy speech be sooth,\\nI care not if thou dost for me as much.—\\nI pull in resolution; and begin\\nTo doubt th’ equivocation of the fiend,\\nThat lies like truth. “Fear not, till Birnam wood\\nDo come to Dunsinane;” and now a wood\\nComes toward Dunsinane.—Arm, arm, and out!—\\nIf this which he avouches does appear,\\nThere is nor flying hence nor tarrying here.\\nI ’gin to be aweary of the sun,\\nAnd wish th’ estate o’ th’ world were now undone.—\\nRing the alarum bell!—Blow, wind! come, wrack!\\nAt least we’ll die with harness on our back.\\n\\n [_Exeunt._]\\n\\nSCENE VI. The same. A Plain before the Castle.\\n\\n Enter, with drum and colours, Malcolm, old Siward, Macduff and their\\n Army, with boughs.\\n\\nMALCOLM.\\nNow near enough. Your leafy screens throw down,\\nAnd show like those you are.—You, worthy uncle,\\nShall with my cousin, your right noble son,\\nLead our first battle: worthy Macduff and we\\nShall take upon’s what else remains to do,\\nAccording to our order.\\n\\nSIWARD.\\nFare you well.—\\nDo we but find the tyrant’s power tonight,\\nLet us be beaten, if we cannot fight.\\n\\nMACDUFF.\\nMake all our trumpets speak; give them all breath,\\nThose clamorous harbingers of blood and death.\\n\\n [_Exeunt._]\\n\\nSCENE VII. The same. Another part of the Plain.\\n\\n Alarums. Enter Macbeth.\\n\\nMACBETH.\\nThey have tied me to a stake. I cannot fly,\\nBut, bear-like I must fight the course.—What’s he\\nThat was not born of woman? Such a one\\nAm I to fear, or none.\\n\\n Enter young Siward.\\n\\nYOUNG SIWARD.\\nWhat is thy name?\\n\\nMACBETH.\\nThou’lt be afraid to hear it.\\n\\nYOUNG SIWARD.\\nNo; though thou call’st thyself a hotter name\\nThan any is in hell.\\n\\nMACBETH.\\nMy name’s Macbeth.\\n\\nYOUNG SIWARD.\\nThe devil himself could not pronounce a title\\nMore hateful to mine ear.\\n\\nMACBETH.\\nNo, nor more fearful.\\n\\nYOUNG SIWARD.\\nThou liest, abhorred tyrant. With my sword\\nI’ll prove the lie thou speak’st.\\n\\n [_They fight, and young Siward is slain._]\\n\\nMACBETH.\\nThou wast born of woman.\\nBut swords I smile at, weapons laugh to scorn,\\nBrandish’d by man that’s of a woman born.\\n\\n [_Exit._]\\n\\n Alarums. Enter Macduff.\\n\\nMACDUFF.\\nThat way the noise is.—Tyrant, show thy face!\\nIf thou be’st slain and with no stroke of mine,\\nMy wife and children’s ghosts will haunt me still.\\nI cannot strike at wretched kerns, whose arms\\nAre hired to bear their staves. Either thou, Macbeth,\\nOr else my sword, with an unbatter’d edge,\\nI sheathe again undeeded. There thou shouldst be;\\nBy this great clatter, one of greatest note\\nSeems bruited. Let me find him, Fortune!\\nAnd more I beg not.\\n\\n [_Exit. Alarums._]\\n\\n Enter Malcolm and old Siward.\\n\\nSIWARD.\\nThis way, my lord;—the castle’s gently render’d:\\nThe tyrant’s people on both sides do fight;\\nThe noble thanes do bravely in the war,\\nThe day almost itself professes yours,\\nAnd little is to do.\\n\\nMALCOLM.\\nWe have met with foes\\nThat strike beside us.\\n\\nSIWARD.\\nEnter, sir, the castle.\\n\\n [_Exeunt. Alarums._]\\n\\nSCENE VIII. The same. Another part of the field.\\n\\n Enter Macbeth.\\n\\nMACBETH.\\nWhy should I play the Roman fool, and die\\nOn mine own sword? whiles I see lives, the gashes\\nDo better upon them.\\n\\n Enter Macduff.\\n\\nMACDUFF.\\nTurn, hell-hound, turn!\\n\\nMACBETH.\\nOf all men else I have avoided thee:\\nBut get thee back; my soul is too much charg’d\\nWith blood of thine already.\\n\\nMACDUFF.\\nI have no words;\\nMy voice is in my sword: thou bloodier villain\\nThan terms can give thee out!\\n\\n [_They fight._]\\n\\nMACBETH.\\nThou losest labour:\\nAs easy mayst thou the intrenchant air\\nWith thy keen sword impress, as make me bleed:\\nLet fall thy blade on vulnerable crests;\\nI bear a charmed life, which must not yield\\nTo one of woman born.\\n\\nMACDUFF.\\nDespair thy charm;\\nAnd let the angel whom thou still hast serv’d\\nTell thee, Macduff was from his mother’s womb\\nUntimely ripp’d.\\n\\nMACBETH.\\nAccursed be that tongue that tells me so,\\nFor it hath cow’d my better part of man!\\nAnd be these juggling fiends no more believ’d,\\nThat palter with us in a double sense;\\nThat keep the word of promise to our ear,\\nAnd break it to our hope!—I’ll not fight with thee.\\n\\nMACDUFF.\\nThen yield thee, coward,\\nAnd live to be the show and gaze o’ th’ time.\\nWe’ll have thee, as our rarer monsters are,\\nPainted upon a pole, and underwrit,\\n“Here may you see the tyrant.”\\n\\nMACBETH.\\nI will not yield,\\nTo kiss the ground before young Malcolm’s feet,\\nAnd to be baited with the rabble’s curse.\\nThough Birnam wood be come to Dunsinane,\\nAnd thou oppos’d, being of no woman born,\\nYet I will try the last. Before my body\\nI throw my warlike shield: lay on, Macduff;\\nAnd damn’d be him that first cries, “Hold, enough!”\\n\\n [_Exeunt fighting. Alarums._]\\n\\n Retreat. Flourish. Enter, with drum and colours, Malcolm, old Siward,\\n Ross, Thanes and Soldiers.\\n\\nMALCOLM.\\nI would the friends we miss were safe arriv’d.\\n\\nSIWARD.\\nSome must go off; and yet, by these I see,\\nSo great a day as this is cheaply bought.\\n\\nMALCOLM.\\nMacduff is missing, and your noble son.\\n\\nROSS.\\nYour son, my lord, has paid a soldier’s debt:\\nHe only liv’d but till he was a man;\\nThe which no sooner had his prowess confirm’d\\nIn the unshrinking station where he fought,\\nBut like a man he died.\\n\\nSIWARD.\\nThen he is dead?\\n\\nFLEANCE.\\nAy, and brought off the field. Your cause of sorrow\\nMust not be measur’d by his worth, for then\\nIt hath no end.\\n\\nSIWARD.\\nHad he his hurts before?\\n\\nROSS.\\nAy, on the front.\\n\\nSIWARD.\\nWhy then, God’s soldier be he!\\nHad I as many sons as I have hairs,\\nI would not wish them to a fairer death:\\nAnd so his knell is knoll’d.\\n\\nMALCOLM.\\nHe’s worth more sorrow,\\nAnd that I’ll spend for him.\\n\\nSIWARD.\\nHe’s worth no more.\\nThey say he parted well and paid his score:\\nAnd so, God be with him!—Here comes newer comfort.\\n\\n Enter Macduff with Macbeth’s head.\\n\\nMACDUFF.\\nHail, King, for so thou art. Behold, where stands\\nTh’ usurper’s cursed head: the time is free.\\nI see thee compass’d with thy kingdom’s pearl,\\nThat speak my salutation in their minds;\\nWhose voices I desire aloud with mine,—\\nHail, King of Scotland!\\n\\nALL.\\nHail, King of Scotland!\\n\\n [_Flourish._]\\n\\nMALCOLM.\\nWe shall not spend a large expense of time\\nBefore we reckon with your several loves,\\nAnd make us even with you. My thanes and kinsmen,\\nHenceforth be earls, the first that ever Scotland\\nIn such an honour nam’d. What’s more to do,\\nWhich would be planted newly with the time,—\\nAs calling home our exil’d friends abroad,\\nThat fled the snares of watchful tyranny;\\nProducing forth the cruel ministers\\nOf this dead butcher, and his fiend-like queen,\\nWho, as ’tis thought, by self and violent hands\\nTook off her life;—this, and what needful else\\nThat calls upon us, by the grace of Grace,\\nWe will perform in measure, time, and place.\\nSo thanks to all at once, and to each one,\\nWhom we invite to see us crown’d at Scone.\\n\\n [_Flourish. Exeunt._]'"
      ]
     },
     "execution_count": 13,
     "metadata": {},
     "output_type": "execute_result"
    }
   ],
   "source": [
    "x"
   ]
  },
  {
   "cell_type": "code",
   "execution_count": 14,
   "id": "87135513-36fd-455b-bc6f-62569c09077d",
   "metadata": {},
   "outputs": [
    {
     "data": {
      "text/plain": [
       "' I. An open Place.\\n\\n Thunder and Lightning. Enter three Witches.\\n\\nFIRST WITCH.\\nWhen shall we three meet again?\\nIn thunder, lightning, or in rain?\\n\\nSECOND WITCH.\\nWhen the hurlyburly’s done,\\nWhen the battle’s lost and won.\\n\\nTHIRD WITCH.\\nThat will be ere the set of sun.\\n\\nFIRST WITCH.\\nWhere the place?\\n\\nSECOND WITCH.\\nUpon the heath.\\n\\nTHIRD WITCH.\\nThere to meet with Macbeth.\\n\\nFIRST WITCH.\\nI come, Graymalkin!\\n\\nSECOND WITCH.\\nPaddock calls.\\n\\nTHIRD WITCH.\\nAnon.\\n\\nALL.\\nFair is foul, and foul is fair:\\nHover through the fog and filthy air.\\n\\n [_Exeunt._]\\n\\n'"
      ]
     },
     "execution_count": 14,
     "metadata": {},
     "output_type": "execute_result"
    }
   ],
   "source": [
    "x.split('Act')[1].split('SCENE')[1]"
   ]
  },
  {
   "cell_type": "code",
   "execution_count": 15,
   "id": "7df9bc16-79fa-4cdf-8352-41be5a6980d4",
   "metadata": {},
   "outputs": [],
   "source": [
    "acts = x.split('ACT')[6:]"
   ]
  },
  {
   "cell_type": "code",
   "execution_count": 16,
   "id": "1cab7cf9-e08b-4405-bb0b-fbbabdf5e0f1",
   "metadata": {
    "tags": []
   },
   "outputs": [
    {
     "data": {
      "text/plain": [
       "' V\\n\\nSCENE I. Dunsinane. A Room in the Castle.\\n\\n Enter a Doctor of Physic and a Waiting-Gentlewoman.\\n\\nDOCTOR.\\nI have two nights watched with you, but can perceive no truth in your\\nreport. When was it she last walked?\\n\\nGENTLEWOMAN.\\nSince his Majesty went into the field, I have seen her rise from her\\nbed, throw her nightgown upon her, unlock her closet, take forth paper,\\nfold it, write upon’t, read it, afterwards seal it, and again return to\\nbed; yet all this while in a most fast sleep.\\n\\nDOCTOR.\\nA great perturbation in nature, to receive at once the benefit of\\nsleep, and do the effects of watching. In this slumbery agitation,\\nbesides her walking and other actual performances, what, at any time,\\nhave you heard her say?\\n\\nGENTLEWOMAN.\\nThat, sir, which I will not report after her.\\n\\nDOCTOR.\\nYou may to me; and ’tis most meet you should.\\n\\nGENTLEWOMAN.\\nNeither to you nor anyone; having no witness to confirm my speech.\\n\\n Enter Lady Macbeth with a taper.\\n\\nLo you, here she comes! This is her very guise; and, upon my life, fast\\nasleep. Observe her; stand close.\\n\\nDOCTOR.\\nHow came she by that light?\\n\\nGENTLEWOMAN.\\nWhy, it stood by her: she has light by her continually; ’tis her\\ncommand.\\n\\nDOCTOR.\\nYou see, her eyes are open.\\n\\nGENTLEWOMAN.\\nAy, but their sense are shut.\\n\\nDOCTOR.\\nWhat is it she does now? Look how she rubs her hands.\\n\\nGENTLEWOMAN.\\nIt is an accustomed action with her, to seem thus washing her hands. I\\nhave known her continue in this a quarter of an hour.\\n\\nLADY MACBETH.\\nYet here’s a spot.\\n\\nDOCTOR.\\nHark, she speaks. I will set down what comes from her, to satisfy my\\nremembrance the more strongly.\\n\\nLADY MACBETH.\\nOut, damned spot! out, I say! One; two. Why, then ’tis time to do’t.\\nHell is murky! Fie, my lord, fie! a soldier, and afeard? What need we\\nfear who knows it, when none can call our power to account? Yet who\\nwould have thought the old man to have had so much blood in him?\\n\\nDOCTOR.\\nDo you mark that?\\n\\nLADY MACBETH.\\nThe Thane of Fife had a wife. Where is she now?—What, will these hands\\nne’er be clean? No more o’ that, my lord, no more o’ that: you mar all\\nwith this starting.\\n\\nDOCTOR.\\nGo to, go to. You have known what you should not.\\n\\nGENTLEWOMAN.\\nShe has spoke what she should not, I am sure of that: heaven knows what\\nshe has known.\\n\\nLADY MACBETH.\\nHere’s the smell of the blood still: all the perfumes of Arabia will\\nnot sweeten this little hand. Oh, oh, oh!\\n\\nDOCTOR.\\nWhat a sigh is there! The heart is sorely charged.\\n\\nGENTLEWOMAN.\\nI would not have such a heart in my bosom for the dignity of the whole\\nbody.\\n\\nDOCTOR.\\nWell, well, well.\\n\\nGENTLEWOMAN.\\nPray God it be, sir.\\n\\nDOCTOR.\\nThis disease is beyond my practice: yet I have known those which have\\nwalked in their sleep, who have died holily in their beds.\\n\\nLADY MACBETH.\\nWash your hands, put on your nightgown; look not so pale. I tell you\\nyet again, Banquo’s buried; he cannot come out on’s grave.\\n\\nDOCTOR.\\nEven so?\\n\\nLADY MACBETH.\\nTo bed, to bed. There’s knocking at the gate. Come, come, come, come,\\ngive me your hand. What’s done cannot be undone. To bed, to bed, to\\nbed.\\n\\n [_Exit._]\\n\\nDOCTOR.\\nWill she go now to bed?\\n\\nGENTLEWOMAN.\\nDirectly.\\n\\nDOCTOR.\\nFoul whisp’rings are abroad. Unnatural deeds\\nDo breed unnatural troubles: infected minds\\nTo their deaf pillows will discharge their secrets.\\nMore needs she the divine than the physician.—\\nGod, God, forgive us all! Look after her;\\nRemove from her the means of all annoyance,\\nAnd still keep eyes upon her. So, good night:\\nMy mind she has mated, and amaz’d my sight.\\nI think, but dare not speak.\\n\\nGENTLEWOMAN.\\nGood night, good doctor.\\n\\n [_Exeunt._]\\n\\nSCENE II. The Country near Dunsinane.\\n\\n Enter, with drum and colours Menteith, Caithness, Angus, Lennox and\\n Soldiers.\\n\\nMENTEITH.\\nThe English power is near, led on by Malcolm,\\nHis uncle Siward, and the good Macduff.\\nRevenges burn in them; for their dear causes\\nWould to the bleeding and the grim alarm\\nExcite the mortified man.\\n\\nANGUS.\\nNear Birnam wood\\nShall we well meet them. That way are they coming.\\n\\nCAITHNESS.\\nWho knows if Donalbain be with his brother?\\n\\nLENNOX.\\nFor certain, sir, he is not. I have a file\\nOf all the gentry: there is Siward’s son\\nAnd many unrough youths, that even now\\nProtest their first of manhood.\\n\\nMENTEITH.\\nWhat does the tyrant?\\n\\nCAITHNESS.\\nGreat Dunsinane he strongly fortifies.\\nSome say he’s mad; others, that lesser hate him,\\nDo call it valiant fury: but, for certain,\\nHe cannot buckle his distemper’d cause\\nWithin the belt of rule.\\n\\nANGUS.\\nNow does he feel\\nHis secret murders sticking on his hands;\\nNow minutely revolts upbraid his faith-breach;\\nThose he commands move only in command,\\nNothing in love: now does he feel his title\\nHang loose about him, like a giant’s robe\\nUpon a dwarfish thief.\\n\\nMENTEITH.\\nWho, then, shall blame\\nHis pester’d senses to recoil and start,\\nWhen all that is within him does condemn\\nItself for being there?\\n\\nCAITHNESS.\\nWell, march we on,\\nTo give obedience where ’tis truly ow’d:\\nMeet we the med’cine of the sickly weal;\\nAnd with him pour we, in our country’s purge,\\nEach drop of us.\\n\\nLENNOX.\\nOr so much as it needs\\nTo dew the sovereign flower, and drown the weeds.\\nMake we our march towards Birnam.\\n\\n [_Exeunt, marching._]\\n\\nSCENE III. Dunsinane. A Room in the Castle.\\n\\n Enter Macbeth, Doctor and Attendants.\\n\\nMACBETH.\\nBring me no more reports; let them fly all:\\nTill Birnam wood remove to Dunsinane\\nI cannot taint with fear. What’s the boy Malcolm?\\nWas he not born of woman? The spirits that know\\nAll mortal consequences have pronounc’d me thus:\\n“Fear not, Macbeth; no man that’s born of woman\\nShall e’er have power upon thee.”—Then fly, false thanes,\\nAnd mingle with the English epicures:\\nThe mind I sway by, and the heart I bear,\\nShall never sag with doubt nor shake with fear.\\n\\n Enter a Servant.\\n\\nThe devil damn thee black, thou cream-fac’d loon!\\nWhere gott’st thou that goose look?\\n\\nSERVANT.\\nThere is ten thousand—\\n\\nMACBETH.\\nGeese, villain?\\n\\nSERVANT.\\nSoldiers, sir.\\n\\nMACBETH.\\nGo prick thy face and over-red thy fear,\\nThou lily-liver’d boy. What soldiers, patch?\\nDeath of thy soul! those linen cheeks of thine\\nAre counsellors to fear. What soldiers, whey-face?\\n\\nSERVANT.\\nThe English force, so please you.\\n\\nMACBETH.\\nTake thy face hence.\\n\\n [_Exit Servant._]\\n\\nSeyton!—I am sick at heart,\\nWhen I behold—Seyton, I say!—This push\\nWill cheer me ever or disseat me now.\\nI have liv’d long enough: my way of life\\nIs fall’n into the sere, the yellow leaf;\\nAnd that which should accompany old age,\\nAs honour, love, obedience, troops of friends,\\nI must not look to have; but, in their stead,\\nCurses, not loud but deep, mouth-honour, breath,\\nWhich the poor heart would fain deny, and dare not.\\nSeyton!—\\n\\n Enter Seyton.\\n\\nSEYTON.\\nWhat’s your gracious pleasure?\\n\\nMACBETH.\\nWhat news more?\\n\\nSEYTON.\\nAll is confirm’d, my lord, which was reported.\\n\\nMACBETH.\\nI’ll fight till from my bones my flesh be hack’d.\\nGive me my armour.\\n\\nSEYTON.\\n’Tis not needed yet.\\n\\nMACBETH.\\nI’ll put it on.\\nSend out more horses, skirr the country round;\\nHang those that talk of fear. Give me mine armour.—\\nHow does your patient, doctor?\\n\\nDOCTOR.\\nNot so sick, my lord,\\nAs she is troubled with thick-coming fancies,\\nThat keep her from her rest.\\n\\nMACBETH.\\nCure her of that:\\nCanst thou not minister to a mind diseas’d,\\nPluck from the memory a rooted sorrow,\\nRaze out the written troubles of the brain,\\nAnd with some sweet oblivious antidote\\nCleanse the stuff’d bosom of that perilous stuff\\nWhich weighs upon the heart?\\n\\nDOCTOR.\\nTherein the patient\\nMust minister to himself.\\n\\nMACBETH.\\nThrow physic to the dogs, I’ll none of it.\\nCome, put mine armour on; give me my staff:\\nSeyton, send out.—Doctor, the Thanes fly from me.—\\nCome, sir, despatch.—If thou couldst, doctor, cast\\nThe water of my land, find her disease,\\nAnd purge it to a sound and pristine health,\\nI would applaud thee to the very echo,\\nThat should applaud again.—Pull’t off, I say.—\\nWhat rhubarb, senna, or what purgative drug,\\nWould scour these English hence? Hear’st thou of them?\\n\\nDOCTOR.\\nAy, my good lord. Your royal preparation\\nMakes us hear something.\\n\\nMACBETH.\\nBring it after me.—\\nI will not be afraid of death and bane,\\nTill Birnam forest come to Dunsinane.\\n\\n [_Exeunt all except Doctor._]\\n\\nDOCTOR.\\nWere I from Dunsinane away and clear,\\nProfit again should hardly draw me here.\\n\\n [_Exit._]\\n\\nSCENE IV. Country near Dunsinane: a Wood in view.\\n\\n Enter, with drum and colours Malcolm, old Siward and his Son, Macduff,\\n Menteith, Caithness, Angus, Lennox, Ross and Soldiers, marching.\\n\\nMALCOLM.\\nCousins, I hope the days are near at hand\\nThat chambers will be safe.\\n\\nMENTEITH.\\nWe doubt it nothing.\\n\\nSIWARD.\\nWhat wood is this before us?\\n\\nMENTEITH.\\nThe wood of Birnam.\\n\\nMALCOLM.\\nLet every soldier hew him down a bough,\\nAnd bear’t before him. Thereby shall we shadow\\nThe numbers of our host, and make discovery\\nErr in report of us.\\n\\nSOLDIERS.\\nIt shall be done.\\n\\nSIWARD.\\nWe learn no other but the confident tyrant\\nKeeps still in Dunsinane, and will endure\\nOur setting down before’t.\\n\\nMALCOLM.\\n’Tis his main hope;\\nFor where there is advantage to be given,\\nBoth more and less have given him the revolt,\\nAnd none serve with him but constrained things,\\nWhose hearts are absent too.\\n\\nMACDUFF.\\nLet our just censures\\nAttend the true event, and put we on\\nIndustrious soldiership.\\n\\nSIWARD.\\nThe time approaches,\\nThat will with due decision make us know\\nWhat we shall say we have, and what we owe.\\nThoughts speculative their unsure hopes relate,\\nBut certain issue strokes must arbitrate;\\nTowards which advance the war.\\n\\n [_Exeunt, marching._]\\n\\nSCENE V. Dunsinane. Within the castle.\\n\\n Enter with drum and colours, Macbeth, Seyton and Soldiers.\\n\\nMACBETH.\\nHang out our banners on the outward walls;\\nThe cry is still, “They come!” Our castle’s strength\\nWill laugh a siege to scorn: here let them lie\\nTill famine and the ague eat them up.\\nWere they not forc’d with those that should be ours,\\nWe might have met them dareful, beard to beard,\\nAnd beat them backward home.\\n\\n [_A cry of women within._]\\n\\nWhat is that noise?\\n\\nSEYTON.\\nIt is the cry of women, my good lord.\\n\\n [_Exit._]\\n\\nMACBETH.\\nI have almost forgot the taste of fears.\\nThe time has been, my senses would have cool’d\\nTo hear a night-shriek; and my fell of hair\\nWould at a dismal treatise rouse and stir\\nAs life were in’t. I have supp’d full with horrors;\\nDireness, familiar to my slaughterous thoughts,\\nCannot once start me.\\n\\n Enter Seyton.\\n\\nWherefore was that cry?\\n\\nSEYTON.\\nThe Queen, my lord, is dead.\\n\\nMACBETH.\\nShe should have died hereafter.\\nThere would have been a time for such a word.\\nTomorrow, and tomorrow, and tomorrow,\\nCreeps in this petty pace from day to day,\\nTo the last syllable of recorded time;\\nAnd all our yesterdays have lighted fools\\nThe way to dusty death. Out, out, brief candle!\\nLife’s but a walking shadow; a poor player,\\nThat struts and frets his hour upon the stage,\\nAnd then is heard no more: it is a tale\\nTold by an idiot, full of sound and fury,\\nSignifying nothing.\\n\\n Enter a Messenger.\\n\\nThou com’st to use thy tongue; thy story quickly.\\n\\nMESSENGER.\\nGracious my lord,\\nI should report that which I say I saw,\\nBut know not how to do’t.\\n\\nMACBETH.\\nWell, say, sir.\\n\\nMESSENGER.\\nAs I did stand my watch upon the hill,\\nI look’d toward Birnam, and anon, methought,\\nThe wood began to move.\\n\\nMACBETH.\\nLiar, and slave!\\n\\nMESSENGER.\\nLet me endure your wrath, if’t be not so.\\nWithin this three mile may you see it coming;\\nI say, a moving grove.\\n\\nMACBETH.\\nIf thou speak’st false,\\nUpon the next tree shalt thou hang alive,\\nTill famine cling thee: if thy speech be sooth,\\nI care not if thou dost for me as much.—\\nI pull in resolution; and begin\\nTo doubt th’ equivocation of the fiend,\\nThat lies like truth. “Fear not, till Birnam wood\\nDo come to Dunsinane;” and now a wood\\nComes toward Dunsinane.—Arm, arm, and out!—\\nIf this which he avouches does appear,\\nThere is nor flying hence nor tarrying here.\\nI ’gin to be aweary of the sun,\\nAnd wish th’ estate o’ th’ world were now undone.—\\nRing the alarum bell!—Blow, wind! come, wrack!\\nAt least we’ll die with harness on our back.\\n\\n [_Exeunt._]\\n\\nSCENE VI. The same. A Plain before the Castle.\\n\\n Enter, with drum and colours, Malcolm, old Siward, Macduff and their\\n Army, with boughs.\\n\\nMALCOLM.\\nNow near enough. Your leafy screens throw down,\\nAnd show like those you are.—You, worthy uncle,\\nShall with my cousin, your right noble son,\\nLead our first battle: worthy Macduff and we\\nShall take upon’s what else remains to do,\\nAccording to our order.\\n\\nSIWARD.\\nFare you well.—\\nDo we but find the tyrant’s power tonight,\\nLet us be beaten, if we cannot fight.\\n\\nMACDUFF.\\nMake all our trumpets speak; give them all breath,\\nThose clamorous harbingers of blood and death.\\n\\n [_Exeunt._]\\n\\nSCENE VII. The same. Another part of the Plain.\\n\\n Alarums. Enter Macbeth.\\n\\nMACBETH.\\nThey have tied me to a stake. I cannot fly,\\nBut, bear-like I must fight the course.—What’s he\\nThat was not born of woman? Such a one\\nAm I to fear, or none.\\n\\n Enter young Siward.\\n\\nYOUNG SIWARD.\\nWhat is thy name?\\n\\nMACBETH.\\nThou’lt be afraid to hear it.\\n\\nYOUNG SIWARD.\\nNo; though thou call’st thyself a hotter name\\nThan any is in hell.\\n\\nMACBETH.\\nMy name’s Macbeth.\\n\\nYOUNG SIWARD.\\nThe devil himself could not pronounce a title\\nMore hateful to mine ear.\\n\\nMACBETH.\\nNo, nor more fearful.\\n\\nYOUNG SIWARD.\\nThou liest, abhorred tyrant. With my sword\\nI’ll prove the lie thou speak’st.\\n\\n [_They fight, and young Siward is slain._]\\n\\nMACBETH.\\nThou wast born of woman.\\nBut swords I smile at, weapons laugh to scorn,\\nBrandish’d by man that’s of a woman born.\\n\\n [_Exit._]\\n\\n Alarums. Enter Macduff.\\n\\nMACDUFF.\\nThat way the noise is.—Tyrant, show thy face!\\nIf thou be’st slain and with no stroke of mine,\\nMy wife and children’s ghosts will haunt me still.\\nI cannot strike at wretched kerns, whose arms\\nAre hired to bear their staves. Either thou, Macbeth,\\nOr else my sword, with an unbatter’d edge,\\nI sheathe again undeeded. There thou shouldst be;\\nBy this great clatter, one of greatest note\\nSeems bruited. Let me find him, Fortune!\\nAnd more I beg not.\\n\\n [_Exit. Alarums._]\\n\\n Enter Malcolm and old Siward.\\n\\nSIWARD.\\nThis way, my lord;—the castle’s gently render’d:\\nThe tyrant’s people on both sides do fight;\\nThe noble thanes do bravely in the war,\\nThe day almost itself professes yours,\\nAnd little is to do.\\n\\nMALCOLM.\\nWe have met with foes\\nThat strike beside us.\\n\\nSIWARD.\\nEnter, sir, the castle.\\n\\n [_Exeunt. Alarums._]\\n\\nSCENE VIII. The same. Another part of the field.\\n\\n Enter Macbeth.\\n\\nMACBETH.\\nWhy should I play the Roman fool, and die\\nOn mine own sword? whiles I see lives, the gashes\\nDo better upon them.\\n\\n Enter Macduff.\\n\\nMACDUFF.\\nTurn, hell-hound, turn!\\n\\nMACBETH.\\nOf all men else I have avoided thee:\\nBut get thee back; my soul is too much charg’d\\nWith blood of thine already.\\n\\nMACDUFF.\\nI have no words;\\nMy voice is in my sword: thou bloodier villain\\nThan terms can give thee out!\\n\\n [_They fight._]\\n\\nMACBETH.\\nThou losest labour:\\nAs easy mayst thou the intrenchant air\\nWith thy keen sword impress, as make me bleed:\\nLet fall thy blade on vulnerable crests;\\nI bear a charmed life, which must not yield\\nTo one of woman born.\\n\\nMACDUFF.\\nDespair thy charm;\\nAnd let the angel whom thou still hast serv’d\\nTell thee, Macduff was from his mother’s womb\\nUntimely ripp’d.\\n\\nMACBETH.\\nAccursed be that tongue that tells me so,\\nFor it hath cow’d my better part of man!\\nAnd be these juggling fiends no more believ’d,\\nThat palter with us in a double sense;\\nThat keep the word of promise to our ear,\\nAnd break it to our hope!—I’ll not fight with thee.\\n\\nMACDUFF.\\nThen yield thee, coward,\\nAnd live to be the show and gaze o’ th’ time.\\nWe’ll have thee, as our rarer monsters are,\\nPainted upon a pole, and underwrit,\\n“Here may you see the tyrant.”\\n\\nMACBETH.\\nI will not yield,\\nTo kiss the ground before young Malcolm’s feet,\\nAnd to be baited with the rabble’s curse.\\nThough Birnam wood be come to Dunsinane,\\nAnd thou oppos’d, being of no woman born,\\nYet I will try the last. Before my body\\nI throw my warlike shield: lay on, Macduff;\\nAnd damn’d be him that first cries, “Hold, enough!”\\n\\n [_Exeunt fighting. Alarums._]\\n\\n Retreat. Flourish. Enter, with drum and colours, Malcolm, old Siward,\\n Ross, Thanes and Soldiers.\\n\\nMALCOLM.\\nI would the friends we miss were safe arriv’d.\\n\\nSIWARD.\\nSome must go off; and yet, by these I see,\\nSo great a day as this is cheaply bought.\\n\\nMALCOLM.\\nMacduff is missing, and your noble son.\\n\\nROSS.\\nYour son, my lord, has paid a soldier’s debt:\\nHe only liv’d but till he was a man;\\nThe which no sooner had his prowess confirm’d\\nIn the unshrinking station where he fought,\\nBut like a man he died.\\n\\nSIWARD.\\nThen he is dead?\\n\\nFLEANCE.\\nAy, and brought off the field. Your cause of sorrow\\nMust not be measur’d by his worth, for then\\nIt hath no end.\\n\\nSIWARD.\\nHad he his hurts before?\\n\\nROSS.\\nAy, on the front.\\n\\nSIWARD.\\nWhy then, God’s soldier be he!\\nHad I as many sons as I have hairs,\\nI would not wish them to a fairer death:\\nAnd so his knell is knoll’d.\\n\\nMALCOLM.\\nHe’s worth more sorrow,\\nAnd that I’ll spend for him.\\n\\nSIWARD.\\nHe’s worth no more.\\nThey say he parted well and paid his score:\\nAnd so, God be with him!—Here comes newer comfort.\\n\\n Enter Macduff with Macbeth’s head.\\n\\nMACDUFF.\\nHail, King, for so thou art. Behold, where stands\\nTh’ usurper’s cursed head: the time is free.\\nI see thee compass’d with thy kingdom’s pearl,\\nThat speak my salutation in their minds;\\nWhose voices I desire aloud with mine,—\\nHail, King of Scotland!\\n\\nALL.\\nHail, King of Scotland!\\n\\n [_Flourish._]\\n\\nMALCOLM.\\nWe shall not spend a large expense of time\\nBefore we reckon with your several loves,\\nAnd make us even with you. My thanes and kinsmen,\\nHenceforth be earls, the first that ever Scotland\\nIn such an honour nam’d. What’s more to do,\\nWhich would be planted newly with the time,—\\nAs calling home our exil’d friends abroad,\\nThat fled the snares of watchful tyranny;\\nProducing forth the cruel ministers\\nOf this dead butcher, and his fiend-like queen,\\nWho, as ’tis thought, by self and violent hands\\nTook off her life;—this, and what needful else\\nThat calls upon us, by the grace of Grace,\\nWe will perform in measure, time, and place.\\nSo thanks to all at once, and to each one,\\nWhom we invite to see us crown’d at Scone.\\n\\n [_Flourish. Exeunt._]'"
      ]
     },
     "execution_count": 16,
     "metadata": {},
     "output_type": "execute_result"
    }
   ],
   "source": [
    "acts[-1]"
   ]
  },
  {
   "cell_type": "code",
   "execution_count": 17,
   "id": "5533ec96-d816-4528-949a-a32868ed48ae",
   "metadata": {
    "tags": []
   },
   "outputs": [
    {
     "data": {
      "text/plain": [
       "' IV. The same. Without the Castle.\\n\\n Enter Ross and an Old Man.\\n\\nOLD MAN.\\nThreescore and ten I can remember well,\\nWithin the volume of which time I have seen\\nHours dreadful and things strange, but this sore night\\nHath trifled former knowings.\\n\\nROSS.\\nHa, good father,\\nThou seest the heavens, as troubled with man’s act,\\nThreatens his bloody stage: by the clock ’tis day,\\nAnd yet dark night strangles the travelling lamp.\\nIs’t night’s predominance, or the day’s shame,\\nThat darkness does the face of earth entomb,\\nWhen living light should kiss it?\\n\\nOLD MAN.\\n’Tis unnatural,\\nEven like the deed that’s done. On Tuesday last,\\nA falcon, towering in her pride of place,\\nWas by a mousing owl hawk’d at and kill’d.\\n\\nROSS.\\nAnd Duncan’s horses (a thing most strange and certain)\\nBeauteous and swift, the minions of their race,\\nTurn’d wild in nature, broke their stalls, flung out,\\nContending ’gainst obedience, as they would make\\nWar with mankind.\\n\\nOLD MAN.\\n’Tis said they eat each other.\\n\\nROSS.\\nThey did so; to the amazement of mine eyes,\\nThat look’d upon’t.\\nHere comes the good Macduff.\\n\\n Enter Macduff.\\n\\nHow goes the world, sir, now?\\n\\nMACDUFF.\\nWhy, see you not?\\n\\nROSS.\\nIs’t known who did this more than bloody deed?\\n\\nMACDUFF.\\nThose that Macbeth hath slain.\\n\\nROSS.\\nAlas, the day!\\nWhat good could they pretend?\\n\\nMACDUFF.\\nThey were suborn’d.\\nMalcolm and Donalbain, the King’s two sons,\\nAre stol’n away and fled; which puts upon them\\nSuspicion of the deed.\\n\\nROSS.\\n’Gainst nature still:\\nThriftless ambition, that will ravin up\\nThine own life’s means!—Then ’tis most like\\nThe sovereignty will fall upon Macbeth.\\n\\nMACDUFF.\\nHe is already nam’d; and gone to Scone\\nTo be invested.\\n\\nROSS.\\nWhere is Duncan’s body?\\n\\nMACDUFF.\\nCarried to Colmekill,\\nThe sacred storehouse of his predecessors,\\nAnd guardian of their bones.\\n\\nROSS.\\nWill you to Scone?\\n\\nMACDUFF.\\nNo, cousin, I’ll to Fife.\\n\\nROSS.\\nWell, I will thither.\\n\\nMACDUFF.\\nWell, may you see things well done there. Adieu!\\nLest our old robes sit easier than our new!\\n\\nROSS.\\nFarewell, father.\\n\\nOLD MAN.\\nGod’s benison go with you; and with those\\nThat would make good of bad, and friends of foes!\\n\\n [_Exeunt._]\\n\\n\\n'"
      ]
     },
     "execution_count": 17,
     "metadata": {},
     "output_type": "execute_result"
    }
   ],
   "source": [
    "acts[1].split('SCENE')[-1]"
   ]
  },
  {
   "cell_type": "code",
   "execution_count": 18,
   "id": "b2e5a7fb-d1e6-4893-bb8e-ccf023bedf88",
   "metadata": {},
   "outputs": [
    {
     "data": {
      "text/plain": [
       "65"
      ]
     },
     "execution_count": 18,
     "metadata": {},
     "output_type": "execute_result"
    }
   ],
   "source": [
    "acts[1].split('SCENE')[-1].find('OLD MAN')"
   ]
  },
  {
   "cell_type": "code",
   "execution_count": 19,
   "id": "b1a48744-8407-47d0-8725-1bef51ae31b6",
   "metadata": {},
   "outputs": [],
   "source": [
    "characters = [\n",
    "    'DUNCAN',\n",
    "    'MALCOLM',\n",
    "    'DONALBAIN',\n",
    "    'MACBETH',\n",
    "    'BANQUO',\n",
    "    'MACDUFF',\n",
    "    'LENNOX',\n",
    "    'ROSS',\n",
    "    'MENTEITH',\n",
    "    'ANGUS',\n",
    "    'CAITHNESS',\n",
    "    'FLEANCE',\n",
    "    'SIWARD',\n",
    "    'YOUNG SIWARD',\n",
    "    'SEYTON',\n",
    "    'SON',\n",
    "    'DOCTOR',\n",
    "    'SOLDIER',\n",
    "    'PORTER',\n",
    "    'OLD MAN',\n",
    "    'LADY MACBETH',\n",
    "    'LADY MACDUFF',\n",
    "    'GENTLEWOMAN',\n",
    "    'HECATE',\n",
    "    'FIRST WITCH',\n",
    "    'SECOND WITCH',\n",
    "    'THIRD WITCH'\n",
    "]"
   ]
  },
  {
   "cell_type": "code",
   "execution_count": 20,
   "id": "70537550-59bd-49cb-95bd-5cc5d3bca2cc",
   "metadata": {},
   "outputs": [
    {
     "data": {
      "text/plain": [
       "5"
      ]
     },
     "execution_count": 20,
     "metadata": {},
     "output_type": "execute_result"
    }
   ],
   "source": [
    "len(acts)"
   ]
  },
  {
   "cell_type": "code",
   "execution_count": 21,
   "id": "f9846370-69f6-42df-a432-380643f9f038",
   "metadata": {},
   "outputs": [],
   "source": [
    "charnum = {}\n",
    "\n",
    "connections = {}\n",
    "for i in range(len(characters)-1):\n",
    "    for j in range(i+1,len(characters)):\n",
    "        connections[(characters[i],characters[j])] = 0\n",
    "\n",
    "for k in characters:\n",
    "    charnum[k] = 0\n",
    "\n",
    "for i in acts:\n",
    "    for j in i.split('SCENE')[1:]:\n",
    "        scenechars = []\n",
    "        for k in characters:\n",
    "            if j.find(k) != -1:\n",
    "                scenechars.append(k)\n",
    "                charnum[k] += 1\n",
    "        for a in range(len(scenechars)-1):\n",
    "            for b in range(a+1,len(scenechars)):\n",
    "                connections[(scenechars[a],scenechars[b])] += 1"
   ]
  },
  {
   "cell_type": "code",
   "execution_count": 22,
   "id": "a26a1146-375e-48ab-a654-1da3e849296a",
   "metadata": {
    "tags": []
   },
   "outputs": [
    {
     "data": {
      "text/plain": [
       "{'DUNCAN': 3,\n",
       " 'MALCOLM': 8,\n",
       " 'DONALBAIN': 1,\n",
       " 'MACBETH': 17,\n",
       " 'BANQUO': 7,\n",
       " 'MACDUFF': 8,\n",
       " 'LENNOX': 6,\n",
       " 'ROSS': 7,\n",
       " 'MENTEITH': 2,\n",
       " 'ANGUS': 2,\n",
       " 'CAITHNESS': 1,\n",
       " 'FLEANCE': 2,\n",
       " 'SIWARD': 4,\n",
       " 'YOUNG SIWARD': 1,\n",
       " 'SEYTON': 2,\n",
       " 'SON': 1,\n",
       " 'DOCTOR': 3,\n",
       " 'SOLDIER': 2,\n",
       " 'PORTER': 1,\n",
       " 'OLD MAN': 1,\n",
       " 'LADY MACBETH': 9,\n",
       " 'LADY MACDUFF': 1,\n",
       " 'GENTLEWOMAN': 1,\n",
       " 'HECATE': 2,\n",
       " 'FIRST WITCH': 4,\n",
       " 'SECOND WITCH': 3,\n",
       " 'THIRD WITCH': 3}"
      ]
     },
     "execution_count": 22,
     "metadata": {},
     "output_type": "execute_result"
    }
   ],
   "source": [
    "charnum"
   ]
  },
  {
   "cell_type": "code",
   "execution_count": 23,
   "id": "1c8eca9b-8b15-4fee-8ef4-0c855ebd21be",
   "metadata": {
    "tags": []
   },
   "outputs": [
    {
     "data": {
      "text/plain": [
       "{('DUNCAN', 'MALCOLM'): 2,\n",
       " ('DUNCAN', 'DONALBAIN'): 0,\n",
       " ('DUNCAN', 'MACBETH'): 2,\n",
       " ('DUNCAN', 'BANQUO'): 2,\n",
       " ('DUNCAN', 'MACDUFF'): 0,\n",
       " ('DUNCAN', 'LENNOX'): 1,\n",
       " ('DUNCAN', 'ROSS'): 1,\n",
       " ('DUNCAN', 'MENTEITH'): 0,\n",
       " ('DUNCAN', 'ANGUS'): 0,\n",
       " ('DUNCAN', 'CAITHNESS'): 0,\n",
       " ('DUNCAN', 'FLEANCE'): 0,\n",
       " ('DUNCAN', 'SIWARD'): 0,\n",
       " ('DUNCAN', 'YOUNG SIWARD'): 0,\n",
       " ('DUNCAN', 'SEYTON'): 0,\n",
       " ('DUNCAN', 'SON'): 0,\n",
       " ('DUNCAN', 'DOCTOR'): 0,\n",
       " ('DUNCAN', 'SOLDIER'): 1,\n",
       " ('DUNCAN', 'PORTER'): 0,\n",
       " ('DUNCAN', 'OLD MAN'): 0,\n",
       " ('DUNCAN', 'LADY MACBETH'): 1,\n",
       " ('DUNCAN', 'LADY MACDUFF'): 0,\n",
       " ('DUNCAN', 'GENTLEWOMAN'): 0,\n",
       " ('DUNCAN', 'HECATE'): 0,\n",
       " ('DUNCAN', 'FIRST WITCH'): 0,\n",
       " ('DUNCAN', 'SECOND WITCH'): 0,\n",
       " ('DUNCAN', 'THIRD WITCH'): 0,\n",
       " ('MALCOLM', 'DONALBAIN'): 1,\n",
       " ('MALCOLM', 'MACBETH'): 4,\n",
       " ('MALCOLM', 'BANQUO'): 2,\n",
       " ('MALCOLM', 'MACDUFF'): 6,\n",
       " ('MALCOLM', 'LENNOX'): 2,\n",
       " ('MALCOLM', 'ROSS'): 3,\n",
       " ('MALCOLM', 'MENTEITH'): 1,\n",
       " ('MALCOLM', 'ANGUS'): 0,\n",
       " ('MALCOLM', 'CAITHNESS'): 0,\n",
       " ('MALCOLM', 'FLEANCE'): 1,\n",
       " ('MALCOLM', 'SIWARD'): 4,\n",
       " ('MALCOLM', 'YOUNG SIWARD'): 1,\n",
       " ('MALCOLM', 'SEYTON'): 0,\n",
       " ('MALCOLM', 'SON'): 0,\n",
       " ('MALCOLM', 'DOCTOR'): 1,\n",
       " ('MALCOLM', 'SOLDIER'): 2,\n",
       " ('MALCOLM', 'PORTER'): 1,\n",
       " ('MALCOLM', 'OLD MAN'): 0,\n",
       " ('MALCOLM', 'LADY MACBETH'): 1,\n",
       " ('MALCOLM', 'LADY MACDUFF'): 0,\n",
       " ('MALCOLM', 'GENTLEWOMAN'): 0,\n",
       " ('MALCOLM', 'HECATE'): 0,\n",
       " ('MALCOLM', 'FIRST WITCH'): 0,\n",
       " ('MALCOLM', 'SECOND WITCH'): 0,\n",
       " ('MALCOLM', 'THIRD WITCH'): 0,\n",
       " ('DONALBAIN', 'MACBETH'): 1,\n",
       " ('DONALBAIN', 'BANQUO'): 1,\n",
       " ('DONALBAIN', 'MACDUFF'): 1,\n",
       " ('DONALBAIN', 'LENNOX'): 1,\n",
       " ('DONALBAIN', 'ROSS'): 0,\n",
       " ('DONALBAIN', 'MENTEITH'): 0,\n",
       " ('DONALBAIN', 'ANGUS'): 0,\n",
       " ('DONALBAIN', 'CAITHNESS'): 0,\n",
       " ('DONALBAIN', 'FLEANCE'): 0,\n",
       " ('DONALBAIN', 'SIWARD'): 0,\n",
       " ('DONALBAIN', 'YOUNG SIWARD'): 0,\n",
       " ('DONALBAIN', 'SEYTON'): 0,\n",
       " ('DONALBAIN', 'SON'): 0,\n",
       " ('DONALBAIN', 'DOCTOR'): 0,\n",
       " ('DONALBAIN', 'SOLDIER'): 0,\n",
       " ('DONALBAIN', 'PORTER'): 1,\n",
       " ('DONALBAIN', 'OLD MAN'): 0,\n",
       " ('DONALBAIN', 'LADY MACBETH'): 1,\n",
       " ('DONALBAIN', 'LADY MACDUFF'): 0,\n",
       " ('DONALBAIN', 'GENTLEWOMAN'): 0,\n",
       " ('DONALBAIN', 'HECATE'): 0,\n",
       " ('DONALBAIN', 'FIRST WITCH'): 0,\n",
       " ('DONALBAIN', 'SECOND WITCH'): 0,\n",
       " ('DONALBAIN', 'THIRD WITCH'): 0,\n",
       " ('MACBETH', 'BANQUO'): 6,\n",
       " ('MACBETH', 'MACDUFF'): 3,\n",
       " ('MACBETH', 'LENNOX'): 3,\n",
       " ('MACBETH', 'ROSS'): 3,\n",
       " ('MACBETH', 'MENTEITH'): 0,\n",
       " ('MACBETH', 'ANGUS'): 1,\n",
       " ('MACBETH', 'CAITHNESS'): 0,\n",
       " ('MACBETH', 'FLEANCE'): 2,\n",
       " ('MACBETH', 'SIWARD'): 2,\n",
       " ('MACBETH', 'YOUNG SIWARD'): 1,\n",
       " ('MACBETH', 'SEYTON'): 2,\n",
       " ('MACBETH', 'SON'): 0,\n",
       " ('MACBETH', 'DOCTOR'): 2,\n",
       " ('MACBETH', 'SOLDIER'): 0,\n",
       " ('MACBETH', 'PORTER'): 1,\n",
       " ('MACBETH', 'OLD MAN'): 0,\n",
       " ('MACBETH', 'LADY MACBETH'): 9,\n",
       " ('MACBETH', 'LADY MACDUFF'): 0,\n",
       " ('MACBETH', 'GENTLEWOMAN'): 1,\n",
       " ('MACBETH', 'HECATE'): 1,\n",
       " ('MACBETH', 'FIRST WITCH'): 2,\n",
       " ('MACBETH', 'SECOND WITCH'): 2,\n",
       " ('MACBETH', 'THIRD WITCH'): 2,\n",
       " ('BANQUO', 'MACDUFF'): 1,\n",
       " ('BANQUO', 'LENNOX'): 1,\n",
       " ('BANQUO', 'ROSS'): 1,\n",
       " ('BANQUO', 'MENTEITH'): 0,\n",
       " ('BANQUO', 'ANGUS'): 1,\n",
       " ('BANQUO', 'CAITHNESS'): 0,\n",
       " ('BANQUO', 'FLEANCE'): 1,\n",
       " ('BANQUO', 'SIWARD'): 0,\n",
       " ('BANQUO', 'YOUNG SIWARD'): 0,\n",
       " ('BANQUO', 'SEYTON'): 0,\n",
       " ('BANQUO', 'SON'): 0,\n",
       " ('BANQUO', 'DOCTOR'): 0,\n",
       " ('BANQUO', 'SOLDIER'): 0,\n",
       " ('BANQUO', 'PORTER'): 1,\n",
       " ('BANQUO', 'OLD MAN'): 0,\n",
       " ('BANQUO', 'LADY MACBETH'): 3,\n",
       " ('BANQUO', 'LADY MACDUFF'): 0,\n",
       " ('BANQUO', 'GENTLEWOMAN'): 0,\n",
       " ('BANQUO', 'HECATE'): 0,\n",
       " ('BANQUO', 'FIRST WITCH'): 1,\n",
       " ('BANQUO', 'SECOND WITCH'): 1,\n",
       " ('BANQUO', 'THIRD WITCH'): 1,\n",
       " ('MACDUFF', 'LENNOX'): 1,\n",
       " ('MACDUFF', 'ROSS'): 4,\n",
       " ('MACDUFF', 'MENTEITH'): 1,\n",
       " ('MACDUFF', 'ANGUS'): 0,\n",
       " ('MACDUFF', 'CAITHNESS'): 0,\n",
       " ('MACDUFF', 'FLEANCE'): 1,\n",
       " ('MACDUFF', 'SIWARD'): 4,\n",
       " ('MACDUFF', 'YOUNG SIWARD'): 1,\n",
       " ('MACDUFF', 'SEYTON'): 0,\n",
       " ('MACDUFF', 'SON'): 1,\n",
       " ('MACDUFF', 'DOCTOR'): 1,\n",
       " ('MACDUFF', 'SOLDIER'): 1,\n",
       " ('MACDUFF', 'PORTER'): 1,\n",
       " ('MACDUFF', 'OLD MAN'): 1,\n",
       " ('MACDUFF', 'LADY MACBETH'): 1,\n",
       " ('MACDUFF', 'LADY MACDUFF'): 1,\n",
       " ('MACDUFF', 'GENTLEWOMAN'): 0,\n",
       " ('MACDUFF', 'HECATE'): 0,\n",
       " ('MACDUFF', 'FIRST WITCH'): 0,\n",
       " ('MACDUFF', 'SECOND WITCH'): 0,\n",
       " ('MACDUFF', 'THIRD WITCH'): 0,\n",
       " ('LENNOX', 'ROSS'): 2,\n",
       " ('LENNOX', 'MENTEITH'): 1,\n",
       " ('LENNOX', 'ANGUS'): 1,\n",
       " ('LENNOX', 'CAITHNESS'): 1,\n",
       " ('LENNOX', 'FLEANCE'): 0,\n",
       " ('LENNOX', 'SIWARD'): 0,\n",
       " ('LENNOX', 'YOUNG SIWARD'): 0,\n",
       " ('LENNOX', 'SEYTON'): 0,\n",
       " ('LENNOX', 'SON'): 0,\n",
       " ('LENNOX', 'DOCTOR'): 0,\n",
       " ('LENNOX', 'SOLDIER'): 1,\n",
       " ('LENNOX', 'PORTER'): 1,\n",
       " ('LENNOX', 'OLD MAN'): 0,\n",
       " ('LENNOX', 'LADY MACBETH'): 2,\n",
       " ('LENNOX', 'LADY MACDUFF'): 0,\n",
       " ('LENNOX', 'GENTLEWOMAN'): 0,\n",
       " ('LENNOX', 'HECATE'): 1,\n",
       " ('LENNOX', 'FIRST WITCH'): 1,\n",
       " ('LENNOX', 'SECOND WITCH'): 1,\n",
       " ('LENNOX', 'THIRD WITCH'): 1,\n",
       " ('ROSS', 'MENTEITH'): 0,\n",
       " ('ROSS', 'ANGUS'): 1,\n",
       " ('ROSS', 'CAITHNESS'): 0,\n",
       " ('ROSS', 'FLEANCE'): 1,\n",
       " ('ROSS', 'SIWARD'): 1,\n",
       " ('ROSS', 'YOUNG SIWARD'): 0,\n",
       " ('ROSS', 'SEYTON'): 0,\n",
       " ('ROSS', 'SON'): 1,\n",
       " ('ROSS', 'DOCTOR'): 1,\n",
       " ('ROSS', 'SOLDIER'): 1,\n",
       " ('ROSS', 'PORTER'): 0,\n",
       " ('ROSS', 'OLD MAN'): 1,\n",
       " ('ROSS', 'LADY MACBETH'): 1,\n",
       " ('ROSS', 'LADY MACDUFF'): 1,\n",
       " ('ROSS', 'GENTLEWOMAN'): 0,\n",
       " ('ROSS', 'HECATE'): 0,\n",
       " ('ROSS', 'FIRST WITCH'): 1,\n",
       " ('ROSS', 'SECOND WITCH'): 1,\n",
       " ('ROSS', 'THIRD WITCH'): 1,\n",
       " ('MENTEITH', 'ANGUS'): 1,\n",
       " ('MENTEITH', 'CAITHNESS'): 1,\n",
       " ('MENTEITH', 'FLEANCE'): 0,\n",
       " ('MENTEITH', 'SIWARD'): 1,\n",
       " ('MENTEITH', 'YOUNG SIWARD'): 0,\n",
       " ('MENTEITH', 'SEYTON'): 0,\n",
       " ('MENTEITH', 'SON'): 0,\n",
       " ('MENTEITH', 'DOCTOR'): 0,\n",
       " ('MENTEITH', 'SOLDIER'): 1,\n",
       " ('MENTEITH', 'PORTER'): 0,\n",
       " ('MENTEITH', 'OLD MAN'): 0,\n",
       " ('MENTEITH', 'LADY MACBETH'): 0,\n",
       " ('MENTEITH', 'LADY MACDUFF'): 0,\n",
       " ('MENTEITH', 'GENTLEWOMAN'): 0,\n",
       " ('MENTEITH', 'HECATE'): 0,\n",
       " ('MENTEITH', 'FIRST WITCH'): 0,\n",
       " ('MENTEITH', 'SECOND WITCH'): 0,\n",
       " ('MENTEITH', 'THIRD WITCH'): 0,\n",
       " ('ANGUS', 'CAITHNESS'): 1,\n",
       " ('ANGUS', 'FLEANCE'): 0,\n",
       " ('ANGUS', 'SIWARD'): 0,\n",
       " ('ANGUS', 'YOUNG SIWARD'): 0,\n",
       " ('ANGUS', 'SEYTON'): 0,\n",
       " ('ANGUS', 'SON'): 0,\n",
       " ('ANGUS', 'DOCTOR'): 0,\n",
       " ('ANGUS', 'SOLDIER'): 0,\n",
       " ('ANGUS', 'PORTER'): 0,\n",
       " ('ANGUS', 'OLD MAN'): 0,\n",
       " ('ANGUS', 'LADY MACBETH'): 0,\n",
       " ('ANGUS', 'LADY MACDUFF'): 0,\n",
       " ('ANGUS', 'GENTLEWOMAN'): 0,\n",
       " ('ANGUS', 'HECATE'): 0,\n",
       " ('ANGUS', 'FIRST WITCH'): 1,\n",
       " ('ANGUS', 'SECOND WITCH'): 1,\n",
       " ('ANGUS', 'THIRD WITCH'): 1,\n",
       " ('CAITHNESS', 'FLEANCE'): 0,\n",
       " ('CAITHNESS', 'SIWARD'): 0,\n",
       " ('CAITHNESS', 'YOUNG SIWARD'): 0,\n",
       " ('CAITHNESS', 'SEYTON'): 0,\n",
       " ('CAITHNESS', 'SON'): 0,\n",
       " ('CAITHNESS', 'DOCTOR'): 0,\n",
       " ('CAITHNESS', 'SOLDIER'): 0,\n",
       " ('CAITHNESS', 'PORTER'): 0,\n",
       " ('CAITHNESS', 'OLD MAN'): 0,\n",
       " ('CAITHNESS', 'LADY MACBETH'): 0,\n",
       " ('CAITHNESS', 'LADY MACDUFF'): 0,\n",
       " ('CAITHNESS', 'GENTLEWOMAN'): 0,\n",
       " ('CAITHNESS', 'HECATE'): 0,\n",
       " ('CAITHNESS', 'FIRST WITCH'): 0,\n",
       " ('CAITHNESS', 'SECOND WITCH'): 0,\n",
       " ('CAITHNESS', 'THIRD WITCH'): 0,\n",
       " ('FLEANCE', 'SIWARD'): 1,\n",
       " ('FLEANCE', 'YOUNG SIWARD'): 0,\n",
       " ('FLEANCE', 'SEYTON'): 0,\n",
       " ('FLEANCE', 'SON'): 0,\n",
       " ('FLEANCE', 'DOCTOR'): 0,\n",
       " ('FLEANCE', 'SOLDIER'): 0,\n",
       " ('FLEANCE', 'PORTER'): 0,\n",
       " ('FLEANCE', 'OLD MAN'): 0,\n",
       " ('FLEANCE', 'LADY MACBETH'): 0,\n",
       " ('FLEANCE', 'LADY MACDUFF'): 0,\n",
       " ('FLEANCE', 'GENTLEWOMAN'): 0,\n",
       " ('FLEANCE', 'HECATE'): 0,\n",
       " ('FLEANCE', 'FIRST WITCH'): 0,\n",
       " ('FLEANCE', 'SECOND WITCH'): 0,\n",
       " ('FLEANCE', 'THIRD WITCH'): 0,\n",
       " ('SIWARD', 'YOUNG SIWARD'): 1,\n",
       " ('SIWARD', 'SEYTON'): 0,\n",
       " ('SIWARD', 'SON'): 0,\n",
       " ('SIWARD', 'DOCTOR'): 0,\n",
       " ('SIWARD', 'SOLDIER'): 1,\n",
       " ('SIWARD', 'PORTER'): 0,\n",
       " ('SIWARD', 'OLD MAN'): 0,\n",
       " ('SIWARD', 'LADY MACBETH'): 0,\n",
       " ('SIWARD', 'LADY MACDUFF'): 0,\n",
       " ('SIWARD', 'GENTLEWOMAN'): 0,\n",
       " ('SIWARD', 'HECATE'): 0,\n",
       " ('SIWARD', 'FIRST WITCH'): 0,\n",
       " ('SIWARD', 'SECOND WITCH'): 0,\n",
       " ('SIWARD', 'THIRD WITCH'): 0,\n",
       " ('YOUNG SIWARD', 'SEYTON'): 0,\n",
       " ('YOUNG SIWARD', 'SON'): 0,\n",
       " ('YOUNG SIWARD', 'DOCTOR'): 0,\n",
       " ('YOUNG SIWARD', 'SOLDIER'): 0,\n",
       " ('YOUNG SIWARD', 'PORTER'): 0,\n",
       " ('YOUNG SIWARD', 'OLD MAN'): 0,\n",
       " ('YOUNG SIWARD', 'LADY MACBETH'): 0,\n",
       " ('YOUNG SIWARD', 'LADY MACDUFF'): 0,\n",
       " ('YOUNG SIWARD', 'GENTLEWOMAN'): 0,\n",
       " ('YOUNG SIWARD', 'HECATE'): 0,\n",
       " ('YOUNG SIWARD', 'FIRST WITCH'): 0,\n",
       " ('YOUNG SIWARD', 'SECOND WITCH'): 0,\n",
       " ('YOUNG SIWARD', 'THIRD WITCH'): 0,\n",
       " ('SEYTON', 'SON'): 0,\n",
       " ('SEYTON', 'DOCTOR'): 1,\n",
       " ('SEYTON', 'SOLDIER'): 0,\n",
       " ('SEYTON', 'PORTER'): 0,\n",
       " ('SEYTON', 'OLD MAN'): 0,\n",
       " ('SEYTON', 'LADY MACBETH'): 0,\n",
       " ('SEYTON', 'LADY MACDUFF'): 0,\n",
       " ('SEYTON', 'GENTLEWOMAN'): 0,\n",
       " ('SEYTON', 'HECATE'): 0,\n",
       " ('SEYTON', 'FIRST WITCH'): 0,\n",
       " ('SEYTON', 'SECOND WITCH'): 0,\n",
       " ('SEYTON', 'THIRD WITCH'): 0,\n",
       " ('SON', 'DOCTOR'): 0,\n",
       " ('SON', 'SOLDIER'): 0,\n",
       " ('SON', 'PORTER'): 0,\n",
       " ('SON', 'OLD MAN'): 0,\n",
       " ('SON', 'LADY MACBETH'): 0,\n",
       " ('SON', 'LADY MACDUFF'): 1,\n",
       " ('SON', 'GENTLEWOMAN'): 0,\n",
       " ('SON', 'HECATE'): 0,\n",
       " ('SON', 'FIRST WITCH'): 0,\n",
       " ('SON', 'SECOND WITCH'): 0,\n",
       " ('SON', 'THIRD WITCH'): 0,\n",
       " ('DOCTOR', 'SOLDIER'): 0,\n",
       " ('DOCTOR', 'PORTER'): 0,\n",
       " ('DOCTOR', 'OLD MAN'): 0,\n",
       " ('DOCTOR', 'LADY MACBETH'): 1,\n",
       " ('DOCTOR', 'LADY MACDUFF'): 0,\n",
       " ('DOCTOR', 'GENTLEWOMAN'): 1,\n",
       " ('DOCTOR', 'HECATE'): 0,\n",
       " ('DOCTOR', 'FIRST WITCH'): 0,\n",
       " ('DOCTOR', 'SECOND WITCH'): 0,\n",
       " ('DOCTOR', 'THIRD WITCH'): 0,\n",
       " ('SOLDIER', 'PORTER'): 0,\n",
       " ('SOLDIER', 'OLD MAN'): 0,\n",
       " ('SOLDIER', 'LADY MACBETH'): 0,\n",
       " ('SOLDIER', 'LADY MACDUFF'): 0,\n",
       " ('SOLDIER', 'GENTLEWOMAN'): 0,\n",
       " ('SOLDIER', 'HECATE'): 0,\n",
       " ('SOLDIER', 'FIRST WITCH'): 0,\n",
       " ('SOLDIER', 'SECOND WITCH'): 0,\n",
       " ('SOLDIER', 'THIRD WITCH'): 0,\n",
       " ('PORTER', 'OLD MAN'): 0,\n",
       " ('PORTER', 'LADY MACBETH'): 1,\n",
       " ('PORTER', 'LADY MACDUFF'): 0,\n",
       " ('PORTER', 'GENTLEWOMAN'): 0,\n",
       " ('PORTER', 'HECATE'): 0,\n",
       " ('PORTER', 'FIRST WITCH'): 0,\n",
       " ('PORTER', 'SECOND WITCH'): 0,\n",
       " ('PORTER', 'THIRD WITCH'): 0,\n",
       " ('OLD MAN', 'LADY MACBETH'): 0,\n",
       " ('OLD MAN', 'LADY MACDUFF'): 0,\n",
       " ('OLD MAN', 'GENTLEWOMAN'): 0,\n",
       " ('OLD MAN', 'HECATE'): 0,\n",
       " ('OLD MAN', 'FIRST WITCH'): 0,\n",
       " ('OLD MAN', 'SECOND WITCH'): 0,\n",
       " ('OLD MAN', 'THIRD WITCH'): 0,\n",
       " ('LADY MACBETH', 'LADY MACDUFF'): 0,\n",
       " ('LADY MACBETH', 'GENTLEWOMAN'): 1,\n",
       " ('LADY MACBETH', 'HECATE'): 0,\n",
       " ('LADY MACBETH', 'FIRST WITCH'): 0,\n",
       " ('LADY MACBETH', 'SECOND WITCH'): 0,\n",
       " ('LADY MACBETH', 'THIRD WITCH'): 0,\n",
       " ('LADY MACDUFF', 'GENTLEWOMAN'): 0,\n",
       " ('LADY MACDUFF', 'HECATE'): 0,\n",
       " ('LADY MACDUFF', 'FIRST WITCH'): 0,\n",
       " ('LADY MACDUFF', 'SECOND WITCH'): 0,\n",
       " ('LADY MACDUFF', 'THIRD WITCH'): 0,\n",
       " ('GENTLEWOMAN', 'HECATE'): 0,\n",
       " ('GENTLEWOMAN', 'FIRST WITCH'): 0,\n",
       " ('GENTLEWOMAN', 'SECOND WITCH'): 0,\n",
       " ('GENTLEWOMAN', 'THIRD WITCH'): 0,\n",
       " ('HECATE', 'FIRST WITCH'): 2,\n",
       " ('HECATE', 'SECOND WITCH'): 1,\n",
       " ('HECATE', 'THIRD WITCH'): 1,\n",
       " ('FIRST WITCH', 'SECOND WITCH'): 3,\n",
       " ('FIRST WITCH', 'THIRD WITCH'): 3,\n",
       " ('SECOND WITCH', 'THIRD WITCH'): 3}"
      ]
     },
     "execution_count": 23,
     "metadata": {},
     "output_type": "execute_result"
    }
   ],
   "source": [
    "connections"
   ]
  },
  {
   "cell_type": "code",
   "execution_count": 24,
   "id": "a68451fa-49ea-4350-a457-97c74a7a9326",
   "metadata": {
    "tags": []
   },
   "outputs": [
    {
     "name": "stdout",
     "output_type": "stream",
     "text": [
      "DUNCAN 3\n",
      "MALCOLM 8\n",
      "DONALBAIN 1\n",
      "MACBETH 17\n",
      "BANQUO 7\n",
      "MACDUFF 8\n",
      "LENNOX 6\n",
      "ROSS 7\n",
      "MENTEITH 2\n",
      "ANGUS 2\n",
      "CAITHNESS 1\n",
      "FLEANCE 2\n",
      "SIWARD 4\n",
      "YOUNG SIWARD 1\n",
      "SEYTON 2\n",
      "SON 1\n",
      "DOCTOR 3\n",
      "SOLDIER 2\n",
      "PORTER 1\n",
      "OLD MAN 1\n",
      "LADY MACBETH 9\n",
      "LADY MACDUFF 1\n",
      "GENTLEWOMAN 1\n",
      "HECATE 2\n",
      "FIRST WITCH 4\n",
      "SECOND WITCH 3\n",
      "THIRD WITCH 3\n"
     ]
    }
   ],
   "source": [
    "for k,v in charnum.items():\n",
    "    print(k,v)"
   ]
  },
  {
   "cell_type": "code",
   "execution_count": 25,
   "id": "c4992052-b79f-4986-9c3f-64ddbe37471f",
   "metadata": {
    "tags": []
   },
   "outputs": [
    {
     "data": {
      "text/plain": [
       "[{'data': {'id': 'DUNCAN', 'label': 'Duncan', 'size': '3'}},\n",
       " {'data': {'id': 'MALCOLM', 'label': 'Malcolm', 'size': '8'}},\n",
       " {'data': {'id': 'DONALBAIN', 'label': 'Donalbain', 'size': '1'}},\n",
       " {'data': {'id': 'MACBETH', 'label': 'Macbeth', 'size': '17'}},\n",
       " {'data': {'id': 'BANQUO', 'label': 'Banquo', 'size': '7'}},\n",
       " {'data': {'id': 'MACDUFF', 'label': 'Macduff', 'size': '8'}},\n",
       " {'data': {'id': 'LENNOX', 'label': 'Lennox', 'size': '6'}},\n",
       " {'data': {'id': 'ROSS', 'label': 'Ross', 'size': '7'}},\n",
       " {'data': {'id': 'MENTEITH', 'label': 'Menteith', 'size': '2'}},\n",
       " {'data': {'id': 'ANGUS', 'label': 'Angus', 'size': '2'}},\n",
       " {'data': {'id': 'CAITHNESS', 'label': 'Caithness', 'size': '1'}},\n",
       " {'data': {'id': 'FLEANCE', 'label': 'Fleance', 'size': '2'}},\n",
       " {'data': {'id': 'SIWARD', 'label': 'Siward', 'size': '4'}},\n",
       " {'data': {'id': 'YOUNG SIWARD', 'label': 'Young Siward', 'size': '1'}},\n",
       " {'data': {'id': 'SEYTON', 'label': 'Seyton', 'size': '2'}},\n",
       " {'data': {'id': 'SON', 'label': 'Son', 'size': '1'}},\n",
       " {'data': {'id': 'DOCTOR', 'label': 'Doctor', 'size': '3'}},\n",
       " {'data': {'id': 'SOLDIER', 'label': 'Soldier', 'size': '2'}},\n",
       " {'data': {'id': 'PORTER', 'label': 'Porter', 'size': '1'}},\n",
       " {'data': {'id': 'OLD MAN', 'label': 'Old Man', 'size': '1'}},\n",
       " {'data': {'id': 'LADY MACBETH', 'label': 'Lady Macbeth', 'size': '9'}},\n",
       " {'data': {'id': 'LADY MACDUFF', 'label': 'Lady Macduff', 'size': '1'}},\n",
       " {'data': {'id': 'GENTLEWOMAN', 'label': 'Gentlewoman', 'size': '1'}},\n",
       " {'data': {'id': 'HECATE', 'label': 'Hecate', 'size': '2'}},\n",
       " {'data': {'id': 'FIRST WITCH', 'label': 'First Witch', 'size': '4'}},\n",
       " {'data': {'id': 'SECOND WITCH', 'label': 'Second Witch', 'size': '3'}},\n",
       " {'data': {'id': 'THIRD WITCH', 'label': 'Third Witch', 'size': '3'}}]"
      ]
     },
     "execution_count": 25,
     "metadata": {},
     "output_type": "execute_result"
    }
   ],
   "source": [
    "graphitems = []\n",
    "\n",
    "for k,v in charnum.items():\n",
    "    dashnode = {'data': {'id': k,\n",
    "                         'label': k.title(),\n",
    "                         'size': str(v)}}\n",
    "    graphitems.append(dashnode)\n",
    "    \n",
    "graphitems"
   ]
  },
  {
   "cell_type": "code",
   "execution_count": 26,
   "id": "c6de9bb3-f552-468e-b191-7af74a30c260",
   "metadata": {
    "tags": []
   },
   "outputs": [
    {
     "data": {
      "text/plain": [
       "[{'data': {'id': 'DUNCAN', 'label': 'Duncan', 'size': '3'}},\n",
       " {'data': {'id': 'MALCOLM', 'label': 'Malcolm', 'size': '8'}},\n",
       " {'data': {'id': 'DONALBAIN', 'label': 'Donalbain', 'size': '1'}},\n",
       " {'data': {'id': 'MACBETH', 'label': 'Macbeth', 'size': '17'}},\n",
       " {'data': {'id': 'BANQUO', 'label': 'Banquo', 'size': '7'}},\n",
       " {'data': {'id': 'MACDUFF', 'label': 'Macduff', 'size': '8'}},\n",
       " {'data': {'id': 'LENNOX', 'label': 'Lennox', 'size': '6'}},\n",
       " {'data': {'id': 'ROSS', 'label': 'Ross', 'size': '7'}},\n",
       " {'data': {'id': 'MENTEITH', 'label': 'Menteith', 'size': '2'}},\n",
       " {'data': {'id': 'ANGUS', 'label': 'Angus', 'size': '2'}},\n",
       " {'data': {'id': 'CAITHNESS', 'label': 'Caithness', 'size': '1'}},\n",
       " {'data': {'id': 'FLEANCE', 'label': 'Fleance', 'size': '2'}},\n",
       " {'data': {'id': 'SIWARD', 'label': 'Siward', 'size': '4'}},\n",
       " {'data': {'id': 'YOUNG SIWARD', 'label': 'Young Siward', 'size': '1'}},\n",
       " {'data': {'id': 'SEYTON', 'label': 'Seyton', 'size': '2'}},\n",
       " {'data': {'id': 'SON', 'label': 'Son', 'size': '1'}},\n",
       " {'data': {'id': 'DOCTOR', 'label': 'Doctor', 'size': '3'}},\n",
       " {'data': {'id': 'SOLDIER', 'label': 'Soldier', 'size': '2'}},\n",
       " {'data': {'id': 'PORTER', 'label': 'Porter', 'size': '1'}},\n",
       " {'data': {'id': 'OLD MAN', 'label': 'Old Man', 'size': '1'}},\n",
       " {'data': {'id': 'LADY MACBETH', 'label': 'Lady Macbeth', 'size': '9'}},\n",
       " {'data': {'id': 'LADY MACDUFF', 'label': 'Lady Macduff', 'size': '1'}},\n",
       " {'data': {'id': 'GENTLEWOMAN', 'label': 'Gentlewoman', 'size': '1'}},\n",
       " {'data': {'id': 'HECATE', 'label': 'Hecate', 'size': '2'}},\n",
       " {'data': {'id': 'FIRST WITCH', 'label': 'First Witch', 'size': '4'}},\n",
       " {'data': {'id': 'SECOND WITCH', 'label': 'Second Witch', 'size': '3'}},\n",
       " {'data': {'id': 'THIRD WITCH', 'label': 'Third Witch', 'size': '3'}},\n",
       " {'data': {'source': 'DUNCAN', 'target': 'MALCOLM', 'weight': 2}},\n",
       " {'data': {'source': 'DUNCAN', 'target': 'MACBETH', 'weight': 2}},\n",
       " {'data': {'source': 'DUNCAN', 'target': 'BANQUO', 'weight': 2}},\n",
       " {'data': {'source': 'DUNCAN', 'target': 'LENNOX', 'weight': 1}},\n",
       " {'data': {'source': 'DUNCAN', 'target': 'ROSS', 'weight': 1}},\n",
       " {'data': {'source': 'DUNCAN', 'target': 'SOLDIER', 'weight': 1}},\n",
       " {'data': {'source': 'DUNCAN', 'target': 'LADY MACBETH', 'weight': 1}},\n",
       " {'data': {'source': 'MALCOLM', 'target': 'DONALBAIN', 'weight': 1}},\n",
       " {'data': {'source': 'MALCOLM', 'target': 'MACBETH', 'weight': 4}},\n",
       " {'data': {'source': 'MALCOLM', 'target': 'BANQUO', 'weight': 2}},\n",
       " {'data': {'source': 'MALCOLM', 'target': 'MACDUFF', 'weight': 6}},\n",
       " {'data': {'source': 'MALCOLM', 'target': 'LENNOX', 'weight': 2}},\n",
       " {'data': {'source': 'MALCOLM', 'target': 'ROSS', 'weight': 3}},\n",
       " {'data': {'source': 'MALCOLM', 'target': 'MENTEITH', 'weight': 1}},\n",
       " {'data': {'source': 'MALCOLM', 'target': 'FLEANCE', 'weight': 1}},\n",
       " {'data': {'source': 'MALCOLM', 'target': 'SIWARD', 'weight': 4}},\n",
       " {'data': {'source': 'MALCOLM', 'target': 'YOUNG SIWARD', 'weight': 1}},\n",
       " {'data': {'source': 'MALCOLM', 'target': 'DOCTOR', 'weight': 1}},\n",
       " {'data': {'source': 'MALCOLM', 'target': 'SOLDIER', 'weight': 2}},\n",
       " {'data': {'source': 'MALCOLM', 'target': 'PORTER', 'weight': 1}},\n",
       " {'data': {'source': 'MALCOLM', 'target': 'LADY MACBETH', 'weight': 1}},\n",
       " {'data': {'source': 'DONALBAIN', 'target': 'MACBETH', 'weight': 1}},\n",
       " {'data': {'source': 'DONALBAIN', 'target': 'BANQUO', 'weight': 1}},\n",
       " {'data': {'source': 'DONALBAIN', 'target': 'MACDUFF', 'weight': 1}},\n",
       " {'data': {'source': 'DONALBAIN', 'target': 'LENNOX', 'weight': 1}},\n",
       " {'data': {'source': 'DONALBAIN', 'target': 'PORTER', 'weight': 1}},\n",
       " {'data': {'source': 'DONALBAIN', 'target': 'LADY MACBETH', 'weight': 1}},\n",
       " {'data': {'source': 'MACBETH', 'target': 'BANQUO', 'weight': 6}},\n",
       " {'data': {'source': 'MACBETH', 'target': 'MACDUFF', 'weight': 3}},\n",
       " {'data': {'source': 'MACBETH', 'target': 'LENNOX', 'weight': 3}},\n",
       " {'data': {'source': 'MACBETH', 'target': 'ROSS', 'weight': 3}},\n",
       " {'data': {'source': 'MACBETH', 'target': 'ANGUS', 'weight': 1}},\n",
       " {'data': {'source': 'MACBETH', 'target': 'FLEANCE', 'weight': 2}},\n",
       " {'data': {'source': 'MACBETH', 'target': 'SIWARD', 'weight': 2}},\n",
       " {'data': {'source': 'MACBETH', 'target': 'YOUNG SIWARD', 'weight': 1}},\n",
       " {'data': {'source': 'MACBETH', 'target': 'SEYTON', 'weight': 2}},\n",
       " {'data': {'source': 'MACBETH', 'target': 'DOCTOR', 'weight': 2}},\n",
       " {'data': {'source': 'MACBETH', 'target': 'PORTER', 'weight': 1}},\n",
       " {'data': {'source': 'MACBETH', 'target': 'LADY MACBETH', 'weight': 9}},\n",
       " {'data': {'source': 'MACBETH', 'target': 'GENTLEWOMAN', 'weight': 1}},\n",
       " {'data': {'source': 'MACBETH', 'target': 'HECATE', 'weight': 1}},\n",
       " {'data': {'source': 'MACBETH', 'target': 'FIRST WITCH', 'weight': 2}},\n",
       " {'data': {'source': 'MACBETH', 'target': 'SECOND WITCH', 'weight': 2}},\n",
       " {'data': {'source': 'MACBETH', 'target': 'THIRD WITCH', 'weight': 2}},\n",
       " {'data': {'source': 'BANQUO', 'target': 'MACDUFF', 'weight': 1}},\n",
       " {'data': {'source': 'BANQUO', 'target': 'LENNOX', 'weight': 1}},\n",
       " {'data': {'source': 'BANQUO', 'target': 'ROSS', 'weight': 1}},\n",
       " {'data': {'source': 'BANQUO', 'target': 'ANGUS', 'weight': 1}},\n",
       " {'data': {'source': 'BANQUO', 'target': 'FLEANCE', 'weight': 1}},\n",
       " {'data': {'source': 'BANQUO', 'target': 'PORTER', 'weight': 1}},\n",
       " {'data': {'source': 'BANQUO', 'target': 'LADY MACBETH', 'weight': 3}},\n",
       " {'data': {'source': 'BANQUO', 'target': 'FIRST WITCH', 'weight': 1}},\n",
       " {'data': {'source': 'BANQUO', 'target': 'SECOND WITCH', 'weight': 1}},\n",
       " {'data': {'source': 'BANQUO', 'target': 'THIRD WITCH', 'weight': 1}},\n",
       " {'data': {'source': 'MACDUFF', 'target': 'LENNOX', 'weight': 1}},\n",
       " {'data': {'source': 'MACDUFF', 'target': 'ROSS', 'weight': 4}},\n",
       " {'data': {'source': 'MACDUFF', 'target': 'MENTEITH', 'weight': 1}},\n",
       " {'data': {'source': 'MACDUFF', 'target': 'FLEANCE', 'weight': 1}},\n",
       " {'data': {'source': 'MACDUFF', 'target': 'SIWARD', 'weight': 4}},\n",
       " {'data': {'source': 'MACDUFF', 'target': 'YOUNG SIWARD', 'weight': 1}},\n",
       " {'data': {'source': 'MACDUFF', 'target': 'SON', 'weight': 1}},\n",
       " {'data': {'source': 'MACDUFF', 'target': 'DOCTOR', 'weight': 1}},\n",
       " {'data': {'source': 'MACDUFF', 'target': 'SOLDIER', 'weight': 1}},\n",
       " {'data': {'source': 'MACDUFF', 'target': 'PORTER', 'weight': 1}},\n",
       " {'data': {'source': 'MACDUFF', 'target': 'OLD MAN', 'weight': 1}},\n",
       " {'data': {'source': 'MACDUFF', 'target': 'LADY MACBETH', 'weight': 1}},\n",
       " {'data': {'source': 'MACDUFF', 'target': 'LADY MACDUFF', 'weight': 1}},\n",
       " {'data': {'source': 'LENNOX', 'target': 'ROSS', 'weight': 2}},\n",
       " {'data': {'source': 'LENNOX', 'target': 'MENTEITH', 'weight': 1}},\n",
       " {'data': {'source': 'LENNOX', 'target': 'ANGUS', 'weight': 1}},\n",
       " {'data': {'source': 'LENNOX', 'target': 'CAITHNESS', 'weight': 1}},\n",
       " {'data': {'source': 'LENNOX', 'target': 'SOLDIER', 'weight': 1}},\n",
       " {'data': {'source': 'LENNOX', 'target': 'PORTER', 'weight': 1}},\n",
       " {'data': {'source': 'LENNOX', 'target': 'LADY MACBETH', 'weight': 2}},\n",
       " {'data': {'source': 'LENNOX', 'target': 'HECATE', 'weight': 1}},\n",
       " {'data': {'source': 'LENNOX', 'target': 'FIRST WITCH', 'weight': 1}},\n",
       " {'data': {'source': 'LENNOX', 'target': 'SECOND WITCH', 'weight': 1}},\n",
       " {'data': {'source': 'LENNOX', 'target': 'THIRD WITCH', 'weight': 1}},\n",
       " {'data': {'source': 'ROSS', 'target': 'ANGUS', 'weight': 1}},\n",
       " {'data': {'source': 'ROSS', 'target': 'FLEANCE', 'weight': 1}},\n",
       " {'data': {'source': 'ROSS', 'target': 'SIWARD', 'weight': 1}},\n",
       " {'data': {'source': 'ROSS', 'target': 'SON', 'weight': 1}},\n",
       " {'data': {'source': 'ROSS', 'target': 'DOCTOR', 'weight': 1}},\n",
       " {'data': {'source': 'ROSS', 'target': 'SOLDIER', 'weight': 1}},\n",
       " {'data': {'source': 'ROSS', 'target': 'OLD MAN', 'weight': 1}},\n",
       " {'data': {'source': 'ROSS', 'target': 'LADY MACBETH', 'weight': 1}},\n",
       " {'data': {'source': 'ROSS', 'target': 'LADY MACDUFF', 'weight': 1}},\n",
       " {'data': {'source': 'ROSS', 'target': 'FIRST WITCH', 'weight': 1}},\n",
       " {'data': {'source': 'ROSS', 'target': 'SECOND WITCH', 'weight': 1}},\n",
       " {'data': {'source': 'ROSS', 'target': 'THIRD WITCH', 'weight': 1}},\n",
       " {'data': {'source': 'MENTEITH', 'target': 'ANGUS', 'weight': 1}},\n",
       " {'data': {'source': 'MENTEITH', 'target': 'CAITHNESS', 'weight': 1}},\n",
       " {'data': {'source': 'MENTEITH', 'target': 'SIWARD', 'weight': 1}},\n",
       " {'data': {'source': 'MENTEITH', 'target': 'SOLDIER', 'weight': 1}},\n",
       " {'data': {'source': 'ANGUS', 'target': 'CAITHNESS', 'weight': 1}},\n",
       " {'data': {'source': 'ANGUS', 'target': 'FIRST WITCH', 'weight': 1}},\n",
       " {'data': {'source': 'ANGUS', 'target': 'SECOND WITCH', 'weight': 1}},\n",
       " {'data': {'source': 'ANGUS', 'target': 'THIRD WITCH', 'weight': 1}},\n",
       " {'data': {'source': 'FLEANCE', 'target': 'SIWARD', 'weight': 1}},\n",
       " {'data': {'source': 'SIWARD', 'target': 'YOUNG SIWARD', 'weight': 1}},\n",
       " {'data': {'source': 'SIWARD', 'target': 'SOLDIER', 'weight': 1}},\n",
       " {'data': {'source': 'SEYTON', 'target': 'DOCTOR', 'weight': 1}},\n",
       " {'data': {'source': 'SON', 'target': 'LADY MACDUFF', 'weight': 1}},\n",
       " {'data': {'source': 'DOCTOR', 'target': 'LADY MACBETH', 'weight': 1}},\n",
       " {'data': {'source': 'DOCTOR', 'target': 'GENTLEWOMAN', 'weight': 1}},\n",
       " {'data': {'source': 'PORTER', 'target': 'LADY MACBETH', 'weight': 1}},\n",
       " {'data': {'source': 'LADY MACBETH', 'target': 'GENTLEWOMAN', 'weight': 1}},\n",
       " {'data': {'source': 'HECATE', 'target': 'FIRST WITCH', 'weight': 2}},\n",
       " {'data': {'source': 'HECATE', 'target': 'SECOND WITCH', 'weight': 1}},\n",
       " {'data': {'source': 'HECATE', 'target': 'THIRD WITCH', 'weight': 1}},\n",
       " {'data': {'source': 'FIRST WITCH', 'target': 'SECOND WITCH', 'weight': 3}},\n",
       " {'data': {'source': 'FIRST WITCH', 'target': 'THIRD WITCH', 'weight': 3}},\n",
       " {'data': {'source': 'SECOND WITCH', 'target': 'THIRD WITCH', 'weight': 3}}]"
      ]
     },
     "execution_count": 26,
     "metadata": {},
     "output_type": "execute_result"
    }
   ],
   "source": [
    "graphitems = []\n",
    "\n",
    "for k,v in charnum.items():\n",
    "    dashnode = {'data': {'id': k,\n",
    "                         'label': k.title(),\n",
    "                         'size': str(v)}}\n",
    "    graphitems.append(dashnode)\n",
    "\n",
    "for k,v in connections.items():\n",
    "    if v != 0:\n",
    "        dashedge = {'data': {'source': k[0],\n",
    "                             'target': k[1],\n",
    "                             'weight': v}}\n",
    "        graphitems.append(dashedge)\n",
    "    \n",
    "graphitems"
   ]
  },
  {
   "cell_type": "code",
   "execution_count": 27,
   "id": "1d129d35-3a93-441e-bf83-739ca1d2c9cb",
   "metadata": {},
   "outputs": [
    {
     "name": "stdout",
     "output_type": "stream",
     "text": [
      "Dash app running on https://jupyter.idre.ucla.edu/user/bwinjum@g.ucla.edu/proxy/8050/\n"
     ]
    }
   ],
   "source": [
    "app = JupyterDash(__name__)\n",
    "\n",
    "app.layout = html.Div([\n",
    "    cyto.Cytoscape(\n",
    "        layout={'name': 'cose'},\n",
    "        elements=graphitems\n",
    "    )\n",
    "])\n",
    "\n",
    "app.run_server(debug=True)"
   ]
  },
  {
   "cell_type": "code",
   "execution_count": 28,
   "id": "6779f104-ada4-4185-ac25-fc1675c9ba11",
   "metadata": {},
   "outputs": [
    {
     "name": "stdout",
     "output_type": "stream",
     "text": [
      "Dash app running on https://jupyter.idre.ucla.edu/user/bwinjum@g.ucla.edu/proxy/8050/\n"
     ]
    }
   ],
   "source": [
    "app = JupyterDash(__name__)\n",
    "\n",
    "app.layout = html.Div([\n",
    "    cyto.Cytoscape(\n",
    "        layout={'name': 'cose'},\n",
    "        elements=graphitems,\n",
    "        style={'width': '100%', 'height': '750px'},\n",
    "    )\n",
    "])\n",
    "\n",
    "app.run_server(debug=True)"
   ]
  },
  {
   "cell_type": "code",
   "execution_count": 29,
   "id": "d20ca4f8-3602-4deb-a380-203cf5f600bc",
   "metadata": {},
   "outputs": [
    {
     "name": "stdout",
     "output_type": "stream",
     "text": [
      "Dash app running on https://jupyter.idre.ucla.edu/user/bwinjum@g.ucla.edu/proxy/8050/\n"
     ]
    }
   ],
   "source": [
    "app = JupyterDash(__name__)\n",
    "\n",
    "app.layout = html.Div([\n",
    "    cyto.Cytoscape(\n",
    "        layout={'name': 'cose'},\n",
    "        elements=graphitems,\n",
    "        style={'width': '100%', 'height': '750px'},\n",
    "        stylesheet=[\n",
    "            {\n",
    "                'selector': 'node',\n",
    "                'style': {\n",
    "                    'content':'data(label)',\n",
    "                    'text-halign':'center',\n",
    "                    'text-valign':'center',\n",
    "                    'width': 'data(size)',\n",
    "                    'height': 'data(size)',\n",
    "                    'font-size':4,\n",
    "                    'color': 'blue',\n",
    "                    'text-outline-color': 'white',\n",
    "                    'text-outline-width': 0.2,\n",
    "                    'shape':'circle'\n",
    "                }\n",
    "            },\n",
    "            {\n",
    "                'selector':'edge',\n",
    "                'style': {\n",
    "                    'width':'data(str(int(weight)/10))',\n",
    "                    'line-color': 'blue',\n",
    "                  }\n",
    "            },\n",
    "        ]\n",
    "    )\n",
    "])\n",
    "\n",
    "app.run_server(debug=True)"
   ]
  },
  {
   "cell_type": "code",
   "execution_count": 30,
   "id": "506bf563-3731-4001-b9fb-eef3cad997a2",
   "metadata": {},
   "outputs": [
    {
     "name": "stdout",
     "output_type": "stream",
     "text": [
      "9\n"
     ]
    }
   ],
   "source": [
    "graphitems = []\n",
    "\n",
    "for k,v in charnum.items():\n",
    "    dashnode = {'data': {'id': k,\n",
    "                         'label': k.title(),\n",
    "                         'size': str(v)}}\n",
    "    graphitems.append(dashnode)\n",
    "\n",
    "correction_factor = max(connections.values())\n",
    "print(correction_factor)\n",
    "for k,v in connections.items():\n",
    "    if v != 0:\n",
    "        dashedge = {'data': {'source': k[0],\n",
    "                             'target': k[1],\n",
    "                             'weight': v/correction_factor}}\n",
    "        graphitems.append(dashedge)\n",
    "    \n",
    "#graphitems"
   ]
  },
  {
   "cell_type": "code",
   "execution_count": 31,
   "id": "644918ee-ee71-46e9-a470-cd3764da3044",
   "metadata": {},
   "outputs": [
    {
     "name": "stdout",
     "output_type": "stream",
     "text": [
      "Dash app running on https://jupyter.idre.ucla.edu/user/bwinjum@g.ucla.edu/proxy/8050/\n"
     ]
    }
   ],
   "source": [
    "app = JupyterDash(__name__)\n",
    "\n",
    "app.layout = html.Div([\n",
    "    cyto.Cytoscape(\n",
    "        layout={'name': 'cose'},\n",
    "        elements=graphitems,\n",
    "        style={'width': '100%', 'height': '750px'},\n",
    "        stylesheet=[\n",
    "            {\n",
    "                'selector': 'node',\n",
    "                'style': {\n",
    "                    'content':'data(label)',\n",
    "                    'text-halign':'center',\n",
    "                    'text-valign':'center',\n",
    "                    'width': 'data(size)',\n",
    "                    'height': 'data(size)',\n",
    "                    'font-size':4,\n",
    "                    'color': 'black',\n",
    "                    'background-color': 'red',\n",
    "                    'text-outline-color': 'white',\n",
    "                    'text-outline-width': 0.2,\n",
    "                    'shape':'circle'\n",
    "                }\n",
    "            },\n",
    "            {\n",
    "                'selector':'edge',\n",
    "                'style': {\n",
    "                    'width':'data(weight)',\n",
    "                    'line-color': 'blue',\n",
    "                  }\n",
    "            },\n",
    "        ]\n",
    "    )\n",
    "])\n",
    "\n",
    "app.run_server(debug=True)"
   ]
  },
  {
   "cell_type": "code",
   "execution_count": null,
   "id": "f086e017-55fe-42d1-9fbf-dcdee599c16b",
   "metadata": {
    "tags": []
   },
   "outputs": [],
   "source": [
    "graphitems"
   ]
  },
  {
   "cell_type": "code",
   "execution_count": null,
   "id": "1c4b6f7a-c154-447a-b7a4-5b0fe0de84bb",
   "metadata": {},
   "outputs": [],
   "source": [
    "import networkx as nx\n",
    "import matplotlib.pyplot as plt"
   ]
  },
  {
   "cell_type": "code",
   "execution_count": null,
   "id": "41bd03fc-bf25-458f-b89c-f9643fb13790",
   "metadata": {
    "tags": []
   },
   "outputs": [],
   "source": [
    "nxgraphitems = []\n",
    "\n",
    "# for k,v in charnum.items():\n",
    "#     dashnode = k\n",
    "#     graphitems.append(dashnode)\n",
    "\n",
    "for k,v in connections.items():\n",
    "    if v != 0:\n",
    "        dashedge = (k[0],k[1])\n",
    "        nxgraphitems.append(dashedge)\n",
    "    \n",
    "nxgraphitems"
   ]
  },
  {
   "cell_type": "code",
   "execution_count": null,
   "id": "d8ac0f78-863b-4a98-804e-577333ec717a",
   "metadata": {},
   "outputs": [],
   "source": [
    "G = nx.Graph()"
   ]
  },
  {
   "cell_type": "code",
   "execution_count": null,
   "id": "e030f47c-43ec-4883-ac5c-a45e2788d650",
   "metadata": {},
   "outputs": [],
   "source": [
    "G.add_edges_from(nxgraphitems)"
   ]
  },
  {
   "cell_type": "code",
   "execution_count": null,
   "id": "25506ec4-51b8-4620-8ddb-7d81f15f3496",
   "metadata": {},
   "outputs": [],
   "source": [
    "G.nodes"
   ]
  },
  {
   "cell_type": "code",
   "execution_count": null,
   "id": "4a7e3ff6-457d-4006-a482-aee26b483e74",
   "metadata": {},
   "outputs": [],
   "source": [
    "nx.degree_centrality(G)"
   ]
  },
  {
   "cell_type": "code",
   "execution_count": null,
   "id": "81a97071-cfdd-4701-bf49-8b3fefe04619",
   "metadata": {},
   "outputs": [],
   "source": [
    "dc = nx.degree_centrality(G)\n",
    "for i in sorted(dc, key=dc.get, reverse=True):\n",
    "    print('{:15s}: {:.3f}'.format(i.title(), dc[i]))"
   ]
  },
  {
   "cell_type": "code",
   "execution_count": null,
   "id": "ab81440f-9139-4e64-a5e2-473a3e10eb90",
   "metadata": {},
   "outputs": [],
   "source": [
    "list(G.neighbors('MACBETH'))"
   ]
  },
  {
   "cell_type": "code",
   "execution_count": null,
   "id": "89c20c0e-e501-4c37-8a2d-2c293320c994",
   "metadata": {},
   "outputs": [],
   "source": [
    "list(G.neighbors('OLD MAN'))"
   ]
  },
  {
   "cell_type": "code",
   "execution_count": null,
   "id": "81a85623-5a3d-47d1-a469-ea950f51b362",
   "metadata": {},
   "outputs": [],
   "source": [
    "nx.shortest_path(G,'OLD MAN','YOUNG SIWARD')"
   ]
  },
  {
   "cell_type": "code",
   "execution_count": null,
   "id": "699027ed-6633-4dc4-b649-c9a0fb971613",
   "metadata": {},
   "outputs": [],
   "source": [
    "nx.betweenness_centrality(G)"
   ]
  },
  {
   "cell_type": "code",
   "execution_count": null,
   "id": "5bf353f4-00ce-4db2-ba33-abac392c3465",
   "metadata": {},
   "outputs": [],
   "source": [
    "dc = nx.betweenness_centrality(G)\n",
    "for i in sorted(dc, key=dc.get, reverse=True):\n",
    "    print('{:15s}: {:.3f}'.format(i.title(), dc[i]))"
   ]
  },
  {
   "cell_type": "code",
   "execution_count": null,
   "id": "c98bdfc4-16a2-41cc-ac52-7b6814c8642f",
   "metadata": {},
   "outputs": [],
   "source": [
    "from networkx.algorithms.community.centrality import girvan_newman"
   ]
  },
  {
   "cell_type": "code",
   "execution_count": null,
   "id": "b10ec5f7-f3bd-4931-a8d3-9c5183317f7c",
   "metadata": {},
   "outputs": [],
   "source": [
    "communities = girvan_newman(G)"
   ]
  },
  {
   "cell_type": "code",
   "execution_count": null,
   "id": "4ecd7671-b6cb-4fc9-9c52-f357628b7fd3",
   "metadata": {},
   "outputs": [],
   "source": [
    "node_groups = []\n",
    "for com in next(communities):\n",
    "    node_groups.append(list(com))\n",
    " \n",
    "print(node_groups)\n",
    " \n",
    "color_map = []\n",
    "for node in G:\n",
    "    if node in node_groups[0]:\n",
    "        color_map.append('blue')\n",
    "    else:\n",
    "        color_map.append('green')\n",
    "nx.draw(G, node_color=color_map, with_labels=True)\n",
    "plt.show()"
   ]
  },
  {
   "cell_type": "code",
   "execution_count": null,
   "id": "0a55e9ef-306c-41c9-ae62-4c6ccd46cc2d",
   "metadata": {},
   "outputs": [],
   "source": [
    "nx.density(G)"
   ]
  },
  {
   "cell_type": "code",
   "execution_count": null,
   "id": "4547e129-5ec2-485c-a37d-c7a690b69697",
   "metadata": {},
   "outputs": [],
   "source": [
    "from networkx.algorithms.community import greedy_modularity_communities"
   ]
  },
  {
   "cell_type": "code",
   "execution_count": null,
   "id": "92e5624a-de36-47c1-bbc0-0605930c1450",
   "metadata": {},
   "outputs": [],
   "source": [
    "greedy_modularity_communities(G)"
   ]
  },
  {
   "cell_type": "code",
   "execution_count": null,
   "id": "93fd0c6c-644a-4e91-a6d6-415c7288f614",
   "metadata": {},
   "outputs": [],
   "source": [
    "communities = greedy_modularity_communities(G)\n",
    "# Create empty dictionary\n",
    "modularity_class = {}\n",
    "#Loop through each community in the network\n",
    "for community_number, community in enumerate(communities):\n",
    "    #For each member of the community, add their community number\n",
    "    for name in community:\n",
    "        modularity_class[name] = community_number"
   ]
  },
  {
   "cell_type": "code",
   "execution_count": null,
   "id": "e79ba189-12f1-499b-a196-86fb882ee3c8",
   "metadata": {},
   "outputs": [],
   "source": [
    "modularity_class"
   ]
  },
  {
   "cell_type": "code",
   "execution_count": null,
   "id": "5774211b-cce0-4f98-8131-a8eb9931cdd3",
   "metadata": {},
   "outputs": [],
   "source": [
    "communities = greedy_modularity_communities(G)\n",
    "\n",
    "node_groups = []\n",
    "for com in communities:\n",
    "    node_groups.append(list(com))\n",
    " \n",
    "print(node_groups)\n",
    " \n",
    "color_map = []\n",
    "for node in G:\n",
    "    if node in node_groups[0]:\n",
    "        color_map.append('blue')\n",
    "    elif node in node_groups[1]:\n",
    "        color_map.append('yellow')\n",
    "    else:\n",
    "        color_map.append('green')\n",
    "nx.draw(G, node_color=color_map, with_labels=True)\n",
    "plt.show()"
   ]
  },
  {
   "cell_type": "code",
   "execution_count": null,
   "id": "361e30eb-d660-4f32-88b1-8e4bb6f3baf0",
   "metadata": {
    "tags": []
   },
   "outputs": [],
   "source": [
    "graphitems = []\n",
    "\n",
    "for k,v in charnum.items():\n",
    "    if k in node_groups[0]:\n",
    "        modularity = 'blue'\n",
    "    elif k in node_groups[1]:\n",
    "        modularity = 'green'\n",
    "    else:\n",
    "        modularity = 'red'\n",
    "    dashnode = {'data': {'id': k,\n",
    "                         'label': k.title(),\n",
    "                         'size': str(v),'modularity': modularity}}\n",
    "    graphitems.append(dashnode)\n",
    "\n",
    "correction_factor = max(connections.values())\n",
    "print(correction_factor)\n",
    "for k,v in connections.items():\n",
    "    if v != 0:\n",
    "        dashedge = {'data': {'source': k[0],\n",
    "                             'target': k[1],\n",
    "                             'weight': v/correction_factor}}\n",
    "        graphitems.append(dashedge)\n",
    "    \n",
    "graphitems"
   ]
  },
  {
   "cell_type": "code",
   "execution_count": null,
   "id": "491003dd-0367-4830-a021-b0ff88a86d17",
   "metadata": {},
   "outputs": [],
   "source": [
    "app = JupyterDash(__name__)\n",
    "\n",
    "app.layout = html.Div([\n",
    "    cyto.Cytoscape(\n",
    "        layout={'name': 'cose'},\n",
    "        elements=graphitems,\n",
    "        style={'width': '100%', 'height': '750px'},\n",
    "        stylesheet=[\n",
    "            {\n",
    "                'selector': 'node',\n",
    "                'style': {\n",
    "                    'content':'data(label)',\n",
    "                    'text-halign':'center',\n",
    "                    'text-valign':'center',\n",
    "                    'width': 'data(size)',\n",
    "                    'height': 'data(size)',\n",
    "                    'font-size': 4,\n",
    "                    'color': 'black',\n",
    "                    'background-color': 'data(modularity)',\n",
    "                    'text-outline-color': 'white',\n",
    "                    'text-outline-width': 0.2,\n",
    "                    'shape':'circle'\n",
    "                }\n",
    "            },\n",
    "            {\n",
    "                'selector':'edge',\n",
    "                'style': {\n",
    "                    'width':'data(weight)',\n",
    "                    'line-color': 'blue',\n",
    "                  }\n",
    "            },\n",
    "        ]\n",
    "    )\n",
    "])\n",
    "\n",
    "app.run_server(debug=True)"
   ]
  }
 ],
 "metadata": {
  "kernelspec": {
   "display_name": "Python 3 (ipykernel)",
   "language": "python",
   "name": "python3"
  },
  "language_info": {
   "codemirror_mode": {
    "name": "ipython",
    "version": 3
   },
   "file_extension": ".py",
   "mimetype": "text/x-python",
   "name": "python",
   "nbconvert_exporter": "python",
   "pygments_lexer": "ipython3",
   "version": "3.9.6"
  }
 },
 "nbformat": 4,
 "nbformat_minor": 5
}
